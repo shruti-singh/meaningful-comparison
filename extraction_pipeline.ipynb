{
 "cells": [
  {
   "cell_type": "code",
   "execution_count": 2,
   "metadata": {},
   "outputs": [],
   "source": [
    "import glob\n",
    "import pickle"
   ]
  },
  {
   "cell_type": "code",
   "execution_count": null,
   "metadata": {},
   "outputs": [],
   "source": []
  },
  {
   "cell_type": "markdown",
   "metadata": {},
   "source": [
    "### Create paper directories for pipeline"
   ]
  },
  {
   "cell_type": "code",
   "execution_count": 24,
   "metadata": {},
   "outputs": [
    {
     "name": "stdout",
     "output_type": "stream",
     "text": [
      "/home/singh_shruti/workspace/axcell_ws/axcell/notebooks\n"
     ]
    }
   ],
   "source": [
    "%%bash\n",
    "pwd"
   ]
  },
  {
   "cell_type": "code",
   "execution_count": 26,
   "metadata": {},
   "outputs": [
    {
     "name": "stdout",
     "output_type": "stream",
     "text": [
      "/home/singh_shruti/workspace/axcell_ws/axcell/notebooks/data/sources\n"
     ]
    }
   ],
   "source": [
    "cd data/sources"
   ]
  },
  {
   "cell_type": "code",
   "execution_count": 17,
   "metadata": {},
   "outputs": [],
   "source": [
    "%%bash\n",
    "for i in {1601..1612}\n",
    "do\n",
    "    mkdir $i\n",
    "done"
   ]
  },
  {
   "cell_type": "code",
   "execution_count": 27,
   "metadata": {},
   "outputs": [
    {
     "name": "stdout",
     "output_type": "stream",
     "text": [
      "\u001b[0m\u001b[38;5;27m1601\u001b[0m/  \u001b[38;5;27m1606\u001b[0m/  \u001b[38;5;27m1611\u001b[0m/  \u001b[38;5;27m1704\u001b[0m/  \u001b[38;5;27m1709\u001b[0m/  \u001b[38;5;27m1802\u001b[0m/  \u001b[38;5;27m1807\u001b[0m/  \u001b[38;5;27m1812\u001b[0m/  \u001b[38;5;27m1905\u001b[0m/  \u001b[38;5;27m1910\u001b[0m/  \u001b[38;5;27m2003\u001b[0m/\r\n",
      "\u001b[38;5;27m1602\u001b[0m/  \u001b[38;5;27m1607\u001b[0m/  \u001b[38;5;27m1612\u001b[0m/  \u001b[38;5;27m1705\u001b[0m/  \u001b[38;5;27m1710\u001b[0m/  \u001b[38;5;27m1803\u001b[0m/  \u001b[38;5;27m1808\u001b[0m/  \u001b[38;5;27m1901\u001b[0m/  \u001b[38;5;27m1906\u001b[0m/  \u001b[38;5;27m1911\u001b[0m/  \u001b[38;5;27m2004\u001b[0m/\r\n",
      "\u001b[38;5;27m1603\u001b[0m/  \u001b[38;5;27m1608\u001b[0m/  \u001b[38;5;27m1701\u001b[0m/  \u001b[38;5;27m1706\u001b[0m/  \u001b[38;5;27m1711\u001b[0m/  \u001b[38;5;27m1804\u001b[0m/  \u001b[38;5;27m1809\u001b[0m/  \u001b[38;5;27m1902\u001b[0m/  \u001b[38;5;27m1907\u001b[0m/  \u001b[38;5;27m1912\u001b[0m/  \u001b[38;5;27m2005\u001b[0m/\r\n",
      "\u001b[38;5;27m1604\u001b[0m/  \u001b[38;5;27m1609\u001b[0m/  \u001b[38;5;27m1702\u001b[0m/  \u001b[38;5;27m1707\u001b[0m/  \u001b[38;5;27m1712\u001b[0m/  \u001b[38;5;27m1805\u001b[0m/  \u001b[38;5;27m1810\u001b[0m/  \u001b[38;5;27m1903\u001b[0m/  \u001b[38;5;27m1908\u001b[0m/  \u001b[38;5;27m2001\u001b[0m/  \u001b[38;5;27m2006\u001b[0m/\r\n",
      "\u001b[38;5;27m1605\u001b[0m/  \u001b[38;5;27m1610\u001b[0m/  \u001b[38;5;27m1703\u001b[0m/  \u001b[38;5;27m1708\u001b[0m/  \u001b[38;5;27m1801\u001b[0m/  \u001b[38;5;27m1806\u001b[0m/  \u001b[38;5;27m1811\u001b[0m/  \u001b[38;5;27m1904\u001b[0m/  \u001b[38;5;27m1909\u001b[0m/  \u001b[38;5;27m2002\u001b[0m/\r\n"
     ]
    }
   ],
   "source": [
    "ls"
   ]
  },
  {
   "cell_type": "code",
   "execution_count": 46,
   "metadata": {},
   "outputs": [],
   "source": [
    "mkdir 1510\n",
    "mkdir 1511"
   ]
  },
  {
   "cell_type": "code",
   "execution_count": null,
   "metadata": {},
   "outputs": [],
   "source": []
  },
  {
   "cell_type": "markdown",
   "metadata": {},
   "source": [
    "### Paste paper sources in directories"
   ]
  },
  {
   "cell_type": "code",
   "execution_count": 32,
   "metadata": {},
   "outputs": [],
   "source": [
    "with open(\"../../../../../PaperAcceptancePrediction/shruti/features/iclr_arxiv_map.pkl\", \"rb\") as f:\n",
    "    iclr_arxiv_map = pickle.load(f)"
   ]
  },
  {
   "cell_type": "code",
   "execution_count": null,
   "metadata": {},
   "outputs": [],
   "source": []
  },
  {
   "cell_type": "code",
   "execution_count": 36,
   "metadata": {},
   "outputs": [
    {
     "name": "stdout",
     "output_type": "stream",
     "text": [
      "2506\n"
     ]
    }
   ],
   "source": [
    "source_files = glob.glob(\"/home/singh_shruti/workspace/ICLR_arxiv_dump/*\")\n",
    "print(len(source_files))"
   ]
  },
  {
   "cell_type": "code",
   "execution_count": 37,
   "metadata": {},
   "outputs": [],
   "source": [
    "arxiv_files = [f.rsplit(\"/\", 1)[1] for f in source_files]"
   ]
  },
  {
   "cell_type": "code",
   "execution_count": 38,
   "metadata": {},
   "outputs": [
    {
     "data": {
      "text/plain": [
       "'1908.09961v2'"
      ]
     },
     "execution_count": 38,
     "metadata": {},
     "output_type": "execute_result"
    }
   ],
   "source": [
    "# Check\n",
    "arxiv_files[0]"
   ]
  },
  {
   "cell_type": "code",
   "execution_count": 39,
   "metadata": {},
   "outputs": [
    {
     "data": {
      "text/plain": [
       "'/home/singh_shruti/workspace/axcell_ws/axcell/notebooks/data/sources'"
      ]
     },
     "execution_count": 39,
     "metadata": {},
     "output_type": "execute_result"
    }
   ],
   "source": [
    "pwd"
   ]
  },
  {
   "cell_type": "code",
   "execution_count": 42,
   "metadata": {},
   "outputs": [
    {
     "name": "stdout",
     "output_type": "stream",
     "text": [
      "cp: cannot create regular file ‘/home/singh_shruti/workspace/axcell_ws/axcell/notebooks/data/sources/1511/’: Not a directory\n",
      "cp: cannot create regular file ‘/home/singh_shruti/workspace/axcell_ws/axcell/notebooks/data/sources/1510/’: Not a directory\n"
     ]
    }
   ],
   "source": [
    "for f in arxiv_files:\n",
    "    dir_name = f.split(\".\")[0]\n",
    "    dest_path = \"/home/singh_shruti/workspace/axcell_ws/axcell/notebooks/data/sources/\" + dir_name + \"/\"\n",
    "    source_path = \"/home/singh_shruti/workspace/ICLR_arxiv_dump/\" + f\n",
    "    ! cp $source_path $dest_path"
   ]
  },
  {
   "cell_type": "code",
   "execution_count": null,
   "metadata": {},
   "outputs": [],
   "source": []
  },
  {
   "cell_type": "code",
   "execution_count": null,
   "metadata": {},
   "outputs": [],
   "source": []
  },
  {
   "cell_type": "markdown",
   "metadata": {},
   "source": [
    "## Paste paper sources in directories - Stage II"
   ]
  },
  {
   "cell_type": "code",
   "execution_count": null,
   "metadata": {},
   "outputs": [],
   "source": []
  },
  {
   "cell_type": "code",
   "execution_count": 33,
   "metadata": {},
   "outputs": [],
   "source": [
    "ref_source_files = glob.glob(\"/home/singh_shruti/workspace/ICLR_arxiv_dump/new_ref_sources/*\")"
   ]
  },
  {
   "cell_type": "code",
   "execution_count": 34,
   "metadata": {},
   "outputs": [
    {
     "data": {
      "text/plain": [
       "(2328,\n",
       " ['/home/singh_shruti/workspace/ICLR_arxiv_dump/new_ref_sources/1507.00677',\n",
       "  '/home/singh_shruti/workspace/ICLR_arxiv_dump/new_ref_sources/1505.00880'])"
      ]
     },
     "execution_count": 34,
     "metadata": {},
     "output_type": "execute_result"
    }
   ],
   "source": [
    "len(ref_source_files), ref_source_files[0:2]"
   ]
  },
  {
   "cell_type": "code",
   "execution_count": 35,
   "metadata": {},
   "outputs": [],
   "source": [
    "arxiv_files = [f.rsplit(\"/\", 1)[1] for f in ref_source_files]"
   ]
  },
  {
   "cell_type": "code",
   "execution_count": 36,
   "metadata": {},
   "outputs": [
    {
     "data": {
      "text/plain": [
       "'1507.00677'"
      ]
     },
     "execution_count": 36,
     "metadata": {},
     "output_type": "execute_result"
    }
   ],
   "source": [
    "# Check\n",
    "arxiv_files[0]"
   ]
  },
  {
   "cell_type": "code",
   "execution_count": 37,
   "metadata": {},
   "outputs": [
    {
     "data": {
      "text/plain": [
       "2328"
      ]
     },
     "execution_count": 37,
     "metadata": {},
     "output_type": "execute_result"
    }
   ],
   "source": [
    "len(arxiv_files)"
   ]
  },
  {
   "cell_type": "code",
   "execution_count": 38,
   "metadata": {},
   "outputs": [
    {
     "data": {
      "text/plain": [
       "'hep-th_9707250'"
      ]
     },
     "execution_count": 38,
     "metadata": {},
     "output_type": "execute_result"
    }
   ],
   "source": [
    "'hep-th_9707250'.split(\".\")[0]"
   ]
  },
  {
   "cell_type": "code",
   "execution_count": null,
   "metadata": {},
   "outputs": [],
   "source": []
  },
  {
   "cell_type": "code",
   "execution_count": 39,
   "metadata": {},
   "outputs": [],
   "source": [
    "dir_set = set()\n",
    "\n",
    "for f in arxiv_files:\n",
    "    dir_name = f.split(\".\")[0]\n",
    "    \n",
    "    if dir_name[0].isalpha():\n",
    "        very_old_arxiv_papers.append(dir_name)\n",
    "        continue\n",
    "    if dir_name.endswith(\".tmp\"):\n",
    "        continue\n",
    "    \n",
    "    dir_set.add(dir_name)"
   ]
  },
  {
   "cell_type": "code",
   "execution_count": 40,
   "metadata": {},
   "outputs": [
    {
     "data": {
      "text/plain": [
       "{'0509019',\n",
       " '0705',\n",
       " '0708',\n",
       " '0709',\n",
       " '0712',\n",
       " '0805',\n",
       " '0806',\n",
       " '0807',\n",
       " '0810',\n",
       " '0811',\n",
       " '0901',\n",
       " '0902',\n",
       " '0904',\n",
       " '0906',\n",
       " '0907',\n",
       " '0911',\n",
       " '0912',\n",
       " '1002',\n",
       " '1003',\n",
       " '1005',\n",
       " '1006',\n",
       " '1007',\n",
       " '1008',\n",
       " '1011',\n",
       " '1101',\n",
       " '1102',\n",
       " '1103',\n",
       " '1104',\n",
       " '1105',\n",
       " '1106',\n",
       " '1109',\n",
       " '1110',\n",
       " '1111',\n",
       " '1201',\n",
       " '1202',\n",
       " '1203',\n",
       " '1205',\n",
       " '1206',\n",
       " '1207',\n",
       " '1208',\n",
       " '1209',\n",
       " '1210',\n",
       " '1211',\n",
       " '1212',\n",
       " '1301',\n",
       " '1302',\n",
       " '1303',\n",
       " '1304',\n",
       " '1306',\n",
       " '1307',\n",
       " '1308',\n",
       " '1309',\n",
       " '1310',\n",
       " '1311',\n",
       " '1312',\n",
       " '1401',\n",
       " '1402',\n",
       " '1403',\n",
       " '1404',\n",
       " '1405',\n",
       " '1406',\n",
       " '1407',\n",
       " '1408',\n",
       " '1409',\n",
       " '1410',\n",
       " '1411',\n",
       " '1412',\n",
       " '1501',\n",
       " '1502',\n",
       " '1503',\n",
       " '1504',\n",
       " '1505',\n",
       " '1506',\n",
       " '1507',\n",
       " '1508',\n",
       " '1509',\n",
       " '1510',\n",
       " '1511',\n",
       " '1512',\n",
       " '1601',\n",
       " '1602',\n",
       " '1603',\n",
       " '1604',\n",
       " '1605',\n",
       " '1606',\n",
       " '1607',\n",
       " '1608',\n",
       " '1609',\n",
       " '1610',\n",
       " '1611',\n",
       " '1612',\n",
       " '1701',\n",
       " '1702',\n",
       " '1703',\n",
       " '1704',\n",
       " '1705',\n",
       " '1706',\n",
       " '1707',\n",
       " '1708',\n",
       " '1709',\n",
       " '1710',\n",
       " '1711',\n",
       " '1712',\n",
       " '1801',\n",
       " '1802',\n",
       " '1803',\n",
       " '1804',\n",
       " '1805',\n",
       " '1806',\n",
       " '1807',\n",
       " '1808',\n",
       " '1809',\n",
       " '1810',\n",
       " '1811',\n",
       " '1812',\n",
       " '1901',\n",
       " '1902',\n",
       " '1903',\n",
       " '1904',\n",
       " '1905',\n",
       " '1906',\n",
       " '1907',\n",
       " '1908',\n",
       " '1909',\n",
       " '1910',\n",
       " '1911',\n",
       " '1912'}"
      ]
     },
     "execution_count": 40,
     "metadata": {},
     "output_type": "execute_result"
    }
   ],
   "source": [
    "dir_set"
   ]
  },
  {
   "cell_type": "code",
   "execution_count": 41,
   "metadata": {},
   "outputs": [],
   "source": [
    "existing_dirs = glob.glob(\"/home/singh_shruti/workspace/axcell_ws/axcell/notebooks/data/sources/*\")"
   ]
  },
  {
   "cell_type": "code",
   "execution_count": 42,
   "metadata": {},
   "outputs": [],
   "source": [
    "existing_dirs_last = set([f.rsplit(\"/\", 1)[1] for f in existing_dirs])"
   ]
  },
  {
   "cell_type": "code",
   "execution_count": 46,
   "metadata": {},
   "outputs": [
    {
     "data": {
      "text/plain": [
       "4"
      ]
     },
     "execution_count": 46,
     "metadata": {},
     "output_type": "execute_result"
    }
   ],
   "source": [
    "to_make_dirs = dir_set.difference(existing_dirs_last)\n",
    "len(to_make_dirs)"
   ]
  },
  {
   "cell_type": "code",
   "execution_count": 47,
   "metadata": {},
   "outputs": [
    {
     "name": "stdout",
     "output_type": "stream",
     "text": [
      "/home/singh_shruti/workspace/axcell_ws/axcell/notebooks/data/sources\n"
     ]
    }
   ],
   "source": [
    "cd /home/singh_shruti/workspace/axcell_ws/axcell/notebooks/data/sources/"
   ]
  },
  {
   "cell_type": "code",
   "execution_count": 48,
   "metadata": {},
   "outputs": [],
   "source": [
    "for dd in to_make_dirs:\n",
    "    !mkdir $dd"
   ]
  },
  {
   "cell_type": "code",
   "execution_count": 50,
   "metadata": {},
   "outputs": [],
   "source": [
    "very_old_arxiv_papers = []\n",
    "\n",
    "for f in arxiv_files:\n",
    "    dir_name = f.split(\".\")[0]\n",
    "    \n",
    "    if dir_name[0].isalpha():\n",
    "        very_old_arxiv_papers.append(dir_name)\n",
    "        continue\n",
    "    if dir_name.endswith(\".tmp\"):\n",
    "        continue\n",
    "    \n",
    "    dest_path = \"/home/singh_shruti/workspace/axcell_ws/axcell/notebooks/data/sources/\" + dir_name + \"/\"\n",
    "    source_path = \"/home/singh_shruti/workspace/ICLR_arxiv_dump/new_ref_sources/\" + f\n",
    "    ! cp $source_path $dest_path"
   ]
  },
  {
   "cell_type": "code",
   "execution_count": 49,
   "metadata": {},
   "outputs": [
    {
     "name": "stdout",
     "output_type": "stream",
     "text": [
      "1904.00069v3  1904.01720v1  1904.03758v1  1904.06590    1904.10098\r\n",
      "1904.00152v2  1904.01766    1904.03797v1  1904.06627    1904.10278v1\r\n",
      "1904.00284v1  1904.01802    1904.03936v2  1904.06827v1  1904.10387v3\r\n",
      "1904.00314    1904.02021v4  1904.04025v3  1904.07392    1904.10509\r\n",
      "1904.00420v3  1904.02642v5  1904.04123    1904.07734    1904.10644\r\n",
      "1904.00760    1904.02651v1  1904.04231    1904.07785v1  1904.11486v2\r\n",
      "1904.00760v1  1904.02792    1904.04232v2  1904.08049v1  1904.11694v1\r\n",
      "1904.00761v2  1904.02818v1  1904.04334v3  1904.08082    1904.12058v3\r\n",
      "1904.00887    1904.02884    1904.04357    1904.08379v1  1904.12426v1\r\n",
      "1904.00962v5  1904.02920v2  1904.04479    1904.08444v1  1904.12584v1\r\n",
      "1904.01033v2  1904.03177    1904.05068    1904.09067v1  1904.12787v2\r\n",
      "1904.01038    1904.03273    1904.05530v3  1904.09077    1904.12848v4\r\n",
      "1904.01139v1  1904.03282    1904.05801    1904.09237    1904.13132v3\r\n",
      "1904.01201    1904.03288v1  1904.05811v1  1904.09237v1  1904.13264v1\r\n",
      "1904.01318v1  1904.03445v2  1904.05835    1904.09286v2  1904.13323v2\r\n",
      "1904.01355v2  1904.03597    1904.05862    1904.09546    1904.13358v1\r\n",
      "1904.01557v1  1904.03651    1904.05878v1  1904.09675v3\r\n",
      "1904.01569    1904.03751    1904.06309v2  1904.09751v2\r\n",
      "1904.01685v1  1904.03758    1904.06395v1  1904.09981\r\n"
     ]
    }
   ],
   "source": [
    "ls /home/singh_shruti/workspace/axcell_ws/axcell/notebooks/data/sources/1904/"
   ]
  },
  {
   "cell_type": "code",
   "execution_count": 51,
   "metadata": {},
   "outputs": [
    {
     "name": "stdout",
     "output_type": "stream",
     "text": [
      "1904.00069v3  1904.01802    1904.04123    1904.08049v1  1904.11487\r\n",
      "1904.00152v2  1904.02021v4  1904.04231    1904.08082    1904.11660\r\n",
      "1904.00284v1  1904.02642v5  1904.04232v2  1904.08379v1  1904.11694v1\r\n",
      "1904.00314    1904.02651v1  1904.04334v3  1904.08444v1  1904.11883\r\n",
      "1904.00420v3  1904.02792    1904.04357    1904.09067v1  1904.11955\r\n",
      "1904.00760    1904.02818v1  1904.04479    1904.09077    1904.12058v3\r\n",
      "1904.00760v1  1904.02884    1904.05068    1904.09237    1904.12426v1\r\n",
      "1904.00761v2  1904.02920v2  1904.05530v3  1904.09237v1  1904.12584v1\r\n",
      "1904.00887    1904.03177    1904.05801    1904.09286v2  1904.12787v2\r\n",
      "1904.00962v5  1904.03273    1904.05811v1  1904.09546    1904.12843\r\n",
      "1904.01033v2  1904.03282    1904.05835    1904.09675v3  1904.12848v4\r\n",
      "1904.01038    1904.03288v1  1904.05862    1904.09751v2  1904.12933\r\n",
      "1904.01139v1  1904.03445v2  1904.05878v1  1904.09981    1904.13107\r\n",
      "1904.01201    1904.03597    1904.06309v2  1904.10098    1904.13132v3\r\n",
      "1904.01318v1  1904.03651    1904.06395v1  1904.10278v1  1904.13264v1\r\n",
      "1904.01355v2  1904.03751    1904.06590    1904.10387v3  1904.13323v2\r\n",
      "1904.01557v1  1904.03758    1904.06627    1904.10509    1904.13358v1\r\n",
      "1904.01569    1904.03758v1  1904.06827v1  1904.10644\r\n",
      "1904.01685v1  1904.03797v1  1904.07392    1904.11238\r\n",
      "1904.01720v1  1904.03936v2  1904.07734    1904.11486\r\n",
      "1904.01766    1904.04025v3  1904.07785v1  1904.11486v2\r\n"
     ]
    }
   ],
   "source": [
    "ls /home/singh_shruti/workspace/axcell_ws/axcell/notebooks/data/sources/1904/"
   ]
  },
  {
   "cell_type": "code",
   "execution_count": null,
   "metadata": {},
   "outputs": [],
   "source": []
  }
 ],
 "metadata": {
  "kernelspec": {
   "display_name": "Python [conda env:axcell] *",
   "language": "python",
   "name": "conda-env-axcell-py"
  },
  "language_info": {
   "codemirror_mode": {
    "name": "ipython",
    "version": 3
   },
   "file_extension": ".py",
   "mimetype": "text/x-python",
   "name": "python",
   "nbconvert_exporter": "python",
   "pygments_lexer": "ipython3",
   "version": "3.7.1"
  }
 },
 "nbformat": 4,
 "nbformat_minor": 4
}
