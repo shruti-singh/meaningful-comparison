{
 "cells": [
  {
   "cell_type": "markdown",
   "metadata": {},
   "source": [
    "# Text and Tables Extraction on ICLR Data\n",
    "\n",
    "This notebook presents how to use our pipeline to extract text and tables from arXiv papers with available LaTeX source code."
   ]
  },
  {
   "cell_type": "code",
   "execution_count": 1,
   "metadata": {},
   "outputs": [],
   "source": [
    "import pickle\n",
    "from collections import defaultdict\n",
    "import re\n",
    "import glob"
   ]
  },
  {
   "cell_type": "code",
   "execution_count": 2,
   "metadata": {},
   "outputs": [],
   "source": [
    "from pathlib import Path\n",
    "from axcell.helpers.paper_extractor import PaperExtractor\n",
    "from axcell.data.paper_collection import PaperCollection\n",
    "from axcell.models.structure import TableType, TableStructurePredictor, TableTypePredictor\n",
    "# from axcell.helpers.results_extractor import ResultsExtractor"
   ]
  },
  {
   "cell_type": "markdown",
   "metadata": {},
   "source": [
    "### Structure of Directories\n",
    "\n",
    "We cache the artifacts produced by successful execution of the intermediate steps of extraction pipeline. The `root` argument of `PaperExtractor` is a path under which the following directory structue is created:\n",
    "\n",
    "```\n",
    "root\n",
    "├── sources                       # e-print archives\n",
    "├── unpacked_sources              # extracted latex sources (generated automatically)\n",
    "├── htmls                         # converted html files (generated automatically)\n",
    "└── papers                        # extracted text and tables (generated automatically)\n",
    "```"
   ]
  },
  {
   "cell_type": "code",
   "execution_count": 32,
   "metadata": {},
   "outputs": [
    {
     "data": {
      "text/plain": [
       "'/home/singh_shruti/workspace/axcell_ws/axcell/notebooks'"
      ]
     },
     "execution_count": 32,
     "metadata": {},
     "output_type": "execute_result"
    }
   ],
   "source": [
    "pwd"
   ]
  },
  {
   "cell_type": "markdown",
   "metadata": {},
   "source": [
    "### Load the iclr_arxiv map.\n",
    "\n",
    "We parse papers in the reverse manner. For iclr papers where arxivId is present, we extract tables, and extract bibitem from the leaderboard table csv. "
   ]
  },
  {
   "cell_type": "code",
   "execution_count": 4,
   "metadata": {},
   "outputs": [],
   "source": [
    "with open(\"/home/singh_shruti/workspace/PaperAcceptancePrediction/shruti/features/iclr_arxiv_map.pkl\", \"rb\") as f:\n",
    "    iclr_arxiv_map = pickle.load(f)"
   ]
  },
  {
   "cell_type": "code",
   "execution_count": 5,
   "metadata": {},
   "outputs": [],
   "source": [
    "# ResultsExtractor??"
   ]
  },
  {
   "cell_type": "markdown",
   "metadata": {},
   "source": [
    "### Run extraction one by one"
   ]
  },
  {
   "cell_type": "code",
   "execution_count": null,
   "metadata": {},
   "outputs": [],
   "source": []
  },
  {
   "cell_type": "code",
   "execution_count": null,
   "metadata": {},
   "outputs": [],
   "source": []
  },
  {
   "cell_type": "code",
   "execution_count": null,
   "metadata": {},
   "outputs": [],
   "source": []
  },
  {
   "cell_type": "code",
   "execution_count": null,
   "metadata": {},
   "outputs": [],
   "source": []
  },
  {
   "cell_type": "code",
   "execution_count": 6,
   "metadata": {},
   "outputs": [],
   "source": [
    "ROOT_PATH = Path('data')\n",
    "MODELS_PATH = Path('models')\n",
    "\n",
    "SOURCES_PATH = ROOT_PATH / 'sources'\n",
    "PAPERS_PATH = ROOT_PATH / 'papers'"
   ]
  },
  {
   "cell_type": "code",
   "execution_count": 7,
   "metadata": {},
   "outputs": [],
   "source": [
    "extract = PaperExtractor(ROOT_PATH)"
   ]
  },
  {
   "cell_type": "code",
   "execution_count": null,
   "metadata": {},
   "outputs": [],
   "source": []
  },
  {
   "cell_type": "code",
   "execution_count": 92,
   "metadata": {
    "scrolled": true
   },
   "outputs": [],
   "source": [
    "models_path = Path(MODELS_PATH)\n",
    "ttp = TableTypePredictor(models_path, \"table-type-classifier.pth\")\n",
    "pc = PaperCollection.from_files(PAPERS_PATH)"
   ]
  },
  {
   "cell_type": "code",
   "execution_count": 25,
   "metadata": {},
   "outputs": [],
   "source": [
    "table_labels = {TableType.SOTA: 'leaderboard', TableType.ABLATION: 'ablation', TableType.IRRELEVANT: 'irrelevant'}"
   ]
  },
  {
   "cell_type": "code",
   "execution_count": null,
   "metadata": {},
   "outputs": [],
   "source": [
    "status_count = 0\n",
    "err_count = 0\n",
    "unextracted_papers = []\n",
    "\n",
    "\n",
    "leaderboard_table_refs = defaultdict(dict)\n",
    "leaderboard_refs = defaultdict(dict)"
   ]
  },
  {
   "cell_type": "code",
   "execution_count": 113,
   "metadata": {},
   "outputs": [],
   "source": [
    "# status_count = max(len(leaderboard_table_refs), len(leaderboard_refs))\n",
    "# err_count = 0\n",
    "# unextracted_papers = []\n",
    "# errs_ids = []\n",
    "\n",
    "already_computed = list(set(list(leaderboard_table_refs.keys()) + list(leaderboard_refs.keys())))"
   ]
  },
  {
   "cell_type": "code",
   "execution_count": 102,
   "metadata": {},
   "outputs": [
    {
     "data": {
      "text/plain": [
       "(967, ['2017_B1M8JF9xx', '2019_BJeOioA9Y7', '2019_BkgtDsCcKQ'], 1925, 24, 2521)"
      ]
     },
     "execution_count": 102,
     "metadata": {},
     "output_type": "execute_result"
    }
   ],
   "source": [
    "len(already_computed), already_computed[0:3], status_count, err_count, len(unextracted_papers)"
   ]
  },
  {
   "cell_type": "code",
   "execution_count": null,
   "metadata": {
    "collapsed": true
   },
   "outputs": [
    {
     "name": "stdout",
     "output_type": "stream",
     "text": [
      "Status:  1920\n",
      "Status:  1920\n",
      "Status:  1920\n",
      "Status:  1920\n",
      "Status:  1920\n",
      "Status:  1920\n",
      "Status:  1920\n",
      "Status:  1920\n",
      "Status:  1920\n",
      "Status:  1920\n",
      "Status:  1920\n",
      "Status:  1920\n",
      "Status:  1920\n",
      "Status:  1920\n",
      "Status:  1920\n",
      "Status:  1920\n",
      "Status:  1920\n",
      "Status:  1920\n",
      "Status:  1920\n",
      "Status:  1920\n",
      "Status:  1920\n",
      "Status:  1920\n",
      "Status:  1920\n",
      "Status:  1920\n",
      "Status:  1920\n",
      "Status:  1920\n",
      "Status:  1920\n",
      "Status:  1920\n",
      "Status:  1920\n",
      "Status:  1920\n",
      "Status:  1920\n",
      "Status:  1920\n",
      "Status:  1920\n",
      "Status:  1920\n",
      "Status:  1920\n",
      "Status:  1920\n",
      "Status:  1920\n",
      "Status:  1920\n",
      "Status:  1920\n",
      "Status:  1920\n",
      "Status:  1920\n",
      "Status:  1920\n",
      "Status:  1920\n",
      "Status:  1920\n",
      "Status:  1920\n",
      "Status:  1920\n",
      "Status:  1920\n",
      "Status:  1920\n",
      "Status:  1920\n",
      "Status:  1920\n",
      "Status:  1920\n",
      "Status:  1920\n",
      "Status:  1920\n",
      "Status:  1920\n",
      "Status:  1920\n",
      "Status:  1920\n",
      "Status:  1920\n",
      "Status:  1920\n",
      "Status:  1920\n",
      "Status:  1920\n",
      "Status:  1920\n",
      "Status:  1920\n",
      "Status:  1920\n",
      "Status:  1920\n",
      "Status:  1920\n",
      "Status:  1920\n",
      "Status:  1920\n",
      "Status:  1920\n",
      "Status:  1920\n",
      "Status:  1920\n",
      "Status:  1920\n",
      "Status:  1920\n",
      "Status:  1920\n",
      "Status:  1920\n",
      "Status:  1920\n",
      "Status:  1920\n",
      "Status:  1920\n",
      "Status:  1920\n",
      "Status:  1920\n",
      "Status:  1920\n",
      "Status:  1920\n",
      "Status:  1920\n",
      "Status:  1920\n",
      "Status:  1920\n",
      "Status:  1920\n",
      "Status:  1920\n",
      "Status:  1920\n",
      "Status:  1920\n"
     ]
    }
   ],
   "source": [
    "for k, v in iclr_arxiv_map.items():\n",
    "    if not (k in already_computed or k in err_paper_ids or k in unextracted_paper_ids):\n",
    "        if v[\"found\"]:\n",
    "            if status_count % 10 == 0:\n",
    "                print(\"Status: \", status_count)\n",
    "                with open(\"leaderboard_table_refs.pkl\", \"wb\") as some_file:\n",
    "                    pickle.dump(leaderboard_table_refs, some_file)\n",
    "                with open(\"leaderboard_refs.pkl\", \"wb\") as some_file:\n",
    "                    pickle.dump(leaderboard_refs, some_file)\n",
    "                    \n",
    "            try:\n",
    "                path_split = v[\"arxivId\"].split(\".\")\n",
    "\n",
    "                # Extraction\n",
    "                extract(SOURCES_PATH / path_split[0] / v[\"arxivId\"])\n",
    "\n",
    "                paper = pc.get_by_id(v[\"arxivId\"])\n",
    "                \n",
    "                if not paper:\n",
    "                    unextracted_papers.append((k, v[\"arxivId\"]))\n",
    "                    continue\n",
    "                \n",
    "                print(k)\n",
    "                \n",
    "                if len(paper.tables) > 0:                    \n",
    "                    # Add table type if absent\n",
    "                    if paper.tables[0].gold_tags == \"\":\n",
    "                        tables_types = ttp.predict(paper, paper.tables)\n",
    "                        for table, table_type in zip(paper.tables, tables_types):\n",
    "                            table.gold_tags = table_labels[table_type]\n",
    "                    \n",
    "                    #Count the different types of tables\n",
    "                    table_type_count = [0, 0, 0]\n",
    "                    for tt in paper.tables:\n",
    "                        if tt.gold_tags.lower().strip() == \"leaderboard\":\n",
    "                            table_type_count[0] = table_type_count[0] + 1\n",
    "                        elif tt.gold_tags.lower().strip() == \"ablation\":\n",
    "                            table_type_count[1] = table_type_count[1] + 1\n",
    "                        elif tt.gold_tags.lower().strip() == \"irrelevant\":\n",
    "                            table_type_count[2] = table_type_count[2] + 1\n",
    "                        else:\n",
    "                            print(\"Unknown table type: \", tt.gold_tags)\n",
    "                    \n",
    "                    # Save table stat in leaderboard_table_refs\n",
    "                    leaderboard_table_refs[k][\"tcount\"] = [len(paper.tables), table_type_count[0], table_type_count[1], table_type_count[2]]\n",
    "                else:\n",
    "                    leaderboard_table_refs[k][\"tcount\"] = [0, 0, 0, 0]\n",
    "                \n",
    "                leaderboard_table_refs[k][\"table_labels\"] = []\n",
    "                for tablerol in paper.tables:\n",
    "                    leaderboard_table_refs[k][\"table_labels\"].append((tablerol.gold_tags,))\n",
    "                \n",
    "                if (leaderboard_table_refs[k][\"tcount\"][1]+leaderboard_table_refs[k][\"tcount\"][2]) > 0:\n",
    "                    leaderboard_refs[k][\"refs\"] = {}\n",
    "                \n",
    "                # If sota/leaderboard tables present, extract references from them\n",
    "                if leaderboard_table_refs[k][\"tcount\"][1] > 0:\n",
    "                    leaderboard_refs[k][\"refs\"][\"ldb\"] = []\n",
    "                    leaderboard_refs[k][\"count\"] = 0\n",
    "                    for iterid, table in enumerate(paper.tables):\n",
    "                        idx = iterid + 1\n",
    "                        if table.gold_tags == \"leaderboard\":\n",
    "                            \n",
    "                            table_dir_path = \"/home/singh_shruti/workspace/axcell_ws/axcell/notebooks/data/papers/\" + path_split[0] + \"/\" + v[\"arxivId\"]\n",
    "                            table_files = glob.glob(table_dir_path+\"/*.csv\")\n",
    "                            table_files_stripped = [tfs.rsplit(\"/\", 1)[1] for tfs in table_files]\n",
    "                            \n",
    "                            candidate_name = \"table_\" + \"{:02d}\".format(idx) + \".csv\"\n",
    "                            if candidate_name in table_files_stripped:\n",
    "                                cannot_use_f = open(table_dir_path + \"/\" + candidate_name, \"r\")\n",
    "                                for line in cannot_use_f:\n",
    "                                    m = re.findall(\"<ref id=[0-9a-zA-Z'-]*>[a-zA-Z 0-9\\.]*</ref>\", line)\n",
    "                                    for iim in m:\n",
    "                                        leaderboard_refs[k][\"refs\"][\"ldb\"].append(iim)\n",
    "                                        leaderboard_refs[k][\"count\"] += 1\n",
    "                            else:\n",
    "                                print(\"For {} cannot find leaderboard table file: {}\".format(k, candidate_name))\n",
    "                            \n",
    "                    leaderboard_refs[k][\"refs\"][\"ldb\"] = list(set(leaderboard_refs[k][\"refs\"][\"ldb\"]))\n",
    "                    \n",
    "                if leaderboard_table_refs[k][\"tcount\"][2] > 0:\n",
    "                    leaderboard_refs[k][\"refs\"][\"abl\"] = []\n",
    "                    for iterid, table in enumerate(paper.tables):\n",
    "                        idx = iterid + 1\n",
    "                        if table.gold_tags == \"ablation\":\n",
    "                            \n",
    "                            table_dir_path = \"/home/singh_shruti/workspace/axcell_ws/axcell/notebooks/data/papers/\" + path_split[0] + \"/\" + v[\"arxivId\"]\n",
    "                            table_files = glob.glob(table_dir_path+\"/*.csv\")\n",
    "                            table_files_stripped = [tfs.rsplit(\"/\", 1)[1] for tfs in table_files]\n",
    "                            \n",
    "                            candidate_name = \"table_\" + \"{:02d}\".format(idx) + \".csv\"\n",
    "                            if candidate_name in table_files_stripped:\n",
    "                                cannot_use_f = open(table_dir_path + \"/\" + candidate_name, \"r\")\n",
    "                                for line in cannot_use_f:\n",
    "                                    m = re.findall(\"<ref id=[0-9a-zA-Z'-]*>[a-zA-Z 0-9\\.]*</ref>\", line)\n",
    "                                    for iim in m:\n",
    "                                        leaderboard_refs[k][\"refs\"][\"abl\"].append(iim)\n",
    "                            else:\n",
    "                                print(\"For {} cannot find ablation table file: {}\".format(k, candidate_name))\n",
    "                            \n",
    "                    leaderboard_refs[k][\"refs\"][\"abl\"] = list(set(leaderboard_refs[k][\"refs\"][\"abl\"]))\n",
    "                            \n",
    "                status_count += 1\n",
    "            except Exception as ex:\n",
    "                print(k, v[\"arxivId\"])\n",
    "                print(\"Error: \", ex)\n",
    "                err_count += 1\n",
    "                errs_ids.append((k, v[\"arxivId\"]))"
   ]
  },
  {
   "cell_type": "code",
   "execution_count": 87,
   "metadata": {},
   "outputs": [],
   "source": [
    "with open(\"leaderboard_table_refs.pkl\", \"wb\") as some_file:\n",
    "    pickle.dump(leaderboard_table_refs, some_file)\n",
    "with open(\"leaderboard_refs.pkl\", \"wb\") as some_file:\n",
    "    pickle.dump(leaderboard_refs, some_file)"
   ]
  },
  {
   "cell_type": "code",
   "execution_count": 98,
   "metadata": {},
   "outputs": [
    {
     "name": "stdout",
     "output_type": "stream",
     "text": [
      "689 962\n"
     ]
    }
   ],
   "source": [
    "print(len(leaderboard_refs), len(leaderboard_table_refs))"
   ]
  },
  {
   "cell_type": "code",
   "execution_count": null,
   "metadata": {},
   "outputs": [],
   "source": []
  },
  {
   "cell_type": "code",
   "execution_count": null,
   "metadata": {},
   "outputs": [],
   "source": []
  },
  {
   "cell_type": "code",
   "execution_count": 106,
   "metadata": {},
   "outputs": [],
   "source": [
    "# Check if any key is left which has never been touched for computation\n",
    "for k in  iclr_arxiv_map:\n",
    "    if not (k in already_computed or k in err_paper_ids or k in unextracted_paper_ids):\n",
    "        if iclr_arxiv_map[k][\"found\"]:\n",
    "            print(k)"
   ]
  },
  {
   "cell_type": "code",
   "execution_count": 130,
   "metadata": {},
   "outputs": [
    {
     "name": "stdout",
     "output_type": "stream",
     "text": [
      "ERROR:  10\n",
      "Unextracted paper:  1527\n",
      "Success:  967\n",
      "Unfound i.e. arxivId was found but err or unext:  1537\n"
     ]
    }
   ],
   "source": [
    "for k in err_paper_ids:\n",
    "    if k in unextracted_paper_ids:\n",
    "        err_paper_ids.pop(k, None)\n",
    "\n",
    "for k in already_computed:\n",
    "    if k in errs_ids:\n",
    "        errs_ids.pop(k, None)\n",
    "    if k in unextracted_paper_ids:\n",
    "        unextracted_paper_ids.pop(k, None)\n",
    "print(\"ERROR: \", len(err_paper_ids))\n",
    "print(\"Unextracted paper: \", len(unextracted_paper_ids))\n",
    "print(\"Success: \", len(already_computed))\n",
    "\n",
    "# Check final count of papers successful, unextracted, and errs\n",
    "unfound = set()\n",
    "for k in iclr_arxiv_map:\n",
    "    if iclr_arxiv_map[k][\"found\"] and (k in err_paper_ids or k in unextracted_paper_ids):\n",
    "        unfound.add(k)\n",
    "\n",
    "print(\"Unfound i.e. arxivId was found but err or unext: \", len(unfound))\n",
    "# print(list(unfound)[0:5])"
   ]
  },
  {
   "cell_type": "code",
   "execution_count": 131,
   "metadata": {},
   "outputs": [
    {
     "data": {
      "text/plain": [
       "2504"
      ]
     },
     "execution_count": 131,
     "metadata": {},
     "output_type": "execute_result"
    }
   ],
   "source": [
    "1527 + 10 + 967"
   ]
  },
  {
   "cell_type": "code",
   "execution_count": 125,
   "metadata": {},
   "outputs": [
    {
     "name": "stdout",
     "output_type": "stream",
     "text": [
      "[('2017_HyAddcLge', '1702.05800v2'), ('2017_r1osyr_xg', '1611.00674v9'), ('2018_rkeZRGbRW', '1707.00309v2'), ('2017_HyAddcLge', '1702.05800v2'), ('2017_r1osyr_xg', '1611.00674v9')]\n"
     ]
    },
    {
     "data": {
      "text/plain": [
       "[('2017_B1ElR4cgg', {'1606.00704v3'}),\n",
       " ('2017_B1oK8aoxe', {'1704.03012v1'}),\n",
       " ('2017_B1s6xvqlx', {'1704.02254v2'}),\n",
       " ('2017_BkJsCIcgl', {'1612.08810v3'}),\n",
       " ('2017_Hk1iOLcle', {'1611.09268v3'})]"
      ]
     },
     "execution_count": 125,
     "metadata": {},
     "output_type": "execute_result"
    }
   ],
   "source": [
    "print(list(errs_ids)[0:5])\n",
    "list(unextracted_paper_ids.items())[0:5]"
   ]
  },
  {
   "cell_type": "code",
   "execution_count": null,
   "metadata": {},
   "outputs": [],
   "source": []
  },
  {
   "cell_type": "code",
   "execution_count": null,
   "metadata": {},
   "outputs": [],
   "source": []
  },
  {
   "cell_type": "markdown",
   "metadata": {},
   "source": [
    "### Save table glodtruths"
   ]
  },
  {
   "cell_type": "code",
   "execution_count": 133,
   "metadata": {
    "collapsed": true
   },
   "outputs": [
    {
     "data": {
      "text/html": [],
      "text/plain": [
       "<IPython.core.display.HTML object>"
      ]
     },
     "metadata": {},
     "output_type": "display_data"
    },
    {
     "data": {
      "text/html": [],
      "text/plain": [
       "<IPython.core.display.HTML object>"
      ]
     },
     "metadata": {},
     "output_type": "display_data"
    },
    {
     "data": {
      "text/html": [],
      "text/plain": [
       "<IPython.core.display.HTML object>"
      ]
     },
     "metadata": {},
     "output_type": "display_data"
    },
    {
     "data": {
      "text/html": [],
      "text/plain": [
       "<IPython.core.display.HTML object>"
      ]
     },
     "metadata": {},
     "output_type": "display_data"
    },
    {
     "data": {
      "text/html": [],
      "text/plain": [
       "<IPython.core.display.HTML object>"
      ]
     },
     "metadata": {},
     "output_type": "display_data"
    },
    {
     "data": {
      "text/html": [],
      "text/plain": [
       "<IPython.core.display.HTML object>"
      ]
     },
     "metadata": {},
     "output_type": "display_data"
    },
    {
     "data": {
      "text/html": [],
      "text/plain": [
       "<IPython.core.display.HTML object>"
      ]
     },
     "metadata": {},
     "output_type": "display_data"
    },
    {
     "data": {
      "text/html": [],
      "text/plain": [
       "<IPython.core.display.HTML object>"
      ]
     },
     "metadata": {},
     "output_type": "display_data"
    }
   ],
   "source": [
    "table_labels = {TableType.SOTA: 'leaderboard', TableType.ABLATION: 'ablation', TableType.IRRELEVANT: 'irrelevant'}\n",
    "\n",
    "# table_info = {}\n",
    "for k, v in iclr_arxiv_map.items():\n",
    "    if v[\"found\"] and k in leaderboard_table_refs and not k in table_info:\n",
    "        paper = pc.get_by_id(v[\"arxivId\"])\n",
    "        table_info[k] = []\n",
    "        tables_types = ttp.predict(paper, paper.tables)\n",
    "        for table, table_type in zip(paper.tables, tables_types):\n",
    "            table.gold_tags = table_labels[table_type]\n",
    "            table_info[k].append(table.gold_tags)"
   ]
  },
  {
   "cell_type": "code",
   "execution_count": 135,
   "metadata": {},
   "outputs": [],
   "source": [
    "with open(\"TABLE_Label_predicted.pkl\", \"wb\") as f:\n",
    "    pickle.dump(table_info, f)"
   ]
  },
  {
   "cell_type": "code",
   "execution_count": 134,
   "metadata": {},
   "outputs": [
    {
     "data": {
      "text/plain": [
       "967"
      ]
     },
     "execution_count": 134,
     "metadata": {},
     "output_type": "execute_result"
    }
   ],
   "source": [
    "len(table_info)"
   ]
  },
  {
   "cell_type": "code",
   "execution_count": null,
   "metadata": {},
   "outputs": [],
   "source": [
    "ls"
   ]
  },
  {
   "cell_type": "code",
   "execution_count": null,
   "metadata": {},
   "outputs": [],
   "source": []
  },
  {
   "cell_type": "markdown",
   "metadata": {},
   "source": [
    "# Check failed cases"
   ]
  },
  {
   "cell_type": "code",
   "execution_count": 127,
   "metadata": {},
   "outputs": [
    {
     "data": {
      "text/plain": [
       "(967, ['2017_B1M8JF9xx', '2019_BJeOioA9Y7', '2019_BkgtDsCcKQ'], 1925, 10, 2521)"
      ]
     },
     "execution_count": 127,
     "metadata": {},
     "output_type": "execute_result"
    }
   ],
   "source": [
    "len(already_computed), already_computed[0:3], status_count, len(err_paper_ids), len(unextracted_papers)"
   ]
  },
  {
   "cell_type": "markdown",
   "metadata": {},
   "source": [
    "### Extract unique unextracted paper ids"
   ]
  },
  {
   "cell_type": "code",
   "execution_count": 103,
   "metadata": {},
   "outputs": [
    {
     "name": "stdout",
     "output_type": "stream",
     "text": [
      "2196\n",
      "[('2017_B1ElR4cgg', {'1606.00704v3'}), ('2017_B1oK8aoxe', {'1704.03012v1'}), ('2017_B1s6xvqlx', {'1704.02254v2'}), ('2017_BkJsCIcgl', {'1612.08810v3'}), ('2017_Hk1iOLcle', {'1611.09268v3'})]\n"
     ]
    }
   ],
   "source": [
    "unextracted_paper_ids = defaultdict(set)\n",
    "\n",
    "for i in unextracted_papers:\n",
    "    unextracted_paper_ids[i[0]].add(i[1])\n",
    "    \n",
    "print(len(unextracted_paper_ids))\n",
    "print(list(unextracted_paper_ids.items())[0:5])"
   ]
  },
  {
   "cell_type": "markdown",
   "metadata": {},
   "source": [
    "### Extract unique error ids"
   ]
  },
  {
   "cell_type": "code",
   "execution_count": 104,
   "metadata": {},
   "outputs": [
    {
     "name": "stdout",
     "output_type": "stream",
     "text": [
      "10\n",
      "[('2017_HyAddcLge', {'1702.05800v2'}), ('2017_r1osyr_xg', {'1611.00674v9'}), ('2018_rkeZRGbRW', {'1707.00309v2'}), ('2019_HkxAisC9FQ', {'1810.00953v4'}), ('2019_SkeRTsAcYm', {'1903.03107v2'})]\n"
     ]
    }
   ],
   "source": [
    "err_paper_ids = defaultdict(set)\n",
    "\n",
    "for i in errs_ids:\n",
    "    err_paper_ids[i[0]].add(i[1])\n",
    "    \n",
    "print(len(err_paper_ids))\n",
    "print(list(err_paper_ids.items())[0:5])"
   ]
  },
  {
   "cell_type": "code",
   "execution_count": null,
   "metadata": {},
   "outputs": [],
   "source": []
  },
  {
   "cell_type": "code",
   "execution_count": null,
   "metadata": {},
   "outputs": [],
   "source": []
  },
  {
   "cell_type": "code",
   "execution_count": null,
   "metadata": {},
   "outputs": [],
   "source": []
  },
  {
   "cell_type": "code",
   "execution_count": 51,
   "metadata": {
    "collapsed": true
   },
   "outputs": [
    {
     "data": {
      "text/plain": [
       "dict_keys(['2017_B1-Hhnslg', '2017_B1-q5Pqxl', '2017_B16dGcqlx', '2017_B184E5qee', '2017_B186cP9gx', '2017_B1E7Pwqgl', '2017_B1G9tvcgx', '2017_B1GOWV5eg', '2017_B1Igu2ogg', '2017_B1IzH7cxl', '2017_B1M8JF9xx', '2017_B1MRcPclx', '2017_B1TTpYKgx', '2017_B1YfAfcgl', '2017_B1ckMDqlg', '2017_B1ewdt9xe', '2017_B1gtu5ilg', '2017_B1hdzd5lg', '2017_B1kJ6H9ex', '2017_B1mAJI9gl', '2017_BJ--gPcxl', '2017_BJ0Ee8cxx', '2017_BJ3filKll', '2017_BJ46w6Ule', '2017_BJ5UeU9xx', '2017_BJ6oOfqge', '2017_BJAA4wKxg', '2017_BJAFbaolg', '2017_BJC8LF9ex', '2017_BJC_jUqxe', '2017_BJK3Xasel', '2017_BJKYvt5lg', '2017_BJO-BuT1g', '2017_BJYwwY9ll', '2017_BJ_MGwqlg', '2017_BJbD_Pqlg', '2017_BJh6Ztuxl', '2017_BJjn-Yixl', '2017_BJluGHcee', '2017_BJlxmAKlg', '2017_BJm4T4Kgx', '2017_BJmCKBqgl', '2017_BJrFC6ceg', '2017_BJtNZAFgg', '2017_BJuysoFeg', '2017_BJwFrvOeg', '2017_BJxhLAuxg', '2017_Bk0FWVcgx', '2017_Bk8BvDqex', '2017_Bk8N0RLxx', '2017_BkCPyXm1l', '2017_BkLhzHtlg', '2017_BkUDvt5gg', '2017_BkV4VS9ll', '2017_BkVsEMYel', '2017_Bkab5dqxe', '2017_BkbY4psgg', '2017_BkdpaH9ll', '2017_Bkepl7cee', '2017_BkfiXiUlg', '2017_BkjLkSqxg', '2017_BkmM8Dceg', '2017_Bks8cPcxe', '2017_By5e2L9gl', '2017_ByC7ww9le', '2017_ByG8A7cee', '2017_ByIAPUcee', '2017_ByOvsIqeg', '2017_ByQPVFull', '2017_ByZvfijeg', '2017_BybtVK9lg', '2017_BycCx8qex', '2017_BydARw9ex', '2017_BydrOIcle', '2017_Bygq-H9eg', '2017_Byiy-Pqlx', '2017_Byj72udxe', '2017_Byk-VI9eg', '2017_BylSPv9gx', '2017_ByldLrqlx', '2017_BymIbLKgl', '2017_BysvGP5ee', '2017_ByxpMd9lx', '2017_H1GEvHcee', '2017_H1Gq5Q9el', '2017_H1Heentlx', '2017_H1VyHY9gg', '2017_H1W1UN9gg', '2017_H1acq85gx', '2017_H1eLE8qlx', '2017_H1fl8S9ee', '2017_H1oyRlYgg', '2017_H1zJ-v5xl', '2017_HJ0UKP9ge', '2017_HJ1kmv9xx', '2017_HJDBUF5le', '2017_HJGwcKclx', '2017_HJKkY35le', '2017_HJPmdP9le', '2017_HJSCGD9ex', '2017_HJTzHtqee', '2017_HJV1zP5xg', '2017_HJWHIKqgl', '2017_HJeqWztlg', '2017_HJgXCV9xx', '2017_HJhcg6Fxg', '2017_HJpfMIFll', '2017_HJrDIpiee', '2017_HJy_5Mcll', '2017_Hk4_qw5xe', '2017_Hk8N3Sclg', '2017_Hk8TGSKlg', '2017_Hk8rlUqge', '2017_Hk95PK9le', '2017_HkCjNI5ex', '2017_HkE0Nvqlg', '2017_HkIQH7qel', '2017_HkLXCE9lx', '2017_HkNEuToge', '2017_HkNKFiGex', '2017_HkNRsU5ge', '2017_HkSOlP9lg', '2017_HkcdHtqlx', '2017_Hkg4TI9xl', '2017_Hkg8bDqee', '2017_HkpbnH9lx', '2017_HkuVu3ige', '2017_HkwoSDPgg', '2017_HkxAAvcxx', '2017_Hy-lMNqex', '2017_Hy6b4Pqee', '2017_Hy8X3aKee', '2017_HyAbMKwxe', '2017_HyCRyS9gx', '2017_HyEeMu_xx', '2017_HyGTuv9eg', '2017_HyM25Mqel', '2017_HyQJ-mclg', '2017_HyTqHL5xg', '2017_HyY4Owjll', '2017_HycUbvcge', '2017_HyecJGP5ge', '2017_HyenWc5gx', '2017_HyoST_9xl', '2017_Hyq4yhile', '2017_HysBZSqlx', '2017_HyxQzBceg', '2017_S13wCE9xx', '2017_S19eAF9ee', '2017_S1Bb3D5gg', '2017_S1HEBe_Jl', '2017_S1J0E-71l', '2017_S1LVSrcge', '2017_S1RP6GLle', '2017_S1VaB4cex', '2017_S1_pAu9xl', '2017_S1c2cvqee', '2017_S1dIzvclg', '2017_S1jE5L5gl', '2017_S1jmAotxg', '2017_S1oWlN9ll', '2017_S1vyujVye', '2017_S1xh5sYgx', '2017_SJ-uGHcee', '2017_SJ25-B5eg', '2017_SJ3rcZcxl', '2017_SJ6yPD5xg', '2017_SJAr0QFxe', '2017_SJBr9Mcxl', '2017_SJCscQcge', '2017_SJDaqqveg', '2017_SJGCiw5gl', '2017_SJJKxrsgl', '2017_SJMGPrcle', '2017_SJNDWNOlg', '2017_SJQNqLFgl', '2017_SJRpRfKxx', '2017_SJTQLdqlg', '2017_SJU4ayYgl', '2017_SJZAb5cel', '2017_SJc1hL5ee', '2017_SJg498clg', '2017_SJgWQPcxl', '2017_SJiFvr9el', '2017_SJk01vogl', '2017_SJkXfE5xx', '2017_SJvYgH9xe', '2017_SJx7Jrtgl', '2017_Sk-oDY9ge', '2017_Sk2Im59ex', '2017_Sk2iistgg', '2017_Sk8J83oee', '2017_Sk8csP5ex', '2017_SkB-_mcel', '2017_SkC_7v5gx', '2017_SkJeEtclx', '2017_SkYbF1slg', '2017_SkgewU5ll', '2017_SkhU2fcll', '2017_Skn9Shcxe', '2017_SkpSlKIel', '2017_Skq89Scxx', '2017_Sks9_ajex', '2017_Skvgqgqxe', '2017_SkxKPDv5xl', '2017_SkyQWDcex', '2017_Sy1rwtKxg', '2017_Sy6iJDqlx', '2017_Sy8gdB9xx', '2017_SyCSsUDee', '2017_SyOvg6jxx', '2017_SyQq185lg', '2017_SyW2QSige', '2017_SyWvgP5el', '2017_SypU81Ole', '2017_Sys6GJqxl', '2017_Sywh5KYex', '2017_SyxeqhP9ll', '2017_r10FA8Kxg', '2017_r1Aab85gg', '2017_r1BJLw9ex', '2017_r1G4z8cge', '2017_r1Ue8Hcxg', '2017_r1Usiwcex', '2017_r1VGvBcxl', '2017_r1VdcHcxx', '2017_r1X3g2_xl', '2017_r1aPbsFle', '2017_r1fYuytex', '2017_r1kGbydxg', '2017_r1kQkVFgl', '2017_r1nTpv9eg', '2017_r1rhWnZkg', '2017_r1rz6U5lg', '2017_r1te3Fqel', '2017_r1y1aawlg', '2017_rJ0JwFcex', '2017_rJ8Je4clg', '2017_rJ8uNptgl', '2017_rJJ3YU5ge', '2017_rJLS7qKel', '2017_rJPcZ3txx', '2017_rJQKYt5ll', '2017_rJRhzzKxl', '2017_rJTKKKqeg', '2017_rJXTf9Bxg', '2017_rJY3vK9eg', '2017_rJbbOLcex', '2017_rJe-Pr9le', '2017_rJeKjwvclx', '2017_rJfMusFll', '2017_rJg_1L5gg', '2017_rJiNwv9gg', '2017_rJqBEPcxe', '2017_rJqFGTslg', '2017_rJsiFTYex', '2017_rJxDkvqee', '2017_rJxdQ3jeg', '2017_rJzaDdYxx', '2017_rk5upnsxe', '2017_rkE3y85ee', '2017_rkE8pVcle', '2017_rkEFLFqee', '2017_rkFBJv9gg', '2017_rkGabzZgl', '2017_rkaRFYcgl', '2017_rkjZ2Pcxe', '2017_rkpACe1lx', '2017_rky3QW9le', '2017_ry2YOrcge', '2017_ry3iBFqgl', '2017_ry4Vrt5gl', '2017_ry7O1ssex', '2017_ryF7rTqgl', '2017_ryHlUtqge', '2017_ryMxXPFex', '2017_ryQbbFile', '2017_ryT4pvqll', '2017_ryXZmzNeg', '2017_ryZqPN5xe', '2017_rye9LT8cee', '2017_ryelgY5eg', '2017_ryjp1c9xg', '2017_ryrGawqex', '2017_ryuxYmvel', '2017_ryxB0Rtxx', '2018_B12Js_yRb', '2018_B13njo1R-', '2018_B14TlG-RW', '2018_B17JTOe0-', '2018_B18WgG-CZ', '2018_B1CNpYg0-', '2018_B1DmUzWAW', '2018_B1EA-M-0Z', '2018_B1EPYJ-C-', '2018_B1Gi6LeRZ', '2018_B1IDRdeCW', '2018_B1J_rgWRW', '2018_B1KFAGWAZ', '2018_B1Lc-Gb0Z', '2018_B1NGT8xCZ', '2018_B1QRgziT-', '2018_B1X0mzZCW', '2018_B1X4DWWRb', '2018_B1Yy1BxCZ', '2018_B1ZZTfZAW', '2018_B1ZvaaeAZ', '2018_B1ae1lZRb', '2018_B1bgpzZAZ', '2018_B1gJ1L2aW', '2018_B1hYRMbCW', '2018_B1hcZZ-AW', '2018_B1i7ezW0-', '2018_B1jscMbAW', '2018_B1l8BtlCb', '2018_B1mSWUxR-', '2018_B1n8LexRZ', '2018_B1nZ1weCZ', '2018_B1nxTzbRZ', '2018_B1p461b0W', '2018_B1spAqUp-', '2018_B1tC-LT6W', '2018_B1tExikAW', '2018_B1twdMCab', '2018_B1ydPgTpW', '2018_B1zlp1bRW', '2018_BJ0hF1Z0b', '2018_BJ6anzb0Z', '2018_BJ78bJZCZ', '2018_BJ8c3f-0b', '2018_BJ8vJebC-', '2018_BJDH5M-AW', '2018_BJE-4xW0W', '2018_BJGWO9k0Z', '2018_BJIgi_eCZ', '2018_BJMuY-gRW', '2018_BJNRFNlRW', '2018_BJOFETxR-', '2018_BJQRKzbA-', '2018_BJRZzFlRb', '2018_BJ_UL-k0b', '2018_BJ_wN01C-', '2018_BJgPCveAW', '2018_BJij4yg0Z', '2018_BJj6qGbRW', '2018_BJk59JZ0b', '2018_BJk7Gf-CZ', '2018_BJlrSmbAZ', '2018_BJluxbWC-', '2018_BJvWjcgAZ', '2018_Bk346Ok0W', '2018_Bk6qQGWRb', '2018_Bk8ZcAxR-', '2018_Bk9zbyZCZ', '2018_BkIkkseAZ', '2018_BkJ3ibb0-', '2018_BkQCGzZ0-', '2018_BkQqq0gRb', '2018_BkUHlMZ0b', '2018_BkUp6GZRW', '2018_BkVf1AeAZ', '2018_BkVsWbbAW', '2018_BkXmYfbAZ', '2018_BkabRiQpb', '2018_BkeqO7x0-', '2018_BkisuzWRW', '2018_Bkl1uWb0Z', '2018_BkrSv0lA-', '2018_BkwHObbRZ', '2018_By4HsfWAZ', '2018_By5ugjyCb', '2018_By9iRkWA-', '2018_ByJDAIe0b', '2018_ByJHuTgA-', '2018_ByJWeR1AW', '2018_ByOExmWAb', '2018_ByOfBggRZ', '2018_ByOnmlWC-', '2018_ByQpn1ZA-', '2018_ByRWCqvT-', '2018_ByS1VpgRZ', '2018_BySRH6CpW', '2018_BydLzGb0Z', '2018_BydjJte0-', '2018_ByeqORgAW', '2018_Byk4My-RZ', '2018_ByqFhGZCW', '2018_ByquB-WC-', '2018_Bys4ob-Rb', '2018_Byt3oJ-0W', '2018_H1-nGgWC-', '2018_H1-oTz-Cb', '2018_H113pWZRb', '2018_H11lAfbCW', '2018_H135uzZ0-', '2018_H15odZ-C-', '2018_H18uzzWAZ', '2018_H196sainb', '2018_H1BLjgZCb', '2018_H1DJFybC-', '2018_H1Dy---0Z', '2018_H1MczcgR-', '2018_H1T2hmZAb', '2018_H1UOm4gA-', '2018_H1U_af-0-', '2018_H1VGkIxRZ', '2018_H1WgVz-AZ', '2018_H1Xw62kRZ', '2018_H1Y8hhg0b', '2018_H1Yp-j1Cb', '2018_H1aIuk-RW', '2018_H1bM1fZCW', '2018_H1bhRHeA-', '2018_H1cKvl-Rb', '2018_H1cWzoxA-', '2018_H1dh6Ax0Z', '2018_H1kG7GZAW', '2018_H1kMMmb0-', '2018_H1meywxRW', '2018_H1pri9vTZ', '2018_H1sUHgb0Z', '2018_H1tSsb-AW', '2018_H1u8fMW0b', '2018_H1uP7ebAW', '2018_H1uR4GZRZ', '2018_H1vEXaxA-', '2018_H1wt9x-RW', '2018_H1zriGeCZ', '2018_HJ4IhxZAb', '2018_HJ94fqApW', '2018_HJCXZQbAZ', '2018_HJDV5YxCW', '2018_HJGXzmspb', '2018_HJGv1Z-AW', '2018_HJIhGXWCZ', '2018_HJIoJWZCZ', '2018_HJOQ7MgAW', '2018_HJRV1ZZAW', '2018_HJSA_e1AW', '2018_HJUOHGWRb', '2018_HJWGdbbCW', '2018_HJXOfZ-AZ', '2018_HJZiRkZC-', '2018_HJ_aoCyRZ', '2018_HJaDJZ-0W', '2018_HJcSzz-CZ', '2018_HJcjQTJ0W', '2018_HJdXGy1RW', '2018_HJewuJWCZ', '2018_HJnQJXbC-', '2018_HJr4QJ26W', '2018_HJsjkMb0Z', '2018_HJtEm4p6Z', '2018_HJvvRoe0W', '2018_HJzgZ3JCW', '2018_Hk2MHt-3-', '2018_Hk2aImxAb', '2018_Hk5elxbRW', '2018_Hk6WhagRW', '2018_Hk6kPgZA-', '2018_Hk8XMWgRb', '2018_Hk99zCeAb', '2018_Hk9Xc_lR-', '2018_HkAClQgA-', '2018_HkCsm6lRb', '2018_HkGcX--0-', '2018_HkL7n1-0b', '2018_HkMCybx0-', '2018_HkMvEOlAb', '2018_HkNGsseC-', '2018_HkOhuyA6-', '2018_HkTEFfZRb', '2018_HkUR_y-RZ', '2018_HkXWCMbRW', '2018_HkZy-bW0-', '2018_HkanP0lRW', '2018_HkbJTYyAb', '2018_Hkbd5xZRb', '2018_HkepKG-Rb', '2018_HkfXMz-Ab', '2018_HkjL6MiTb', '2018_HklpCzC6-', '2018_Hkn7CBaTW', '2018_HknbyQbC-', '2018_Hko85plCW', '2018_HkpRBFxRb', '2018_Hksj2WWAW', '2018_HktJec1RZ', '2018_HktK4BeCZ', '2018_HktRlUlAZ', '2018_HkuGJ3kCb', '2018_HkwBEMWCZ', '2018_HkwVAXyCW', '2018_HkwZSG-CZ', '2018_HkxF5RgC-', '2018_Hy6GHpkCW', '2018_Hy7EPh10W', '2018_HyBbjW-RW', '2018_HyDAQl-AW', '2018_HyEi7bWR-', '2018_HyH9lbZAW', '2018_HyRVBzap-', '2018_HyRnez-RW', '2018_HyUNwulC-', '2018_HyWrIgW0W', '2018_HyXBcYg0b', '2018_HyXNCZbCZ', '2018_HydnA1WCb', '2018_HyfHgI6aW', '2018_Hyg0vbWC-', '2018_HyiAuyb0b', '2018_HyjC5yWCW', '2018_HymYLebCb', '2018_Hyp-JJJRW', '2018_Hyp3i2xRb', '2018_HypkN9yRW', '2018_HyrCWeWCb', '2018_HytSvlWRZ', '2018_HyyP33gAZ', '2018_HyydRMZC-', '2018_HyzbhfWRW', '2018_S14EogZAZ', '2018_S191YzbRZ', '2018_S19dR9x0b', '2018_S1ANxQW0b', '2018_S1CChZ-CZ', '2018_S1DWPP1A-', '2018_S1Dh8Tg0-', '2018_S1Euwz-Rb', '2018_S1EwLkW0W', '2018_S1GUgxgCW', '2018_S1HlA-ZAZ', '2018_S1J2ZyZ0Z', '2018_S1WRibb0Z', '2018_S1XolQbRW', '2018_S1Y7OOlRZ', '2018_S1cZsf-RW', '2018_S1fcY-Z0-', '2018_S1fduCl0b', '2018_S1jBcueAb', '2018_S1m6h21Cb', '2018_S1nQvfgA-', '2018_S1v4N2l0-', '2018_S1vuO-bCW', '2018_SJ-C6JbRW', '2018_SJ19eUg0-', '2018_SJ1Xmf-Rb', '2018_SJ60SbW0b', '2018_SJ71VXZAZ', '2018_SJ8M9yup-', '2018_SJA7xfb0b', '2018_SJCq_fZ0Z', '2018_SJFM0ZWCb', '2018_SJIA6ZWC-', '2018_SJJQVZW0b', '2018_SJJinbWRZ', '2018_SJLlmG-AZ', '2018_SJLy_SxC-', '2018_SJPpHzW0-', '2018_SJQHjzZ0-', '2018_SJQO7UJCW', '2018_SJa9iHgAZ', '2018_SJahqJZAW', '2018_SJcKhk-Ab', '2018_SJdCUMZAW', '2018_SJi9WOeRb', '2018_SJiHXGWAZ', '2018_SJlhPMWAW', '2018_SJmAXkgCb', '2018_SJn0sLgRb', '2018_SJvrXqvaZ', '2018_SJvu-GW0b', '2018_SJw03ceRW', '2018_SJx9GQb0-', '2018_SJyEH91A-', '2018_SJyVzQ-C-', '2018_SJzMATlAZ', '2018_SJzRZ-WCZ', '2018_Sk2u1g-0-', '2018_Sk7KsfW0-', '2018_Sk9yuql0Z', '2018_SkA-IE06W', '2018_SkF2D7g0b', '2018_SkFAWax0-', '2018_SkHkeixAW', '2018_SkPoRg10b', '2018_SkT5Yg-RZ', '2018_SkVqXOxCb', '2018_SkYMnLxRW', '2018_SkYibHlRb', '2018_SkZxCk-0Z', '2018_SkhQHMW0W', '2018_Skj8Kag0Z', '2018_Skp1ESxRZ', '2018_SkqV-XZRZ', '2018_SktLlGbRZ', '2018_Skvd-myR-', '2018_Skw0n-W0Z', '2018_Skx5txzb0W', '2018_Skz_WfbCZ', '2018_Sy-dQG-Rb', '2018_Sy-tszZRZ', '2018_Sy0GnUxCb', '2018_Sy1f0e-R-', '2018_Sy21R9JAW', '2018_Sy2ogebAW', '2018_Sy3fJXbA-', '2018_Sy8XvGb0-', '2018_SyAbZb-0Z', '2018_SyBBgXWAZ', '2018_SyELrEeAb', '2018_SyJ7ClWCb', '2018_SyJS-OgR-', '2018_SyL9u-WA-', '2018_SyProzZAW', '2018_SyVVXngRW', '2018_SyX0IeWAW', '2018_SyYe6k-CW', '2018_SyZI0GWCZ', '2018_SyZipzbCb', '2018_Syg-YfWCW', '2018_SygwwGbRW', '2018_SyhRVm-Rb', '2018_Syhr6pxCW', '2018_Syjha0gAZ', '2018_SyqShMZRb', '2018_SyrGJYlRZ', '2018_SywXXwJAb', '2018_Syx6bz-Ab', '2018_SyyGPP0TZ', '2018_SyzKd1bCW', '2018_r11Q2SlRW', '2018_r16Vyf-0-', '2018_r17Q6WWA-', '2018_r17lFgZ0Z', '2018_r1CE9GWR-', '2018_r1DPFCyA-', '2018_r1Ddp1-Rb', '2018_r1Dx7fbCW', '2018_r1HhRfWRZ', '2018_r1Kr3TyAb', '2018_r1NYjfbR-', '2018_r1Oen--RW', '2018_r1RF3ExCb', '2018_r1SuFjkRW', '2018_r1VVsebAZ', '2018_r1ZdKJ-0W', '2018_r1dHXnH6-', '2018_r1drp-WCZ', '2018_r1gs9JgRZ', '2018_r1iuQjxCZ', '2018_r1kNDlbCb', '2018_r1kj4ACp-', '2018_r1kjEuHpZ', '2018_r1l4eQW0Z', '2018_r1lUOzWCW', '2018_r1q7n9gAb', '2018_r1uOhfb0W', '2018_r1vuQG-CW', '2018_r1wEFyWCW', '2018_rJ33wwxRb', '2018_rJ7yZ2P6-', '2018_rJFOptp6Z', '2018_rJGZq6g0-', '2018_rJIN_4lA-', '2018_rJNpifWAb', '2018_rJQDjk-0b', '2018_rJSr0GZR-', '2018_rJTutzbA-', '2018_rJUYGxbCW', '2018_rJWechg0Z', '2018_rJXMpikCZ', '2018_rJYFzMZC-', '2018_rJa90ceAb', '2018_rJaE2alRW', '2018_rJg4YGWRb', '2018_rJiaRbk0-', '2018_rJl3yM-Ab', '2018_rJlMAAeC-', '2018_rJma2bZCW', '2018_rJvJXZb0W', '2018_rJwelMbR-', '2018_rJzIBfZAb', '2018_rk49Mg-CW', '2018_rk6cfpRjZ', '2018_rkA1f3NpZ', '2018_rkGZuJb0b', '2018_rkHVZWZAZ', '2018_rkLyJl-0-', '2018_rkN2Il-RZ', '2018_rkO3uTkAZ', '2018_rkPLzgZAZ', '2018_rkQkBnJAb', '2018_rkQsMCJCb', '2018_rkRwGg-0Z', '2018_rkTBjG-AZ', '2018_rkWN3g-AZ', '2018_rkYTTf-AZ', '2018_rkYgAJWCZ', '2018_rkZB1XbRZ', '2018_rkZvSe-RZ', '2018_rkaqxm-0b', '2018_rkcQFMZRb', '2018_rkcya1ZAW', '2018_rkdU7tCaZ', '2018_rkfOvGbCW', '2018_rkfbLilAb', '2018_rkgOLb-0W', '2018_rkmoiMbCb', '2018_rknt2Be0-', '2018_rkpoTaxA-', '2018_rkr1UDeC-', '2018_rkrC3GbRW', '2018_rkrWCJWAW', '2018_ry018WZAZ', '2018_ry0WOxbRZ', '2018_ry1arUgCW', '2018_ry4S90l0b', '2018_ry5wc1bCW', '2018_ry6-G_66b', '2018_ry80wMW0W', '2018_ry831QWAb', '2018_ry8dvM-R-', '2018_ryBnUWb0b', '2018_ryCM8zWRb', '2018_ryH20GbRW', '2018_ryH_bShhW', '2018_ryQu7f-RZ', '2018_ryRh0bb0Z', '2018_ryTp3f-0-', '2018_ryUlhzWCZ', '2018_ryY4RhkCZ', '2018_ryazCMbR-', '2018_rydeCEhs-', '2018_ryepFJbA-', '2018_ryiAv2xAZ', '2018_ryj0790hb', '2018_ryj38zWRb', '2018_rylSzl-R-', '2018_ryserbZR-', '2018_rytNfI1AZ', '2018_rytstxWAW', '2018_rywHCPkAW', '2018_ryykVe-0W', '2019_B14rPj0qY7', '2019_B1EjKsRqtQ', '2019_B1G5ViAqFm', '2019_B1G9doA9F7', '2019_B1GAUs0cKQ', '2019_B1GSBsRcFX', '2019_B1MAJhR5YX', '2019_B1MB5oRqtQ', '2019_B1MIBs05F7', '2019_B1MXz20cYQ', '2019_B1MbDj0ctQ', '2019_B1VWtsA5tQ', '2019_B1VZqjAcYX', '2019_B1e0KsRcYQ', '2019_B1e0X3C9tQ', '2019_B1e4wo09K7', '2019_B1e7hs05Km', '2019_B1e9csRcFm', '2019_B1eKk2CcKm', '2019_B1eSg3C9Ym', '2019_B1edvs05Y7', '2019_B1euhoAcKX', '2019_B1exrnCcF7', '2019_B1fbosCcYm', '2019_B1ffQnRcKX', '2019_B1fpDsAqt7', '2019_B1fysiAqK7', '2019_B1g30j0qF7', '2019_B1gHjoRqYQ', '2019_B1gTShAct7', '2019_B1l08oAct7', '2019_B1l6qiR5F7', '2019_B1l8iiA9tQ', '2019_B1lfHhR9tm', '2019_B1lxH20qtX', '2019_B1lz-3Rct7', '2019_B1x-LjAcKX', '2019_B1x9siCcYQ', '2019_B1xFVhActm', '2019_B1xWcj0qYm', '2019_B1xY-hRctX', '2019_B1xf9jAqFQ', '2019_B1xhQhRcK7', '2019_B1xsqj09Fm', '2019_BJG0voC9YQ', '2019_BJGVX3CqYm', '2019_BJGjOi09t7', '2019_BJWfW2C9Y7', '2019_BJe-Sn0ctm', '2019_BJe0Gn0cY7', '2019_BJe1E2R5KX', '2019_BJeOioA9Y7', '2019_BJeWUs05KQ', '2019_BJemQ209FQ', '2019_BJesDsA9t7', '2019_BJfIVjAcKm', '2019_BJfRpoA9YX', '2019_BJfYvo09Y7', '2019_BJf_YjCqYX', '2019_BJg9DoR9t7', '2019_BJgGhiR5KX', '2019_BJgLg3R9KQ', '2019_BJgYl205tQ', '2019_BJgolhR9Km', '2019_BJgqqsAct7', '2019_BJgsN3R9Km', '2019_BJgy-n0cK7', '2019_BJl4f2A5tQ', '2019_BJl6TjRcY7', '2019_BJlMcjC5K7', '2019_BJlVhsA5KX', '2019_BJlXUsR5KQ', '2019_BJlgNh0qKQ', '2019_BJluy2RcFm', '2019_BJlxm30cKm', '2019_BJx0sjC5FX', '2019_BJx1SsAcYQ', '2019_BJxLH2AcYX', '2019_BJxOHs0cKm', '2019_BJxPk2A9Km', '2019_BJxbYoC9FQ', '2019_BJxh2j0qYm', '2019_BJxhijAcY7', '2019_BJxvEh0cFQ', '2019_BJzbG20cFQ', '2019_BkG5SjR5YQ', '2019_BkG8sjR5Km', '2019_BkGiPoC5FX', '2019_BkMWx309FX', '2019_BkMXkhA5Fm', '2019_BkMiWhR5K7', '2019_Bke96sC5tm', '2019_BkeDEoCctQ', '2019_BkeK-nRcFX', '2019_BkeU5j0ctQ', '2019_BkeUasA5YQ', '2019_BkedwoC5t7', '2019_BkedznAqKQ', '2019_Bkeuz20cYm', '2019_BkewX2C9tX', '2019_Bkf1tjR9KQ', '2019_BkfbpsAcF7', '2019_Bkg2viA5FQ', '2019_Bkg3g2R9FX', '2019_Bkg6RiCqY7', '2019_Bkg8jjC9KQ', '2019_BkgBvsC9FQ', '2019_BkgFqiAqFX', '2019_BkgPajAcY7', '2019_BkgVx3A9Km', '2019_BkgWHnR5tm', '2019_BkgosiRcKm', '2019_BkgtDsCcKQ', '2019_BkgzniCqY7', '2019_Bkl-43C9FQ', '2019_Bkl2SjCcKQ', '2019_BklACjAqFm', '2019_BklAEsR5t7', '2019_BklCusRct7', '2019_BklHpjCqKm', '2019_BklKFo09YX', '2019_BklMjsRqY7', '2019_BklUAoAcY7', '2019_Bklfsi0cKm', '2019_BklpOo09tQ', '2019_Bklr3j0cKX', '2019_Bklzkh0qFm', '2019_Bkx8OiRcYX', '2019_BkxSHsC5FQ', '2019_Bkxbrn0cYX', '2019_BkxgbhCqtQ', '2019_BkzeUiRcY7', '2019_By40DoAqtX', '2019_By41BjA9YQ', '2019_ByG_3s09KX', '2019_ByGuynAct7', '2019_ByME42AqK7', '2019_ByMHvs0cFQ', '2019_ByMVTsR5KQ', '2019_Bye5SiAqKX', '2019_Bye9LiR9YX', '2019_ByeLBj0qFQ', '2019_ByeMB3Act7', '2019_ByeSdsC9Km', '2019_ByeTHsAqtX', '2019_ByecAoAqK7', '2019_Byey7n05FQ', '2019_ByftGnR9KX', '2019_ByfyHh05tQ', '2019_Byg0DsCqYQ', '2019_BygANhA9tQ', '2019_BygANjA5FX', '2019_BygMAiRqK7', '2019_BygNqoR9tm', '2019_Bygh9j09KX', '2019_ByghKiC5YX', '2019_BygmRoA9YQ', '2019_BygqBiRcFQ', '2019_Bygre3R9Fm', '2019_BylBr3C9K7', '2019_BylIciRcYQ', '2019_BylQV305YQ', '2019_ByldlhAqYQ', '2019_Bylmkh05KX', '2019_Bylnx209YX', '2019_ByloJ20qtm', '2019_Byx83s09Km', '2019_ByxAcjCqt7', '2019_ByxBFsRqYm', '2019_ByxGSsR9FQ', '2019_ByxLl309Ym', '2019_ByxPYjC5KQ', '2019_ByxZX20qFQ', '2019_ByxkijC5FQ', '2019_ByxmXnA9FQ', '2019_Byxpfh0cFm', '2019_H1ERcs09KQ', '2019_H1GaLiAcY7', '2019_H1MBuiAqtX', '2019_H1MgjoR9tQ', '2019_H1V4QhAqYQ', '2019_H1e572A5tQ', '2019_H1e6ij0cKQ', '2019_H1eRBoC9FX', '2019_H1eSS3CcKX', '2019_H1ebTsActm', '2019_H1ecDoR5Y7', '2019_H1edIiA9KQ', '2019_H1emus0qF7', '2019_H1eqjiCctX', '2019_H1eqviAqYX', '2019_H1ewdiR5tQ', '2019_H1f7S3C9YQ', '2019_H1fU8iAqKX', '2019_H1g0Z3A9Fm', '2019_H1g4k309F7', '2019_H1g6osRcFQ', '2019_H1gFuiA9KX', '2019_H1gKYo09tX', '2019_H1gL-2A9Ym', '2019_H1gMCsAqY7', '2019_H1gR5iR5FX', '2019_H1gTEj09FX', '2019_H1gh_sC9tm', '2019_H1goBoR9F7', '2019_H1gsz30cKX', '2019_H1lC8o0cKX', '2019_H1lGHsA9KX', '2019_H1lJJnR5Ym', '2019_H1lJws05K7', '2019_H1ldNoC9tX', '2019_H1lnJ2Rqt7', '2019_H1ltQ3R9KQ', '2019_H1lug3R5FX'])"
      ]
     },
     "execution_count": 51,
     "metadata": {},
     "output_type": "execute_result"
    }
   ],
   "source": [
    "table_labels.keys()"
   ]
  },
  {
   "cell_type": "code",
   "execution_count": 53,
   "metadata": {},
   "outputs": [
    {
     "data": {
      "text/plain": [
       "['', '', '', '', '', '']"
      ]
     },
     "execution_count": 53,
     "metadata": {},
     "output_type": "execute_result"
    }
   ],
   "source": [
    "table_labels[\"2018_HyzbhfWRW\"]"
   ]
  },
  {
   "cell_type": "code",
   "execution_count": null,
   "metadata": {},
   "outputs": [],
   "source": []
  },
  {
   "cell_type": "code",
   "execution_count": 30,
   "metadata": {},
   "outputs": [
    {
     "name": "stdout",
     "output_type": "stream",
     "text": [
      "Status:  0\n",
      "What si happening;  1606.00704v3 ['1606', '00704v3']\n",
      "Paper is:  None\n",
      "2017_B1ElR4cgg 1606.00704v3\n",
      "Error:  'NoneType' object has no attribute 'tables'\n"
     ]
    }
   ],
   "source": [
    "\n",
    "# status_count = 0\n",
    "# err_count = 0\n",
    "\n",
    "# leaderboard_table_refs = defaultdict(dict)\n",
    "# leaderboard_refs = defaultdict(dict)\n",
    "\n",
    "# for k, v in iclr_arxiv_map.items():\n",
    "#     if k == \"2017_B1ElR4cgg\":\n",
    "# #     if True:\n",
    "#         if v[\"found\"]:\n",
    "            \n",
    "#             # Keep saving after 10 entries\n",
    "#             if status_count % 20 == 0:\n",
    "#                 print(\"Status: \", status_count)\n",
    "#                 with open(\"leaderboard_table_refs.pkl\", \"wb\") as some_file:\n",
    "#                     pickle.dump(leaderboard_table_refs, some_file)\n",
    "#                 with open(\"leaderboard_refs.pkl\", \"wb\") as some_file:\n",
    "#                     pickle.dump(leaderboard_refs, some_file)\n",
    "                    \n",
    "#             try:\n",
    "# #                 print(k, v[\"arxivId\"])\n",
    "#                 path_split = v[\"arxivId\"].split(\".\")\n",
    "#                 print(\"What si happening; \",  v[\"arxivId\"], path_split)\n",
    "\n",
    "#                 # Extraction\n",
    "#                 extract(SOURCES_PATH / path_split[0] / v[\"arxivId\"])\n",
    "\n",
    "#                 pc = PaperCollection.from_files(PAPERS_PATH)\n",
    "#                 paper = pc.get_by_id(v[\"arxivId\"])\n",
    "                \n",
    "#                 print(\"Paper is: \", paper)\n",
    "#                 #leaderboard_table_refs[k][\"tcount\"] = len(paper.tables)\n",
    "                \n",
    "#                 if len(paper.tables) > 0:\n",
    "                    \n",
    "#                     # Add table type if absent\n",
    "#                     if paper.tables[0].gold_tags == \"\":\n",
    "#                         tables_types = ttp.predict(paper, paper.tables)\n",
    "#                         for table, table_type in zip(paper.tables, tables_types):\n",
    "#                             table.gold_tags = table_labels[table_type]\n",
    "# #                         print(\"check is retained: \", paper.tables[0].gold_tags)\n",
    "# #                         break\n",
    "                    \n",
    "#                     #Count the different types of tables\n",
    "#                     table_type_count = [0, 0, 0]\n",
    "#                     for tt in paper.tables:\n",
    "#                         if tt.gold_tags.lower().strip() == \"leaderboard\":\n",
    "#                             table_type_count[0] = table_type_count[0] + 1\n",
    "#                         elif tt.gold_tags.lower().strip() == \"ablation\":\n",
    "#                             table_type_count[1] = table_type_count[1] + 1\n",
    "#                         elif tt.gold_tags.lower().strip() == \"irrelevant\":\n",
    "#                             table_type_count[2] = table_type_count[2] + 1\n",
    "#                         else:\n",
    "#                             print(\"Unknown table type: \", tt.gold_tags)\n",
    "                    \n",
    "#                     # Save table stat in leaderboard_table_refs\n",
    "#                     leaderboard_table_refs[k][\"tcount\"] = [len(paper.tables), table_type_count[0], table_type_count[1], table_type_count[2]]\n",
    "#                 else:\n",
    "#                     leaderboard_table_refs[k][\"tcount\"] = [0, 0, 0, 0]\n",
    "                \n",
    "#                 if (leaderboard_table_refs[k][\"tcount\"][1]+leaderboard_table_refs[k][\"tcount\"][2]) > 0:\n",
    "#                     leaderboard_refs[k][\"refs\"] = {}\n",
    "                \n",
    "#                 # If sota/leaderboard tables present, extract references from them\n",
    "#                 if leaderboard_table_refs[k][\"tcount\"][1] > 0:\n",
    "#                     leaderboard_refs[k][\"refs\"][\"ldb\"] = []\n",
    "#                     leaderboard_refs[k][\"count\"] = 0\n",
    "#                     for iterid, table in enumerate(paper.tables):\n",
    "#                         idx = iterid + 1\n",
    "#                         if table.gold_tags == \"leaderboard\":\n",
    "                            \n",
    "#                             table_dir_path = \"/home/singh_shruti/workspace/axcell_ws/axcell/notebooks/data/papers/\" + path_split[0] + \"/\" + v[\"arxivId\"]\n",
    "#                             table_files = glob.glob(table_dir_path+\"/*.csv\")\n",
    "#                             table_files_stripped = [tfs.rsplit(\"/\", 1)[1] for tfs in table_files]\n",
    "                            \n",
    "#                             candidate_name = \"table_\" + \"{:02d}\".format(idx) + \".csv\"\n",
    "# #                             print(\"Check: \", candidate_name)\n",
    "# #                             print(table_dir_path+\"/*.csv\")\n",
    "# #                             print(\"check: \", table_files)\n",
    "#                             if candidate_name in table_files_stripped:\n",
    "#                                 cannot_use_f = open(table_dir_path + \"/\" + candidate_name, \"r\")\n",
    "#                                 for line in cannot_use_f:\n",
    "#                                     m = re.findall(\"<ref id=[0-9a-zA-Z'-]*>[0-9]*</ref>\", line)\n",
    "#                                     for iim in m:\n",
    "#                                         leaderboard_refs[k][\"refs\"][\"ldb\"].append(iim)\n",
    "#                                         leaderboard_refs[k][\"count\"] += 1\n",
    "#                             else:\n",
    "#                                 print(\"For {} cannot find leaderboard table file: {}\".format(k, candidate_name))\n",
    "                            \n",
    "#                     leaderboard_refs[k][\"refs\"][\"ldb\"] = list(set(leaderboard_refs[k][\"refs\"][\"ldb\"]))\n",
    "                    \n",
    "#                 if leaderboard_table_refs[k][\"tcount\"][2] > 0:\n",
    "#                     leaderboard_refs[k][\"refs\"][\"abl\"] = []\n",
    "#                     for iterid, table in enumerate(paper.tables):\n",
    "#                         idx = iterid + 1\n",
    "#                         if table.gold_tags == \"ablation\":\n",
    "                            \n",
    "#                             table_dir_path = \"/home/singh_shruti/workspace/axcell_ws/axcell/notebooks/data/papers/\" + path_split[0] + \"/\" + v[\"arxivId\"]\n",
    "#                             table_files = glob.glob(table_dir_path+\"/*.csv\")\n",
    "#                             table_files_stripped = [tfs.rsplit(\"/\", 1)[1] for tfs in table_files]\n",
    "                            \n",
    "#                             candidate_name = \"table_\" + \"{:02d}\".format(idx) + \".csv\"\n",
    "#                             if candidate_name in table_files_stripped:\n",
    "#                                 cannot_use_f = open(table_dir_path + \"/\" + candidate_name, \"r\")\n",
    "#                                 for line in cannot_use_f:\n",
    "#                                     m = re.findall(\"<ref id=[0-9a-zA-Z'-]*>[0-9]*</ref>\", line)\n",
    "#                                     for iim in m:\n",
    "#                                         leaderboard_refs[k][\"refs\"][\"abl\"].append(iim)\n",
    "#                             else:\n",
    "#                                 print(\"For {} cannot find ablation table file: {}\".format(k, candidate_name))\n",
    "                            \n",
    "#                     leaderboard_refs[k][\"refs\"][\"abl\"] = list(set(leaderboard_refs[k][\"refs\"][\"abl\"]))\n",
    "                            \n",
    "#                     #table_csv_path = \"/home/singh_shruti/workspace/axcell_ws/axcell/axcell/notebooks/data/papers/\" + path_split[0] + \"/\" + v[\"arxivId\"] + \"/\" + \n",
    "                \n",
    "#                 status_count += 1\n",
    "#                 break\n",
    "#             except Exception as ex:\n",
    "#                 print(k, v[\"arxivId\"])\n",
    "#                 print(\"Error: \", ex)\n",
    "#                 err_count += 1"
   ]
  },
  {
   "cell_type": "code",
   "execution_count": null,
   "metadata": {},
   "outputs": [],
   "source": []
  },
  {
   "cell_type": "code",
   "execution_count": 11,
   "metadata": {},
   "outputs": [
    {
     "data": {
      "text/plain": [
       "('2020_ryxz8CVYDH', '1910.09464v2')"
      ]
     },
     "execution_count": 11,
     "metadata": {},
     "output_type": "execute_result"
    }
   ],
   "source": [
    "k, v[\"arxivId\"]"
   ]
  },
  {
   "cell_type": "code",
   "execution_count": 36,
   "metadata": {},
   "outputs": [
    {
     "name": "stdout",
     "output_type": "stream",
     "text": [
      "1606.00704v3\n"
     ]
    }
   ],
   "source": [
    "arxiv_re = re.compile(r\"^(?P<arxiv_id>\\d{4}\\.\\d+(v\\d+)?)(\\..*)?$\")\n",
    "p = SOURCES_PATH / path_split[0] / v[\"arxivId\"]\n",
    "m = arxiv_re.match(p.name)\n",
    "arxiv_id = m.group('arxiv_id')\n",
    "print(arxiv_id)"
   ]
  },
  {
   "cell_type": "code",
   "execution_count": 37,
   "metadata": {},
   "outputs": [
    {
     "data": {
      "text/plain": [
       "('1606.00704v3', '1606.00704v3', 'v3', None)"
      ]
     },
     "execution_count": 37,
     "metadata": {},
     "output_type": "execute_result"
    }
   ],
   "source": [
    "m[0], m[1], m[2], m[3]"
   ]
  },
  {
   "cell_type": "code",
   "execution_count": 38,
   "metadata": {},
   "outputs": [
    {
     "name": "stdout",
     "output_type": "stream",
     "text": [
      "1606/1606.00704v3\n"
     ]
    }
   ],
   "source": [
    "subpath = p.relative_to(ROOT_PATH / 'sources').parent / arxiv_id\n",
    "print(subpath)"
   ]
  },
  {
   "cell_type": "code",
   "execution_count": 39,
   "metadata": {},
   "outputs": [
    {
     "data": {
      "text/plain": [
       "PosixPath('1606/1606.00704v3')"
      ]
     },
     "execution_count": 39,
     "metadata": {},
     "output_type": "execute_result"
    }
   ],
   "source": [
    "p.relative_to(ROOT_PATH / 'sources')"
   ]
  },
  {
   "cell_type": "code",
   "execution_count": 40,
   "metadata": {},
   "outputs": [],
   "source": [
    "unpack_path = ROOT_PATH / 'unpacked_sources' / subpath"
   ]
  },
  {
   "cell_type": "code",
   "execution_count": 43,
   "metadata": {},
   "outputs": [],
   "source": [
    "from axcell.helpers import LatexConverter, Unpack\n",
    "up = Unpack()\n",
    "up(p, unpack_path)"
   ]
  },
  {
   "cell_type": "code",
   "execution_count": 44,
   "metadata": {},
   "outputs": [],
   "source": [
    "html_path = ROOT_PATH / 'htmls' / subpath / 'index.html'"
   ]
  },
  {
   "cell_type": "code",
   "execution_count": 46,
   "metadata": {},
   "outputs": [
    {
     "ename": "LatexConversionError",
     "evalue": "LaTeXML was unable to convert source code of this paper",
     "output_type": "error",
     "traceback": [
      "\u001b[0;31m---------------------------------------------------------------------------\u001b[0m",
      "\u001b[0;31mContainerError\u001b[0m                            Traceback (most recent call last)",
      "\u001b[0;32m~/anaconda3/envs/axcell/lib/python3.7/site-packages/axcell/helpers/latex_converter.py\u001b[0m in \u001b[0;36mlatex2html\u001b[0;34m(self, source_dir, output_dir, use_named_volumes)\u001b[0m\n\u001b[1;32m     60\u001b[0m         \u001b[0;32mtry\u001b[0m\u001b[0;34m:\u001b[0m\u001b[0;34m\u001b[0m\u001b[0;34m\u001b[0m\u001b[0m\n\u001b[0;32m---> 61\u001b[0;31m             \u001b[0mself\u001b[0m\u001b[0;34m.\u001b[0m\u001b[0mclient\u001b[0m\u001b[0;34m.\u001b[0m\u001b[0mcontainers\u001b[0m\u001b[0;34m.\u001b[0m\u001b[0mrun\u001b[0m\u001b[0;34m(\u001b[0m\u001b[0;34m\"arxivvanity/engrafo:b3db888fefa118eacf4f13566204b68ce100b3a6\"\u001b[0m\u001b[0;34m,\u001b[0m \u001b[0mcommand\u001b[0m\u001b[0;34m,\u001b[0m \u001b[0mremove\u001b[0m\u001b[0;34m=\u001b[0m\u001b[0;32mTrue\u001b[0m\u001b[0;34m,\u001b[0m \u001b[0mvolumes\u001b[0m\u001b[0;34m=\u001b[0m\u001b[0mvolumes\u001b[0m\u001b[0;34m)\u001b[0m\u001b[0;34m\u001b[0m\u001b[0;34m\u001b[0m\u001b[0m\n\u001b[0m\u001b[1;32m     62\u001b[0m         \u001b[0;32mexcept\u001b[0m \u001b[0mContainerError\u001b[0m \u001b[0;32mas\u001b[0m \u001b[0merr\u001b[0m\u001b[0;34m:\u001b[0m\u001b[0;34m\u001b[0m\u001b[0;34m\u001b[0m\u001b[0m\n",
      "\u001b[0;32m~/anaconda3/envs/axcell/lib/python3.7/site-packages/docker/models/containers.py\u001b[0m in \u001b[0;36mrun\u001b[0;34m(self, image, command, stdout, stderr, remove, **kwargs)\u001b[0m\n\u001b[1;32m    831\u001b[0m             raise ContainerError(\n\u001b[0;32m--> 832\u001b[0;31m                 \u001b[0mcontainer\u001b[0m\u001b[0;34m,\u001b[0m \u001b[0mexit_status\u001b[0m\u001b[0;34m,\u001b[0m \u001b[0mcommand\u001b[0m\u001b[0;34m,\u001b[0m \u001b[0mimage\u001b[0m\u001b[0;34m,\u001b[0m \u001b[0mout\u001b[0m\u001b[0;34m\u001b[0m\u001b[0;34m\u001b[0m\u001b[0m\n\u001b[0m\u001b[1;32m    833\u001b[0m             )\n",
      "\u001b[0;31mContainerError\u001b[0m: Command '['/files/latex2html.sh', 'index.html']' in image 'arxivvanity/engrafo:b3db888fefa118eacf4f13566204b68ce100b3a6' returned non-zero exit status 117: b\"\\n(Loading /usr/local/share/perl/5.28.1/LaTeXML/Package/TeX.pool.ltxml...\\n(Loading /usr/local/share/perl/5.28.1/LaTeXML/Package/eTeX.pool.ltxml... 0.01 sec)\\n(Loading /usr/local/share/perl/5.28.1/LaTeXML/Package/pdfTeX.pool.ltxml... 0.01 sec) 0.20 sec)\\n(Loading /app/latexml/engrafo.ltxml... 0.00 sec)\\n(Loading /usr/src/latexml/lib/LaTeXML/Package/hyperref.sty.ltxml...\\n(Loading /usr/local/share/perl/5.28.1/LaTeXML/Package/url.sty.ltxml... 0.00 sec)\\n(Loading /usr/local/share/perl/5.28.1/LaTeXML/Package/nameref.sty.ltxml... 0.00 sec) 0.05 sec)\\n\\nlatexmlc (LaTeXML version 0.8.4)\\ninvoked as [/usr/local/bin/latexmlc --format html5 --nodefaultresources --mathtex --svg --verbose --timestamp 0 --path /app/latexml/packages/ --preload /app/latexml/engrafo.ltxml --preload /usr/src/latexml/lib/LaTeXML/Package/hyperref.sty.ltxml --xsltparameter SIMPLIFY_HTML:true --css /app/dist/css/index.css --javascript /app/dist/javascript/index.js adversarially_learned_inference.tex --dest /files/output/index.html]\\nprocessing started Wed Jun 17 13:48:58 2020\\n\\n(Digesting TeX adversarially_learned_inference...\\n(Processing content /files/source/adversarially_learned_inference.tex...\\n(Loading /usr/local/share/perl/5.28.1/LaTeXML/Package/LaTeX.pool.ltxml... 0.17 sec)\\n(Loading /usr/local/share/perl/5.28.1/LaTeXML/Package/article.cls.ltxml... 0.01 sec)\\n(Loading /usr/local/share/perl/5.28.1/LaTeXML/Package/inputenc.sty.ltxml...\\n(Loading /usr/local/share/perl/5.28.1/LaTeXML/Package/utf8.def.ltxml... 0.01 sec) 0.02 sec)\\n(Loading /usr/local/share/perl/5.28.1/LaTeXML/Package/fontenc.sty.ltxml...\\n(Loading /usr/local/share/perl/5.28.1/LaTeXML/Package/t1enc.def.ltxml...\\n(Processing definitions /usr/share/texlive/texmf-dist/tex/latex/base/t1enc.def...[#25][#50][#75][#100]\\n(Loading /usr/local/share/perl/5.28.1/LaTeXML/Package/t1.fontmap.ltxml... 0.00 sec)[#125][#150][#175][#200][#225][#250][#275] 0.08 sec) 1.06 sec) 1.07 sec)\\n(Loading /usr/local/share/perl/5.28.1/LaTeXML/Package/hyperref.sty.ltxml...\\nWarning:perl:warn Subroutine hyperref_setoption redefined\\n\\tat hyperref.sty.ltxml; line 87\\n\\tat /usr/local/share/perl/5.28.1/LaTeXML/Package/hyperref.sty.ltxml line 87, <$IN> line 6\\n\\tIn Core::Gullet[@0x55bc456963d0] /usr/local/share/perl/5.28.1/LaTeXML/Package/hyperref.sty.ltxml; line 87\\n 0.05 sec)\\n(Loading /usr/local/share/perl/5.28.1/LaTeXML/Package/booktabs.sty.ltxml... 0.00 sec)\\n(Loading /usr/local/share/perl/5.28.1/LaTeXML/Package/amsfonts.sty.ltxml... 0.00 sec)\\n(Loading /usr/local/share/perl/5.28.1/LaTeXML/Package/amsmath.sty.ltxml...\\n(Loading /usr/local/share/perl/5.28.1/LaTeXML/Package/amsbsy.sty.ltxml... 0.00 sec)\\n(Loading /usr/local/share/perl/5.28.1/LaTeXML/Package/amstext.sty.ltxml... 0.00 sec)\\n(Loading /usr/local/share/perl/5.28.1/LaTeXML/Package/amsopn.sty.ltxml... 0.00 sec) 0.03 sec)\\n(Loading /usr/local/share/perl/5.28.1/LaTeXML/Package/amsthm.sty.ltxml... 0.01 sec)\\n(Loading /usr/local/share/perl/5.28.1/LaTeXML/Package/graphicx.sty.ltxml...\\n(Loading /usr/local/share/perl/5.28.1/LaTeXML/Package/graphics.sty.ltxml... 0.00 sec) 0.02 sec)\\n(Loading /usr/local/share/perl/5.28.1/LaTeXML/Package/nicefrac.sty.ltxml... 0.00 sec)\\n(Loading /usr/local/share/perl/5.28.1/LaTeXML/Package/microtype.sty.ltxml... 0.00 sec)\\n(Loading /usr/local/share/perl/5.28.1/LaTeXML/Package/tikz.sty.ltxml...\\n(Processing definitions /usr/share/texlive/texmf-dist/tex/latex/pgf/frontendlayer/tikz.sty...\\n(Loading /usr/local/share/perl/5.28.1/LaTeXML/Package/pgf.sty.ltxml...\\n(Processing definitions /usr/share/texlive/texmf-dist/tex/latex/pgf/basiclayer/pgf.sty...\\n(Processing definitions /usr/share/texlive/texmf-dist/tex/latex/pgf/utilities/pgfrcs.sty...\\n(Processing definitions /usr/share/texlive/texmf-dist/tex/generic/pgf/utilities/pgfutil-common.tex...[#25][#50][#75][#100][#125][#150][#175][#200][#225][#250][#275][#300][#325][#350][#375][#400][#425][#450][#475][#500][#525][#550][#575][#600][#625][#650][#675][#700][#725][#750][#775][#800]\\n(Processing definitions /usr/share/texlive/texmf-dist/tex/generic/pgf/utilities/pgfutil-common-lists.tex...[#25][#50][#75][#100][#125][#150] 0.02 sec) 0.09 sec)\\n(Processing definitions /usr/share/texlive/texmf-dist/tex/generic/pgf/utilities/pgfutil-latex.def...[#25][#50][#75][#100]\\n(Processing definitions /usr/share/texlive/texmf-dist/tex/latex/ms/everyshi.sty...[#25][#50][#75][#100] 0.02 sec)[#125][#150][#175] 0.07 sec)\\n(Processing definitions /usr/share/texlive/texmf-dist/tex/generic/pgf/utilities/pgfrcs.code.tex...\\n(Processing definitions /usr/share/texlive/texmf-dist/tex/generic/pgf/pgf.revision.tex... 0.00 sec)[#25][#50][#75] 0.02 sec) 0.41 sec)[#25]\\n(Processing definitions /usr/share/texlive/texmf-dist/tex/latex/pgf/basiclayer/pgfcore.sty...\\n(Processing definitions /usr/share/texlive/texmf-dist/tex/latex/pgf/systemlayer/pgfsys.sty...\\n(Processing definitions /usr/share/texlive/texmf-dist/tex/generic/pgf/systemlayer/pgfsys.code.tex...\\n(Loading /usr/local/share/perl/5.28.1/LaTeXML/Package/pgfkeys.code.tex.ltxml...\\n(Processing definitions /usr/share/texlive/texmf-dist/tex/generic/pgf/utilities/pgfkeys.code.tex...[#25][#50][#75][#100][#125][#150][#175][#200][#225][#250][#275][#300][#325][#350][#375][#400][#425][#450][#475][#500][#525][#550][#575][#600][#625][#650][#675][#700][#725][#750][#775][#800][#825][#850][#875][#900][#925][#950][#975][#1000][#1025][#1050][#1075][#1100]\\n(Processing definitions /usr/share/texlive/texmf-dist/tex/generic/pgf/utilities/pgfkeysfiltered.code.tex...[#25][#50][#75][#100][#125][#150][#175][#200][#225][#250][#275][#300][#325][#350][#375][#400][#425][#450][#475][#500][#525][#550][#575][#600][#625][#650][#675][#700][#725][#750][#775][#800][#825][#850][#875][#900][#925][#950][#975][#1000] 0.15 sec) 0.48 sec) 0.49 sec)[#25][#50][#75][#100][#125][#150][#175][#200][#225][#250][#275][#300][#325][#350][#375][#400][#425][#450][#475][#500][#525][#550][#575][#600][#625][#650][#675][#700][#725][#750][#775][#800][#825][#850][#875][#900][#925][#950][#975][#1000][#1025][#1050][#1075][#1100][#1125][#1150][#1175][#1200][#1225][#1250][#1275][#1300][#1325][#1350][#1375][#1400][#1425][#1450][#1475][#1500][#1525][#1550][#1575][#1600][#1625][#1650][#1675][#1700]\\n(Processing definitions /usr/share/texlive/texmf-dist/tex/generic/pgf/systemlayer/pgf.cfg...[#25] 0.00 sec)Driver file for pgf: pgfsys-latexml.def\\n[#1725]\\n(Loading /usr/local/share/perl/5.28.1/LaTeXML/Package/pgfsys-latexml.def.ltxml... 0.02 sec) 1.26 sec)\\n(Processing definitions /usr/share/texlive/texmf-dist/tex/generic/pgf/systemlayer/pgfsyssoftpath.code.tex...[#25][#50][#75][#100][#125][#150][#175][#200] 0.03 sec)\\n(Processing definitions /usr/share/texlive/texmf-dist/tex/generic/pgf/systemlayer/pgfsysprotocol.code.tex...[#25][#50] 0.01 sec) 1.31 sec)\\n(Loading /usr/local/share/perl/5.28.1/LaTeXML/Package/keyval.sty.ltxml...\\n(Processing definitions /usr/share/texlive/texmf-dist/tex/latex/graphics/keyval.sty...[#25][#50][#75] 0.01 sec) 0.01 sec)\\n(Loading /usr/local/share/perl/5.28.1/LaTeXML/Package/xcolor.sty.ltxml...\\n(Loading /usr/local/share/perl/5.28.1/LaTeXML/Package/color.sty.ltxml... 0.02 sec) 0.10 sec)\\n(Processing definitions /usr/share/texlive/texmf-dist/tex/generic/pgf/basiclayer/pgfcore.code.tex...\\n(Loading /usr/local/share/perl/5.28.1/LaTeXML/Package/pgfmath.code.tex.ltxml...\\n(Processing definitions /usr/share/texlive/texmf-dist/tex/generic/pgf/math/pgfmath.code.tex...\\n(Processing definitions /usr/share/texlive/texmf-dist/tex/generic/pgf/math/pgfmathcalc.code.tex...\\n(Processing definitions /usr/share/texlive/texmf-dist/tex/generic/pgf/math/pgfmathutil.code.tex...[#25][#50][#75][#100][#125][#150][#175][#200][#225][#250] 0.07 sec)\\n(Processing definitions /usr/share/texlive/texmf-dist/tex/generic/pgf/math/pgfmathparser.code.tex...[#25][#50][#75][#100][#125][#150][#175][#200][#225][#250][#275][#300][#325][#350][#375][#400][#425][#450][#475][#500][#525][#550][#575][#600][#625][#650][#675][#700][#725][#750][#775][#800][#825][#850][#875][#900][#925][#950][#975] 0.29 sec)\\n(Processing definitions /usr/share/texlive/texmf-dist/tex/generic/pgf/math/pgfmathfunctions.code.tex...[#25][#50][#75][#100][#125][#150][#175][#200][#225]\\n(Processing definitions /usr/share/texlive/texmf-dist/tex/generic/pgf/math/pgfmathfunctions.basic.code.tex...[#25][#50][#75][#100][#125][#150][#175][#200][#225][#250][#275][#300][#325][#350][#375][#400][#425][#450][#475][#500][#525][#550][#575][#600][#625][#650][#675][#700][#725][#750][#775][#800] 0.45 sec)\\n(Processing definitions /usr/share/texlive/texmf-dist/tex/generic/pgf/math/pgfmathfunctions.trigonometric.code.tex...[#25][#50][#75][#100][#125][#150][#175][#200][#225][#250][#275][#300][#325][#350][#375][#400][#425][#450][#475][#500][#525][#550][#575][#600][#625][#650][#675][#700][#725][#750][#775][#800][#825][#850][#875][#900][#925][#950][#975][#1000][#1025][#1050][#1075][#1100][#1125][#1150][#1175][#1200][#1225][#1250][#1275][#1300][#1325][#1350][#1375][#1400][#1425][#1450][#1475][#1500][#1525][#1550] 1.34 sec)\\n(Processing definitions /usr/share/texlive/texmf-dist/tex/generic/pgf/math/pgfmathfunctions.random.code.tex...[#25][#50][#75][#100][#125][#150][#175][#200][#225] 0.05 sec)\\n(Processing definitions /usr/share/texlive/texmf-dist/tex/generic/pgf/math/pgfmathfunctions.comparison.code.tex...[#25][#50][#75][#100][#125][#150][#175] 0.32 sec)\\n(Processing definitions /usr/share/texlive/texmf-dist/tex/generic/pgf/math/pgfmathfunctions.base.code.tex...[#25][#50][#75][#100][#125][#150][#175][#200][#225][#250][#275][#300][#325] 0.14 sec)\\n(Processing definitions /usr/share/texlive/texmf-dist/tex/generic/pgf/math/pgfmathfunctions.round.code.tex...[#25][#50][#75][#100] 0.06 sec)[#250]\\n(Processing definitions /usr/share/texlive/texmf-dist/tex/generic/pgf/math/pgfmathfunctions.misc.code.tex...[#25][#50][#75][#100][#125][#150][#175][#200][#225][#250][#275][#300][#325] 0.16 sec)\\n(Processing definitions /usr/share/texlive/texmf-dist/tex/generic/pgf/math/pgfmathfunctions.integerarithmetics.code.tex...[#25][#50][#75][#100] 0.09 sec) 2.66 sec)[#25][#50][#75][#100][#125][#150][#175][#200][#225][#250][#275][#300][#325][#350][#375][#400][#425][#450][#475][#500][#525] 3.06 sec)\\n(Processing definitions /usr/share/texlive/texmf-dist/tex/generic/pgf/math/pgfmathfloat.code.tex...[#25][#50][#75][#100][#125][#150][#175][#200][#225][#250][#275][#300][#325][#350][#375][#400][#425][#450][#475][#500][#525][#550][#575][#600][#625][#650][#675][#700][#725][#750][#775][#800][#825][#850][#875][#900][#925][#950][#975][#1000][#1025][#1050][#1075][#1100][#1125][#1150][#1175][#1200][#1225][#1250][#1275][#1300][#1325][#1350][#1375][#1400][#1425][#1450][#1475][#1500][#1525][#1550][#1575][#1600][#1625][#1650][#1675][#1700][#1725][#1750][#1775][#1800][#1825][#1850][#1875][#1900][#1925][#1950][#1975][#2000][#2025][#2050][#2075][#2100][#2125][#2150][#2175][#2200][#2225][#2250][#2275][#2300][#2325][#2350][#2375][#2400][#2425][#2450][#2475][#2500][#2525][#2550][#2575][#2600][#2625][#2650][#2675] 0.69 sec)[#25] 3.75 sec) 3.79 sec)\\n(Processing definitions /usr/share/texlive/texmf-dist/tex/generic/pgf/basiclayer/pgfcorepoints.code.tex...[#25][#50][#75][#100][#125][#150][#175][#200][#225][#250][#275][#300][#325][#350][#375][#400][#425][#450][#475][#500][#525][#550][#575][#600][#625][#650][#675][#700][#725][#750][#775][#800][#825][#850][#875][#900][#925][#950][#975][#1000][#1025][#1050][#1075][#1100][#1125][#1150][#1175][#1200][#1225][#1250][#1275] 0.27 sec)\\n(Processing definitions /usr/share/texlive/texmf-dist/tex/generic/pgf/basiclayer/pgfcorepathconstruct.code.tex...[#25][#50][#75][#100][#125][#150][#175][#200][#225][#250][#275][#300][#325][#350][#375][#400][#425][#450][#475][#500][#525][#550][#575][#600][#625][#650][#675][#700][#725][#750][#775][#800][#825][#850][#875][#900][#925][#950][#975][#1000][#1025][#1050][#1075][#1100][#1125][#1150][#1175][#1200][#1225][#1250][#1275][#1300][#1325][#1350][#1375][#1400][#1425][#1450][#1475] 0.15 sec)\\n(Processing definitions /usr/share/texlive/texmf-dist/tex/generic/pgf/basiclayer/pgfcorepathusage.code.tex...[#25][#50][#75][#100][#125][#150][#175][#200][#225][#250][#275][#300][#325][#350][#375][#400][#425][#450][#475][#500][#525][#550][#575][#600][#625][#650] 0.09 sec)\\n(Processing definitions /usr/share/texlive/texmf-dist/tex/generic/pgf/basiclayer/pgfcorescopes.code.tex...[#25][#50][#75][#100][#125][#150][#175][#200][#225][#250][#275][#300][#325][#350][#375][#400][#425][#450][#475][#500][#525][#550][#575][#600][#625][#650][#675][#700][#725][#750] 0.13 sec)\\n(Processing definitions /usr/share/texlive/texmf-dist/tex/generic/pgf/basiclayer/pgfcoregraphicstate.code.tex...[#25][#50][#75][#100][#125][#150][#175][#200][#225][#250][#275] 0.02 sec)\\n(Processing definitions /usr/share/texlive/texmf-dist/tex/generic/pgf/basiclayer/pgfcoretransformations.code.tex...[#25][#50][#75][#100][#125][#150][#175][#200][#225][#250][#275][#300][#325][#350][#375][#400][#425][#450][#475][#500][#525][#550][#575][#600][#625][#650][#675][#700][#725][#750][#775][#800] 0.05 sec)\\n(Processing definitions /usr/share/texlive/texmf-dist/tex/generic/pgf/basiclayer/pgfcorequick.code.tex...[#25][#50][#75][#100][#125] 0.01 sec)\\n(Processing definitions /usr/share/texlive/texmf-dist/tex/generic/pgf/basiclayer/pgfcoreobjects.code.tex...[#25][#50][#75][#100] 0.00 sec)[#25]\\n(Processing definitions /usr/share/texlive/texmf-dist/tex/generic/pgf/basiclayer/pgfcorepathprocessing.code.tex...[#25][#50][#75][#100][#125][#150][#175][#200][#225][#250][#275][#300][#325][#350][#375][#400][#425][#450][#475][#500][#525][#550] 0.03 sec)\\n(Processing definitions /usr/share/texlive/texmf-dist/tex/generic/pgf/basiclayer/pgfcorearrows.code.tex...[#25][#50][#75][#100][#125][#150][#175][#200][#225][#250][#275][#300][#325][#350][#375][#400][#425][#450][#475][#500][#525][#550][#575][#600][#625][#650][#675][#700][#725][#750][#775][#800][#825][#850][#875][#900][#925][#950][#975][#1000][#1025][#1050][#1075][#1100][#1125][#1150][#1175][#1200][#1225][#1250] 0.62 sec)\\n(Processing definitions /usr/share/texlive/texmf-dist/tex/generic/pgf/basiclayer/pgfcoreshade.code.tex...[#25][#50][#75][#100][#125][#150][#175][#200][#225][#250][#275][#300][#325][#350][#375][#400][#425][#450][#475][#500][#525][#550][#575] 0.05 sec)\\n(Processing definitions /usr/share/texlive/texmf-dist/tex/generic/pgf/basiclayer/pgfcoreimage.code.tex...[#25][#50][#75][#100][#125][#150][#175][#200][#225]\\n(Processing definitions /usr/share/texlive/texmf-dist/tex/generic/pgf/basiclayer/pgfcoreexternal.code.tex...[#25][#50][#75][#100][#125][#150][#175][#200][#225][#250][#275][#300][#325][#350][#375][#400][#425][#450][#475][#500][#525] 0.06 sec) 0.10 sec)\\n(Processing definitions /usr/share/texlive/texmf-dist/tex/generic/pgf/basiclayer/pgfcorelayers.code.tex...[#25][#50][#75][#100][#125][#150][#175][#200] 0.02 sec)\\n(Processing definitions /usr/share/texlive/texmf-dist/tex/generic/pgf/basiclayer/pgfcoretransparency.code.tex...[#25][#50][#75][#100][#125][#150][#175][#200][#225][#250][#275][#300] 0.03 sec)\\n(Processing definitions /usr/share/texlive/texmf-dist/tex/generic/pgf/basiclayer/pgfcorepatterns.code.tex...[#25][#50][#75][#100][#125][#150][#175][#200][#225][#250][#275] 0.03 sec)\\n(Processing definitions /usr/share/texlive/texmf-dist/tex/generic/pgf/basiclayer/pgfcorerdf.code.tex...[#25][#50][#75][#100][#125][#150][#175][#200][#225] 0.02 sec) 5.44 sec) 6.90 sec)\\n(Processing definitions /usr/share/texlive/texmf-dist/tex/generic/pgf/modules/pgfmoduleshapes.code.tex...[#25][#50][#75][#100][#125][#150][#175][#200][#225][#250][#275][#300][#325][#350][#375][#400][#425][#450][#475][#500][#525][#550][#575][#600][#625][#650][#675][#700][#725][#750][#775][#800][#825][#850][#875][#900][#925][#950][#975][#1000][#1025][#1050][#1075][#1100][#1125][#1150][#1175][#1200][#1225][#1250][#1275][#1300] 0.28 sec)\\n(Processing definitions /usr/share/texlive/texmf-dist/tex/generic/pgf/modules/pgfmoduleplot.code.tex...[#25][#50][#75][#100][#125][#150][#175][#200][#225][#250][#275][#300][#325][#350][#375][#400][#425][#450][#475][#500][#525][#550] 0.11 sec)\\n(Processing definitions /usr/share/texlive/texmf-dist/tex/latex/pgf/compatibility/pgfcomp-version-0-65.sty...[#25][#50][#75][#100][#125][#150][#175][#200][#225][#250][#275][#300][#325][#350][#375][#400][#425][#450][#475][#500][#525][#550][#575][#600][#625][#650][#675][#700] 0.43 sec)\\n(Processing definitions /usr/share/texlive/texmf-dist/tex/latex/pgf/compatibility/pgfcomp-version-1-18.sty...[#25] 0.02 sec) 8.19 sec) 8.19 sec)\\n(Processing definitions /usr/share/texlive/texmf-dist/tex/latex/pgf/utilities/pgffor.sty...\\n(Processing definitions /usr/share/texlive/texmf-dist/tex/latex/pgf/utilities/pgfkeys.sty... 0.00 sec)\\n(Processing definitions /usr/share/texlive/texmf-dist/tex/latex/pgf/math/pgfmath.sty... 0.01 sec)\\n(Processing definitions /usr/share/texlive/texmf-dist/tex/generic/pgf/utilities/pgffor.code.tex...[#25][#50][#75][#100][#125][#150][#175][#200][#225][#250][#275][#300][#325][#350][#375][#400][#425][#450][#475][#500][#525][#550][#575][#600][#625][#650][#675][#700][#725][#750] 0.16 sec) 0.21 sec)\\n(Processing definitions /usr/share/texlive/texmf-dist/tex/generic/pgf/frontendlayer/tikz/tikz.code.tex...\\n(Processing definitions /usr/share/texlive/texmf-dist/tex/generic/pgf/libraries/pgflibraryplothandlers.code.tex...[#25][#50][#75][#100][#125][#150][#175][#200][#225][#250][#275][#300][#325][#350][#375][#400][#425][#450][#475][#500][#525][#550][#575][#600][#625][#650][#675][#700][#725][#750][#775][#800][#825][#850][#875][#900][#925][#950][#975][#1000][#1025][#1050][#1075][#1100] 0.14 sec)[#25][#50][#75][#100][#125][#150][#175][#200][#225][#250][#275][#300][#325][#350][#375][#400][#425][#450][#475][#500][#525][#550][#575][#600][#625][#650][#675][#700][#725][#750][#775][#800][#825][#850][#875][#900][#925][#950][#975][#1000][#1025][#1050][#1075][#1100][#1125][#1150][#1175][#1200][#1225][#1250][#1275][#1300][#1325][#1350][#1375][#1400]\\n(Processing definitions /usr/share/texlive/texmf-dist/tex/generic/pgf/modules/pgfmodulematrix.code.tex...[#25][#50][#75][#100][#125][#150][#175][#200][#225][#250][#275][#300][#325][#350][#375][#400][#425][#450][#475][#500][#525][#550][#575][#600][#625][#650] 0.08 sec)[#1425][#1450][#1475][#1500][#1525][#1550][#1575][#1600][#1625][#1650][#1675][#1700][#1725][#1750][#1775][#1800][#1825][#1850][#1875][#1900][#1925][#1950][#1975][#2000][#2025][#2050][#2075][#2100][#2125][#2150][#2175][#2200][#2225][#2250][#2275][#2300][#2325][#2350][#2375][#2400][#2425][#2450][#2475][#2500][#2525][#2550][#2575][#2600][#2625][#2650][#2675][#2700][#2725][#2750][#2775][#2800][#2825][#2850][#2875][#2900][#2925][#2950][#2975][#3000][#3025][#3050][#3075][#3100][#3125][#3150][#3175][#3200][#3225][#3250][#3275][#3300][#3325][#3350][#3375][#3400][#3425][#3450][#3475][#3500][#3525][#3550][#3575][#3600][#3625][#3650][#3675][#3700][#3725][#3750][#3775][#3800][#3825][#3850][#3875][#3900][#3925][#3950][#3975][#4000][#4025][#4050][#4075][#4100][#4125][#4150][#4175][#4200][#4225][#4250][#4275][#4300][#4325][#4350][#4375][#4400][#4425][#4450][#4475][#4500][#4525][#4550][#4575][#4600][#4625][#4650][#4675][#4700][#4725][#4750][#4775][#4800][#4825][#4850][#4875][#4900][#4925][#4950][#4975][#5000][#5025][#5050][#5075][#5100][#5125][#5150][#5175][#5200][#5225][#5250][#5275][#5300][#5325][#5350][#5375][#5400][#5425][#5450][#5475][#5500]\\n(Processing definitions /usr/share/texlive/texmf-dist/tex/generic/pgf/frontendlayer/tikz/libraries/tikzlibrarytopaths.code.tex...[#25][#50][#75][#100][#125][#150][#175][#200][#225][#250][#275][#300][#325][#350][#375] 0.12 sec) 1.89 sec) 10.30 sec) 10.31 sec)\\n(Loading /usr/local/share/perl/5.28.1/LaTeXML/Package/subcaption.sty.ltxml...\\n(Loading /usr/local/share/perl/5.28.1/LaTeXML/Package/caption.sty.ltxml... 0.01 sec) 0.03 sec)\\n(Loading /usr/local/share/perl/5.28.1/LaTeXML/Package/algorithm.sty.ltxml...\\n(Processing definitions /usr/share/texlive/texmf-dist/tex/latex/algorithms/algorithm.sty...\\nInfo:misdefined:UTF8 input isn't valid under encoding UTF8\\n\\tat algorithm.sty; line 11 col 0 - line 11 col 0\\n[#25]\\n(Loading /usr/local/share/perl/5.28.1/LaTeXML/Package/float.sty.ltxml... 0.01 sec)\\n(Loading /usr/local/share/perl/5.28.1/LaTeXML/Package/ifthen.sty.ltxml...\\n(Processing definitions /usr/share/texlive/texmf-dist/tex/latex/base/ifthen.sty...[#25][#50][#75][#100][#125][#150] 0.01 sec) 0.01 sec)[#50][#75] 0.07 sec) 0.07 sec)\\n(Loading /usr/local/share/perl/5.28.1/LaTeXML/Package/algpseudocode.sty.ltxml...\\n(Processing definitions /usr/share/texlive/texmf-dist/tex/latex/algorithmicx/algpseudocode.sty...\\n(Loading /usr/local/share/perl/5.28.1/LaTeXML/Package/algorithmicx.sty.ltxml...\\n(Processing definitions /usr/share/texlive/texmf-dist/tex/latex/algorithmicx/algorithmicx.sty...Document Style algorithmicx 1.2 - a greatly improved `algorithmic' style\\n[#25][#50][#75][#100][#125][#150][#175][#200][#225][#250][#275][#300][#325][#350][#375][#400][#425][#450][#475][#500][#525][#550][#575][#600][#625][#650][#675][#700][#725][#750][#775] 0.22 sec) 0.22 sec)Document Style - pseudocode environments for use with the `algorithmicx' style\\n[#25][#50][#75] 1.38 sec) 1.38 sec)\\n(Loading /usr/local/share/perl/5.28.1/LaTeXML/Package/bm.sty.ltxml... 0.00 sec)\\nWarning:missing_file:iclr2017_conference Can't find binding for package iclr2017_conference\\n\\tat adversarially_learned_inference.tex; line 23 col 0 - line 23 col 15\\n\\tAnticipate undefined macros or environments\\n\\tsearch paths are /files/source, /app/latexml/packages/, /files/source\\n\\tIn Core::Definition::Constructor[\\\\usepac... /usr/local/share/perl/5.28.1/LaTeXML/Package/LaTeX.pool.ltxml; line 764\\n\\nInfo:dependencies:dependencies Loading dependencies for /files/source/iclr2017_conference.sty: fancyhdr,natbib,eso-pic\\n\\tat adversarially_learned_inference.tex; line 23 col 0 - line 23 col 15\\n\\n(Loading /usr/local/share/perl/5.28.1/LaTeXML/Package/fancyhdr.sty.ltxml... 0.00 sec)\\n(Loading /usr/local/share/perl/5.28.1/LaTeXML/Package/natbib.sty.ltxml... 0.02 sec)\\n(Loading /usr/local/share/perl/5.28.1/LaTeXML/Package/times.sty.ltxml... 0.00 sec)[#25]\\nTIKZ LIBRARY shapes\\n\\n(Processing definitions /usr/share/texlive/texmf-dist/tex/generic/pgf/frontendlayer/tikz/libraries/tikzlibraryshapes.code.tex...\\nTIKZ LIBRARY shapes.geometric\\n\\n(Processing definitions /usr/share/texlive/texmf-dist/tex/generic/pgf/frontendlayer/tikz/libraries/tikzlibraryshapes.geometric.code.tex...\\n(Processing definitions /usr/share/texlive/texmf-dist/tex/generic/pgf/libraries/shapes/pgflibraryshapes.geometric.code.tex...[#25][#50][#75][#100][#125][#150][#175][#200][#225][#250][#275][#300][#325][#350][#375][#400][#425][#450][#475][#500][#525][#550][#575][#600][#625][#650][#675][#700][#725][#750][#775][#800][#825][#850][#875][#900][#925][#950][#975][#1000][#1025][#1050][#1075][#1100][#1125][#1150][#1175][#1200][#1225][#1250][#1275][#1300][#1325][#1350][#1375][#1400][#1425][#1450][#1475][#1500][#1525][#1550][#1575][#1600][#1625][#1650][#1675][#1700][#1725][#1750][#1775][#1800][#1825][#1850][#1875][#1900][#1925][#1950][#1975][#2000][#2025][#2050][#2075][#2100][#2125][#2150][#2175][#2200][#2225][#2250][#2275][#2300][#2325][#2350][#2375][#2400][#2425][#2450][#2475][#2500][#2525][#2550][#2575][#2600][#2625][#2650][#2675][#2700][#2725][#2750][#2775][#2800][#2825][#2850][#2875][#2900][#2925][#2950][#2975][#3000][#3025][#3050][#3075][#3100][#3125][#3150][#3175][#3200][#3225][#3250][#3275][#3300][#3325][#3350][#3375][#3400][#3425][#3450][#3475][#3500][#3525][#3550][#3575][#3600][#3625][#3650][#3675][#3700][#3725][#3750][#3775][#3800][#3825][#3850][#3875][#3900][#3925][#3950][#3975][#4000][#4025][#4050][#4075][#4100][#4125][#4150][#4175][#4200][#4225][#4250][#4275][#4300][#4325][#4350][#4375][#4400] 1.42 sec) 1.46 sec)\\nTIKZ LIBRARY shapes.misc\\n\\n(Processing definitions /usr/share/texlive/texmf-dist/tex/generic/pgf/frontendlayer/tikz/libraries/tikzlibraryshapes.misc.code.tex...\\n(Processing definitions /usr/share/texlive/texmf-dist/tex/generic/pgf/libraries/shapes/pgflibraryshapes.misc.code.tex...[#25][#50][#75][#100][#125][#150][#175][#200][#225][#250][#275][#300][#325][#350][#375][#400][#425][#450][#475][#500][#525][#550][#575][#600][#625][#650][#675][#700][#725][#750][#775][#800][#825][#850][#875][#900][#925][#950][#975][#1000][#1025][#1050][#1075][#1100][#1125] 0.41 sec) 0.44 sec)\\nTIKZ LIBRARY shapes.symbols\\n\\n(Processing definitions /usr/share/texlive/texmf-dist/tex/generic/pgf/frontendlayer/tikz/libraries/tikzlibraryshapes.symbols.code.tex...\\n(Processing definitions /usr/share/texlive/texmf-dist/tex/generic/pgf/libraries/shapes/pgflibraryshapes.symbols.code.tex...[#25][#50][#75][#100][#125][#150][#175][#200][#225][#250][#275][#300][#325][#350][#375][#400][#425][#450][#475][#500][#525][#550][#575][#600][#625][#650][#675][#700][#725][#750][#775][#800][#825][#850][#875][#900][#925][#950][#975]\\nInfo:misdefined:UTF8 input isn't valid under encoding UTF8\\n\\tat pgflibraryshapes.symbols.code.tex; line 984 col 0 - line 984 col 0\\n[#1000][#1025][#1050][#1075][#1100][#1125][#1150][#1175]\\nInfo:misdefined:UTF8 input isn't valid under encoding UTF8\\n\\tat pgflibraryshapes.symbols.code.tex; line 1186 col 0 - line 1186 col 0\\n[#1200]\\nInfo:misdefined:UTF8 input isn't valid under encoding UTF8\\n\\tat pgflibraryshapes.symbols.code.tex; line 1224 col 0 - line 1224 col 0\\n[#1225][#1250]\\nInfo:misdefined:UTF8 input isn't valid under encoding UTF8\\n\\tat pgflibraryshapes.symbols.code.tex; line 1267 col 0 - line 1267 col 0\\n[#1275][#1300][#1325][#1350][#1375][#1400][#1425][#1450][#1475][#1500][#1525][#1550][#1575][#1600][#1625][#1650][#1675][#1700][#1725][#1750][#1775][#1800][#1825][#1850][#1875][#1900][#1925][#1950][#1975][#2000][#2025][#2050][#2075][#2100][#2125][#2150][#2175][#2200][#2225][#2250][#2275][#2300][#2325][#2350][#2375][#2400][#2425][#2450][#2475][#2500][#2525][#2550][#2575][#2600][#2625][#2650][#2675][#2700][#2725][#2750][#2775] 0.77 sec) 0.80 sec)\\nTIKZ LIBRARY shapes.arrows\\n\\n(Processing definitions /usr/share/texlive/texmf-dist/tex/generic/pgf/frontendlayer/tikz/libraries/tikzlibraryshapes.arrows.code.tex...\\n(Processing definitions /usr/share/texlive/texmf-dist/tex/generic/pgf/libraries/shapes/pgflibraryshapes.arrows.code.tex...[#25][#50][#75][#100][#125][#150][#175][#200][#225][#250][#275][#300][#325][#350][#375][#400][#425][#450][#475][#500][#525][#550][#575][#600][#625][#650][#675][#700][#725][#750][#775][#800][#825][#850][#875][#900][#925][#950][#975][#1000][#1025][#1050][#1075][#1100][#1125][#1150][#1175][#1200][#1225][#1250][#1275][#1300][#1325][#1350][#1375][#1400][#1425][#1450][#1475][#1500][#1525][#1550][#1575][#1600][#1625][#1650][#1675][#1700][#1725][#1750][#1775][#1800][#1825][#1850][#1875][#1900][#1925][#1950][#1975][#2000][#2025][#2050][#2075][#2100][#2125][#2150][#2175][#2200][#2225][#2250][#2275][#2300][#2325][#2350] 0.47 sec) 0.50 sec)\\nTIKZ LIBRARY shapes.callouts\\n\\n(Processing definitions /usr/share/texlive/texmf-dist/tex/generic/pgf/frontendlayer/tikz/libraries/tikzlibraryshapes.callouts.code.tex...\\n(Processing definitions /usr/share/texlive/texmf-dist/tex/generic/pgf/libraries/shapes/pgflibraryshapes.callouts.code.tex...[#25][#50][#75][#100][#125][#150][#175][#200][#225][#250][#275][#300][#325][#350][#375][#400][#425][#450][#475][#500][#525][#550][#575][#600][#625][#650][#675][#700][#725][#750][#775][#800][#825][#850][#875][#900][#925][#950] 0.27 sec)[#25] 0.30 sec)\\nTIKZ LIBRARY shapes.multipart\\n\\n(Processing definitions /usr/share/texlive/texmf-dist/tex/generic/pgf/frontendlayer/tikz/libraries/tikzlibraryshapes.multipart.code.tex...\\n(Processing definitions /usr/share/texlive/texmf-dist/tex/generic/pgf/libraries/shapes/pgflibraryshapes.multipart.code.tex...[#25][#50][#75][#100][#125][#150][#175][#200][#225][#250][#275][#300][#325][#350][#375][#400][#425][#450][#475][#500][#525][#550][#575][#600][#625][#650][#675][#700][#725][#750][#775][#800][#825][#850][#875][#900][#925][#950][#975][#1000][#1025][#1050][#1075][#1100][#1125][#1150][#1175][#1200][#1225][#1250][#1275][#1300][#1325][#1350] 0.85 sec)[#25] 0.90 sec) 4.43 sec)\\nTIKZ LIBRARY positioning\\n\\n(Processing definitions /usr/share/texlive/texmf-dist/tex/generic/pgf/frontendlayer/tikz/libraries/tikzlibrarypositioning.code.tex...[#25][#50][#75][#100] 0.06 sec)[#50]\\n(Loading /usr/local/share/perl/5.28.1/LaTeXML/Package/verbatim.sty.ltxml... 0.00 sec)ABD: EveryShipout initializing macros\\n[#75][#100][#125]\\nError:undefined:\\\\node The token T_CS[\\\\node] is not defined.\\n\\tat adversarially_learned_inference.tex; line 149 col 13 - line 149 col 13\\n\\tDefining it now as <ltx:ERROR/>\\n\\tIn Core::Stomach[@0x55bc4569d6e0] /files/source/adversarially_learned_inference.tex; from line 149 col 13 to line 149 col 13\\n[#150]\\nError:undefined:\\\\draw The token T_CS[\\\\draw] is not defined.\\n\\tat adversarially_learned_inference.tex; line 157 col 13 - line 157 col 13\\n\\tDefining it now as <ltx:ERROR/>\\n\\tIn Core::Stomach[@0x55bc4569d6e0] /files/source/adversarially_learned_inference.tex; from line 157 col 13 to line 157 col 13\\n\\nError:unexpected:_ Script _ can only appear in math mode\\n\\tat adversarially_learned_inference.tex; line 157 col 29 - line 157 col 29\\n\\tIn Core::Definition::Primitive[Subscript] /usr/local/share/perl/5.28.1/LaTeXML/Package/TeX.pool.ltxml; line 3791\\n\\t <= Core::Stomach[@0x55bc4569d6e0] <= ...\\n\\nError:unexpected:_ Script _ can only appear in math mode\\n\\tat adversarially_learned_inference.tex; line 159 col 29 - line 159 col 29\\n\\tIn Core::Definition::Primitive[Subscript] /usr/local/share/perl/5.28.1/LaTeXML/Package/TeX.pool.ltxml; line 3791\\n\\t <= Core::Stomach[@0x55bc4569d6e0] <= ...\\n\\nError:unexpected:\\\\endgroup Attempt to close non-boxing group\\n\\tat adversarially_learned_inference.tex; line 165 col 0 - line 165 col 17\\n\\tcurrent frame is mode-switch to text due to T_CS[\\\\begin{document}] adversarially_learned_inference.tex; line 53 col 0 - line 53 col 37\\n\\tIn Core::Stomach[@0x55bc4569d6e0] /files/source/adversarially_learned_inference.tex; from line 165 col 0 to line 165 col 17\\n\\t <= Core::Definition::Primitive[\\\\endgroup] <= Core::Stomach[@0x55bc4569d6e0] <= ...\\n\\nError:unexpected:\\\\caption Use of \\\\caption outside any known float\\n\\tat adversarially_learned_inference.tex; line 166 col 12 - line 166 col 12\\n\\tIn Core::Definition::Constructor[\\\\@@gene... /usr/local/share/perl/5.28.1/LaTeXML/Package/LaTeX.pool.ltxml; line 2980\\n\\t <= Core::Stomach[@0x55bc4569d6e0] <= ...\\n\\nError:unexpected:\\\\end{figure} Can't close environment figure;\\n\\tat adversarially_learned_inference.tex; line 167 col 0 - line 167 col 12\\n\\tCurrent are:\\n\\tdocument adversarially_learned_inference.tex; line 53 col 0 - line 53 col 37\\n\\tIn Core::Definition::Constructor[\\\\end{fi... /usr/local/share/perl/5.28.1/LaTeXML/Package/LaTeX.pool.ltxml; line 3000\\n\\t <= Core::Stomach[@0x55bc4569d6e0] <= ...\\n[#175][#200][#225][#250][#275][#300][#325][#350][#375][#400][#425][#450][#475][#500][#525][#550][#575][#600][#625][#650][#675][#700][#725][#750][#775][#800]\\nInfo:expected:bibliography Couldn't find all bib files, using adversarially_learned_inference.bbl instead\\n\\tat adversarially_learned_inference.tex; line 812 col 0 - line 812 col 27\\n\\n(Processing content /files/source/adversarially_learned_inference.bbl...[#25][#50][#75][#100][#125][#150][#175][#200][#225][#250] 1.57 sec)[#825][#850][#875][#900][#925][#950][#975][#1000]\\nError:unexpected:_ Script _ can only appear in math mode\\n\\tat adversarially_learned_inference.tex; line 1021 col 29 - line 1021 col 29\\n\\tIn Core::Definition::Primitive[Subscript] /usr/local/share/perl/5.28.1/LaTeXML/Package/TeX.pool.ltxml; line 3791\\n\\t <= Core::Stomach[@0x55bc4569d6e0] <= ...\\n\\nError:unexpected:_ Script _ can only appear in math mode\\n\\tat adversarially_learned_inference.tex; line 1022 col 29 - line 1022 col 29\\n\\tIn Core::Definition::Primitive[Subscript] /usr/local/share/perl/5.28.1/LaTeXML/Package/TeX.pool.ltxml; line 3791\\n\\t <= Core::Stomach[@0x55bc4569d6e0] <= ...\\n[#1025]\\nError:unexpected:\\\\endgroup Attempt to close non-boxing group\\n\\tat adversarially_learned_inference.tex; line 1025 col 0 - line 1025 col 17\\n\\tcurrent frame is boxing group due to Initialization \\n\\tIn Core::Stomach[@0x55bc4569d6e0] /files/source/adversarially_learned_inference.tex; from line 1025 col 0 to line 1025 col 17\\n\\t <= Core::Definition::Primitive[\\\\endgroup] <= Core::Stomach[@0x55bc4569d6e0] <= ...\\n\\nError:unexpected:\\\\caption Use of \\\\caption outside any known float\\n\\tat adversarially_learned_inference.tex; line 1026 col 12 - line 1026 col 12\\n\\tIn Core::Definition::Constructor[\\\\@@gene... /usr/local/share/perl/5.28.1/LaTeXML/Package/LaTeX.pool.ltxml; line 2980\\n\\t <= Core::Stomach[@0x55bc4569d6e0] <= ...\\n\\nError:unexpected:\\\\end{figure} Can't close environment figure;\\n\\tat adversarially_learned_inference.tex; line 1028 col 0 - line 1028 col 12\\n\\tCurrent are:\\n\\tIn Core::Definition::Constructor[\\\\end{fi... /usr/local/share/perl/5.28.1/LaTeXML/Package/LaTeX.pool.ltxml; line 3000\\n\\t <= Core::Stomach[@0x55bc4569d6e0] <= ...\\n\\nFatal:unexpected:<endgroup> Attempt to pop last locked stack frame\\n\\tat adversarially_learned_inference.tex; line 1028 col 0 - line 1028 col 12\\n\\tStack Trace:\\n\\t\\tLaTeXML::Core::State=HASH(0x55bc4569d...->popFrame() @ /usr/local/share/perl/5.28.1/LaTeXML/Core/Stomach.pm line 283\\n\\tCore::Stomach[@0x55bc4569d6e0]->popStackFrame(0) @ /usr/local/share/perl/5.28.1/LaTeXML/Core/Stomach.pm line 321\\n\\tCore::Stomach[@0x55bc4569d6e0]->egroup() @ /usr/local/share/perl/5.28.1/LaTeXML/Package.pm line 1625\\n\\tLaTeXML::Package::__ANON__(Core::Stomach[@0x55bc4569d6e0],Whatsit[\\\\end{figure}]) @ /usr/local/share/perl/5.28.1/LaTeXML/Core/Definition/Primitive.pm line 47\\n\\tCore::Definition::Constructor[\\\\end{fi...->executeAfterDigest(Core::Stomach[@0x55bc4569d6e0],Whatsit[\\\\end{figure}]) @ /usr/local/share/perl/5.28.1/LaTeXML/Core/Definition/Constructor.pm line 113\\n\\tCore::Definition::Constructor[\\\\end{fi...->invoke(Core::Stomach[@0x55bc4569d6e0]) @ /usr/local/share/perl/5.28.1/LaTeXML/Core/Stomach.pm line 174\\n\\tCore::Stomach[@0x55bc4569d6e0]->invokeToken(T_CS[\\\\end{figure}]) @ /usr/local/share/perl/5.28.1/LaTeXML/Core/Stomach.pm line 93\\n\\tCore::Stomach[@0x55bc4569d6e0]->digestNextBody() @ /usr/local/share/perl/5.28.1/LaTeXML/Core.pm line 166\\n\\tCore[@0x55bc456956b0]->finishDigestion() @ /usr/local/share/perl/5.28.1/LaTeXML/Core.pm line 155\\n\\tLaTeXML::Core::__ANON__(LaTeXML::Core::State=HASH(0x55bc4569d...) @ /usr/local/share/perl/5.28.1/LaTeXML/Core.pm line 245\\n\\tCore[@0x55bc456956b0]->withState(CODE(0x55bc45690368)) @ /usr/local/share/perl/5.28.1/LaTeXML/Core.pm line 157\\n\\tCore[@0x55bc456956b0]->digestFile('adversarially_learned_inference.tex','preamble',undef,'postamble',undef,'mode','TeX','noinitialize',1,...) @ /usr/local/share/perl/5.28.1/LaTeXML.pm line 227\\n\\teval {...} @ /usr/local/share/perl/5.28.1/LaTeXML.pm line 221\\n\\tLaTeXML=HASH(0x55bc456916e0)->convert('adversarially_learned_inference.tex') @ /usr/local/bin/latexmlc line 113\\n\\n2 warnings; 12 errors; 1 fatal error; 2 undefined macros[\\\\node, \\\\draw]; 1 missing file[iclr2017_conference.sty]\\n\\n\\nConversion complete: 2 warnings; 12 errors; 1 fatal error; 2 undefined macros[\\\\node, \\\\draw]; 1 missing file[iclr2017_conference.sty].\\nStatus:conversion:3\\n2 warnings; 12 errors; 1 fatal error; 2 undefined macros[\\\\node, \\\\draw]; 1 missing file[iclr2017_conference.sty]\\nError! Did not write file /files/output/index.html\\nEngrafo rendering failed: Error: latexmlc exited with status 1\\n    at ChildProcess.latexmlc.on.code (/app/src/converter/latexml.js:102:23)\\n    at emitTwo (events.js:126:13)\\n    at ChildProcess.emit (events.js:214:7)\\n    at maybeClose (internal/child_process.js:915:16)\\n    at Process.ChildProcess._handle.onexit (internal/child_process.js:209:5)\\n\"",
      "\nDuring handling of the above exception, another exception occurred:\n",
      "\u001b[0;31mLatexConversionError\u001b[0m                      Traceback (most recent call last)",
      "\u001b[0;32m<ipython-input-46-1679db9745e5>\u001b[0m in \u001b[0;36m<module>\u001b[0;34m\u001b[0m\n\u001b[1;32m      1\u001b[0m \u001b[0mlatex\u001b[0m \u001b[0;34m=\u001b[0m \u001b[0mLatexConverter\u001b[0m\u001b[0;34m(\u001b[0m\u001b[0;34m)\u001b[0m\u001b[0;34m\u001b[0m\u001b[0;34m\u001b[0m\u001b[0m\n\u001b[0;32m----> 2\u001b[0;31m \u001b[0mhtml\u001b[0m \u001b[0;34m=\u001b[0m \u001b[0mlatex\u001b[0m\u001b[0;34m.\u001b[0m\u001b[0mto_html\u001b[0m\u001b[0;34m(\u001b[0m\u001b[0munpack_path\u001b[0m\u001b[0;34m)\u001b[0m\u001b[0;34m\u001b[0m\u001b[0;34m\u001b[0m\u001b[0m\n\u001b[0m",
      "\u001b[0;32m~/anaconda3/envs/axcell/lib/python3.7/site-packages/axcell/helpers/latex_converter.py\u001b[0m in \u001b[0;36mto_html\u001b[0;34m(self, source_dir)\u001b[0m\n\u001b[1;32m     78\u001b[0m             \u001b[0moutput_dir\u001b[0m \u001b[0;34m=\u001b[0m \u001b[0mPath\u001b[0m\u001b[0;34m(\u001b[0m\u001b[0moutput_dir\u001b[0m\u001b[0;34m)\u001b[0m\u001b[0;34m\u001b[0m\u001b[0;34m\u001b[0m\u001b[0m\n\u001b[1;32m     79\u001b[0m             \u001b[0;32mtry\u001b[0m\u001b[0;34m:\u001b[0m\u001b[0;34m\u001b[0m\u001b[0;34m\u001b[0m\u001b[0m\n\u001b[0;32m---> 80\u001b[0;31m                 \u001b[0mself\u001b[0m\u001b[0;34m.\u001b[0m\u001b[0mlatex2html\u001b[0m\u001b[0;34m(\u001b[0m\u001b[0msource_dir\u001b[0m\u001b[0;34m,\u001b[0m \u001b[0moutput_dir\u001b[0m\u001b[0;34m)\u001b[0m\u001b[0;34m\u001b[0m\u001b[0;34m\u001b[0m\u001b[0m\n\u001b[0m\u001b[1;32m     81\u001b[0m                 \u001b[0;32mreturn\u001b[0m \u001b[0mself\u001b[0m\u001b[0;34m.\u001b[0m\u001b[0mclean_html\u001b[0m\u001b[0;34m(\u001b[0m\u001b[0moutput_dir\u001b[0m \u001b[0;34m/\u001b[0m \u001b[0;34m\"index.html\"\u001b[0m\u001b[0;34m)\u001b[0m\u001b[0;34m\u001b[0m\u001b[0;34m\u001b[0m\u001b[0m\n\u001b[1;32m     82\u001b[0m             \u001b[0;32mexcept\u001b[0m \u001b[0mContainerError\u001b[0m \u001b[0;32mas\u001b[0m \u001b[0merr\u001b[0m\u001b[0;34m:\u001b[0m\u001b[0;34m\u001b[0m\u001b[0;34m\u001b[0m\u001b[0m\n",
      "\u001b[0;32m~/anaconda3/envs/axcell/lib/python3.7/site-packages/axcell/helpers/latex_converter.py\u001b[0m in \u001b[0;36mlatex2html\u001b[0;34m(self, source_dir, output_dir, use_named_volumes)\u001b[0m\n\u001b[1;32m     62\u001b[0m         \u001b[0;32mexcept\u001b[0m \u001b[0mContainerError\u001b[0m \u001b[0;32mas\u001b[0m \u001b[0merr\u001b[0m\u001b[0;34m:\u001b[0m\u001b[0;34m\u001b[0m\u001b[0;34m\u001b[0m\u001b[0m\n\u001b[1;32m     63\u001b[0m             \u001b[0;32mif\u001b[0m \u001b[0merr\u001b[0m\u001b[0;34m.\u001b[0m\u001b[0mexit_status\u001b[0m \u001b[0;34m==\u001b[0m \u001b[0mMAGIC_EXIT_ERROR\u001b[0m\u001b[0;34m:\u001b[0m\u001b[0;34m\u001b[0m\u001b[0;34m\u001b[0m\u001b[0m\n\u001b[0;32m---> 64\u001b[0;31m                 \u001b[0;32mraise\u001b[0m \u001b[0mLatexConversionError\u001b[0m\u001b[0;34m(\u001b[0m\u001b[0;34m\"LaTeXML was unable to convert source code of this paper\"\u001b[0m\u001b[0;34m)\u001b[0m\u001b[0;34m\u001b[0m\u001b[0;34m\u001b[0m\u001b[0m\n\u001b[0m\u001b[1;32m     65\u001b[0m             \u001b[0;32mif\u001b[0m \u001b[0;34m\"Unable to find any suitable tex file\"\u001b[0m \u001b[0;32min\u001b[0m \u001b[0merr\u001b[0m\u001b[0;34m.\u001b[0m\u001b[0mstderr\u001b[0m\u001b[0;34m.\u001b[0m\u001b[0mdecode\u001b[0m\u001b[0;34m(\u001b[0m\u001b[0;34m'utf-8'\u001b[0m\u001b[0;34m)\u001b[0m\u001b[0;34m:\u001b[0m\u001b[0;34m\u001b[0m\u001b[0;34m\u001b[0m\u001b[0m\n\u001b[1;32m     66\u001b[0m                 \u001b[0;32mraise\u001b[0m \u001b[0mLatexConversionError\u001b[0m\u001b[0;34m(\u001b[0m\u001b[0;34m\"Unable to find any suitable tex file\"\u001b[0m\u001b[0;34m)\u001b[0m\u001b[0;34m\u001b[0m\u001b[0;34m\u001b[0m\u001b[0m\n",
      "\u001b[0;31mLatexConversionError\u001b[0m: LaTeXML was unable to convert source code of this paper"
     ]
    }
   ],
   "source": [
    "latex = LatexConverter()\n",
    "html = latex.to_html(unpack_path)"
   ]
  },
  {
   "cell_type": "code",
   "execution_count": null,
   "metadata": {},
   "outputs": [],
   "source": [
    "html_path.parent.mkdir(parents=True, exist_ok=True)\n",
    "html_path.write_text(html, 'utf-8')"
   ]
  },
  {
   "cell_type": "code",
   "execution_count": null,
   "metadata": {},
   "outputs": [],
   "source": []
  },
  {
   "cell_type": "code",
   "execution_count": null,
   "metadata": {},
   "outputs": [],
   "source": []
  },
  {
   "cell_type": "code",
   "execution_count": null,
   "metadata": {},
   "outputs": [],
   "source": []
  },
  {
   "cell_type": "code",
   "execution_count": 34,
   "metadata": {},
   "outputs": [
    {
     "data": {
      "text/plain": [
       "'processing-error'"
      ]
     },
     "execution_count": 34,
     "metadata": {},
     "output_type": "execute_result"
    }
   ],
   "source": [
    "extract(SOURCES_PATH / path_split[0] / v[\"arxivId\"])"
   ]
  },
  {
   "cell_type": "code",
   "execution_count": 33,
   "metadata": {},
   "outputs": [],
   "source": [
    "v[\"arxivId\"] = \"1606.00704v3\""
   ]
  },
  {
   "cell_type": "code",
   "execution_count": null,
   "metadata": {},
   "outputs": [],
   "source": []
  },
  {
   "cell_type": "code",
   "execution_count": null,
   "metadata": {},
   "outputs": [],
   "source": []
  },
  {
   "cell_type": "code",
   "execution_count": null,
   "metadata": {},
   "outputs": [],
   "source": []
  },
  {
   "cell_type": "code",
   "execution_count": null,
   "metadata": {},
   "outputs": [],
   "source": []
  },
  {
   "cell_type": "code",
   "execution_count": null,
   "metadata": {},
   "outputs": [],
   "source": []
  },
  {
   "cell_type": "code",
   "execution_count": null,
   "metadata": {},
   "outputs": [],
   "source": []
  },
  {
   "cell_type": "code",
   "execution_count": 48,
   "metadata": {},
   "outputs": [
    {
     "data": {
      "text/plain": [
       "defaultdict(dict, {'2017_B1-Hhnslg': {'tcount': [6, 4, 2, 0]}})"
      ]
     },
     "execution_count": 48,
     "metadata": {},
     "output_type": "execute_result"
    }
   ],
   "source": [
    "leaderboard_table_refs"
   ]
  },
  {
   "cell_type": "code",
   "execution_count": 49,
   "metadata": {},
   "outputs": [
    {
     "data": {
      "text/plain": [
       "defaultdict(dict,\n",
       "            {'2017_B1-Hhnslg': {'refs': [\"<ref id='bib-bib20'>20</ref>\",\n",
       "               \"<ref id='bib-bib36'>36</ref>\"],\n",
       "              'count': 70}})"
      ]
     },
     "execution_count": 49,
     "metadata": {},
     "output_type": "execute_result"
    }
   ],
   "source": [
    "leaderboard_refs"
   ]
  },
  {
   "cell_type": "code",
   "execution_count": 51,
   "metadata": {},
   "outputs": [
    {
     "name": "stdout",
     "output_type": "stream",
     "text": [
      "Error:  name 'c' is not defined\n"
     ]
    }
   ],
   "source": [
    "try:\n",
    "    print(c)\n",
    "except Exception as ex:\n",
    "    print(\"Error: \", ex)"
   ]
  },
  {
   "cell_type": "code",
   "execution_count": null,
   "metadata": {},
   "outputs": [],
   "source": []
  },
  {
   "cell_type": "code",
   "execution_count": null,
   "metadata": {
    "collapsed": true
   },
   "outputs": [],
   "source": []
  },
  {
   "cell_type": "code",
   "execution_count": null,
   "metadata": {},
   "outputs": [],
   "source": []
  },
  {
   "cell_type": "code",
   "execution_count": null,
   "metadata": {},
   "outputs": [],
   "source": []
  },
  {
   "cell_type": "code",
   "execution_count": null,
   "metadata": {},
   "outputs": [],
   "source": []
  },
  {
   "cell_type": "code",
   "execution_count": null,
   "metadata": {},
   "outputs": [],
   "source": []
  },
  {
   "cell_type": "code",
   "execution_count": 46,
   "metadata": {},
   "outputs": [
    {
     "data": {
      "text/plain": [
       "['/home/singh_shruti/workspace/axcell_ws/axcell/axcell/data',\n",
       " '/home/singh_shruti/workspace/axcell_ws/axcell/axcell/scripts',\n",
       " '/home/singh_shruti/workspace/axcell_ws/axcell/axcell/errors.py',\n",
       " '/home/singh_shruti/workspace/axcell_ws/axcell/axcell/pipeline_logger.py',\n",
       " '/home/singh_shruti/workspace/axcell_ws/axcell/axcell/__init__.py',\n",
       " '/home/singh_shruti/workspace/axcell_ws/axcell/axcell/helpers',\n",
       " '/home/singh_shruti/workspace/axcell_ws/axcell/axcell/config.py',\n",
       " '/home/singh_shruti/workspace/axcell_ws/axcell/axcell/mocks',\n",
       " '/home/singh_shruti/workspace/axcell_ws/axcell/axcell/loggers.py',\n",
       " '/home/singh_shruti/workspace/axcell_ws/axcell/axcell/models']"
      ]
     },
     "execution_count": 46,
     "metadata": {},
     "output_type": "execute_result"
    }
   ],
   "source": [
    "glob.glob(\"/home/singh_shruti/workspace/axcell_ws/axcell/*\")"
   ]
  },
  {
   "cell_type": "code",
   "execution_count": null,
   "metadata": {},
   "outputs": [],
   "source": [
    "/home/singh_shruti/workspace/axcell_ws/axcell/axcell/notebooks/data/papers/1703/1703.05175v2/*.csv"
   ]
  },
  {
   "cell_type": "code",
   "execution_count": null,
   "metadata": {},
   "outputs": [],
   "source": []
  },
  {
   "cell_type": "markdown",
   "metadata": {},
   "source": [
    "## Scratch"
   ]
  },
  {
   "cell_type": "code",
   "execution_count": 20,
   "metadata": {},
   "outputs": [
    {
     "name": "stdout",
     "output_type": "stream",
     "text": [
      "SOTA\n",
      "SOTA\n",
      "SOTA\n",
      "ABLATION\n",
      "SOTA\n",
      "ABLATION\n"
     ]
    }
   ],
   "source": [
    "for x in tables_types:\n",
    "    print(x.name)"
   ]
  },
  {
   "cell_type": "code",
   "execution_count": 10,
   "metadata": {},
   "outputs": [
    {
     "data": {
      "text/plain": [
       "6"
      ]
     },
     "execution_count": 10,
     "metadata": {},
     "output_type": "execute_result"
    }
   ],
   "source": [
    "len(paper.tables)"
   ]
  },
  {
   "cell_type": "code",
   "execution_count": 14,
   "metadata": {},
   "outputs": [
    {
     "data": {
      "text/plain": [
       "['__class__', '__doc__', '__module__', 'name', 'value']"
      ]
     },
     "execution_count": 14,
     "metadata": {},
     "output_type": "execute_result"
    }
   ],
   "source": [
    "dir(tables_types[0])"
   ]
  },
  {
   "cell_type": "code",
   "execution_count": 15,
   "metadata": {},
   "outputs": [
    {
     "data": {
      "text/plain": [
       "'SOTA'"
      ]
     },
     "execution_count": 15,
     "metadata": {},
     "output_type": "execute_result"
    }
   ],
   "source": [
    "tables_types[0].name"
   ]
  },
  {
   "cell_type": "code",
   "execution_count": 16,
   "metadata": {},
   "outputs": [
    {
     "data": {
      "text/plain": [
       "0"
      ]
     },
     "execution_count": 16,
     "metadata": {},
     "output_type": "execute_result"
    }
   ],
   "source": [
    "tables_types[0].value"
   ]
  },
  {
   "cell_type": "code",
   "execution_count": 17,
   "metadata": {},
   "outputs": [
    {
     "data": {
      "text/plain": [
       "(<enum 'TableType'>, 'An enumeration.')"
      ]
     },
     "execution_count": 17,
     "metadata": {},
     "output_type": "execute_result"
    }
   ],
   "source": [
    "tables_types[0].__class__, tables_types[0].__doc__"
   ]
  },
  {
   "cell_type": "code",
   "execution_count": 18,
   "metadata": {},
   "outputs": [
    {
     "data": {
      "text/plain": [
       "True"
      ]
     },
     "execution_count": 18,
     "metadata": {},
     "output_type": "execute_result"
    }
   ],
   "source": [
    "paper.tables[0].gold_tags == \"\""
   ]
  },
  {
   "cell_type": "code",
   "execution_count": 21,
   "metadata": {},
   "outputs": [
    {
     "data": {
      "text/plain": [
       "'leaderboard'"
      ]
     },
     "execution_count": 21,
     "metadata": {},
     "output_type": "execute_result"
    }
   ],
   "source": [
    "table_labels[TableType.SOTA]"
   ]
  },
  {
   "cell_type": "code",
   "execution_count": null,
   "metadata": {},
   "outputs": [],
   "source": []
  },
  {
   "cell_type": "code",
   "execution_count": 24,
   "metadata": {},
   "outputs": [
    {
     "data": {
      "text/plain": [
       "'02'"
      ]
     },
     "execution_count": 24,
     "metadata": {},
     "output_type": "execute_result"
    }
   ],
   "source": [
    "idx = 2\n",
    "\"{:02d}\".format(idx)"
   ]
  },
  {
   "cell_type": "code",
   "execution_count": 53,
   "metadata": {},
   "outputs": [
    {
     "name": "stdout",
     "output_type": "stream",
     "text": [
      "[]\n"
     ]
    }
   ],
   "source": [
    "t = \"ResNet-50,Encoding [<ref id='bib-bib36'>36</ref>],FPN [<ref id='bib-bib20'>20</ref>],37.87\"\n",
    "m = re.findall(\"<ref id=[0-9a-zA-Z'-]*>[0-9]*</ref>\", t)\n",
    "print(m)"
   ]
  },
  {
   "cell_type": "code",
   "execution_count": 31,
   "metadata": {},
   "outputs": [
    {
     "data": {
      "text/plain": [
       "\"<ref id='bib-bib36'>36</ref>\""
      ]
     },
     "execution_count": 31,
     "metadata": {},
     "output_type": "execute_result"
    }
   ],
   "source": [
    "m[0]"
   ]
  },
  {
   "cell_type": "code",
   "execution_count": null,
   "metadata": {},
   "outputs": [],
   "source": []
  },
  {
   "cell_type": "code",
   "execution_count": null,
   "metadata": {},
   "outputs": [],
   "source": []
  },
  {
   "cell_type": "code",
   "execution_count": null,
   "metadata": {},
   "outputs": [],
   "source": []
  },
  {
   "cell_type": "code",
   "execution_count": null,
   "metadata": {},
   "outputs": [],
   "source": []
  },
  {
   "cell_type": "code",
   "execution_count": null,
   "metadata": {},
   "outputs": [],
   "source": []
  },
  {
   "cell_type": "code",
   "execution_count": null,
   "metadata": {},
   "outputs": [],
   "source": []
  },
  {
   "cell_type": "code",
   "execution_count": null,
   "metadata": {},
   "outputs": [],
   "source": []
  },
  {
   "cell_type": "markdown",
   "metadata": {},
   "source": [
    "In our case there's a single e-print archive:"
   ]
  },
  {
   "cell_type": "code",
   "execution_count": null,
   "metadata": {},
   "outputs": [],
   "source": [
    "#!tree {ROOT_PATH}"
   ]
  },
  {
   "cell_type": "code",
   "execution_count": null,
   "metadata": {},
   "outputs": [],
   "source": [
    "extract = PaperExtractor(ROOT_PATH)"
   ]
  },
  {
   "cell_type": "markdown",
   "metadata": {},
   "source": [
    "To extract text and tables from a single paper just pass the path to the archive:"
   ]
  },
  {
   "cell_type": "code",
   "execution_count": null,
   "metadata": {},
   "outputs": [],
   "source": [
    "SOURCES_PATH = ROOT_PATH / 'sources'\n",
    "extract(SOURCES_PATH / '1903' / '1903.11816v1')"
   ]
  },
  {
   "cell_type": "code",
   "execution_count": null,
   "metadata": {},
   "outputs": [],
   "source": [
    "SOURCES_PATH = ROOT_PATH / 'sources'\n",
    "extract(SOURCES_PATH / '1611' / '1611.02200')"
   ]
  },
  {
   "cell_type": "code",
   "execution_count": null,
   "metadata": {},
   "outputs": [],
   "source": [
    "!tree -L 4 {ROOT_PATH}"
   ]
  },
  {
   "cell_type": "markdown",
   "metadata": {},
   "source": [
    "The subdirectory structure under `sources` directory will be replicated in the other top-level directories."
   ]
  },
  {
   "cell_type": "code",
   "execution_count": null,
   "metadata": {},
   "outputs": [],
   "source": [
    "!tree -L 4 {ROOT_PATH}"
   ]
  },
  {
   "cell_type": "markdown",
   "metadata": {},
   "source": [
    "The extracted data is stored in `papers` directory. We can read it using `PaperCollection` class. `PaperCollection` is a wrapper for `list` of papers with additional functions added for convenience. Due to large number of papers it is recommended to load the dataset in parallel (default uses number of processes equal to number of CPU cores) and store it in a pickle file. Set jobs=1 to disable multiprocessing."
   ]
  },
  {
   "cell_type": "code",
   "execution_count": null,
   "metadata": {},
   "outputs": [],
   "source": [
    "from axcell.data.paper_collection import PaperCollection\n",
    "\n",
    "PAPERS_PATH = ROOT_PATH / 'papers'\n",
    "pc = PaperCollection.from_files(PAPERS_PATH)\n",
    "# pc.to_pickle('mypapers.pkl')\n",
    "# pc = PaperCollection.from_pickle('mypapers.pkl')"
   ]
  },
  {
   "cell_type": "code",
   "execution_count": null,
   "metadata": {},
   "outputs": [],
   "source": [
    "paper = pc.get_by_id('1903.11816v1')"
   ]
  },
  {
   "cell_type": "code",
   "execution_count": null,
   "metadata": {},
   "outputs": [],
   "source": [
    "paper.text.title"
   ]
  },
  {
   "cell_type": "code",
   "execution_count": null,
   "metadata": {},
   "outputs": [],
   "source": [
    "paper.tables[0]\n",
    "# print(paper.tables[2])"
   ]
  },
  {
   "cell_type": "code",
   "execution_count": null,
   "metadata": {},
   "outputs": [],
   "source": [
    "# from pprint import pprint\n",
    "paper.tables[0].__dict__[\"df\"][0][:].iloc[1]\n",
    "# , paper.tables[0].__dict__[\"df\"][1][:])"
   ]
  },
  {
   "cell_type": "code",
   "execution_count": null,
   "metadata": {},
   "outputs": [],
   "source": [
    "paper.tables[0].__dict__[\"df\"][0][:], paper.tables[0].__dict__[\"df\"][1][:]"
   ]
  },
  {
   "cell_type": "code",
   "execution_count": null,
   "metadata": {},
   "outputs": [],
   "source": [
    "paper.tables[1]"
   ]
  },
  {
   "cell_type": "code",
   "execution_count": null,
   "metadata": {},
   "outputs": [],
   "source": [
    "[i.value for i in paper.tables[1].__dict__[\"df\"][0][:]]"
   ]
  },
  {
   "cell_type": "code",
   "execution_count": null,
   "metadata": {},
   "outputs": [],
   "source": [
    "paper.tables[0]"
   ]
  },
  {
   "cell_type": "code",
   "execution_count": null,
   "metadata": {},
   "outputs": [],
   "source": [
    "paper.tables[4].__dict__[\"df\"]"
   ]
  },
  {
   "cell_type": "markdown",
   "metadata": {},
   "source": [
    "As *FastFCN: Rethinking Dilated Convolution in the Backbone for Semantic Segmentation* (Wu et al., 2019) is present in our **SegmentedTables** dataset, we can use `PaperCollection` to import annotations (table segmentation and results):"
   ]
  },
  {
   "cell_type": "code",
   "execution_count": null,
   "metadata": {},
   "outputs": [],
   "source": [
    "from axcell.helpers.datasets import read_tables_annotations\n",
    "\n",
    "V1_URL = 'https://github.com/paperswithcode/axcell/releases/download/v1.0/'\n",
    "SEGMENTED_TABLES_URL = V1_URL + 'segmented-tables.json.xz'\n",
    "\n",
    "segmented_tables = read_tables_annotations(SEGMENTED_TABLES_URL)\n",
    "\n",
    "pc = PaperCollection.from_files(PAPERS_PATH, annotations=segmented_tables.to_dict('record'))"
   ]
  },
  {
   "cell_type": "code",
   "execution_count": null,
   "metadata": {},
   "outputs": [],
   "source": [
    "paper = pc.get_by_id('1903.11816')\n",
    "paper.tables[4]"
   ]
  },
  {
   "cell_type": "code",
   "execution_count": null,
   "metadata": {},
   "outputs": [],
   "source": [
    "pc.cells_gold_tags_legend()"
   ]
  },
  {
   "cell_type": "code",
   "execution_count": null,
   "metadata": {},
   "outputs": [],
   "source": [
    "paper.tables[4].sota_records"
   ]
  },
  {
   "cell_type": "markdown",
   "metadata": {},
   "source": [
    "## Parallel Extraction\n",
    "\n",
    "For a single paper extraction can take from several seconds to a few minutes (the longest phase of converting LaTeX source into HTML is timed-out after 5 minutes), so to process multiple files we run extraction in parallel."
   ]
  },
  {
   "cell_type": "code",
   "execution_count": null,
   "metadata": {},
   "outputs": [],
   "source": [
    "%%time\n",
    "\n",
    "from joblib import delayed, Parallel\n",
    "\n",
    "# access extract from the global context to avoid serialization\n",
    "def extract_single(file): return extract(file)\n",
    "\n",
    "files = sorted([path for path in SOURCES_PATH.glob('**/*') if path.is_file()])\n",
    "\n",
    "statuses = Parallel(backend='multiprocessing', n_jobs=-1)(delayed(extract_single)(file) for file in files)"
   ]
  }
 ],
 "metadata": {
  "kernelspec": {
   "display_name": "Python [conda env:axcell] *",
   "language": "python",
   "name": "conda-env-axcell-py"
  },
  "language_info": {
   "codemirror_mode": {
    "name": "ipython",
    "version": 3
   },
   "file_extension": ".py",
   "mimetype": "text/x-python",
   "name": "python",
   "nbconvert_exporter": "python",
   "pygments_lexer": "ipython3",
   "version": "3.7.1"
  }
 },
 "nbformat": 4,
 "nbformat_minor": 2
}
