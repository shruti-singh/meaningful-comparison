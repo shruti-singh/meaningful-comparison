{
 "cells": [
  {
   "cell_type": "code",
   "execution_count": 133,
   "metadata": {},
   "outputs": [],
   "source": [
    "# File utils\n",
    "import json\n",
    "import pickle\n",
    "import glob\n",
    "\n",
    "# Preprocessing utils\n",
    "import unidecode\n",
    "import re\n",
    "from collections import defaultdict\n",
    "import editdistance\n",
    "\n",
    "# Debugging\n",
    "from IPython.core.debugger import Tracer"
   ]
  },
  {
   "cell_type": "code",
   "execution_count": 132,
   "metadata": {},
   "outputs": [
    {
     "name": "stdout",
     "output_type": "stream",
     "text": [
      "Collecting editdistance\n",
      "  Using cached editdistance-0.5.3-cp37-cp37m-manylinux1_x86_64.whl (179 kB)\n",
      "Installing collected packages: editdistance\n",
      "Successfully installed editdistance-0.5.3\n"
     ]
    }
   ],
   "source": [
    "!pip install editdistance"
   ]
  },
  {
   "cell_type": "code",
   "execution_count": 3,
   "metadata": {},
   "outputs": [],
   "source": [
    "from axcell.helpers.datasets import read_arxiv_papers"
   ]
  },
  {
   "cell_type": "code",
   "execution_count": null,
   "metadata": {},
   "outputs": [],
   "source": []
  },
  {
   "cell_type": "markdown",
   "metadata": {},
   "source": [
    "# Read all paper titles and create a hashtable"
   ]
  },
  {
   "cell_type": "markdown",
   "metadata": {},
   "source": [
    "##### a. Read axcell paper data"
   ]
  },
  {
   "cell_type": "code",
   "execution_count": 4,
   "metadata": {},
   "outputs": [
    {
     "data": {
      "text/html": [
       "<div>\n",
       "<style scoped>\n",
       "    .dataframe tbody tr th:only-of-type {\n",
       "        vertical-align: middle;\n",
       "    }\n",
       "\n",
       "    .dataframe tbody tr th {\n",
       "        vertical-align: top;\n",
       "    }\n",
       "\n",
       "    .dataframe thead th {\n",
       "        text-align: right;\n",
       "    }\n",
       "</style>\n",
       "<table border=\"1\" class=\"dataframe\">\n",
       "  <thead>\n",
       "    <tr style=\"text-align: right;\">\n",
       "      <th></th>\n",
       "      <th>arxiv_id</th>\n",
       "      <th>archive_size</th>\n",
       "      <th>sha256</th>\n",
       "      <th>title</th>\n",
       "      <th>sections</th>\n",
       "      <th>tables</th>\n",
       "      <th>status</th>\n",
       "    </tr>\n",
       "  </thead>\n",
       "  <tbody>\n",
       "    <tr>\n",
       "      <th>0</th>\n",
       "      <td>0704.0004v1</td>\n",
       "      <td>9486</td>\n",
       "      <td>83b5c83d0963d796ed61fae5ed47cac55d2c942d41e03f...</td>\n",
       "      <td>A determinant of Stirling cycle numbers counts...</td>\n",
       "      <td>1</td>\n",
       "      <td>0</td>\n",
       "      <td>success</td>\n",
       "    </tr>\n",
       "    <tr>\n",
       "      <th>1</th>\n",
       "      <td>0704.0010v1</td>\n",
       "      <td>45695</td>\n",
       "      <td>6dd40a2af3e336e0a8e94a5a20a1075819af829f1fcef7...</td>\n",
       "      <td>Partial cubes: structures, characterizations, ...</td>\n",
       "      <td>0</td>\n",
       "      <td>0</td>\n",
       "      <td>no-tex</td>\n",
       "    </tr>\n",
       "  </tbody>\n",
       "</table>\n",
       "</div>"
      ],
      "text/plain": [
       "      arxiv_id  archive_size  \\\n",
       "0  0704.0004v1          9486   \n",
       "1  0704.0010v1         45695   \n",
       "\n",
       "                                              sha256  \\\n",
       "0  83b5c83d0963d796ed61fae5ed47cac55d2c942d41e03f...   \n",
       "1  6dd40a2af3e336e0a8e94a5a20a1075819af829f1fcef7...   \n",
       "\n",
       "                                               title  sections  tables  \\\n",
       "0  A determinant of Stirling cycle numbers counts...         1       0   \n",
       "1  Partial cubes: structures, characterizations, ...         0       0   \n",
       "\n",
       "    status  \n",
       "0  success  \n",
       "1   no-tex  "
      ]
     },
     "execution_count": 4,
     "metadata": {},
     "output_type": "execute_result"
    }
   ],
   "source": [
    "arxiv_axcell = read_arxiv_papers(\"../../data/arxiv-papers.csv.xz\")\n",
    "arxiv_axcell.head(2)"
   ]
  },
  {
   "cell_type": "code",
   "execution_count": 5,
   "metadata": {},
   "outputs": [],
   "source": [
    "yearwise_axcell = defaultdict(int)\n",
    "\n",
    "for aid in arxiv_axcell[\"arxiv_id\"]:\n",
    "    yearwise_axcell[aid[0:2]] += 1"
   ]
  },
  {
   "cell_type": "code",
   "execution_count": 6,
   "metadata": {},
   "outputs": [
    {
     "data": {
      "text/plain": [
       "defaultdict(int,\n",
       "            {'07': 48,\n",
       "             '08': 87,\n",
       "             '09': 122,\n",
       "             '10': 189,\n",
       "             '11': 298,\n",
       "             '12': 652,\n",
       "             '13': 3575,\n",
       "             '14': 5193,\n",
       "             '15': 6975,\n",
       "             '16': 10845,\n",
       "             '17': 16177,\n",
       "             '18': 24760,\n",
       "             '19': 35144,\n",
       "             '20': 645})"
      ]
     },
     "execution_count": 6,
     "metadata": {},
     "output_type": "execute_result"
    }
   ],
   "source": [
    "yearwise_axcell"
   ]
  },
  {
   "cell_type": "markdown",
   "metadata": {},
   "source": [
    "##### b. Read full arxiv data from the ECIR leaderboard paper "
   ]
  },
  {
   "cell_type": "code",
   "execution_count": 7,
   "metadata": {},
   "outputs": [],
   "source": [
    "with open(\"/home/singh_shruti/data/arxiv/All_Title_Dump.json\", \"r\") as f:\n",
    "    arxiv_ecir = json.load(f)"
   ]
  },
  {
   "cell_type": "code",
   "execution_count": 8,
   "metadata": {},
   "outputs": [
    {
     "name": "stdout",
     "output_type": "stream",
     "text": [
      "1152195 [('1405.1888', 'One positive and two negative results for derived categories of\\n  algebraic stacks'), ('nucl-th_0512069', 'Helicity amplitudes and electromagnetic decays of strange baryon\\n  resonances')]\n"
     ]
    }
   ],
   "source": [
    "print(len(arxiv_ecir), list(arxiv_ecir.items())[0:2])"
   ]
  },
  {
   "cell_type": "code",
   "execution_count": 9,
   "metadata": {},
   "outputs": [],
   "source": [
    "yearwise_ecir = defaultdict(int)\n",
    "\n",
    "for aid in arxiv_ecir:\n",
    "    yearwise_ecir[aid[0:2]] += 1"
   ]
  },
  {
   "cell_type": "code",
   "execution_count": 10,
   "metadata": {},
   "outputs": [
    {
     "data": {
      "text/plain": [
       "['1405.1888', 'nucl-th_0512069', '1504.05139', '1504.05138', '1112.0655']"
      ]
     },
     "execution_count": 10,
     "metadata": {},
     "output_type": "execute_result"
    }
   ],
   "source": [
    "list(arxiv_ecir.keys())[0:5]"
   ]
  },
  {
   "cell_type": "code",
   "execution_count": 11,
   "metadata": {},
   "outputs": [
    {
     "data": {
      "text/plain": [
       "[('07', 30196),\n",
       " ('08', 43896),\n",
       " ('09', 59045),\n",
       " ('10', 62827),\n",
       " ('11', 67544),\n",
       " ('12', 75470),\n",
       " ('13', 81528),\n",
       " ('14', 83613),\n",
       " ('15', 89883),\n",
       " ('16', 97725),\n",
       " ('17', 107288),\n",
       " ('18', 34326),\n",
       " ('ac', 2),\n",
       " ('ad', 304),\n",
       " ('al', 1164),\n",
       " ('ao', 13),\n",
       " ('as', 34667),\n",
       " ('at', 67),\n",
       " ('ba', 11),\n",
       " ('ch', 1881),\n",
       " ('cm', 892),\n",
       " ('co', 67679),\n",
       " ('cs', 7090),\n",
       " ('dg', 543),\n",
       " ('fu', 257),\n",
       " ('gr', 16048),\n",
       " ('he', 77200),\n",
       " ('ma', 53208),\n",
       " ('mt', 151),\n",
       " ('nl', 5175),\n",
       " ('nu', 14511),\n",
       " ('pa', 440),\n",
       " ('ph', 15248),\n",
       " ('pl', 28),\n",
       " ('q-', 3120),\n",
       " ('qu', 18320),\n",
       " ('so', 767),\n",
       " ('su', 68)]"
      ]
     },
     "execution_count": 11,
     "metadata": {},
     "output_type": "execute_result"
    }
   ],
   "source": [
    "sorted(yearwise_ecir.items(), key=lambda x: x[0])"
   ]
  },
  {
   "cell_type": "markdown",
   "metadata": {},
   "source": [
    "##### c. Collate both data"
   ]
  },
  {
   "cell_type": "markdown",
   "metadata": {},
   "source": [
    "Steps:\n",
    "1. Decode all accented chars from title\n",
    "2. Clean all non alpha-numeric chars from the title\n",
    "3. Collate titles from both dataset and add both ids"
   ]
  },
  {
   "cell_type": "code",
   "execution_count": null,
   "metadata": {},
   "outputs": [],
   "source": []
  },
  {
   "cell_type": "code",
   "execution_count": 385,
   "metadata": {},
   "outputs": [],
   "source": [
    "paper_id_titles = defaultdict(list)\n",
    "\n",
    "for aid, title in arxiv_ecir.items():\n",
    "    title_lower = title.lower()\n",
    "    unaccented_title = unidecode.unidecode(title_lower)\n",
    "    clean_title = re.sub('[\\W_]', '', unaccented_title)\n",
    "    \n",
    "    if clean_title:\n",
    "        paper_id_titles[clean_title].append(\"e_\" + aid)\n",
    "    else:\n",
    "        print(title)\n",
    "\n",
    "for entry in arxiv_axcell[[\"arxiv_id\", \"title\"]].iterrows():\n",
    "    aid = entry[1].arxiv_id\n",
    "    title_lower = entry[1].title.lower()\n",
    "    \n",
    "    unaccented_title = unidecode.unidecode(title_lower)\n",
    "    clean_title = re.sub('[\\W_]', '', unaccented_title)\n",
    "    \n",
    "    if clean_title:\n",
    "        paper_id_titles[clean_title].append(\"a_\" + aid)\n",
    "    else:\n",
    "        print(title)"
   ]
  },
  {
   "cell_type": "code",
   "execution_count": 386,
   "metadata": {},
   "outputs": [],
   "source": [
    "paper_global_id_dict = {}\n",
    "\n",
    "for seqid, k in enumerate(paper_id_titles):\n",
    "    paper_global_id_dict[k] = seqid"
   ]
  },
  {
   "cell_type": "code",
   "execution_count": null,
   "metadata": {},
   "outputs": [],
   "source": []
  },
  {
   "cell_type": "code",
   "execution_count": null,
   "metadata": {},
   "outputs": [],
   "source": []
  },
  {
   "cell_type": "code",
   "execution_count": 391,
   "metadata": {},
   "outputs": [],
   "source": [
    "with open(\"IMP_paper_global_id_dict.pkl\", \"wb\") as f:\n",
    "    pickle.dump(paper_global_id_dict, f)\n",
    "\n",
    "with open(\"IMP_paper_id_titles.pkl\", \"wb\") as f:\n",
    "    pickle.dump(paper_id_titles, f)"
   ]
  },
  {
   "cell_type": "code",
   "execution_count": null,
   "metadata": {},
   "outputs": [],
   "source": []
  },
  {
   "cell_type": "code",
   "execution_count": 387,
   "metadata": {},
   "outputs": [
    {
     "data": {
      "text/plain": [
       "(1205268, 1205268)"
      ]
     },
     "execution_count": 387,
     "metadata": {},
     "output_type": "execute_result"
    }
   ],
   "source": [
    "#latest after lowercasing titles which I catastrophically forgot to do :/\n",
    "len(paper_id_titles), len(paper_global_id_dict)"
   ]
  },
  {
   "cell_type": "code",
   "execution_count": 388,
   "metadata": {},
   "outputs": [
    {
     "data": {
      "text/plain": [
       "(1205268, 1205268)"
      ]
     },
     "execution_count": 388,
     "metadata": {},
     "output_type": "execute_result"
    }
   ],
   "source": [
    "len(paper_id_titles), len(paper_global_id_dict)"
   ]
  },
  {
   "cell_type": "code",
   "execution_count": 389,
   "metadata": {},
   "outputs": [
    {
     "name": "stdout",
     "output_type": "stream",
     "text": [
      "Duplicate counts:\n",
      "ECIR: 2817\n",
      "AXCELL:256\n"
     ]
    }
   ],
   "source": [
    "ecir_dups = 0\n",
    "axcell_dups = 0\n",
    "\n",
    "for compressed_title, id_list in paper_id_titles.items():\n",
    "    if len(id_list) > 1:\n",
    "        \n",
    "        dups_e = list(filter(lambda x: x.startswith('e_'), id_list))\n",
    "        if dups_e and len(dups_e) > 1:\n",
    "            ecir_dups +=1\n",
    "            #print(compressed_title, id_list, arxiv_ecir[dups_e[0][2:]], arxiv_ecir[dups_e[1][2:]])\n",
    "        \n",
    "        dups_a = list(filter(lambda x: x.startswith('a_'), id_list))\n",
    "        if dups_a and len(dups_a) > 1:\n",
    "            axcell_dups +=1\n",
    "        \n",
    "print(\"Duplicate counts:\\nECIR: {}\\nAXCELL:{}\".format(ecir_dups, axcell_dups))"
   ]
  },
  {
   "cell_type": "code",
   "execution_count": null,
   "metadata": {},
   "outputs": [],
   "source": []
  },
  {
   "cell_type": "code",
   "execution_count": 99,
   "metadata": {},
   "outputs": [
    {
     "name": "stdout",
     "output_type": "stream",
     "text": [
      "170\n"
     ]
    }
   ],
   "source": [
    "s=0\n",
    "for i in ttttt:\n",
    "#     if \"count\" in ttttt[i] and ttttt[i][\"count\"] > 0:\n",
    "#         s += 1\n",
    "    if \"refs\" in ttttt[i] and \"abl\" in ttttt[i][\"refs\"] and ttttt[i][\"refs\"][\"abl\"]:\n",
    "        s+=1\n",
    "print(s)"
   ]
  },
  {
   "cell_type": "code",
   "execution_count": null,
   "metadata": {},
   "outputs": [],
   "source": []
  },
  {
   "cell_type": "code",
   "execution_count": null,
   "metadata": {},
   "outputs": [],
   "source": []
  },
  {
   "cell_type": "code",
   "execution_count": null,
   "metadata": {},
   "outputs": [],
   "source": []
  },
  {
   "cell_type": "markdown",
   "metadata": {},
   "source": [
    "# Read the 3-way split refs data"
   ]
  },
  {
   "cell_type": "markdown",
   "metadata": {},
   "source": [
    "##### a. SPLIT_1: Table cell refs"
   ]
  },
  {
   "cell_type": "code",
   "execution_count": 15,
   "metadata": {},
   "outputs": [],
   "source": [
    "with open(\"leaderboard_table_refs.pkl\", \"rb\") as f:\n",
    "    leaderboard_table_refs = pickle.load(f)"
   ]
  },
  {
   "cell_type": "code",
   "execution_count": 190,
   "metadata": {},
   "outputs": [],
   "source": [
    "with open(\"new_leaderboard_refs.pkl\", \"rb\") as f:\n",
    "    leaderboard_refs = pickle.load(f)"
   ]
  },
  {
   "cell_type": "code",
   "execution_count": 17,
   "metadata": {},
   "outputs": [],
   "source": [
    "with open(\"TABLE_Label_predicted.pkl\", \"rb\") as f:\n",
    "    collated_table_labels = pickle.load(f)"
   ]
  },
  {
   "cell_type": "code",
   "execution_count": 18,
   "metadata": {},
   "outputs": [
    {
     "data": {
      "text/plain": [
       "1988"
      ]
     },
     "execution_count": 18,
     "metadata": {},
     "output_type": "execute_result"
    }
   ],
   "source": [
    "len(leaderboard_table_refs)"
   ]
  },
  {
   "cell_type": "code",
   "execution_count": null,
   "metadata": {},
   "outputs": [],
   "source": []
  },
  {
   "cell_type": "code",
   "execution_count": null,
   "metadata": {},
   "outputs": [],
   "source": []
  },
  {
   "cell_type": "markdown",
   "metadata": {},
   "source": [
    "##### b. SPLIT_2: Table caption refs"
   ]
  },
  {
   "cell_type": "code",
   "execution_count": 19,
   "metadata": {},
   "outputs": [],
   "source": [
    "with open(\"refs_table_captions.pkl\", \"rb\") as f:\n",
    "    table_caption_refs = pickle.load(f)"
   ]
  },
  {
   "cell_type": "code",
   "execution_count": null,
   "metadata": {},
   "outputs": [],
   "source": []
  },
  {
   "cell_type": "code",
   "execution_count": null,
   "metadata": {},
   "outputs": [],
   "source": []
  },
  {
   "cell_type": "markdown",
   "metadata": {},
   "source": [
    "##### c. SPLIT_3: Full text refs"
   ]
  },
  {
   "cell_type": "code",
   "execution_count": 296,
   "metadata": {},
   "outputs": [],
   "source": [
    "with open(\"refs_full_text.pkl\", \"rb\") as f:\n",
    "    full_text_refs_dict = pickle.load(f)"
   ]
  },
  {
   "cell_type": "code",
   "execution_count": null,
   "metadata": {},
   "outputs": [],
   "source": []
  },
  {
   "cell_type": "code",
   "execution_count": null,
   "metadata": {},
   "outputs": [],
   "source": []
  },
  {
   "cell_type": "markdown",
   "metadata": {},
   "source": [
    "# Analyse refs and papers loaded from 3 sources"
   ]
  },
  {
   "cell_type": "code",
   "execution_count": 293,
   "metadata": {},
   "outputs": [
    {
     "name": "stdout",
     "output_type": "stream",
     "text": [
      "2017_B1-Hhnslg {'refs': {'ldb': [\"<ref id='bib-bib17'>2016</ref>\", \"<ref id='bib-bib1'>2013</ref>\", \"<ref id='bib-bib23'>2016</ref>\", \"<ref id='bib-bib29'>2016</ref>\", \"<ref id='bib-bib2'>2015</ref>\", \"<ref id='bib-bib22'>2017</ref>\", \"<ref id='bib-bib6'>2017</ref>\"], 'abl': []}, 'count': 12}\n",
      "\n",
      " 1718\n",
      "419 1299\n"
     ]
    }
   ],
   "source": [
    "for k,v in leaderboard_refs.items():\n",
    "    print(k, v)\n",
    "    break\n",
    "\n",
    "table_cell_refs_keys = list(leaderboard_refs.keys())\n",
    "print(\"\\n\", len(table_cell_refs_keys))\n",
    "\n",
    "non_zero = 0\n",
    "for k,v in leaderboard_refs.items():\n",
    "    if v[\"count\"] > 0:\n",
    "        non_zero += 1\n",
    "print(non_zero, len(table_cell_refs_keys)-non_zero)"
   ]
  },
  {
   "cell_type": "code",
   "execution_count": 297,
   "metadata": {},
   "outputs": [
    {
     "name": "stdout",
     "output_type": "stream",
     "text": [
      "2017_SJDaqqveg [(1, 'Table 2: Our IWSLT 2014 machine translation results with a convolutional encoder compared to the previous work by Ranzato et al. Please see 1 for an explanation of abbreviations. The asterisk identifies results from (Ranzato et\\xa0al., 2015). The numbers reported with ≤ were approximately read from Figure 6 of (Ranzato et\\xa0al., 2015)')]\n",
      "\n",
      " 45\n"
     ]
    }
   ],
   "source": [
    "for k,v in table_caption_refs.items():\n",
    "    print(k, v)\n",
    "    break\n",
    "    \n",
    "table_cap_refs_keys = list(table_caption_refs.keys())\n",
    "print(\"\\n\", len(table_cap_refs_keys))"
   ]
  },
  {
   "cell_type": "code",
   "execution_count": 298,
   "metadata": {},
   "outputs": [
    {
     "name": "stdout",
     "output_type": "stream",
     "text": [
      "2017_B1-q5Pqxl ['on the development data and that outperformed the DCR model~\\\\citep{Yu2015rank:arxiv}, which also introd', ' on the development data and that outperformed the DCR model~\\\\citep{Yu2015rank:arxiv}, which also introdu']\n",
      "\n",
      " 1088\n"
     ]
    }
   ],
   "source": [
    "for k,v in full_text_refs_dict.items():\n",
    "    print(k, v[0:12])\n",
    "    break\n",
    "    \n",
    "ft_refs_keys = list(full_text_refs_dict.keys())\n",
    "print(\"\\n\", len(ft_refs_keys))"
   ]
  },
  {
   "cell_type": "code",
   "execution_count": null,
   "metadata": {},
   "outputs": [],
   "source": []
  },
  {
   "cell_type": "code",
   "execution_count": 291,
   "metadata": {},
   "outputs": [
    {
     "data": {
      "text/plain": [
       "1136"
      ]
     },
     "execution_count": 291,
     "metadata": {},
     "output_type": "execute_result"
    }
   ],
   "source": [
    "len(set(table_cell_refs_keys).intersection(set(ft_refs_keys)))"
   ]
  },
  {
   "cell_type": "code",
   "execution_count": null,
   "metadata": {},
   "outputs": [],
   "source": []
  },
  {
   "cell_type": "code",
   "execution_count": null,
   "metadata": {},
   "outputs": [],
   "source": []
  },
  {
   "cell_type": "markdown",
   "metadata": {},
   "source": [
    "# Read all references of 2504 papers"
   ]
  },
  {
   "cell_type": "code",
   "execution_count": null,
   "metadata": {},
   "outputs": [],
   "source": []
  },
  {
   "cell_type": "code",
   "execution_count": 22,
   "metadata": {},
   "outputs": [],
   "source": [
    "with open(\"/home/singh_shruti/workspace/PaperAcceptancePrediction/shruti/features/iclr_arxiv_map.pkl\", \"rb\") as f:\n",
    "    iclr_arxiv_map = pickle.load(f)"
   ]
  },
  {
   "cell_type": "code",
   "execution_count": 348,
   "metadata": {},
   "outputs": [],
   "source": [
    "bbl_absent = []\n",
    "bbl_multiple = []\n",
    "bbl_unique = []\n",
    "not_bib = []\n",
    "\n",
    "exceptions_ids = []\n",
    "\n",
    "paper_bbl_dict = {}"
   ]
  },
  {
   "cell_type": "code",
   "execution_count": 349,
   "metadata": {},
   "outputs": [],
   "source": [
    "# DO THIS WITH CAUTION: THIS WILL REQUIRE THE TITLS TO BE DISAMBIGUATED AGAIN WHICH TAKES AROUND 4-5 HOURS\n",
    "\n",
    "for k in leaderboard_table_refs:\n",
    "    arxivid = iclr_arxiv_map[k][\"arxivId\"]\n",
    "    \n",
    "    dir_name = arxivid.split(\".\")[0]\n",
    "    \n",
    "    # Read the bbl file to extract references\n",
    "    potential_bbl_files = glob.glob(\"./data/unpacked_sources/{}/{}/*.bbl\".format(dir_name, arxivid))\n",
    "    all_tex_in_dir_for_multiple_bbl = potential_bbl_files = glob.glob(\"./data/unpacked_sources/{}/{}/*.tex\".format(dir_name, arxivid))\n",
    "\n",
    "    if len(potential_bbl_files) >= 1:\n",
    "        \n",
    "        annotate_seq = False\n",
    "        bib_item_seq_number = None\n",
    "        \n",
    "        if len(potential_bbl_files) > 1:\n",
    "#             read_texts_bib_all = []\n",
    "            \n",
    "#             NEW_potential_bbl_files = []\n",
    "#             for bbbbbb in potential_bbl_files:\n",
    "#                 only_first_name = bbbbbb.replace(\".bbl\", \".tex\")\n",
    "#                 if only_first_name in all_tex_in_dir_for_multiple_bbl:\n",
    "#                     NEW_potential_bbl_files.append(bbbbbb)\n",
    "#             potential_bbl_files = NEW_potential_bbl_files\n",
    "            \n",
    "            for bbbbbb in potential_bbl_files:\n",
    "                with open(bibfileiter, \"r\", errors=\"ignore\") as f:\n",
    "                    read_texts_bib_all.append(f.read())\n",
    "            same_text = False\n",
    "            for iter_, text_iter in enumerate(read_texts_bib_all):\n",
    "                if iter_ < len(read_texts_bib_all)-1:\n",
    "                    if text_iter.lower() == read_texts_bib_all[iter_+1].lower():\n",
    "                        same_text = True\n",
    "                    else:\n",
    "                        same_text = False\n",
    "                        break\n",
    "                else:\n",
    "                    break\n",
    "            if same_text:\n",
    "                potential_bbl_files = [potential_bbl_files[0]]\n",
    "        \n",
    "        \n",
    "        if len(potential_bbl_files) == 1:\n",
    "            annotate_seq = True\n",
    "            bib_item_seq_number = 1\n",
    "        \n",
    "        try:\n",
    "            paper_bibitems = {}\n",
    "            \n",
    "            for bibfileiter in potential_bbl_files:\n",
    "                with open(bibfileiter, \"r\", errors=\"ignore\") as f:\n",
    "                    lines = f.readlines()\n",
    "                \n",
    "                bibitem = []\n",
    "                start_looking = True\n",
    "                start_appending = False\n",
    "                \n",
    "                for l in lines:\n",
    "                    if start_looking and (l.startswith(\"\\\\bibitem[\") or l.startswith(\"\\\\bibitem{\")):\n",
    "                        start_looking = False\n",
    "                        start_appending = True\n",
    "                        bibitem = [l.strip().replace(\"\\n\", \" \")]\n",
    "                        continue\n",
    "                    if start_appending:\n",
    "                        if l == \"\\n\":\n",
    "                            bib_text = \" \".join(bibitem)\n",
    "                            cit_key = None\n",
    "                            \n",
    "                            if bib_text.startswith(\"\\\\bibitem[\"):\n",
    "                                if bib_text.startswith(\"\\\\bibitem[\\\\protect\\\\citeauthoryear\"):\n",
    "                                    cit_key = None\n",
    "                                    m = re.search('\\\\\\\\bibitem\\[.*?\\]%? ?({.*?})', bib_text)\n",
    "                                    if m:\n",
    "                                        cit_key = m.group(1)[1:-1]\n",
    "                                    else:\n",
    "                                        print(\"NOT FOUND CIT KEY[citauthor]: \", bibfileiter, bib_text)\n",
    "                                else:\n",
    "                                    m = re.search('\\\\\\\\bibitem\\[.*?\\]({.*?})', bib_text)\n",
    "                                    if m:\n",
    "                                        cit_key = m.group(1)[1:-1]\n",
    "                                    else:\n",
    "                                        print(\"NOT FOUND CIT KEY[]: \", bibfileiter, bib_text)\n",
    "                                    \n",
    "                            if bib_text.startswith(\"\\\\bibitem{\"):\n",
    "                                m = re.search('\\\\\\\\bibitem({.*?})', bib_text)\n",
    "                                if m:\n",
    "                                    cit_key = m.group(1)[1:-1]\n",
    "                                else:\n",
    "                                    print(\"NOT FOUND CIT KEY{}: \", bibfileiter, bib_text)\n",
    "                            \n",
    "                            if not cit_key is None:\n",
    "                                if bib_item_seq_number:\n",
    "                                    paper_bibitems[cit_key] = {\"text\": bib_text, \"arxivids\": [], \"bib-seq\": bib_item_seq_number}\n",
    "                                else:\n",
    "                                    paper_bibitems[cit_key] = {\"text\": bib_text, \"arxivids\": []}\n",
    "\n",
    "                            bibitem = []\n",
    "                            start_looking = True\n",
    "                            start_appending = False\n",
    "                            if bib_item_seq_number:\n",
    "                                bib_item_seq_number += 1\n",
    "                        else:\n",
    "                            bibitem.append(l.strip().replace(\"\\n\", \" \"))\n",
    "            \n",
    "            if paper_bibitems:\n",
    "                paper_bbl_dict[k] = paper_bibitems\n",
    "                \n",
    "        except Exception as ex:\n",
    "            print(k, ex)\n",
    "            exceptions_ids.append(k)\n",
    "        \n",
    "    elif len(potential_bbl_files) == 0:\n",
    "        bbl_absent.append(k)"
   ]
  },
  {
   "cell_type": "code",
   "execution_count": null,
   "metadata": {},
   "outputs": [],
   "source": []
  },
  {
   "cell_type": "code",
   "execution_count": 488,
   "metadata": {},
   "outputs": [],
   "source": [
    "count_multiple_bbl_files_paper = 0\n",
    "reduced_count_multiple_bbl_files_paper = 0\n",
    "\n",
    "for k in leaderboard_table_refs:\n",
    "    arxivid = iclr_arxiv_map[k][\"arxivId\"]\n",
    "    \n",
    "    dir_name = arxivid.split(\".\")[0]\n",
    "    \n",
    "    # Read the bbl file to extract references\n",
    "    potential_bbl_files = glob.glob(\"./data/unpacked_sources/{}/{}/*.bbl\".format(dir_name, arxivid))\n",
    "    all_tex_in_dir_for_multiple_bbl = potential_bbl_files = glob.glob(\"./data/unpacked_sources/{}/{}/*.tex\".format(dir_name, arxivid))\n",
    "\n",
    "    if len(potential_bbl_files) >= 1:\n",
    "        \n",
    "        annotate_seq = False\n",
    "        bib_item_seq_number = None\n",
    "        \n",
    "        if len(potential_bbl_files) > 1:\n",
    "            count_multiple_bbl_files_paper+=1\n",
    "#             read_texts_bib_all = []\n",
    "            \n",
    "            NEW_potential_bbl_files = []\n",
    "            for bbbbbb in potential_bbl_files:\n",
    "                only_first_name = bbbbbb.replace(\".bbl\", \".tex\")\n",
    "                if only_first_name in all_tex_in_dir_for_multiple_bbl:\n",
    "                    NEW_potential_bbl_files.append(bbbbbb)\n",
    "            potential_bbl_files = NEW_potential_bbl_files\n",
    "            \n",
    "            for bbbbbb in potential_bbl_files:\n",
    "                with open(bibfileiter, \"r\", errors=\"ignore\") as f:\n",
    "                    read_texts_bib_all.append(f.read())\n",
    "            same_text = False\n",
    "            for iter_, text_iter in enumerate(read_texts_bib_all):\n",
    "                if iter_ < len(read_texts_bib_all)-1:\n",
    "                    if text_iter.lower() == read_texts_bib_all[iter_+1].lower():\n",
    "                        same_text = True\n",
    "                    else:\n",
    "                        same_text = False\n",
    "                        break\n",
    "                else:\n",
    "                    break\n",
    "            if same_text:\n",
    "                potential_bbl_files = [potential_bbl_files[0]]\n",
    "        if len(potential_bbl_files) == 1:\n",
    "            reduced_count_multiple_bbl_files_paper+=1\n"
   ]
  },
  {
   "cell_type": "code",
   "execution_count": 489,
   "metadata": {},
   "outputs": [
    {
     "data": {
      "text/plain": [
       "(1272, 716)"
      ]
     },
     "execution_count": 489,
     "metadata": {},
     "output_type": "execute_result"
    }
   ],
   "source": [
    "count_multiple_bbl_files_paper, reduced_count_multiple_bbl_files_paper"
   ]
  },
  {
   "cell_type": "code",
   "execution_count": 350,
   "metadata": {},
   "outputs": [
    {
     "data": {
      "text/plain": [
       "(0, [])"
      ]
     },
     "execution_count": 350,
     "metadata": {},
     "output_type": "execute_result"
    }
   ],
   "source": [
    "len(set(bbl_absent)), bbl_absent[0:10]"
   ]
  },
  {
   "cell_type": "code",
   "execution_count": 351,
   "metadata": {},
   "outputs": [
    {
     "data": {
      "text/plain": [
       "48"
      ]
     },
     "execution_count": 351,
     "metadata": {},
     "output_type": "execute_result"
    }
   ],
   "source": [
    "len(paper_bbl_dict)"
   ]
  },
  {
   "cell_type": "code",
   "execution_count": 347,
   "metadata": {},
   "outputs": [
    {
     "data": {
      "text/plain": [
       "['2017_B1-Hhnslg',\n",
       " '2017_B1-q5Pqxl',\n",
       " '2017_B184E5qee',\n",
       " '2017_B1E7Pwqgl',\n",
       " '2017_B1G9tvcgx',\n",
       " '2017_B1GOWV5eg',\n",
       " '2017_B1Igu2ogg',\n",
       " '2017_B1IzH7cxl',\n",
       " '2017_B1MRcPclx',\n",
       " '2017_B1TTpYKgx']"
      ]
     },
     "execution_count": 347,
     "metadata": {},
     "output_type": "execute_result"
    }
   ],
   "source": [
    "list(paper_bbl_dict.keys())[0:10]"
   ]
  },
  {
   "cell_type": "code",
   "execution_count": 162,
   "metadata": {},
   "outputs": [
    {
     "data": {
      "text/plain": [
       "'1704.00109v1'"
      ]
     },
     "execution_count": 162,
     "metadata": {},
     "output_type": "execute_result"
    }
   ],
   "source": [
    "iclr_arxiv_map[\"2017_BJYwwY9ll\"][\"arxivId\"]"
   ]
  },
  {
   "cell_type": "code",
   "execution_count": 163,
   "metadata": {},
   "outputs": [
    {
     "data": {
      "text/plain": [
       "['./data/unpacked_sources/1704/1704.00109v1/main.bbl']"
      ]
     },
     "execution_count": 163,
     "metadata": {},
     "output_type": "execute_result"
    }
   ],
   "source": [
    " glob.glob(\"./data/unpacked_sources/1704/1704.00109v1/*.bbl\")"
   ]
  },
  {
   "cell_type": "code",
   "execution_count": 178,
   "metadata": {},
   "outputs": [
    {
     "data": {
      "text/plain": [
       "'/home/singh_shruti/workspace/axcell_ws/axcell/notebooks'"
      ]
     },
     "execution_count": 178,
     "metadata": {},
     "output_type": "execute_result"
    }
   ],
   "source": [
    "pwd"
   ]
  },
  {
   "cell_type": "code",
   "execution_count": 164,
   "metadata": {},
   "outputs": [
    {
     "name": "stdout",
     "output_type": "stream",
     "text": [
      "\\begin{thebibliography}{43}\r",
      "\r\n",
      "\\providecommand{\\natexlab}[1]{#1}\r",
      "\r\n",
      "\\providecommand{\\url}[1]{\\texttt{#1}}\r",
      "\r\n",
      "\\expandafter\\ifx\\csname urlstyle\\endcsname\\relax\r",
      "\r\n",
      "  \\providecommand{\\doi}[1]{doi: #1}\\else\r",
      "\r\n",
      "  \\providecommand{\\doi}{doi: \\begingroup \\urlstyle{rm}\\Url}\\fi\r",
      "\r\n",
      "\r",
      "\r\n",
      "\\bibitem[Bottou(2010)]{bottou2010large}\r",
      "\r\n",
      "L{\\'e}on Bottou.\r",
      "\r\n",
      "\\newblock Large-scale machine learning with stochastic gradient descent.\r",
      "\r\n",
      "\\newblock In \\emph{COMPSTAT}. 2010.\r",
      "\r\n",
      "\r",
      "\r\n",
      "\\bibitem[Bucilu�� et~al.(2006)Bucilu��, Caruana, and\r",
      "\r\n",
      "  Niculescu-Mizil]{bucilu2006model}\r",
      "\r\n",
      "Cristian Bucilu��, Rich Caruana, and Alexandru Niculescu-Mizil.\r",
      "\r\n",
      "\\newblock Model compression.\r",
      "\r\n",
      "\\newblock In \\emph{KDD}, 2006.\r",
      "\r\n",
      "\r",
      "\r\n",
      "\\bibitem[Caruana et~al.(2004)Caruana, Niculescu-Mizil, Crew, and\r",
      "\r\n",
      "  Ksikes]{caruana2004ensemble}\r",
      "\r\n",
      "Rich Caruana, Alexandru Niculescu-Mizil, Geoff Crew, and Alex Ksikes.\r",
      "\r\n",
      "\\newblock Ensemble selection from libraries of models.\r",
      "\r\n",
      "\\newblock In \\emph{ICML}, 2004.\r",
      "\r\n",
      "\r",
      "\r\n",
      "\\bibitem[Collobert et~al.(2011)Collobert, Kavukcuoglu, and Farabet]{torch}\r",
      "\r\n",
      "Ronan Collobert, Koray Kavukcuoglu, and Cl{\\'e}ment Farabet.\r",
      "\r\n",
      "\\newblock Torch7: A matlab-like environment for machine learning.\r",
      "\r\n",
      "\\newblock In \\emph{BigLearn, NIPS Workshop}, 2011.\r",
      "\r\n",
      "\r",
      "\r\n",
      "\\bibitem[Dauphin et~al.(2014)Dauphin, Pascanu, Gulcehre, Cho, Ganguli, and\r",
      "\r\n",
      "  Bengio]{dauphin2014identifying}\r",
      "\r\n",
      "Yann~N Dauphin, Razvan Pascanu, Caglar Gulcehre, Kyunghyun Cho, Surya Ganguli,\r",
      "\r\n",
      "  and Yoshua Bengio.\r",
      "\r\n",
      "\\newblock Identifying and attacking the saddle point problem in\r",
      "\r\n",
      "  high-dimensional non-convex optimization.\r",
      "\r\n",
      "\\newblock In \\emph{NIPS}, 2014.\r",
      "\r\n",
      "\r",
      "\r\n",
      "\\bibitem[Deng et~al.(2009)Deng, Dong, Socher, Li, Li, and\r",
      "\r\n",
      "  Fei-Fei]{deng2009imagenet}\r",
      "\r\n",
      "Jia Deng, Wei Dong, Richard Socher, Li-Jia Li, Kai Li, and Li~Fei-Fei.\r",
      "\r\n",
      "\\newblock Imagenet: A large-scale hierarchical image database.\r",
      "\r\n",
      "\\newblock In \\emph{CVPR}, 2009.\r",
      "\r\n",
      "\r",
      "\r\n",
      "\\bibitem[Duchi et~al.(2011)Duchi, Hazan, and Singer]{duchi2011adaptive}\r",
      "\r\n",
      "John Duchi, Elad Hazan, and Yoram Singer.\r",
      "\r\n",
      "\\newblock Adaptive subgradient methods for online learning and stochastic\r",
      "\r\n",
      "  optimization.\r",
      "\r\n",
      "\\newblock \\emph{Journal of Machine Learning Research}, 12\\penalty0\r",
      "\r\n",
      "  (Jul):\\penalty0 2121--2159, 2011.\r",
      "\r\n",
      "\r",
      "\r\n",
      "\\bibitem[Goodfellow et~al.(2013)Goodfellow, Warde-Farley, Mirza, Courville, and\r",
      "\r\n",
      "  Bengio]{maxout}\r",
      "\r\n",
      "Ian~J Goodfellow, David Warde-Farley, Mehdi Mirza, Aaron Courville, and Yoshua\r",
      "\r\n",
      "  Bengio.\r",
      "\r\n",
      "\\newblock Maxout networks.\r",
      "\r\n",
      "\\newblock In \\emph{ICML}, 2013.\r",
      "\r\n",
      "\r",
      "\r\n",
      "\\bibitem[Goodfellow et~al.(2014)Goodfellow, Vinyals, and\r",
      "\r\n",
      "  Saxe]{goodfellow2014qualitatively}\r",
      "\r\n",
      "Ian~J Goodfellow, Oriol Vinyals, and Andrew~M Saxe.\r",
      "\r\n",
      "\\newblock Qualitatively characterizing neural network optimization problems.\r",
      "\r\n",
      "\\newblock \\emph{arXiv preprint arXiv:1412.6544}, 2014.\r",
      "\r\n",
      "\r",
      "\r\n",
      "\\bibitem[Hansen \\& Salamon(1990)Hansen and Salamon]{hansen1990neural}\r",
      "\r\n",
      "Lars~Kai Hansen and Peter Salamon.\r",
      "\r\n",
      "\\newblock Neural network ensembles.\r",
      "\r\n",
      "\\newblock \\emph{IEEE transactions on pattern analysis and machine\r",
      "\r\n",
      "  intelligence}, 12:\\penalty0 993--1001, 1990.\r",
      "\r\n",
      "\r",
      "\r\n",
      "\\bibitem[He et~al.(2016{\\natexlab{a}})He, Zhang, Ren, and Sun]{he2016deep}\r",
      "\r\n",
      "Kaiming He, Xiangyu Zhang, Shaoqing Ren, and Jian Sun.\r",
      "\r\n",
      "\\newblock Deep residual learning for image recognition.\r",
      "\r\n",
      "\\newblock In \\emph{CVPR}, 2016{\\natexlab{a}}.\r",
      "\r\n",
      "\r",
      "\r\n",
      "\\bibitem[He et~al.(2016{\\natexlab{b}})He, Zhang, Ren, and Sun]{he2016identity}\r",
      "\r\n",
      "Kaiming He, Xiangyu Zhang, Shaoqing Ren, and Jian Sun.\r",
      "\r\n",
      "\\newblock Identity mappings in deep residual networks.\r",
      "\r\n",
      "\\newblock In \\emph{ECCV}, 2016{\\natexlab{b}}.\r",
      "\r\n",
      "\r",
      "\r\n",
      "\\bibitem[Hinton et~al.(2015)Hinton, Vinyals, and Dean]{hinton2015distilling}\r",
      "\r\n",
      "Geoffrey Hinton, Oriol Vinyals, and Jeff Dean.\r",
      "\r\n",
      "\\newblock Distilling the knowledge in a neural network.\r",
      "\r\n",
      "\\newblock \\emph{arXiv preprint arXiv:1503.02531}, 2015.\r",
      "\r\n",
      "\r",
      "\r\n",
      "\\bibitem[Huang et~al.(2016{\\natexlab{a}})Huang, Liu, and\r",
      "\r\n",
      "  Weinberger]{huang2016densely}\r",
      "\r\n",
      "Gao Huang, Zhuang Liu, and Kilian~Q Weinberger.\r",
      "\r\n",
      "\\newblock Densely connected convolutional networks.\r",
      "\r\n",
      "\\newblock \\emph{arXiv preprint arXiv:1608.06993}, 2016{\\natexlab{a}}.\r",
      "\r\n",
      "\r",
      "\r\n",
      "\\bibitem[Huang et~al.(2016{\\natexlab{b}})Huang, Sun, Liu, Sedra, and\r",
      "\r\n",
      "  Weinberger]{stochastic}\r",
      "\r\n",
      "Gao Huang, Yu~Sun, Zhuang Liu, Daniel Sedra, and Kilian Weinberger.\r",
      "\r\n",
      "\\newblock Deep networks with stochastic depth.\r",
      "\r\n",
      "\\newblock In \\emph{ECCV}, 2016{\\natexlab{b}}.\r",
      "\r\n",
      "\r",
      "\r\n",
      "\\bibitem[Ioffe \\& Szegedy(2015)Ioffe and Szegedy]{batch-norm}\r",
      "\r\n",
      "Sergey Ioffe and Christian Szegedy.\r",
      "\r\n",
      "\\newblock Batch normalization: Accelerating deep network training by reducing\r",
      "\r\n",
      "  internal covariate shift.\r",
      "\r\n",
      "\\newblock In \\emph{ICCV}, 2015.\r",
      "\r\n",
      "\r",
      "\r\n",
      "\\bibitem[Jean et~al.(2014)Jean, Cho, Memisevic, and Bengio]{jean2014using}\r",
      "\r\n",
      "S�bastien Jean, Kyunghyun Cho, Roland Memisevic, and Yoshua Bengio.\r",
      "\r\n",
      "\\newblock On using very large target vocabulary for neural machine translation.\r",
      "\r\n",
      "\\newblock \\emph{arXiv preprint arXiv:1412.2007}, 2014.\r",
      "\r\n",
      "\r",
      "\r\n",
      "\\bibitem[Kawaguchi(2016)]{kawaguchi2016deep}\r",
      "\r\n",
      "Kenji Kawaguchi.\r",
      "\r\n",
      "\\newblock Deep learning without poor local minima.\r",
      "\r\n",
      "\\newblock \\emph{arXiv preprint arXiv:1605.07110}, 2016.\r",
      "\r\n",
      "\r",
      "\r\n",
      "\\bibitem[Keskar et~al.(2016)Keskar, Mudigere, Nocedal, Smelyanskiy, and\r",
      "\r\n",
      "  Tang]{keskar2016large}\r",
      "\r\n",
      "Nitish~Shirish Keskar, Dheevatsa Mudigere, Jorge Nocedal, Mikhail Smelyanskiy,\r",
      "\r\n",
      "  and Ping Tak~Peter Tang.\r",
      "\r\n",
      "\\newblock On large-batch training for deep learning: Generalization gap and\r",
      "\r\n",
      "  sharp minima.\r",
      "\r\n",
      "\\newblock \\emph{arXiv preprint arXiv:1609.04836}, 2016.\r",
      "\r\n",
      "\r",
      "\r\n",
      "\\bibitem[Kingma \\& Ba(2014)Kingma and Ba]{kingma2014adam}\r",
      "\r\n",
      "Diederik Kingma and Jimmy Ba.\r",
      "\r\n",
      "\\newblock Adam: A method for stochastic optimization.\r",
      "\r\n",
      "\\newblock \\emph{arXiv preprint arXiv:1412.6980}, 2014.\r",
      "\r\n",
      "\r",
      "\r\n",
      "\\bibitem[Krizhevsky \\& Hinton(2009)Krizhevsky and Hinton]{cifar}\r",
      "\r\n",
      "Alex Krizhevsky and Geoffrey Hinton.\r",
      "\r\n",
      "\\newblock Learning multiple layers of features from tiny images.\r",
      "\r\n",
      "\\newblock 2009.\r",
      "\r\n",
      "\r",
      "\r\n",
      "\\bibitem[Krizhevsky et~al.(2012)Krizhevsky, Sutskever, and Hinton]{alexnet}\r",
      "\r\n",
      "Alex Krizhevsky, Ilya Sutskever, and Geoffrey~E Hinton.\r",
      "\r\n",
      "\\newblock Imagenet classification with deep convolutional neural networks.\r",
      "\r\n",
      "\\newblock In \\emph{NIPS}, 2012.\r",
      "\r\n",
      "\r",
      "\r\n",
      "\\bibitem[Krogh et~al.(1995)Krogh, Vedelsby, et~al.]{krogh1995neural}\r",
      "\r\n",
      "Anders Krogh, Jesper Vedelsby, et~al.\r",
      "\r\n",
      "\\newblock Neural network ensembles, cross validation, and active learning.\r",
      "\r\n",
      "\\newblock In \\emph{NIPS}, volume~7, 1995.\r",
      "\r\n",
      "\r",
      "\r\n",
      "\\bibitem[Krueger et~al.(2016)Krueger, Maharaj, Kram{\\'a}r, Pezeshki, Ballas,\r",
      "\r\n",
      "  Ke, Goyal, Bengio, Larochelle, Courville, et~al.]{krueger2016zoneout}\r",
      "\r\n",
      "David Krueger, Tegan Maharaj, J{\\'a}nos Kram{\\'a}r, Mohammad Pezeshki, Nicolas\r",
      "\r\n",
      "  Ballas, Nan~Rosemary Ke, Anirudh Goyal, Yoshua Bengio, Hugo Larochelle, Aaron\r",
      "\r\n",
      "  Courville, et~al.\r",
      "\r\n",
      "\\newblock Zoneout: Regularizing rnns by randomly preserving hidden activations.\r",
      "\r\n",
      "\\newblock \\emph{arXiv preprint arXiv:1606.01305}, 2016.\r",
      "\r\n",
      "\r",
      "\r\n",
      "\\bibitem[Laine \\& Aila(2016)Laine and Aila]{laine2016temporal}\r",
      "\r\n",
      "Samuli Laine and Timo Aila.\r",
      "\r\n",
      "\\newblock Temporal ensembling for semi-supervised learning.\r",
      "\r\n",
      "\\newblock \\emph{arXiv preprint arXiv:1610.02242}, 2016.\r",
      "\r\n",
      "\r",
      "\r\n",
      "\\bibitem[Larsson et~al.(2016)Larsson, Maire, and Shakhnarovich]{fractalnet}\r",
      "\r\n",
      "Gustav Larsson, Michael Maire, and Gregory Shakhnarovich.\r",
      "\r\n",
      "\\newblock Fractalnet: Ultra-deep neural networks without residuals.\r",
      "\r\n",
      "\\newblock \\emph{arXiv preprint arXiv:1605.07648}, 2016.\r",
      "\r\n",
      "\r",
      "\r\n",
      "\\bibitem[Lee et~al.(2015)Lee, Xie, Gallagher, Zhang, and Tu]{dsn}\r",
      "\r\n",
      "Chen-Yu Lee, Saining Xie, Patrick Gallagher, Zhengyou Zhang, and Zhuowen Tu.\r",
      "\r\n",
      "\\newblock Deeply-supervised nets.\r",
      "\r\n",
      "\\newblock In \\emph{AISTATS}, 2015.\r",
      "\r\n",
      "\r",
      "\r\n",
      "\\bibitem[Lin et~al.(2013)Lin, Chen, and Yan]{netinnet}\r",
      "\r\n",
      "Min Lin, Qiang Chen, and Shuicheng Yan.\r",
      "\r\n",
      "\\newblock Network in network.\r",
      "\r\n",
      "\\newblock \\emph{arXiv preprint arXiv:1312.4400}, 2013.\r",
      "\r\n",
      "\r",
      "\r\n",
      "\\bibitem[Loshchilov \\& Hutter(2016)Loshchilov and Hutter]{loshchilov2016sgdr}\r",
      "\r\n",
      "Ilya Loshchilov and Frank Hutter.\r",
      "\r\n",
      "\\newblock Sgdr: Stochastic gradient descent with restarts.\r",
      "\r\n",
      "\\newblock \\emph{arXiv preprint arXiv:1608.03983}, 2016.\r",
      "\r\n",
      "\r",
      "\r\n",
      "\\bibitem[Moghimi et~al.(2016)Moghimi, Saberian, Yang, Li, Vasconcelos, and\r",
      "\r\n",
      "  Belongie]{moghimiboosted}\r",
      "\r\n",
      "Mohammad Moghimi, Mohammad Saberian, Jian Yang, Li-Jia Li, Nuno Vasconcelos,\r",
      "\r\n",
      "  and Serge Belongie.\r",
      "\r\n",
      "\\newblock Boosted convolutional neural networks.\r",
      "\r\n",
      "\\newblock 2016.\r",
      "\r\n",
      "\r",
      "\r\n",
      "\\bibitem[Netzer et~al.(2011)Netzer, Wang, Coates, Bissacco, Wu, and Ng]{svhn}\r",
      "\r\n",
      "Yuval Netzer, Tao Wang, Adam Coates, Alessandro Bissacco, Bo~Wu, and Andrew~Y\r",
      "\r\n",
      "  Ng.\r",
      "\r\n",
      "\\newblock Reading digits in natural images with unsupervised feature learning,\r",
      "\r\n",
      "  2011.\r",
      "\r\n",
      "\\newblock In \\emph{NIPS Workshop on Deep Learning and Unsupervised Feature\r",
      "\r\n",
      "  Learning}, 2011.\r",
      "\r\n",
      "\r",
      "\r\n",
      "\\bibitem[Romero et~al.(2014)Romero, Ballas, Kahou, Chassang, Gatta, and\r",
      "\r\n",
      "  Bengio]{fitnet}\r",
      "\r\n",
      "Adriana Romero, Nicolas Ballas, Samira~Ebrahimi Kahou, Antoine Chassang, Carlo\r",
      "\r\n",
      "  Gatta, and Yoshua Bengio.\r",
      "\r\n",
      "\\newblock Fitnets: Hints for thin deep nets.\r",
      "\r\n",
      "\\newblock \\emph{arXiv preprint arXiv:1412.6550}, 2014.\r",
      "\r\n",
      "\r",
      "\r\n",
      "\\bibitem[Sennrich et~al.(2016)Sennrich, Haddow, and\r",
      "\r\n",
      "  Birch]{sennrich2016edinburgh}\r",
      "\r\n",
      "Rico Sennrich, Barry Haddow, and Alexandra Birch.\r",
      "\r\n",
      "\\newblock Edinburgh neural machine translation systems for wmt 16.\r",
      "\r\n",
      "\\newblock \\emph{arXiv preprint arXiv:1606.02891}, 2016.\r",
      "\r\n",
      "\r",
      "\r\n",
      "\\bibitem[Sermanet et~al.(2012)Sermanet, Chintala, and\r",
      "\r\n",
      "  LeCun]{sermanet2012convolutional}\r",
      "\r\n",
      "Pierre Sermanet, Soumith Chintala, and Yann LeCun.\r",
      "\r\n",
      "\\newblock Convolutional neural networks applied to house numbers digit\r",
      "\r\n",
      "  classification.\r",
      "\r\n",
      "\\newblock In \\emph{ICPR}, 2012.\r",
      "\r\n",
      "\r",
      "\r\n",
      "\\bibitem[Singh et~al.(2016)Singh, Hoiem, and Forsyth]{singh2016swapout}\r",
      "\r\n",
      "Saurabh Singh, Derek Hoiem, and David Forsyth.\r",
      "\r\n",
      "\\newblock Swapout: Learning an ensemble of deep architectures.\r",
      "\r\n",
      "\\newblock \\emph{arXiv preprint arXiv:1605.06465}, 2016.\r",
      "\r\n",
      "\r",
      "\r\n",
      "\\bibitem[Smith(2016)]{leslie2016cyclical}\r",
      "\r\n",
      "Leslie~N. Smith.\r",
      "\r\n",
      "\\newblock No more pesky learning rate guessing games.\r",
      "\r\n",
      "\\newblock \\emph{CoRR}, abs/1506.01186, 2016.\r",
      "\r\n",
      "\\newblock URL \\url{http://arxiv.org/abs/1506.01186}.\r",
      "\r\n",
      "\r",
      "\r\n",
      "\\bibitem[Springenberg et~al.(2014)Springenberg, Dosovitskiy, Brox, and\r",
      "\r\n",
      "  Riedmiller]{allcnn}\r",
      "\r\n",
      "Jost~Tobias Springenberg, Alexey Dosovitskiy, Thomas Brox, and Martin\r",
      "\r\n",
      "  Riedmiller.\r",
      "\r\n",
      "\\newblock Striving for simplicity: The all convolutional net.\r",
      "\r\n",
      "\\newblock \\emph{arXiv preprint arXiv:1412.6806}, 2014.\r",
      "\r\n",
      "\r",
      "\r\n",
      "\\bibitem[Srivastava et~al.(2014)Srivastava, Hinton, Krizhevsky, Sutskever, and\r",
      "\r\n",
      "  Salakhutdinov]{dropout}\r",
      "\r\n",
      "Nitish Srivastava, Geoffrey~E Hinton, Alex Krizhevsky, Ilya Sutskever, and\r",
      "\r\n",
      "  Ruslan Salakhutdinov.\r",
      "\r\n",
      "\\newblock Dropout: a simple way to prevent neural networks from overfitting.\r",
      "\r\n",
      "\\newblock \\emph{Journal of Machine Learning Research}, 15\\penalty0\r",
      "\r\n",
      "  (1):\\penalty0 1929--1958, 2014.\r",
      "\r\n",
      "\r",
      "\r\n",
      "\\bibitem[Srivastava et~al.(2015)Srivastava, Greff, and Schmidhuber]{highway}\r",
      "\r\n",
      "Rupesh~Kumar Srivastava, Klaus Greff, and J{\\\"u}rgen Schmidhuber.\r",
      "\r\n",
      "\\newblock Highway networks.\r",
      "\r\n",
      "\\newblock \\emph{arXiv preprint arXiv:1505.00387}, 2015.\r",
      "\r\n",
      "\r",
      "\r\n",
      "\\bibitem[Swann \\& Allinson(1998)Swann and Allinson]{swann1998fast}\r",
      "\r\n",
      "A~Swann and N~Allinson.\r",
      "\r\n",
      "\\newblock Fast committee learning: Preliminary results.\r",
      "\r\n",
      "\\newblock \\emph{Electronics Letters}, 34\\penalty0 (14):\\penalty0 1408--1410,\r",
      "\r\n",
      "  1998.\r",
      "\r\n",
      "\r",
      "\r\n",
      "\\bibitem[Wan et~al.(2013)Wan, Zeiler, Zhang, Cun, and\r",
      "\r\n",
      "  Fergus]{wan2013regularization}\r",
      "\r\n",
      "Li~Wan, Matthew Zeiler, Sixin Zhang, Yann~L Cun, and Rob Fergus.\r",
      "\r\n",
      "\\newblock Regularization of neural networks using dropconnect.\r",
      "\r\n",
      "\\newblock In \\emph{ICML}, 2013.\r",
      "\r\n",
      "\r",
      "\r\n",
      "\\bibitem[Xie et~al.(2013)Xie, Xu, and Chuang]{xie2013horizontal}\r",
      "\r\n",
      "Jingjing Xie, Bing Xu, and Zhang Chuang.\r",
      "\r\n",
      "\\newblock Horizontal and vertical ensemble with deep representation for\r",
      "\r\n",
      "  classification.\r",
      "\r\n",
      "\\newblock \\emph{arXiv preprint arXiv:1306.2759}, 2013.\r",
      "\r\n",
      "\r",
      "\r\n",
      "\\bibitem[Zagoruyko \\& Komodakis(2016)Zagoruyko and Komodakis]{wide}\r",
      "\r\n",
      "Sergey Zagoruyko and Nikos Komodakis.\r",
      "\r\n",
      "\\newblock Wide residual networks.\r",
      "\r\n",
      "\\newblock \\emph{arXiv preprint arXiv:1605.07146}, 2016.\r",
      "\r\n",
      "\r",
      "\r\n",
      "\\end{thebibliography}\r",
      "\r\n"
     ]
    }
   ],
   "source": [
    "cat ./data/unpacked_sources/1704/1704.00109v1/main.bbl"
   ]
  },
  {
   "cell_type": "code",
   "execution_count": 174,
   "metadata": {},
   "outputs": [
    {
     "data": {
      "text/plain": [
       "('1801.09797v1',\n",
       " ['./data/unpacked_sources/1801/1801.09797v1/fancyhdr.sty',\n",
       "  './data/unpacked_sources/1801/1801.09797v1/iclr2018_conference.sty',\n",
       "  './data/unpacked_sources/1801/1801.09797v1/main.tex'])"
      ]
     },
     "execution_count": 174,
     "metadata": {},
     "output_type": "execute_result"
    }
   ],
   "source": [
    "oiclr_arxiv_map[\"2018_BkQCGzZ0-\"][\"arxivId\"], glob.glob(\"./data/unpacked_sources/1801/1801.09797v1/*\")"
   ]
  },
  {
   "cell_type": "code",
   "execution_count": 176,
   "metadata": {},
   "outputs": [
    {
     "name": "stdout",
     "output_type": "stream",
     "text": [
      "  Berg{-}Kirkpatrick]{textvae2}\r\n",
      "Zichao Yang, Zhiting Hu, Ruslan Salakhutdinov, and Taylor Berg{-}Kirkpatrick.\r\n",
      "\\newblock Improved variational autoencoders for text modeling using dilated\r\n",
      "  convolutions.\r\n",
      "\\newblock In \\emph{Proceedings of {ICML}'17}, pp.\\  3881--3890, 2017.\r\n",
      "\r\n",
      "\\end{thebibliography}\r\n",
      "\r\n",
      "\r\n",
      "\\end{document}\r\n"
     ]
    }
   ],
   "source": [
    "!tail ./data/unpacked_sources/1801/1801.09797v1/main.tex"
   ]
  },
  {
   "cell_type": "markdown",
   "metadata": {},
   "source": [
    "# Map all references of 1896 papers to arxiv ids if possible based on title subset match"
   ]
  },
  {
   "cell_type": "code",
   "execution_count": 393,
   "metadata": {},
   "outputs": [],
   "source": [
    "for k in paper_bbl_dict:\n",
    "    for ref_key in paper_bbl_dict[k]:\n",
    "        paper_bbl_dict[k][ref_key].pop(\"seq_id\", None)"
   ]
  },
  {
   "cell_type": "code",
   "execution_count": 396,
   "metadata": {},
   "outputs": [
    {
     "name": "stdout",
     "output_type": "stream",
     "text": [
      "labelembeddingforattributebasedclassification bibitemakataetal2013akataperronninharchaouiandschmidakata2013labelzeynepakataflorentperronninzaidharchaouiandcordeliaschmidnewblocklabelembeddingforattributebasedclassificationnewblockinemphcomputervisionandpatternrecognitionpages8198262013\n"
     ]
    }
   ],
   "source": [
    "for k in paper_bbl_dict:\n",
    "    if True:#k.startswith(\"2017_\"):# or k.startswith(\"2020_\"):\n",
    "        if status%10==0:\n",
    "            print(\"Done {} out of {}\".format(status, total_stat))\n",
    "\n",
    "        for ref_key in paper_bbl_dict[k]:\n",
    "            clean_ref = unidecode.unidecode(paper_bbl_dict[k][ref_key][\"text\"])\n",
    "            clean_ref = clean_ref.lower()\n",
    "            clean_ref = re.sub('[\\W_]', '', clean_ref)\n",
    "            \n",
    "            first_half_newblock_ind = clean_ref.find(\"newblock\")\n",
    "            second_half = clean_ref[first_half_newblock_ind+8:]\n",
    "            second_half_newblock_ind = second_half.find(\"newblock\")\n",
    "            \n",
    "            potential_title_idfied_newblock = second_half[0:second_half_newblock_ind]\n",
    "            print(potential_title_idfied_newblock, clean_ref)\n",
    "            break\n",
    "    break"
   ]
  },
  {
   "cell_type": "code",
   "execution_count": 400,
   "metadata": {},
   "outputs": [
    {
     "name": "stdout",
     "output_type": "stream",
     "text": [
      "Done 0 out of 1896 and idfied are 0\n",
      "Done 10 out of 1896 and idfied are 122\n",
      "Done 20 out of 1896 and idfied are 353\n",
      "Done 30 out of 1896 and idfied are 515\n",
      "Done 40 out of 1896 and idfied are 645\n",
      "Done 50 out of 1896 and idfied are 811\n",
      "Done 60 out of 1896 and idfied are 991\n",
      "Done 70 out of 1896 and idfied are 1187\n",
      "Done 80 out of 1896 and idfied are 1323\n",
      "Done 90 out of 1896 and idfied are 1486\n",
      "Done 100 out of 1896 and idfied are 1660\n",
      "Done 110 out of 1896 and idfied are 1768\n",
      "Done 120 out of 1896 and idfied are 1947\n",
      "Done 130 out of 1896 and idfied are 2126\n",
      "Done 140 out of 1896 and idfied are 2320\n",
      "Done 150 out of 1896 and idfied are 2457\n",
      "Done 160 out of 1896 and idfied are 2610\n",
      "Done 170 out of 1896 and idfied are 2772\n",
      "Done 180 out of 1896 and idfied are 2914\n",
      "Done 190 out of 1896 and idfied are 3075\n",
      "Done 200 out of 1896 and idfied are 3235\n",
      "Done 210 out of 1896 and idfied are 3418\n",
      "Done 220 out of 1896 and idfied are 3569\n",
      "Done 230 out of 1896 and idfied are 3790\n",
      "Done 240 out of 1896 and idfied are 4010\n",
      "Done 250 out of 1896 and idfied are 4182\n",
      "Done 260 out of 1896 and idfied are 4355\n",
      "Done 270 out of 1896 and idfied are 4535\n",
      "Done 280 out of 1896 and idfied are 4730\n",
      "Done 290 out of 1896 and idfied are 4952\n",
      "Done 300 out of 1896 and idfied are 5143\n",
      "Done 310 out of 1896 and idfied are 5336\n",
      "Done 320 out of 1896 and idfied are 5543\n",
      "Done 330 out of 1896 and idfied are 5785\n",
      "Done 340 out of 1896 and idfied are 5950\n",
      "Done 350 out of 1896 and idfied are 6136\n",
      "Done 360 out of 1896 and idfied are 6303\n",
      "Done 370 out of 1896 and idfied are 6468\n",
      "Done 380 out of 1896 and idfied are 6598\n",
      "Done 390 out of 1896 and idfied are 6815\n",
      "Done 400 out of 1896 and idfied are 6929\n",
      "Done 410 out of 1896 and idfied are 7134\n",
      "Done 420 out of 1896 and idfied are 7432\n",
      "Done 430 out of 1896 and idfied are 7619\n",
      "Done 440 out of 1896 and idfied are 7818\n",
      "Done 450 out of 1896 and idfied are 8047\n",
      "Done 460 out of 1896 and idfied are 8322\n",
      "Done 470 out of 1896 and idfied are 8520\n",
      "Done 480 out of 1896 and idfied are 8714\n",
      "Done 490 out of 1896 and idfied are 8903\n",
      "Done 500 out of 1896 and idfied are 9134\n",
      "Done 510 out of 1896 and idfied are 9339\n",
      "Done 520 out of 1896 and idfied are 9548\n",
      "Done 530 out of 1896 and idfied are 9788\n",
      "Done 540 out of 1896 and idfied are 9991\n",
      "Done 550 out of 1896 and idfied are 10159\n",
      "Done 560 out of 1896 and idfied are 10295\n",
      "Done 570 out of 1896 and idfied are 10507\n",
      "Done 580 out of 1896 and idfied are 10704\n",
      "Done 590 out of 1896 and idfied are 10937\n",
      "Done 600 out of 1896 and idfied are 11238\n",
      "Done 610 out of 1896 and idfied are 11530\n",
      "Done 620 out of 1896 and idfied are 11677\n",
      "Done 630 out of 1896 and idfied are 11915\n",
      "Done 640 out of 1896 and idfied are 12112\n",
      "Done 650 out of 1896 and idfied are 12375\n",
      "Done 660 out of 1896 and idfied are 12611\n",
      "Done 670 out of 1896 and idfied are 12774\n",
      "Done 680 out of 1896 and idfied are 13022\n",
      "Done 690 out of 1896 and idfied are 13225\n",
      "Done 700 out of 1896 and idfied are 13417\n",
      "Done 710 out of 1896 and idfied are 13681\n",
      "Done 720 out of 1896 and idfied are 13891\n",
      "Done 730 out of 1896 and idfied are 14057\n",
      "Done 740 out of 1896 and idfied are 14332\n",
      "Done 750 out of 1896 and idfied are 14563\n",
      "Done 760 out of 1896 and idfied are 14836\n",
      "Done 770 out of 1896 and idfied are 15012\n",
      "Done 780 out of 1896 and idfied are 15230\n",
      "Done 790 out of 1896 and idfied are 15405\n",
      "Done 800 out of 1896 and idfied are 15671\n",
      "Done 810 out of 1896 and idfied are 15885\n",
      "Done 820 out of 1896 and idfied are 16129\n",
      "Done 830 out of 1896 and idfied are 16368\n",
      "Done 840 out of 1896 and idfied are 16662\n",
      "Done 850 out of 1896 and idfied are 16933\n",
      "Done 860 out of 1896 and idfied are 17203\n",
      "Done 870 out of 1896 and idfied are 17433\n",
      "Done 880 out of 1896 and idfied are 17642\n",
      "Done 890 out of 1896 and idfied are 17855\n",
      "Done 900 out of 1896 and idfied are 18075\n",
      "Done 910 out of 1896 and idfied are 18295\n",
      "Done 920 out of 1896 and idfied are 18504\n",
      "Done 930 out of 1896 and idfied are 18742\n",
      "Done 940 out of 1896 and idfied are 19008\n",
      "Done 950 out of 1896 and idfied are 19237\n",
      "Done 960 out of 1896 and idfied are 19454\n",
      "Done 970 out of 1896 and idfied are 19685\n",
      "Done 980 out of 1896 and idfied are 19878\n",
      "Done 990 out of 1896 and idfied are 20072\n",
      "Done 1000 out of 1896 and idfied are 20320\n",
      "Done 1010 out of 1896 and idfied are 20523\n",
      "Done 1020 out of 1896 and idfied are 20702\n",
      "Done 1030 out of 1896 and idfied are 20877\n",
      "Done 1040 out of 1896 and idfied are 21134\n",
      "Done 1050 out of 1896 and idfied are 21407\n",
      "Done 1060 out of 1896 and idfied are 21578\n",
      "Done 1070 out of 1896 and idfied are 21845\n",
      "Done 1080 out of 1896 and idfied are 22046\n",
      "Done 1090 out of 1896 and idfied are 22216\n",
      "Done 1100 out of 1896 and idfied are 22481\n",
      "Done 1110 out of 1896 and idfied are 22736\n",
      "Done 1120 out of 1896 and idfied are 22945\n",
      "Done 1130 out of 1896 and idfied are 23217\n",
      "Done 1140 out of 1896 and idfied are 23514\n",
      "Done 1150 out of 1896 and idfied are 23763\n",
      "Done 1160 out of 1896 and idfied are 23958\n",
      "Done 1170 out of 1896 and idfied are 24177\n",
      "Done 1180 out of 1896 and idfied are 24413\n",
      "Done 1190 out of 1896 and idfied are 24692\n",
      "Done 1200 out of 1896 and idfied are 24918\n",
      "Done 1210 out of 1896 and idfied are 25178\n",
      "Done 1220 out of 1896 and idfied are 25395\n",
      "Done 1230 out of 1896 and idfied are 25565\n",
      "Done 1240 out of 1896 and idfied are 25788\n",
      "Done 1250 out of 1896 and idfied are 25999\n",
      "Done 1260 out of 1896 and idfied are 26229\n",
      "Done 1270 out of 1896 and idfied are 26483\n",
      "Done 1280 out of 1896 and idfied are 26732\n",
      "Done 1290 out of 1896 and idfied are 26988\n",
      "Done 1300 out of 1896 and idfied are 27215\n",
      "Done 1310 out of 1896 and idfied are 27508\n",
      "Done 1320 out of 1896 and idfied are 27761\n",
      "Done 1330 out of 1896 and idfied are 27984\n",
      "Done 1340 out of 1896 and idfied are 28294\n",
      "Done 1350 out of 1896 and idfied are 28516\n",
      "Done 1360 out of 1896 and idfied are 28782\n",
      "Done 1370 out of 1896 and idfied are 29035\n",
      "Done 1380 out of 1896 and idfied are 29272\n",
      "Done 1390 out of 1896 and idfied are 29530\n",
      "Done 1400 out of 1896 and idfied are 29803\n",
      "Done 1410 out of 1896 and idfied are 30122\n",
      "Done 1420 out of 1896 and idfied are 30416\n",
      "Done 1430 out of 1896 and idfied are 30678\n",
      "Done 1440 out of 1896 and idfied are 30927\n",
      "Done 1450 out of 1896 and idfied are 31181\n",
      "Done 1460 out of 1896 and idfied are 31479\n",
      "Done 1470 out of 1896 and idfied are 31729\n",
      "Done 1480 out of 1896 and idfied are 32023\n",
      "Done 1490 out of 1896 and idfied are 32310\n",
      "Done 1500 out of 1896 and idfied are 32537\n",
      "Done 1510 out of 1896 and idfied are 32819\n",
      "Done 1520 out of 1896 and idfied are 33083\n",
      "Done 1530 out of 1896 and idfied are 33320\n",
      "Done 1540 out of 1896 and idfied are 33644\n",
      "Done 1550 out of 1896 and idfied are 33916\n",
      "Done 1560 out of 1896 and idfied are 34140\n",
      "Done 1570 out of 1896 and idfied are 34389\n",
      "Done 1580 out of 1896 and idfied are 34644\n",
      "Done 1590 out of 1896 and idfied are 34889\n",
      "Done 1600 out of 1896 and idfied are 35129\n",
      "Done 1610 out of 1896 and idfied are 35339\n",
      "Done 1620 out of 1896 and idfied are 35535\n",
      "Done 1630 out of 1896 and idfied are 35786\n",
      "Done 1640 out of 1896 and idfied are 36005\n",
      "Done 1650 out of 1896 and idfied are 36237\n",
      "Done 1660 out of 1896 and idfied are 36506\n",
      "Done 1670 out of 1896 and idfied are 36821\n",
      "Done 1680 out of 1896 and idfied are 37021\n",
      "Done 1690 out of 1896 and idfied are 37301\n",
      "Done 1700 out of 1896 and idfied are 37548\n",
      "Done 1710 out of 1896 and idfied are 37801\n",
      "Done 1720 out of 1896 and idfied are 38068\n",
      "Done 1730 out of 1896 and idfied are 38381\n",
      "Done 1740 out of 1896 and idfied are 38608\n",
      "Done 1750 out of 1896 and idfied are 38803\n",
      "Done 1760 out of 1896 and idfied are 39096\n",
      "Done 1770 out of 1896 and idfied are 39368\n",
      "Done 1780 out of 1896 and idfied are 39569\n",
      "Done 1790 out of 1896 and idfied are 39853\n",
      "Done 1800 out of 1896 and idfied are 40057\n",
      "Done 1810 out of 1896 and idfied are 40294\n",
      "Done 1820 out of 1896 and idfied are 40507\n",
      "Done 1830 out of 1896 and idfied are 40753\n",
      "Done 1840 out of 1896 and idfied are 40971\n",
      "Done 1850 out of 1896 and idfied are 41221\n",
      "Done 1860 out of 1896 and idfied are 41439\n",
      "Done 1870 out of 1896 and idfied are 41637\n",
      "Done 1880 out of 1896 and idfied are 41930\n",
      "Done 1890 out of 1896 and idfied are 42116\n"
     ]
    }
   ],
   "source": [
    "status = 0\n",
    "total_stat = len(paper_bbl_dict)\n",
    "idfied_working =0 \n",
    "\n",
    "for k in paper_bbl_dict:\n",
    "    if True:#k.startswith(\"2017_\"):# or k.startswith(\"2020_\"):\n",
    "        if status%10==0:\n",
    "            print(\"Done {} out of {} and idfied are {}\".format(status, total_stat, idfied_working))\n",
    "\n",
    "        for ref_key in paper_bbl_dict[k]:\n",
    "            clean_ref = unidecode.unidecode(paper_bbl_dict[k][ref_key][\"text\"])\n",
    "            clean_ref = clean_ref.lower()\n",
    "            clean_ref = re.sub('[\\W_]', '', clean_ref)\n",
    "            \n",
    "            first_half_newblock_ind = clean_ref.find(\"newblock\")\n",
    "            second_half = clean_ref[first_half_newblock_ind+8:]\n",
    "            second_half_newblock_ind = second_half.find(\"newblock\")\n",
    "            \n",
    "            potential_title_idfied_newblock = second_half[0:second_half_newblock_ind]\n",
    "            \n",
    "            if potential_title_idfied_newblock in paper_global_id_dict:\n",
    "                idfied_working += 1\n",
    "                paper_bbl_dict[k][ref_key][\"seq_id\"] = paper_global_id_dict[potential_title_idfied_newblock]\n",
    "            else:\n",
    "                for p_titel in paper_global_id_dict:\n",
    "                    if clean_ref.find(p_titel) > -1:\n",
    "                        paper_bbl_dict[k][ref_key][\"seq_id\"] = paper_global_id_dict[p_titel]\n",
    "                        break\n",
    "        status +=1"
   ]
  },
  {
   "cell_type": "code",
   "execution_count": 491,
   "metadata": {},
   "outputs": [
    {
     "data": {
      "text/plain": [
       "1896"
      ]
     },
     "execution_count": 491,
     "metadata": {},
     "output_type": "execute_result"
    }
   ],
   "source": [
    "len(paper_bbl_dict)"
   ]
  },
  {
   "cell_type": "code",
   "execution_count": 401,
   "metadata": {},
   "outputs": [],
   "source": [
    "with open(\"save_paper_bbl_becoz_ML_deadline_eating_RAM.pkl\", \"wb\") as f:\n",
    "    pickle.dump(paper_bbl_dict, f)"
   ]
  },
  {
   "cell_type": "code",
   "execution_count": 278,
   "metadata": {},
   "outputs": [
    {
     "name": "stdout",
     "output_type": "stream",
     "text": [
      "57636 72619\n"
     ]
    }
   ],
   "source": [
    "total = 0\n",
    "succ = 0\n",
    "\n",
    "for k in paper_bbl_dict:\n",
    "    if True:# k.startswith(\"2017_\") or k.startswith(\"2018_\"):\n",
    "        for ref_key in paper_bbl_dict[k]:\n",
    "            total += 1\n",
    "            if \"seq_id\" in paper_bbl_dict[k][ref_key]:\n",
    "                succ += 1\n",
    "print(succ, total)"
   ]
  },
  {
   "cell_type": "code",
   "execution_count": 158,
   "metadata": {},
   "outputs": [],
   "source": [
    "with open(\"save_paper_bbl_becoz_ML_deadline_eating_RAM.pkl\", \"wb\") as f:\n",
    "    pickle.dump(paper_bbl_dict, f)"
   ]
  },
  {
   "cell_type": "code",
   "execution_count": null,
   "metadata": {},
   "outputs": [],
   "source": []
  },
  {
   "cell_type": "code",
   "execution_count": 352,
   "metadata": {},
   "outputs": [],
   "source": [
    "with open(\"save_paper_bbl_becoz_ML_deadline_eating_RAM.pkl\", \"rb\") as f:\n",
    "    paper_bbl_dict = pickle.load(f)"
   ]
  },
  {
   "cell_type": "code",
   "execution_count": 353,
   "metadata": {},
   "outputs": [
    {
     "data": {
      "text/plain": [
       "1896"
      ]
     },
     "execution_count": 353,
     "metadata": {},
     "output_type": "execute_result"
    }
   ],
   "source": [
    "len(paper_bbl_dict)"
   ]
  },
  {
   "cell_type": "code",
   "execution_count": 117,
   "metadata": {},
   "outputs": [
    {
     "name": "stdout",
     "output_type": "stream",
     "text": [
      "2017_B1-Hhnslg dict_keys(['akata2013label', 'akata2015evaluation', 'lei2015predicting', 'banerjee2005clustering', 'bellet2013survey', 'edwards2017towards', 'elhoseiny2013write', 'goldberger2004neighbourhood', 'hochreiter1997long', 'ioffe2015batch', 'kingma2014adam', 'kingma2013auto', 'koch2015siamese', 'krizhevsky2012imagenet', 'kulis2012metric', 'lake2011one', 'liao2016', 'maaten2008visualizing', 'mensink2013distance', 'miller2000learning', 'min2009deep', 'ravi2017meta', 'reed2016learning', 'rezende2014stochastic', 'rippel2015metric', 'russakovsky2015imagenet', 'salakhutdinov2007learning', 'szegedy2015going', 'vinyals2016matching', 'weinberger2005distance', 'welinder2010caltech'])\n"
     ]
    }
   ],
   "source": [
    "for k, v in paper_bbl_dict.items():\n",
    "    if k.startswith(\"2017\") or k.startswith(\"2018\"):\n",
    "        print(k, paper_bbl_dict[k].keys())\n",
    "        break"
   ]
  },
  {
   "cell_type": "code",
   "execution_count": null,
   "metadata": {},
   "outputs": [],
   "source": []
  },
  {
   "cell_type": "markdown",
   "metadata": {},
   "source": [
    "# Extract citation key from citation context and map to unique paper"
   ]
  },
  {
   "cell_type": "code",
   "execution_count": 497,
   "metadata": {},
   "outputs": [],
   "source": [
    "graph_edges = defaultdict(set)"
   ]
  },
  {
   "cell_type": "markdown",
   "metadata": {},
   "source": [
    "**This will be done in 3 parts separately for each of the types of citation extracted from table cells, table captions and table-fulltextsearch**"
   ]
  },
  {
   "cell_type": "code",
   "execution_count": 498,
   "metadata": {
    "scrolled": true
   },
   "outputs": [
    {
     "name": "stdout",
     "output_type": "stream",
     "text": [
      "insucc bib re match:  2017_BycCx8qex <ref id='S1-F2'>2</ref>\n",
      "insucc bib re match:  2017_HJ0UKP9ge <ref id='S2-E2'>2</ref>\n",
      "insucc bib re match:  2017_HJ0UKP9ge <ref id='S2-E1'>1</ref>\n",
      "insucc bib re match:  2017_HkcdHtqlx <ref id='S3-E5'>5</ref>\n",
      "insucc bib re match:  2017_Hyq4yhile <ref id='S5-SS4'>5.4</ref>\n",
      "insucc bib re match:  2017_Hyq4yhile <ref id='S5-SS2'>5.2</ref>\n",
      "insucc bib re match:  2017_Hyq4yhile <ref id='S5-SS3'>5.3</ref>\n",
      "insucc bib re match:  2017_SJU4ayYgl <ref id='S2-E7'>7</ref>\n",
      "insucc bib re match:  2017_SJU4ayYgl <ref id='S2-E8'>8</ref>\n",
      "insucc bib re match:  2017_SJU4ayYgl <ref id='S2-E5'>5</ref>\n",
      "insucc bib re match:  2017_SJU4ayYgl <ref id='S2-E6'>6</ref>\n",
      "insucc bib re match:  2017_SkxKPDv5xl <ref id='S2-E2'>2</ref>\n",
      "insucc bib re match:  2017_SyCSsUDee <ref id='S3-F2'>2</ref>\n",
      "insucc bib re match:  2017_SyCSsUDee <ref id='S2-F1'>1</ref>\n",
      "insucc bib re match:  2017_SyCSsUDee <ref id='S3-F3'>3</ref>\n",
      "insucc bib re match:  2017_SyCSsUDee <ref id='S3-F2'>2</ref>\n",
      "insucc bib re match:  2017_SyCSsUDee <ref id='S2-F1'>1</ref>\n",
      "insucc bib re match:  2018_B1Gi6LeRZ <ref id='S3-E2'>2</ref>\n",
      "insucc bib re match:  2018_B1Gi6LeRZ <ref id='S3-E1'>1</ref>\n",
      "insucc bib re match:  2018_B1QRgziT- <ref id='S4-E17'>17</ref>\n",
      "insucc bib re match:  2018_B1zlp1bRW <ref id='alg2'>2</ref>\n",
      "insucc bib re match:  2018_B1zlp1bRW <ref id='alg1'>1</ref>\n",
      "insucc bib re match:  2018_Bk346Ok0W <ref id='id11'>WSJ</ref>\n",
      "insucc bib re match:  2018_Bk346Ok0W <ref id='id18'>STAN</ref>\n",
      "insucc bib re match:  2018_ByquB-WC- <ref id='footnote4'>4</ref>\n",
      "insucc bib re match:  2018_HJCXZQbAZ <ref id='S3-E7'>7</ref>\n",
      "insucc bib re match:  2018_HJCXZQbAZ <ref id='S2-E1'>1</ref>\n",
      "insucc bib re match:  2018_HJRV1ZZAW <ref id='footnotex2'>section A.1</ref>\n",
      "insucc bib re match:  2018_S1nQvfgA- <ref id='A5-T5'>5</ref>\n",
      "insucc bib re match:  2018_SJQHjzZ0- <ref id='S4-T7'>7</ref>\n",
      "insucc bib re match:  2018_rJYFzMZC- <ref id='S2-E2'>2</ref>\n",
      "insucc bib re match:  2018_rJYFzMZC- <ref id='S2-E3'>3</ref>\n",
      "insucc bib re match:  2018_rJYFzMZC- <ref id='S3-E9'>9</ref>\n",
      "insucc bib re match:  2018_ry8dvM-R- <ref id='S4-F7'>7</ref>\n",
      "insucc bib re match:  2018_ry8dvM-R- <ref id='S4-F4'>4</ref>\n",
      "insucc bib re match:  2018_ry8dvM-R- <ref id='S4-F6'>6</ref>\n",
      "insucc bib re match:  2018_ry8dvM-R- <ref id='S4-F5'>5</ref>\n",
      "insucc bib re match:  2018_ryiAv2xAZ <ref id='A5-E5'>5</ref>\n",
      "insucc bib re match:  2019_B1gTShAct7 <ref id='alg4'>4</ref>\n",
      "insucc bib re match:  2019_B1gTShAct7 <ref id='alg7'>7</ref>\n",
      "insucc bib re match:  2019_B1gTShAct7 <ref id='alg5'>5</ref>\n",
      "insucc bib re match:  2019_B1gTShAct7 <ref id='alg1'>1</ref>\n",
      "insucc bib re match:  2019_B1gTShAct7 <ref id='alg6'>6</ref>\n",
      "insucc bib re match:  2019_B1l08oAct7 <ref id='A2-SS2'>B.2</ref>\n",
      "insucc bib re match:  2019_B1l08oAct7 <ref id='A2-SS5'>B.5</ref>\n",
      "insucc bib re match:  2019_B1l08oAct7 <ref id='A2-SS4'>B.4</ref>\n",
      "insucc bib re match:  2019_B1l08oAct7 <ref id='A2-SS3'>B.3</ref>\n",
      "insucc bib re match:  2019_B1xY-hRctX <ref id='S2-E4'>4</ref>\n",
      "insucc bib re match:  2019_B1xY-hRctX <ref id='S2-E3'>3</ref>\n",
      "insucc bib re match:  2019_B1xY-hRctX <ref id='S2-E1'>1</ref>\n",
      "insucc bib re match:  2019_BJx0sjC5FX <ref id='S2-SS1'>2.1</ref>\n",
      "insucc bib re match:  2019_H1gKYo09tX <ref id='S4-T1'>Table 1</ref>\n",
      "insucc bib re match:  2019_H1gL-2A9Ym <ref id='S3'>3</ref>\n",
      "insucc bib re match:  2019_H1gL-2A9Ym <ref id='S3'>3</ref>\n",
      "insucc bib re match:  2019_HkxLXnAcFQ <ref id='footnote3'>3</ref>\n",
      "insucc bib re match:  2019_HkxjYoCqKX <ref id='footnote6'>6</ref>\n",
      "insucc bib re match:  2019_HkxjYoCqKX <ref id='footnote5'>5</ref>\n",
      "insucc bib re match:  2019_Hyfg5o0qtm <ref id='A2-F9'>9</ref>\n",
      "insucc bib re match:  2019_Skf-oo0qt7 <ref id='S1-F1'>1</ref>\n",
      "insucc bib re match:  2019_rkMhusC5Y7 <ref id='S3-E2'>2</ref>\n",
      "insucc bib re match:  2019_rkMhusC5Y7 <ref id='S3-SS4'>3.4</ref>\n",
      "insucc bib re match:  2019_rygp3iRcF7 <ref id='S3-E9'>9</ref>\n",
      "insucc bib re match:  2019_rygp3iRcF7 <ref id='S3-E4'>4</ref>\n",
      "insucc bib re match:  2019_rygp3iRcF7 <ref id='S3-E3'>3</ref>\n",
      "insucc bib re match:  2019_rygp3iRcF7 <ref id='S3-E9'>9</ref>\n",
      "insucc bib re match:  2019_rygp3iRcF7 <ref id='S3-E4'>4</ref>\n",
      "insucc bib re match:  2019_rygp3iRcF7 <ref id='S3-E3'>3</ref>\n",
      "insucc bib re match:  2020_BJeUs3VFPH <ref id='id12'>NBT</ref>\n",
      "insucc bib re match:  2020_BklSv34KvB <ref id='S5-F4'>4</ref>\n",
      "insucc bib re match:  2020_BklSv34KvB <ref id='A3-SS2'>C.2</ref>\n",
      "insucc bib re match:  2020_BklSv34KvB <ref id='A3-F11'>11</ref>\n",
      "insucc bib re match:  2020_BklSv34KvB <ref id='A3-SS1'>C.1</ref>\n",
      "insucc bib re match:  2020_BklSv34KvB <ref id='A3-SS3'>C.3</ref>\n",
      "insucc bib re match:  2020_BklSv34KvB <ref id='A3-F9'>9</ref>\n",
      "insucc bib re match:  2020_BklSv34KvB <ref id='A3-F10'>10</ref>\n",
      "insucc bib re match:  2020_BklSwn4tDH <ref id='S5-F6'>6</ref>\n",
      "insucc bib re match:  2020_BklSwn4tDH <ref id='S5-F5'>5</ref>\n",
      "insucc bib re match:  2020_SJgIPJBFvH <ref id='A3-E19'>19</ref>\n",
      "insucc bib re match:  2020_SJgIPJBFvH <ref id='A3-E23'>23</ref>\n",
      "insucc bib re match:  2020_SJgIPJBFvH <ref id='A3-E20'>20</ref>\n",
      "insucc bib re match:  2020_SJgIPJBFvH <ref id='A3-E22'>22</ref>\n",
      "insucc bib re match:  2020_SJgIPJBFvH <ref id='A3-E21'>21</ref>\n",
      "insucc bib re match:  2020_SJgIPJBFvH <ref id='A3-E45'>45</ref>\n",
      "insucc bib re match:  2020_SJgIPJBFvH <ref id='A3-E62'>62</ref>\n",
      "insucc bib re match:  2020_SJgIPJBFvH <ref id='A3-E26'>26</ref>\n",
      "insucc bib re match:  2020_SJgIPJBFvH <ref id='A3-E63'>63</ref>\n",
      "insucc bib re match:  2020_SJgIPJBFvH <ref id='A3-E44'>44</ref>\n",
      "insucc bib re match:  2020_SJgIPJBFvH <ref id='A3-E40'>40</ref>\n",
      "insucc bib re match:  2020_SJgIPJBFvH <ref id='A3-E49'>49</ref>\n",
      "insucc bib re match:  2020_SJgIPJBFvH <ref id='A3-E66'>66</ref>\n",
      "insucc bib re match:  2020_SJgIPJBFvH <ref id='A3-E52'>52</ref>\n",
      "insucc bib re match:  2020_SJgIPJBFvH <ref id='A3-E42'>42</ref>\n",
      "insucc bib re match:  2020_SJgIPJBFvH <ref id='A3-E65'>65</ref>\n",
      "insucc bib re match:  2020_SJgIPJBFvH <ref id='A3-E61'>61</ref>\n",
      "insucc bib re match:  2020_SJgIPJBFvH <ref id='A3-E64'>64</ref>\n",
      "insucc bib re match:  2020_SJlYqRNKDS <ref id='S4'>4</ref>\n",
      "insucc bib re match:  2020_SJlYqRNKDS <ref id='S4'>4</ref>\n",
      "insucc bib re match:  2020_r1genAVKPB <ref id='A2-Thmthm1'>B.1</ref>\n",
      "insucc bib re match:  2020_r1genAVKPB <ref id='S4-Thmthm2'>4.2</ref>\n",
      "insucc bib re match:  2020_r1genAVKPB <ref id='A3-Thmthm1'>C.1</ref>\n",
      "insucc bib re match:  2020_r1genAVKPB <ref id='S4-Thmthm1'>4.1</ref>\n",
      "insucc bib re match:  2020_rJeXS04FPH <ref id='S4-T3'>3</ref>\n",
      "insucc bib re match:  2020_rJeXS04FPH <ref id='S4-T2'>2</ref>\n"
     ]
    }
   ],
   "source": [
    "# DONE = False\n",
    "found_in_paper_not_arxiv = 0\n",
    "fipna_pid = []\n",
    "bib_seq_not_found = []\n",
    "\n",
    "iclr_yearwise_graph_info = {}\n",
    "reverse_iclr_yearwise_graph_info = {}\n",
    "\n",
    "for k in leaderboard_refs:\n",
    "    title = iclr_arxiv_map[k][\"title\"].lower()\n",
    "    unaccented_title = unidecode.unidecode(title)\n",
    "    clean_title = re.sub('[\\W_]', '', unaccented_title)\n",
    "    \n",
    "    if clean_title in paper_global_id_dict:\n",
    "        self_global_id = paper_global_id_dict[clean_title]\n",
    "    else:\n",
    "        paper_global_id_dict[clean_title] = len(paper_global_id_dict)\n",
    "        self_global_id = paper_global_id_dict[clean_title]\n",
    "    \n",
    "    iclr_yearwise_graph_info[k] = self_global_id\n",
    "    reverse_iclr_yearwise_graph_info[self_global_id] = k\n",
    "    \n",
    "    try:\n",
    "        if leaderboard_refs[k][\"count\"] > 0 and k in paper_bbl_dict: #k.startswith(\"2017\"):# or k.startswith(\"2018\"):\n",
    "            \n",
    "            ldb_abl_keys = []\n",
    "            if \"ldb\" in leaderboard_refs[k]['refs'] and leaderboard_refs[k]['refs'][\"ldb\"]:\n",
    "                ldb_abl_keys.append(\"ldb\")\n",
    "            if \"abl\" in leaderboard_refs[k]['refs'] and leaderboard_refs[k]['refs'][\"abl\"]:\n",
    "                ldb_abl_keys.append(\"abl\")\n",
    "            \n",
    "            for ldbabl_ref_key in ldb_abl_keys:\n",
    "                for ldb_ref in leaderboard_refs[k]['refs'][ldbabl_ref_key]:\n",
    "                    m = re.search(\"bib[a]?-bib([0-9][0-9]?)\", ldb_ref)\n",
    "                    if m:\n",
    "                        seq_key = int(m.group(1))\n",
    "                        if k == \"2017_BJlxmAKlg\":\n",
    "                            seq_key = seq_key - 1\n",
    "                        found = False\n",
    "                        partially_found = False\n",
    "                        for paper_bib_entry in paper_bbl_dict[k].values():\n",
    "                            if \"bib-seq\" in paper_bib_entry and paper_bib_entry[\"bib-seq\"] == seq_key:\n",
    "                                if \"seq_id\" in paper_bib_entry:\n",
    "                                    found = True\n",
    "                                    graph_edges[self_global_id].add(paper_bib_entry[\"seq_id\"])\n",
    "                                else:\n",
    "                                    partially_found = True\n",
    "                                    found_in_paper_not_arxiv += 1\n",
    "                        if not found and not partially_found:\n",
    "                            bib_seq_not_found.append((k, ldb_ref))\n",
    "                    else:\n",
    "                        print(\"insucc bib re match: \", k, ldb_ref)\n",
    "            if not self_global_id in graph_edges:\n",
    "                fipna_pid.append(k)\n",
    "    except Exception as ex:\n",
    "        print(\"Error: \", k, ex)"
   ]
  },
  {
   "cell_type": "code",
   "execution_count": null,
   "metadata": {},
   "outputs": [],
   "source": [
    "len(leade)"
   ]
  },
  {
   "cell_type": "code",
   "execution_count": 499,
   "metadata": {},
   "outputs": [
    {
     "data": {
      "text/plain": [
       "(198,\n",
       " 193,\n",
       " [('2017_BJbD_Pqlg', \"<ref id='bib-bib1'>2014</ref>\"),\n",
       "  ('2017_HJ1kmv9xx', \"<ref id='bib-bib23'>2016</ref>\"),\n",
       "  ('2017_HkpbnH9lx', \"<ref id='bib-bib46'>46</ref>\"),\n",
       "  ('2017_HkpbnH9lx', \"<ref id='bib-bib34'>34</ref>\"),\n",
       "  ('2017_HkpbnH9lx', \"<ref id='bib-bib22'>22</ref>\")])"
      ]
     },
     "execution_count": 499,
     "metadata": {},
     "output_type": "execute_result"
    }
   ],
   "source": [
    "found_in_paper_not_arxiv, len(bib_seq_not_found), bib_seq_not_found[0:5]"
   ]
  },
  {
   "cell_type": "code",
   "execution_count": 405,
   "metadata": {},
   "outputs": [
    {
     "data": {
      "text/plain": [
       "194"
      ]
     },
     "execution_count": 405,
     "metadata": {},
     "output_type": "execute_result"
    }
   ],
   "source": [
    "392-198"
   ]
  },
  {
   "cell_type": "code",
   "execution_count": 368,
   "metadata": {},
   "outputs": [
    {
     "data": {
      "text/plain": [
       "'1605.08803v3'"
      ]
     },
     "execution_count": 368,
     "metadata": {},
     "output_type": "execute_result"
    }
   ],
   "source": [
    "nk = \"2017_HkpbnH9lx\"\n",
    "iclr_arxiv_map[nk][\"arxivId\"]#, paper_bbl_dict[nk]"
   ]
  },
  {
   "cell_type": "code",
   "execution_count": 369,
   "metadata": {},
   "outputs": [
    {
     "data": {
      "text/plain": [
       "198"
      ]
     },
     "execution_count": 369,
     "metadata": {},
     "output_type": "execute_result"
    }
   ],
   "source": [
    "found_in_paper_not_arxiv"
   ]
  },
  {
   "cell_type": "code",
   "execution_count": 383,
   "metadata": {},
   "outputs": [
    {
     "name": "stdout",
     "output_type": "stream",
     "text": [
      "True\n",
      "False\n"
     ]
    }
   ],
   "source": [
    "print(\"AutoencodersandGenerativeAdversarialNetworksforImbalancedSequenceClassification\" in paper_global_id_dict)\n",
    "print(\"AutoencodersandGenerativeAdversarialNetworksforImbalancedSequenceClassification\".lower() in paper_global_id_dict)"
   ]
  },
  {
   "cell_type": "code",
   "execution_count": 382,
   "metadata": {},
   "outputs": [],
   "source": [
    "#WRONG!!! DONT DO THIS AGAIN\n",
    "\n",
    "# caps_titels_list = list(paper_global_id_dict.keys())\n",
    "\n",
    "# for paper_caps in caps_titels_list:\n",
    "#     if paper_caps.lower() in paper_global_id_dict:\n",
    "#         del paper_global_id_dict[paper_caps]"
   ]
  },
  {
   "cell_type": "code",
   "execution_count": 384,
   "metadata": {},
   "outputs": [
    {
     "data": {
      "text/plain": [
       "1713"
      ]
     },
     "execution_count": 384,
     "metadata": {},
     "output_type": "execute_result"
    }
   ],
   "source": [
    "len(paper_global_id_dict)"
   ]
  },
  {
   "cell_type": "code",
   "execution_count": 370,
   "metadata": {},
   "outputs": [
    {
     "data": {
      "text/plain": [
       "{}"
      ]
     },
     "execution_count": 370,
     "metadata": {},
     "output_type": "execute_result"
    }
   ],
   "source": [
    "leaderboard_refs[\"1702.08811v3\"]"
   ]
  },
  {
   "cell_type": "code",
   "execution_count": 372,
   "metadata": {},
   "outputs": [],
   "source": [
    "del leaderboard_refs[\"1702.08811v3\"]"
   ]
  },
  {
   "cell_type": "code",
   "execution_count": 413,
   "metadata": {},
   "outputs": [
    {
     "data": {
      "text/plain": [
       "defaultdict(set,\n",
       "            {40517: {2895, 45773, 283317, 385142, 490188, 779070},\n",
       "             419660: {111966, 396737, 861194, 888571, 1082720, 1147022},\n",
       "             1121619: {117412,\n",
       "              171477,\n",
       "              190284,\n",
       "              309772,\n",
       "              513240,\n",
       "              596867,\n",
       "              907099,\n",
       "              1039218,\n",
       "              1140292},\n",
       "             748140: {2895, 930686, 1044012},\n",
       "             323641: {154986, 539819, 1107219},\n",
       "             298789: {408575, 772825, 1082252},\n",
       "             116985: {81294,\n",
       "              88529,\n",
       "              143084,\n",
       "              416925,\n",
       "              574288,\n",
       "              809115,\n",
       "              920951,\n",
       "              928211,\n",
       "              985741,\n",
       "              1014228},\n",
       "             57209: {38666, 502887, 545116, 635748, 838523},\n",
       "             825280: {190284, 730027, 760983},\n",
       "             106387: {404528, 406679, 416925, 678460, 774827, 818442},\n",
       "             187357: {2895,\n",
       "              88529,\n",
       "              88735,\n",
       "              116985,\n",
       "              143084,\n",
       "              545116,\n",
       "              574288,\n",
       "              766849,\n",
       "              809115,\n",
       "              928211,\n",
       "              959271,\n",
       "              1045843},\n",
       "             767136: {7427, 502887, 545116, 635748, 818850, 838523, 1053206},\n",
       "             103149: {2895,\n",
       "              125627,\n",
       "              172080,\n",
       "              201733,\n",
       "              386255,\n",
       "              545116,\n",
       "              551035,\n",
       "              563087,\n",
       "              903195},\n",
       "             147874: {351057, 408784, 692073, 802248, 986408},\n",
       "             43836: {762773},\n",
       "             784931: {88529,\n",
       "              89381,\n",
       "              574288,\n",
       "              619697,\n",
       "              673398,\n",
       "              809115,\n",
       "              1014228,\n",
       "              1089480},\n",
       "             631500: {210556,\n",
       "              224770,\n",
       "              527483,\n",
       "              533169,\n",
       "              549955,\n",
       "              577783,\n",
       "              727695,\n",
       "              962076,\n",
       "              1024457,\n",
       "              1081099,\n",
       "              1137843},\n",
       "             619697: {16595, 236992, 861194, 1082720},\n",
       "             396737: {16595, 30010, 111966, 888571, 953530, 1147022},\n",
       "             158563: {2895,\n",
       "              86134,\n",
       "              206085,\n",
       "              267591,\n",
       "              273121,\n",
       "              840735,\n",
       "              868828,\n",
       "              914156},\n",
       "             298527: {835, 355574, 502521, 504257},\n",
       "             465171: {30010, 396737, 728607, 841023, 888571, 1078483, 1147022},\n",
       "             41789: {88529,\n",
       "              88735,\n",
       "              187357,\n",
       "              574288,\n",
       "              766849,\n",
       "              809115,\n",
       "              920951,\n",
       "              928211,\n",
       "              1014228},\n",
       "             918811: {2895, 537503},\n",
       "             272798: {479906, 1110572},\n",
       "             373505: {88529,\n",
       "              88735,\n",
       "              574288,\n",
       "              766849,\n",
       "              809115,\n",
       "              827588,\n",
       "              920951,\n",
       "              928211,\n",
       "              1014228},\n",
       "             718643: {111844, 160522, 642561, 747023, 914975, 1112078},\n",
       "             871847: {2266,\n",
       "              2895,\n",
       "              36246,\n",
       "              111966,\n",
       "              149788,\n",
       "              154986,\n",
       "              290797,\n",
       "              396737,\n",
       "              527483,\n",
       "              545116,\n",
       "              619740,\n",
       "              671398,\n",
       "              710746,\n",
       "              886663,\n",
       "              887261,\n",
       "              888571,\n",
       "              953530,\n",
       "              1107219,\n",
       "              1137843,\n",
       "              1147022},\n",
       "             1061408: {2895,\n",
       "              339697,\n",
       "              362287,\n",
       "              406679,\n",
       "              530521,\n",
       "              668764,\n",
       "              678460,\n",
       "              774827,\n",
       "              1084817},\n",
       "             983826: {36246, 38666, 575986, 590287, 699695, 739903, 1016426},\n",
       "             795292: {46875, 205248, 545116, 632446},\n",
       "             988120: {408575},\n",
       "             532454: {2895, 943067},\n",
       "             871467: {952767, 960425, 991038},\n",
       "             672871: {545116, 594284, 1145412},\n",
       "             626940: {497194},\n",
       "             994593: {34514,\n",
       "              181085,\n",
       "              210556,\n",
       "              527483,\n",
       "              545116,\n",
       "              549955,\n",
       "              577783,\n",
       "              675798,\n",
       "              727695,\n",
       "              958605,\n",
       "              962076,\n",
       "              1090796,\n",
       "              1133440},\n",
       "             443059: {861194, 1082720},\n",
       "             634474: {38666, 155762, 545116, 655452, 739903, 782939},\n",
       "             890616: {2895, 75420, 139398, 490510, 545116},\n",
       "             747023: {2895,\n",
       "              160522,\n",
       "              206085,\n",
       "              273121,\n",
       "              545116,\n",
       "              582358,\n",
       "              608094,\n",
       "              718643,\n",
       "              746563,\n",
       "              868828,\n",
       "              930686,\n",
       "              1061275,\n",
       "              1079402,\n",
       "              1091029},\n",
       "             672652: {611241, 951831},\n",
       "             1127888: {229558, 452778, 970047},\n",
       "             36021: {211721,\n",
       "              368371,\n",
       "              390621,\n",
       "              807095,\n",
       "              988869,\n",
       "              1080741,\n",
       "              1113841,\n",
       "              1130480},\n",
       "             301549: {224770, 527483, 1133440, 1137843},\n",
       "             363588: {545116},\n",
       "             55290: {2895,\n",
       "              157588,\n",
       "              182936,\n",
       "              404528,\n",
       "              406679,\n",
       "              416925,\n",
       "              611241,\n",
       "              678460,\n",
       "              774827,\n",
       "              930686},\n",
       "             2266: {91327, 459788, 545116, 550361, 671398},\n",
       "             943322: {224770, 290797, 527483, 1081099, 1133440, 1137843},\n",
       "             779227: {159990},\n",
       "             465168: {16595,\n",
       "              30010,\n",
       "              36246,\n",
       "              96889,\n",
       "              111966,\n",
       "              181085,\n",
       "              210556,\n",
       "              224770,\n",
       "              290797,\n",
       "              396737,\n",
       "              527483,\n",
       "              577783,\n",
       "              710746,\n",
       "              884862,\n",
       "              888571,\n",
       "              953530,\n",
       "              962076,\n",
       "              1034028,\n",
       "              1133440,\n",
       "              1137843,\n",
       "              1147022},\n",
       "             1175150: {207180, 950630},\n",
       "             640648: {32898,\n",
       "              68386,\n",
       "              88735,\n",
       "              146835,\n",
       "              236992,\n",
       "              286557,\n",
       "              456347,\n",
       "              545116,\n",
       "              639555,\n",
       "              769391,\n",
       "              1034028},\n",
       "             884862: {16595, 30010, 111966, 396737, 888571, 953530, 1147022},\n",
       "             739887: {2895,\n",
       "              89706,\n",
       "              102007,\n",
       "              154668,\n",
       "              401847,\n",
       "              587540,\n",
       "              659731,\n",
       "              765865,\n",
       "              780525,\n",
       "              793490,\n",
       "              805856,\n",
       "              815591,\n",
       "              911311,\n",
       "              947852,\n",
       "              1114066},\n",
       "             40318: {2895},\n",
       "             390439: {88529, 373505, 574288, 809115, 1014228},\n",
       "             41786: {143084, 986872},\n",
       "             146835: {456347, 640648, 888571, 1034028, 1147022},\n",
       "             377040: {555389, 953530},\n",
       "             143596: {59572},\n",
       "             87016: {416925, 678460, 930686},\n",
       "             845060: {125022, 500898},\n",
       "             1151398: {2895,\n",
       "              41786,\n",
       "              41789,\n",
       "              143084,\n",
       "              185905,\n",
       "              187357,\n",
       "              247004,\n",
       "              389571,\n",
       "              444569,\n",
       "              620399,\n",
       "              900106,\n",
       "              959271,\n",
       "              962765,\n",
       "              986872,\n",
       "              1014228,\n",
       "              1047534,\n",
       "              1104361},\n",
       "             356448: {270928, 415153, 545116, 1006308},\n",
       "             830684: {545116, 1129126},\n",
       "             1023876: {137434, 871848, 903822, 971998},\n",
       "             822439: {2895,\n",
       "              41786,\n",
       "              41789,\n",
       "              143084,\n",
       "              187357,\n",
       "              247004,\n",
       "              389571,\n",
       "              444569,\n",
       "              900106,\n",
       "              959271,\n",
       "              962765,\n",
       "              986872,\n",
       "              1047534},\n",
       "             435825: {55290, 157588, 210309, 416925, 774827},\n",
       "             995583: {26933, 171477, 401239, 575986, 590287, 739903, 994597},\n",
       "             325597: {2895,\n",
       "              36246,\n",
       "              224770,\n",
       "              465168,\n",
       "              506277,\n",
       "              578176,\n",
       "              897931,\n",
       "              938355,\n",
       "              987677,\n",
       "              993543,\n",
       "              994593,\n",
       "              1105195,\n",
       "              1133440,\n",
       "              1148018},\n",
       "             536826: {40517, 45773, 279371, 667446, 681303, 779070},\n",
       "             983600: {40517,\n",
       "              45773,\n",
       "              218263,\n",
       "              283317,\n",
       "              478324,\n",
       "              510128,\n",
       "              545116,\n",
       "              667446,\n",
       "              779070},\n",
       "             170347: {2895, 305932, 502521},\n",
       "             212040: {835, 953530},\n",
       "             1037662: {2895, 408575, 728338},\n",
       "             999710: {2895, 41789, 900106},\n",
       "             32559: {111966,\n",
       "              236992,\n",
       "              353768,\n",
       "              396737,\n",
       "              456347,\n",
       "              465168,\n",
       "              543229,\n",
       "              589353,\n",
       "              710746,\n",
       "              884862,\n",
       "              888571,\n",
       "              1050603},\n",
       "             23082: {99956, 130255, 506646, 545116, 549873, 768813, 779070},\n",
       "             777864: {32559,\n",
       "              130809,\n",
       "              143440,\n",
       "              147874,\n",
       "              181898,\n",
       "              351057,\n",
       "              370473,\n",
       "              455492,\n",
       "              598309,\n",
       "              683125,\n",
       "              692073,\n",
       "              777744,\n",
       "              802248,\n",
       "              888571,\n",
       "              999037,\n",
       "              1142991,\n",
       "              1144335},\n",
       "             168720: {229559, 457357, 791630},\n",
       "             447925: {303930, 415153, 757585, 1084947},\n",
       "             212808: {464084, 1138653},\n",
       "             8211: {580894},\n",
       "             996853: {224770,\n",
       "              500851,\n",
       "              527483,\n",
       "              534935,\n",
       "              712958,\n",
       "              898155,\n",
       "              920120,\n",
       "              1133440},\n",
       "             1103340: {1076712},\n",
       "             65465: {2895,\n",
       "              75065,\n",
       "              108849,\n",
       "              157588,\n",
       "              182936,\n",
       "              288253,\n",
       "              357428,\n",
       "              404528,\n",
       "              406679,\n",
       "              416925,\n",
       "              512350,\n",
       "              611241,\n",
       "              678460,\n",
       "              744330,\n",
       "              774827,\n",
       "              818442,\n",
       "              930686,\n",
       "              995417,\n",
       "              1044012,\n",
       "              1092245,\n",
       "              1095312},\n",
       "             545857: {55119, 571973, 1152933},\n",
       "             1153589: {27080, 107989, 223243, 419232, 545116, 569749, 960425},\n",
       "             1114227: {99956,\n",
       "              168220,\n",
       "              201733,\n",
       "              229558,\n",
       "              506646,\n",
       "              575986,\n",
       "              590287,\n",
       "              903195,\n",
       "              1016426,\n",
       "              1025741},\n",
       "             204393: {310184, 711680, 900106, 1047534, 1104361},\n",
       "             417434: {63784, 108788, 284947, 470891, 548432, 841023},\n",
       "             1128982: {193682, 720871},\n",
       "             668561: {5098, 465168, 718033, 1105195},\n",
       "             500227: {135824,\n",
       "              171477,\n",
       "              176873,\n",
       "              446477,\n",
       "              575986,\n",
       "              590287,\n",
       "              602023,\n",
       "              643188,\n",
       "              739903,\n",
       "              1095618,\n",
       "              1140513},\n",
       "             195169: {46321,\n",
       "              254587,\n",
       "              407906,\n",
       "              461415,\n",
       "              545116,\n",
       "              558235,\n",
       "              622648,\n",
       "              999037,\n",
       "              1038531},\n",
       "             710988: {148657, 215843, 222816, 229558, 452778, 970047, 1127888},\n",
       "             1103338: {361808, 912623},\n",
       "             167787: {246024, 362175, 1015990},\n",
       "             803185: {545116, 664975, 1097708},\n",
       "             181603: {137434, 502521, 903822, 971998, 1097708},\n",
       "             568923: {210901, 216031, 658388, 830007, 971904},\n",
       "             1023338: {32898, 286557, 639555, 640648, 1135436},\n",
       "             186306: {30010,\n",
       "              32559,\n",
       "              111966,\n",
       "              396737,\n",
       "              419660,\n",
       "              465168,\n",
       "              884862,\n",
       "              888571,\n",
       "              1016043,\n",
       "              1050603,\n",
       "              1147022},\n",
       "             1137833: {2895, 41789, 1104361},\n",
       "             629131: {63989,\n",
       "              163018,\n",
       "              229558,\n",
       "              259081,\n",
       "              260738,\n",
       "              276140,\n",
       "              452778,\n",
       "              548147,\n",
       "              575986,\n",
       "              699695,\n",
       "              708536,\n",
       "              1016426},\n",
       "             71771: {40517, 218263, 283317, 667446, 779070},\n",
       "             1154320: {352134, 1039956},\n",
       "             1065381: {135824, 171477, 446477, 575986, 1095618, 1140513},\n",
       "             934425: {41790, 277109, 325489},\n",
       "             629492: {36246, 527483, 615105},\n",
       "             1115833: {61410, 162315, 393129, 970071, 1082523},\n",
       "             942396: {7427,\n",
       "              169840,\n",
       "              282792,\n",
       "              502887,\n",
       "              516983,\n",
       "              545116,\n",
       "              630669,\n",
       "              635748,\n",
       "              702938,\n",
       "              739903,\n",
       "              767136,\n",
       "              818850,\n",
       "              838523,\n",
       "              950895,\n",
       "              1039214,\n",
       "              1053206},\n",
       "             684799: {63784,\n",
       "              75065,\n",
       "              108788,\n",
       "              548432,\n",
       "              611241,\n",
       "              691587,\n",
       "              728607,\n",
       "              930686,\n",
       "              1044012},\n",
       "             396500: {121562,\n",
       "              229558,\n",
       "              259081,\n",
       "              370175,\n",
       "              490510,\n",
       "              575986,\n",
       "              590287,\n",
       "              591234,\n",
       "              708536},\n",
       "             368393: {180383, 210556, 540762, 618221},\n",
       "             670333: {116991,\n",
       "              135824,\n",
       "              171477,\n",
       "              229558,\n",
       "              259081,\n",
       "              260738,\n",
       "              370175,\n",
       "              446477,\n",
       "              490510,\n",
       "              575986,\n",
       "              590287,\n",
       "              602023,\n",
       "              726326,\n",
       "              739903,\n",
       "              782939,\n",
       "              889118,\n",
       "              1140513,\n",
       "              1157598},\n",
       "             83903: {32559,\n",
       "              111966,\n",
       "              396737,\n",
       "              692073,\n",
       "              884862,\n",
       "              888571,\n",
       "              1050603,\n",
       "              1147022},\n",
       "             61377: {2895,\n",
       "              103720,\n",
       "              121562,\n",
       "              545116,\n",
       "              674625,\n",
       "              777520,\n",
       "              953530,\n",
       "              1037741,\n",
       "              1084605,\n",
       "              1133929,\n",
       "              1157598},\n",
       "             374257: {108849, 154986, 323641, 512350, 543229, 1107219},\n",
       "             534749: {302486, 868479},\n",
       "             735551: {903195},\n",
       "             700193: {130809,\n",
       "              181898,\n",
       "              370473,\n",
       "              455492,\n",
       "              683125,\n",
       "              728776,\n",
       "              777744,\n",
       "              819832,\n",
       "              1142991,\n",
       "              1144335},\n",
       "             432505: {99956, 168220, 768813, 1025741},\n",
       "             479090: {23685, 294208, 604233, 866458, 1121631, 1157598},\n",
       "             920090: {2895, 116985, 575327},\n",
       "             819410: {1107219},\n",
       "             900094: {718033},\n",
       "             654638: {707049},\n",
       "             941486: {74887},\n",
       "             1050603: {30010,\n",
       "              32559,\n",
       "              111966,\n",
       "              396737,\n",
       "              419660,\n",
       "              465168,\n",
       "              884862,\n",
       "              888571,\n",
       "              1147022},\n",
       "             449654: {139462, 532358, 835873},\n",
       "             350451: {50221},\n",
       "             708197: {599584, 718033, 785050, 987677},\n",
       "             56524: {36639,\n",
       "              76965,\n",
       "              157588,\n",
       "              177723,\n",
       "              362287,\n",
       "              386538,\n",
       "              404528,\n",
       "              406679,\n",
       "              416925,\n",
       "              521676,\n",
       "              594980,\n",
       "              668764,\n",
       "              678460,\n",
       "              774827,\n",
       "              818442,\n",
       "              898400,\n",
       "              1084817,\n",
       "              1095312},\n",
       "             839248: {2895, 551035, 599515, 987677, 1090796, 1133440},\n",
       "             1162662: {399746, 440760, 545116, 651722, 1068740},\n",
       "             890415: {16595,\n",
       "              30010,\n",
       "              34514,\n",
       "              36246,\n",
       "              111966,\n",
       "              125627,\n",
       "              181085,\n",
       "              210556,\n",
       "              338383,\n",
       "              396737,\n",
       "              415153,\n",
       "              465168,\n",
       "              527483,\n",
       "              533169,\n",
       "              545116,\n",
       "              549955,\n",
       "              577783,\n",
       "              631500,\n",
       "              718033,\n",
       "              727695,\n",
       "              884862,\n",
       "              888571,\n",
       "              953530,\n",
       "              962076,\n",
       "              1024457,\n",
       "              1069205,\n",
       "              1147022},\n",
       "             765686: {103720, 545116, 1037741},\n",
       "             425542: {46321, 97556},\n",
       "             445185: {2895,\n",
       "              46693,\n",
       "              236599,\n",
       "              457731,\n",
       "              545116,\n",
       "              668764,\n",
       "              677170,\n",
       "              933811,\n",
       "              1053506},\n",
       "             356452: {99956, 506646, 563087, 791282, 903195, 1025741},\n",
       "             340912: {2895,\n",
       "              75420,\n",
       "              139398,\n",
       "              490510,\n",
       "              545116,\n",
       "              729114,\n",
       "              776475,\n",
       "              890616,\n",
       "              1028281},\n",
       "             1154688: {30010,\n",
       "              32559,\n",
       "              45337,\n",
       "              111966,\n",
       "              137434,\n",
       "              146835,\n",
       "              396737,\n",
       "              419660,\n",
       "              465168,\n",
       "              619740,\n",
       "              884862,\n",
       "              887261,\n",
       "              888571,\n",
       "              971998,\n",
       "              1050603,\n",
       "              1107219,\n",
       "              1147022},\n",
       "             953985: {41789, 88529, 102705, 862590},\n",
       "             777105: {28660,\n",
       "              171477,\n",
       "              446477,\n",
       "              575986,\n",
       "              590287,\n",
       "              602023,\n",
       "              726326,\n",
       "              739903},\n",
       "             772086: {171477, 181005},\n",
       "             546205: {540762, 672652, 1014035},\n",
       "             1016043: {30010,\n",
       "              32559,\n",
       "              60318,\n",
       "              111966,\n",
       "              236992,\n",
       "              396737,\n",
       "              419660,\n",
       "              456347,\n",
       "              465168,\n",
       "              494751,\n",
       "              543229,\n",
       "              545116,\n",
       "              589353,\n",
       "              640648,\n",
       "              710023,\n",
       "              884862,\n",
       "              888571,\n",
       "              1034028,\n",
       "              1050603,\n",
       "              1147022},\n",
       "             274187: {32559, 419660, 494751, 951831, 1016043, 1050603},\n",
       "             105495: {30010,\n",
       "              32559,\n",
       "              39600,\n",
       "              111966,\n",
       "              146835,\n",
       "              396737,\n",
       "              419660,\n",
       "              429843,\n",
       "              456347,\n",
       "              465168,\n",
       "              545116,\n",
       "              589353,\n",
       "              640648,\n",
       "              769391,\n",
       "              861194,\n",
       "              884862,\n",
       "              888571,\n",
       "              1034028,\n",
       "              1082720},\n",
       "             401775: {146520, 206085, 267591, 741237, 914156, 915756},\n",
       "             578176: {36246, 224770, 449684, 1148018},\n",
       "             1156280: {42969, 227878, 315043},\n",
       "             1172232: {452778, 536921, 699695},\n",
       "             1157100: {674697},\n",
       "             1170128: {534882, 545116, 782939, 832594},\n",
       "             1154584: {89706,\n",
       "              125022,\n",
       "              500898,\n",
       "              845060,\n",
       "              1066194,\n",
       "              1153029,\n",
       "              1157933},\n",
       "             1163068: {212914, 1116200, 1159219},\n",
       "             1164308: {80174, 545116},\n",
       "             1163844: {30010,\n",
       "              32559,\n",
       "              105495,\n",
       "              111966,\n",
       "              186306,\n",
       "              396737,\n",
       "              419660,\n",
       "              465168,\n",
       "              884862,\n",
       "              888571,\n",
       "              1050603,\n",
       "              1147022},\n",
       "             1167346: {934865},\n",
       "             1170081: {46321, 245137, 350451, 461415, 558235, 777744},\n",
       "             1177538: {457815, 464347, 680181, 746961, 1187574},\n",
       "             1160729: {1154057},\n",
       "             1150025: {108888},\n",
       "             1164501: {125627, 415153, 502521},\n",
       "             1153261: {527483, 587545},\n",
       "             1163597: {36246,\n",
       "              210556,\n",
       "              224770,\n",
       "              449684,\n",
       "              527483,\n",
       "              577783,\n",
       "              727695,\n",
       "              958605,\n",
       "              962076,\n",
       "              1081099,\n",
       "              1137843},\n",
       "             1164217: {99956, 166628, 528933, 563087, 606609, 768813, 791282},\n",
       "             1153100: {34514,\n",
       "              99004,\n",
       "              180383,\n",
       "              293804,\n",
       "              329057,\n",
       "              415153,\n",
       "              618221,\n",
       "              655259,\n",
       "              953530,\n",
       "              1090796,\n",
       "              1099256},\n",
       "             1163099: {260818,\n",
       "              291803,\n",
       "              398884,\n",
       "              577490,\n",
       "              1013966,\n",
       "              1098667,\n",
       "              1150353,\n",
       "              1154064,\n",
       "              1159425,\n",
       "              1164284},\n",
       "             1164074: {1155319},\n",
       "             1169754: {78399,\n",
       "              227883,\n",
       "              340912,\n",
       "              371495,\n",
       "              386466,\n",
       "              690187,\n",
       "              776475,\n",
       "              890616,\n",
       "              1028281},\n",
       "             1169857: {45773, 545116, 1099250},\n",
       "             1155160: {19008, 579359, 705486, 955634, 1120680},\n",
       "             1162371: {2895, 45773, 446477, 884428, 1058704, 1140292},\n",
       "             1163325: {202572, 1020088, 1114846, 1153554, 1162069},\n",
       "             1154012: {60283, 232146, 618221, 1014035},\n",
       "             1166627: {45795},\n",
       "             1169050: {2895, 19856, 109036, 149788, 997330},\n",
       "             1163192: {263958, 537018, 581890, 644977, 908285},\n",
       "             1162103: {174609, 409813, 419660, 1065838},\n",
       "             1171108: {36246,\n",
       "              107989,\n",
       "              224770,\n",
       "              527483,\n",
       "              545116,\n",
       "              1050603,\n",
       "              1090796,\n",
       "              1155834},\n",
       "             1162240: {267591},\n",
       "             1169642: {102585,\n",
       "              201608,\n",
       "              288295,\n",
       "              480222,\n",
       "              574126,\n",
       "              942286,\n",
       "              1142841},\n",
       "             1169511: {222073, 585148, 953530},\n",
       "             1162036: {1148411},\n",
       "             1149610: {340912},\n",
       "             1158542: {108849, 394160, 909246, 930686, 1014179, 1068740},\n",
       "             1171104: {108849,\n",
       "              148079,\n",
       "              224770,\n",
       "              527483,\n",
       "              675798,\n",
       "              708197,\n",
       "              785050,\n",
       "              953530,\n",
       "              993944,\n",
       "              1024457,\n",
       "              1154111,\n",
       "              1156930},\n",
       "             1169632: {1138484, 1150810, 1159976, 1160518},\n",
       "             825131: {36246, 58348, 224770, 789158, 907079, 1133440},\n",
       "             1162142: {569749, 934425},\n",
       "             1169757: {46321,\n",
       "              219569,\n",
       "              245137,\n",
       "              254587,\n",
       "              281462,\n",
       "              422324,\n",
       "              558235,\n",
       "              619852,\n",
       "              674088,\n",
       "              777744,\n",
       "              790126,\n",
       "              912623},\n",
       "             1180372: {2895, 41789, 88529, 102705, 310184, 1153062},\n",
       "             1180996: {100725,\n",
       "              104426,\n",
       "              289954,\n",
       "              311042,\n",
       "              329057,\n",
       "              357802,\n",
       "              400401,\n",
       "              558030,\n",
       "              598892,\n",
       "              612407,\n",
       "              753966,\n",
       "              874278,\n",
       "              1030938,\n",
       "              1157661},\n",
       "             1175766: {2895, 1154702},\n",
       "             1153484: {40517,\n",
       "              45773,\n",
       "              279371,\n",
       "              283317,\n",
       "              478324,\n",
       "              536826,\n",
       "              545116,\n",
       "              591002,\n",
       "              667446,\n",
       "              669934,\n",
       "              681303,\n",
       "              779070,\n",
       "              866413,\n",
       "              1154641,\n",
       "              1154841},\n",
       "             1172844: {2895, 443971, 700193, 819832, 1006339},\n",
       "             1153427: {45773, 415153, 779070, 816300},\n",
       "             1163324: {2895,\n",
       "              18341,\n",
       "              32559,\n",
       "              60318,\n",
       "              97097,\n",
       "              138995,\n",
       "              174609,\n",
       "              186306,\n",
       "              419660,\n",
       "              465168,\n",
       "              1032383,\n",
       "              1034028,\n",
       "              1050603,\n",
       "              1065838,\n",
       "              1147022,\n",
       "              1154456,\n",
       "              1155834},\n",
       "             1150596: {274884,\n",
       "              598892,\n",
       "              672869,\n",
       "              686911,\n",
       "              874278,\n",
       "              1138755,\n",
       "              1151053},\n",
       "             1171647: {9814,\n",
       "              245137,\n",
       "              254587,\n",
       "              350451,\n",
       "              361261,\n",
       "              407906,\n",
       "              461415,\n",
       "              777744,\n",
       "              1156779},\n",
       "             1167414: {36246,\n",
       "              107989,\n",
       "              111996,\n",
       "              148079,\n",
       "              347446,\n",
       "              398806,\n",
       "              527483,\n",
       "              862960,\n",
       "              993944,\n",
       "              1105195,\n",
       "              1154614,\n",
       "              1155834,\n",
       "              1158177,\n",
       "              1158257},\n",
       "             1167697: {245137, 350451, 361261, 407906, 1156779},\n",
       "             1153075: {40517,\n",
       "              45773,\n",
       "              279371,\n",
       "              545116,\n",
       "              667446,\n",
       "              669934,\n",
       "              779070,\n",
       "              983600},\n",
       "             1156937: {2895,\n",
       "              13457,\n",
       "              108849,\n",
       "              121566,\n",
       "              374257,\n",
       "              419660,\n",
       "              953422,\n",
       "              1082720,\n",
       "              1150810},\n",
       "             1166644: {2895, 100944, 174321, 247001},\n",
       "             1155572: {40517, 45773, 279371, 289026, 314533, 667446, 779070},\n",
       "             1155834: {32559,\n",
       "              36246,\n",
       "              100944,\n",
       "              107989,\n",
       "              111966,\n",
       "              111996,\n",
       "              174321,\n",
       "              186306,\n",
       "              325597,\n",
       "              347446,\n",
       "              419660,\n",
       "              465168,\n",
       "              599515,\n",
       "              615105,\n",
       "              884862,\n",
       "              1050603,\n",
       "              1105195},\n",
       "             1163161: {121566, 390439, 1152776, 1159991},\n",
       "             1157174: {215843,\n",
       "              229558,\n",
       "              260738,\n",
       "              452778,\n",
       "              513240,\n",
       "              575986,\n",
       "              590287,\n",
       "              590474},\n",
       "             1154000: {2895, 125627, 130255, 386255, 633759, 903195},\n",
       "             1179209: {221762, 380656},\n",
       "             1188456: {2895, 46294, 108849, 252982, 512350, 1050603},\n",
       "             1171351: {108849,\n",
       "              174609,\n",
       "              197998,\n",
       "              323641,\n",
       "              374257,\n",
       "              454733,\n",
       "              506620,\n",
       "              512350,\n",
       "              878245,\n",
       "              984509,\n",
       "              1084555,\n",
       "              1151443,\n",
       "              1154111,\n",
       "              1156930},\n",
       "             773768: {890616},\n",
       "             1172287: {841098, 1158970},\n",
       "             1197989: {372541},\n",
       "             1169635: {372668,\n",
       "              421670,\n",
       "              470697,\n",
       "              489416,\n",
       "              537018,\n",
       "              545116,\n",
       "              606473,\n",
       "              830007,\n",
       "              1142720},\n",
       "             1159265: {60318,\n",
       "              111966,\n",
       "              146835,\n",
       "              160547,\n",
       "              186306,\n",
       "              456347,\n",
       "              465168,\n",
       "              1016043,\n",
       "              1034028,\n",
       "              1050603,\n",
       "              1065838},\n",
       "             1153513: {40517,\n",
       "              279371,\n",
       "              289026,\n",
       "              314533,\n",
       "              667446,\n",
       "              669934,\n",
       "              748722,\n",
       "              866413,\n",
       "              1153533},\n",
       "             1171101: {179669, 1147022},\n",
       "             1175988: {15761,\n",
       "              92501,\n",
       "              285387,\n",
       "              496284,\n",
       "              527483,\n",
       "              615267,\n",
       "              748040,\n",
       "              815892,\n",
       "              819818,\n",
       "              891410,\n",
       "              894386},\n",
       "             1169526: {545116, 1131319},\n",
       "             1154122: {2895,\n",
       "              46875,\n",
       "              79238,\n",
       "              171477,\n",
       "              259081,\n",
       "              260738,\n",
       "              370175,\n",
       "              396500,\n",
       "              415153,\n",
       "              446477,\n",
       "              490510,\n",
       "              538061,\n",
       "              590287,\n",
       "              591234,\n",
       "              710363,\n",
       "              953530,\n",
       "              1016426},\n",
       "             1170489: {2895, 125627, 140560, 179786, 1073979},\n",
       "             1161722: {2895, 157588, 548432, 684799, 728607, 1032972, 1153815},\n",
       "             1164382: {409090},\n",
       "             1153731: {609808, 858089},\n",
       "             1177981: {313249, 415153, 497194, 545116, 734492},\n",
       "             1174836: {2895,\n",
       "              103720,\n",
       "              210556,\n",
       "              224770,\n",
       "              415153,\n",
       "              477987,\n",
       "              987677,\n",
       "              1090796,\n",
       "              1131319,\n",
       "              1157598},\n",
       "             1179006: {61410, 482034, 1082523, 1115833, 1157704, 1162577},\n",
       "             1169293: {415153, 545116, 1163954, 1164806, 1166673},\n",
       "             1162057: {2895, 41789, 102705, 678154, 862590, 953985},\n",
       "             1155198: {79238, 370175, 449684},\n",
       "             1163180: {2895, 111996, 174321, 578176, 1105195, 1155834},\n",
       "             1162011: {75420, 139398, 490510, 565180, 776475, 890616, 891719},\n",
       "             1163426: {327659,\n",
       "              527483,\n",
       "              551035,\n",
       "              667446,\n",
       "              907099,\n",
       "              941467,\n",
       "              1046115,\n",
       "              1151383},\n",
       "             1158543: {2895, 80174, 463860, 536551, 578176, 648886, 905004},\n",
       "             1162687: {143440,\n",
       "              146835,\n",
       "              147874,\n",
       "              286557,\n",
       "              351057,\n",
       "              598309,\n",
       "              639555,\n",
       "              692073,\n",
       "              777864,\n",
       "              802248,\n",
       "              953530,\n",
       "              1032383},\n",
       "             1171056: {67365,\n",
       "              310184,\n",
       "              440760,\n",
       "              688514,\n",
       "              995578,\n",
       "              1156640,\n",
       "              1160114},\n",
       "             1155313: {1153797},\n",
       "             1170405: {219569, 422324, 558235, 1072265},\n",
       "             1170007: {78729},\n",
       "             1169162: {36246,\n",
       "              107989,\n",
       "              111996,\n",
       "              174321,\n",
       "              325597,\n",
       "              347446,\n",
       "              599515,\n",
       "              1105195,\n",
       "              1155834,\n",
       "              1158177},\n",
       "             1173074: {1082523},\n",
       "             1183175: {951520},\n",
       "             1195020: {108849, 440760},\n",
       "             1166618: {137434, 139462, 154084, 578725, 886663, 903822, 971998},\n",
       "             1194958: {387523, 921175, 1162793},\n",
       "             1184747: {148657,\n",
       "              229558,\n",
       "              284952,\n",
       "              452778,\n",
       "              492122,\n",
       "              782939,\n",
       "              970047,\n",
       "              1016426,\n",
       "              1127888},\n",
       "             1202271: {1090905, 1164955},\n",
       "             1199619: {527483, 1153457},\n",
       "             1189074: {124697, 1152305, 1155378, 1167728, 1178374, 1188338},\n",
       "             1204075: {174321,\n",
       "              246024,\n",
       "              347446,\n",
       "              1155834,\n",
       "              1164092,\n",
       "              1170024,\n",
       "              1174552},\n",
       "             1165171: {108849, 171477, 200646, 396737, 700441},\n",
       "             1193295: {140776, 1136654, 1154547},\n",
       "             1197696: {36246,\n",
       "              111996,\n",
       "              174321,\n",
       "              325597,\n",
       "              347446,\n",
       "              587545,\n",
       "              1105195,\n",
       "              1148018,\n",
       "              1155834,\n",
       "              1158177,\n",
       "              1159485,\n",
       "              1176217,\n",
       "              1177132,\n",
       "              1180195,\n",
       "              1181972,\n",
       "              1184843,\n",
       "              1187131},\n",
       "             1203799: {415153,\n",
       "              841085,\n",
       "              1159798,\n",
       "              1176363,\n",
       "              1180689,\n",
       "              1184892,\n",
       "              1192471},\n",
       "             1187601: {285387, 774108, 1174866},\n",
       "             1199978: {2895, 78845, 790368, 1151840},\n",
       "             1174683: {545116, 1045843},\n",
       "             1181390: {2895, 152830, 542699, 1149611},\n",
       "             1164677: {394276},\n",
       "             1184301: {2895,\n",
       "              282792,\n",
       "              357489,\n",
       "              357802,\n",
       "              384786,\n",
       "              502887,\n",
       "              516983,\n",
       "              522347,\n",
       "              767136,\n",
       "              818850,\n",
       "              942396,\n",
       "              950895,\n",
       "              1013496,\n",
       "              1039214,\n",
       "              1053206,\n",
       "              1156928,\n",
       "              1157197,\n",
       "              1157598,\n",
       "              1158206,\n",
       "              1159392,\n",
       "              1165460,\n",
       "              1170267},\n",
       "             1194651: {551035},\n",
       "             1189308: {276140, 463867},\n",
       "             1196436: {545116, 932138, 958605},\n",
       "             1195599: {527483},\n",
       "             1194314: {502521, 506620, 1190115},\n",
       "             1186937: {524972, 1173388},\n",
       "             1202238: {987677},\n",
       "             1203948: {63784, 127082, 608523, 1127393, 1175124},\n",
       "             1203800: {2895,\n",
       "              55119,\n",
       "              107989,\n",
       "              285387,\n",
       "              291803,\n",
       "              468663,\n",
       "              1098667,\n",
       "              1158177,\n",
       "              1163090,\n",
       "              1168092,\n",
       "              1179651,\n",
       "              1204477},\n",
       "             1187312: {965411, 1007456, 1013496, 1162585, 1166534, 1183390},\n",
       "             1175963: {2895,\n",
       "              82026,\n",
       "              107989,\n",
       "              174321,\n",
       "              260818,\n",
       "              527483,\n",
       "              545116,\n",
       "              615105,\n",
       "              953530,\n",
       "              1098667,\n",
       "              1150353,\n",
       "              1158177,\n",
       "              1163090},\n",
       "             1173119: {1173038},\n",
       "             1181014: {45773,\n",
       "              54547,\n",
       "              480222,\n",
       "              489461,\n",
       "              519676,\n",
       "              1017161,\n",
       "              1064559,\n",
       "              1150128,\n",
       "              1164311},\n",
       "             1194312: {14301,\n",
       "              125627,\n",
       "              340912,\n",
       "              776475,\n",
       "              890616,\n",
       "              1044436,\n",
       "              1153061,\n",
       "              1153937,\n",
       "              1157598,\n",
       "              1162307,\n",
       "              1169154,\n",
       "              1180126,\n",
       "              1181732,\n",
       "              1182465},\n",
       "             1168285: {658388},\n",
       "             1183439: {14301, 227883, 1044436, 1155786, 1157598, 1162307},\n",
       "             1205109: {811269},\n",
       "             1195500: {294177,\n",
       "              376295,\n",
       "              421794,\n",
       "              447871,\n",
       "              586683,\n",
       "              654638,\n",
       "              707049,\n",
       "              760312,\n",
       "              851342,\n",
       "              879271,\n",
       "              987687,\n",
       "              1066714,\n",
       "              1160136},\n",
       "             1187092: {138995},\n",
       "             1183649: {1169336, 1175398},\n",
       "             1198413: {396737, 1081461, 1153239},\n",
       "             1186191: {60318,\n",
       "              111966,\n",
       "              174609,\n",
       "              409813,\n",
       "              419660,\n",
       "              456347,\n",
       "              710023,\n",
       "              1034028,\n",
       "              1065838,\n",
       "              1159025,\n",
       "              1170004,\n",
       "              1178578,\n",
       "              1180840},\n",
       "             1183321: {19008,\n",
       "              205313,\n",
       "              327659,\n",
       "              579359,\n",
       "              705486,\n",
       "              731146,\n",
       "              959946,\n",
       "              977205,\n",
       "              1055180,\n",
       "              1125001,\n",
       "              1178611},\n",
       "             1171528: {19008, 627061, 711206},\n",
       "             1202268: {2895},\n",
       "             1195150: {80174,\n",
       "              85899,\n",
       "              123980,\n",
       "              285387,\n",
       "              331213,\n",
       "              361420,\n",
       "              1115833,\n",
       "              1177183},\n",
       "             1153592: {188317, 824106, 1144335},\n",
       "             1179388: {15740, 371368, 1102326},\n",
       "             1204126: {100944,\n",
       "              465168,\n",
       "              578176,\n",
       "              587545,\n",
       "              1105195,\n",
       "              1158177,\n",
       "              1167414,\n",
       "              1168409,\n",
       "              1176217,\n",
       "              1177132,\n",
       "              1179651,\n",
       "              1191477},\n",
       "             1205214: {2895,\n",
       "              80174,\n",
       "              290797,\n",
       "              502521,\n",
       "              548432,\n",
       "              1051681,\n",
       "              1107219,\n",
       "              1151068,\n",
       "              1160167,\n",
       "              1164346,\n",
       "              1170679,\n",
       "              1171351},\n",
       "             1185675: {375933, 685005, 903807, 1048301, 1162146},\n",
       "             1203665: {974533},\n",
       "             1165091: {108849, 137434, 181603, 502521, 971998},\n",
       "             1195917: {267591, 293378, 541434, 819410, 1163015, 1174441},\n",
       "             1194654: {87367, 288253, 538061, 1158338, 1184701},\n",
       "             1195985: {2895, 323641},\n",
       "             1172234: {566227},\n",
       "             1191872: {186306,\n",
       "              666061,\n",
       "              710023,\n",
       "              1050603,\n",
       "              1161449,\n",
       "              1163324,\n",
       "              1170004},\n",
       "             1195505: {125627},\n",
       "             1203251: {551035, 1167826},\n",
       "             1203789: {250237, 415153},\n",
       "             1182377: {111996, 213959, 290511, 527483, 551035, 1168365},\n",
       "             1201016: {2895,\n",
       "              754630,\n",
       "              1171939,\n",
       "              1180313,\n",
       "              1180648,\n",
       "              1183989,\n",
       "              1192647,\n",
       "              1193319},\n",
       "             1197816: {563944, 617383},\n",
       "             1183425: {108849,\n",
       "              374257,\n",
       "              454733,\n",
       "              841085,\n",
       "              1154111,\n",
       "              1156937,\n",
       "              1163015,\n",
       "              1171351},\n",
       "             1204128: {91025,\n",
       "              440992,\n",
       "              579127,\n",
       "              834703,\n",
       "              1122449,\n",
       "              1158187,\n",
       "              1163380,\n",
       "              1177683},\n",
       "             1185707: {835, 588418, 596867, 1154619},\n",
       "             1204416: {2895, 1110397, 1151065},\n",
       "             1194164: {527483},\n",
       "             1204766: {185090, 943835, 959946, 1152676, 1155754, 1162053},\n",
       "             1204356: {45773, 960613, 1157197, 1173468},\n",
       "             1178407: {415153, 533184, 1150535},\n",
       "             1197392: {78399, 108849, 340912},\n",
       "             1194268: {25502, 415153, 497194, 1045791, 1174340},\n",
       "             1183311: {647191, 722056},\n",
       "             1199711: {409813, 1162103, 1178427},\n",
       "             1194232: {108849,\n",
       "              1154111,\n",
       "              1162103,\n",
       "              1170004,\n",
       "              1171351,\n",
       "              1175580,\n",
       "              1187829},\n",
       "             1200826: {224836, 708197, 1150171, 1172987, 1178733},\n",
       "             1194209: {8211, 1156381, 1156948, 1162407, 1168286, 1183453},\n",
       "             1200174: {290797, 430561, 527483, 545116, 993944, 1164510},\n",
       "             1181475: {545116},\n",
       "             1176217: {107989,\n",
       "              174321,\n",
       "              398806,\n",
       "              1105195,\n",
       "              1155834,\n",
       "              1158177,\n",
       "              1158257,\n",
       "              1167346,\n",
       "              1167414,\n",
       "              1168092},\n",
       "             1197030: {91323, 527483, 1170753},\n",
       "             1184827: {284828, 503047},\n",
       "             1197222: {32559, 146835, 396737, 429843, 966265, 1073979},\n",
       "             1181156: {45773,\n",
       "              384786,\n",
       "              585148,\n",
       "              695268,\n",
       "              1153408,\n",
       "              1157598,\n",
       "              1171021},\n",
       "             1200722: {174321, 325597, 1170024, 1174552, 1177833},\n",
       "             1189042: {2895, 412794, 568683, 656510, 1016213},\n",
       "             1204912: {2895,\n",
       "              79238,\n",
       "              201733,\n",
       "              275014,\n",
       "              415153,\n",
       "              457746,\n",
       "              647960,\n",
       "              791282,\n",
       "              877475,\n",
       "              903621,\n",
       "              1150925,\n",
       "              1152994,\n",
       "              1158210},\n",
       "             1182289: {46875, 1153533},\n",
       "             1181347: {315758, 996853},\n",
       "             1195143: {99956,\n",
       "              146973,\n",
       "              172080,\n",
       "              768813,\n",
       "              880417,\n",
       "              1026412,\n",
       "              1173229,\n",
       "              1177519},\n",
       "             1194538: {395027, 1061373, 1150259, 1167560},\n",
       "             1204600: {125627, 133978, 545116, 926365, 1184211},\n",
       "             1204777: {591002,\n",
       "              667446,\n",
       "              683338,\n",
       "              1023329,\n",
       "              1154641,\n",
       "              1168746,\n",
       "              1180268},\n",
       "             1191697: {111996, 897931, 1169162, 1173119},\n",
       "             1192871: {2895,\n",
       "              75420,\n",
       "              139398,\n",
       "              340912,\n",
       "              490510,\n",
       "              545116,\n",
       "              729114,\n",
       "              890616,\n",
       "              1152894,\n",
       "              1157598,\n",
       "              1178478,\n",
       "              1178857},\n",
       "             1198049: {555389},\n",
       "             1202432: {188317, 289376, 545116},\n",
       "             1192084: {40517,\n",
       "              45773,\n",
       "              556729,\n",
       "              667446,\n",
       "              779070,\n",
       "              1153075,\n",
       "              1153533,\n",
       "              1157256,\n",
       "              1177037}})"
      ]
     },
     "execution_count": 413,
     "metadata": {},
     "output_type": "execute_result"
    }
   ],
   "source": [
    "graph_edges"
   ]
  },
  {
   "cell_type": "code",
   "execution_count": 411,
   "metadata": {},
   "outputs": [
    {
     "data": {
      "text/plain": [
       "(1718, 1711)"
      ]
     },
     "execution_count": 411,
     "metadata": {},
     "output_type": "execute_result"
    }
   ],
   "source": [
    "len(iclr_yearwise_graph_info), len(reverse_iclr_yearwise_graph_info)"
   ]
  },
  {
   "cell_type": "code",
   "execution_count": 415,
   "metadata": {},
   "outputs": [
    {
     "data": {
      "text/plain": [
       "('2017_B1E7Pwqgl',\n",
       " {'refs': {'ldb': [\"<ref id='bib-bib62'>62</ref>\",\n",
       "    \"<ref id='bib-bib19'>19</ref>\",\n",
       "    \"<ref id='bib-bib58'>58</ref>\",\n",
       "    \"<ref id='bib-bib63'>63</ref>\",\n",
       "    \"<ref id='bib-bib59'>59</ref>\",\n",
       "    \"<ref id='bib-bib21'>21</ref>\",\n",
       "    \"<ref id='bib-bib60'>60</ref>\",\n",
       "    \"<ref id='bib-bib29'>29</ref>\",\n",
       "    \"<ref id='bib-bib30'>30</ref>\",\n",
       "    \"<ref id='bib-bib25'>25</ref>\",\n",
       "    \"<ref id='bib-bib44'>44</ref>\"]},\n",
       "  'count': 15})"
      ]
     },
     "execution_count": 415,
     "metadata": {},
     "output_type": "execute_result"
    }
   ],
   "source": [
    "reverse_iclr_yearwise_graph_info[1121619], leaderboard_refs[\"2017_B1E7Pwqgl\"]"
   ]
  },
  {
   "cell_type": "code",
   "execution_count": null,
   "metadata": {},
   "outputs": [],
   "source": []
  },
  {
   "cell_type": "code",
   "execution_count": null,
   "metadata": {},
   "outputs": [],
   "source": []
  },
  {
   "cell_type": "code",
   "execution_count": 434,
   "metadata": {},
   "outputs": [
    {
     "name": "stdout",
     "output_type": "stream",
     "text": [
      "419\n"
     ]
    }
   ],
   "source": [
    "#calculate ideal number of nodes after step 1\n",
    "\n",
    "stage1_pot_nodes = []\n",
    "\n",
    "for k in leaderboard_refs:\n",
    "    if leaderboard_refs[k][\"count\"] > 0:\n",
    "        stage1_pot_nodes.append(k)\n",
    "print(len(stage1_pot_nodes))"
   ]
  },
  {
   "cell_type": "code",
   "execution_count": 441,
   "metadata": {},
   "outputs": [
    {
     "data": {
      "text/plain": [
       "57"
      ]
     },
     "execution_count": 441,
     "metadata": {},
     "output_type": "execute_result"
    }
   ],
   "source": [
    "len(set(fipna_pid))"
   ]
  },
  {
   "cell_type": "code",
   "execution_count": 443,
   "metadata": {},
   "outputs": [
    {
     "data": {
      "text/plain": [
       "['2017_BJbD_Pqlg', '2017_BycCx8qex', '2017_HJ1kmv9xx', '2017_HkcdHtqlx']"
      ]
     },
     "execution_count": 443,
     "metadata": {},
     "output_type": "execute_result"
    }
   ],
   "source": [
    "fipna_pid[0:4]"
   ]
  },
  {
   "cell_type": "code",
   "execution_count": 449,
   "metadata": {},
   "outputs": [
    {
     "data": {
      "text/plain": [
       "('1703.04474v1',\n",
       " {'refs': {'ldb': [\"<ref id='S1-F2'>2</ref>\"]}, 'count': 1},\n",
       " {'andor2016globally': {'text': '\\\\bibitem[{Andor et~al.(2016)Andor, Alberti, Weiss, Severyn, Presta, Ganchev, Petrov, and Collins}]{andor2016globally} Daniel Andor, Chris Alberti, David Weiss, Aliaksei Severyn, Alessandro Presta, Kuzman Ganchev, Slav Petrov, and Michael Collins. 2016. \\\\newblock Globally normalized transition-based neural networks. \\\\newblock In {\\\\em Proceedings of the 54th Annual Meeting of the Association for Computational Linguistics\\\\/}. pages 2442--2452.',\n",
       "   'arxivids': [],\n",
       "   'seq_id': 160522},\n",
       "  'attardi2009reverse': {'text': \"\\\\bibitem[{Attardi and Dell'Orletta(2009)}]{attardi2009reverse} Giuseppe Attardi and Felice Dell'Orletta. 2009. \\\\newblock Reverse revision and linear tree combination for dependency parsing. \\\\newblock In {\\\\em Proceedings of Human Language Technologies: The 2009 Annual Conference of the North American Chapter of the Association for Computational Linguistics, Companion Volume: Short Papers\\\\/}. Association for Computational Linguistics, pages 261--264.\",\n",
       "   'arxivids': [],\n",
       "   'seq_id': 835},\n",
       "  'bahdanau15': {'text': '\\\\bibitem[{Bahdanau et~al.(2015)Bahdanau, Cho, and Bengio}]{bahdanau15} Dzmitry Bahdanau, Kyunghyun Cho, and Yoshua Bengio. 2015. \\\\newblock Neural machine translation by jointly learning to align and translate. \\\\newblock {\\\\em ICLR\\\\/} .',\n",
       "   'arxivids': [],\n",
       "   'seq_id': 360922},\n",
       "  'bowman2016fast': {'text': '\\\\bibitem[{Bowman et~al.(2016)Bowman, Gauthier, Rastogi, Gupta, Manning, and Potts}]{bowman2016fast} Samuel~R Bowman, Jon Gauthier, Abhinav Rastogi, Raghav Gupta, Christopher~D Manning, and Christopher Potts. 2016. \\\\newblock A fast unified model for parsing and sentence understanding. \\\\newblock {\\\\em ACL\\\\/} .',\n",
       "   'arxivids': [],\n",
       "   'seq_id': 774827},\n",
       "  'cho2014learning': {'text': '\\\\bibitem[{Cho et~al.(2014)Cho, Van~Merri{\\\\\"e}nboer, Gulcehre, Bahdanau, Bougares, Schwenk, and Bengio}]{cho2014learning} Kyunghyun Cho, Bart Van~Merri{\\\\\"e}nboer, Caglar Gulcehre, Dzmitry Bahdanau, Fethi Bougares, Holger Schwenk, and Yoshua Bengio. 2014. \\\\newblock Learning phrase representations using rnn encoder-decoder for statistical machine translation. \\\\newblock {\\\\em EMNLP\\\\/} .',\n",
       "   'arxivids': [],\n",
       "   'seq_id': 1073979},\n",
       "  'dong2015multi': {'text': '\\\\bibitem[{Dong et~al.(2015)Dong, Wu, He, Yu, and Wang}]{dong2015multi} Daxiang Dong, Hua Wu, Wei He, Dianhai Yu, and Haifeng Wang. 2015. \\\\newblock Multi-task learning for multiple language translation. \\\\newblock In {\\\\em Proceedings of the 53rd Annual Meeting of the ACL and the 7th International Joint Conference on Natural Language Processing\\\\/}. pages 1723--1732.',\n",
       "   'arxivids': []},\n",
       "  'dyer2015transition': {'text': '\\\\bibitem[{Dyer et~al.(2015)Dyer, Ballesteros, Ling, Matthews, and Smith}]{dyer2015transition} Chris Dyer, Miguel Ballesteros, Wang Ling, Austin Matthews, and Noah~A. Smith. 2015. \\\\newblock Transition-based dependency parsing with stack long short-term memory pages 334–--343.',\n",
       "   'arxivids': [],\n",
       "   'seq_id': 582358},\n",
       "  'filippova2013overcoming': {'text': '\\\\bibitem[{Filippova and Altun(2013)}]{filippova2013overcoming} Katja Filippova and Yasemin Altun. 2013. \\\\newblock Overcoming the lack of parallel data in sentence compression. \\\\newblock In {\\\\em EMNLP\\\\/}. Citeseer, pages 1481--1491.',\n",
       "   'arxivids': [],\n",
       "   'seq_id': 415153},\n",
       "  'goller1996learning': {'text': '\\\\bibitem[{Goller and Kuchler(1996)}]{goller1996learning} Christoph Goller and Andreas Kuchler. 1996. \\\\newblock Learning task-dependent distributed representations by backpropagation through structure. \\\\newblock In {\\\\em Neural Networks, 1996., IEEE International Conference on\\\\/}. IEEE, volume~1, pages 347--352.',\n",
       "   'arxivids': [],\n",
       "   'seq_id': 545116},\n",
       "  'huang2015bidirectional': {'text': '\\\\bibitem[{Huang et~al.(2015)Huang, Xu, and Yu}]{huang2015bidirectional} Zhiheng Huang, Wei Xu, and Kai Yu. 2015. \\\\newblock Bidirectional lstm-crf models for sequence tagging. \\\\newblock {\\\\em ACL\\\\/} .',\n",
       "   'arxivids': [],\n",
       "   'seq_id': 914156},\n",
       "  'kalchbrenner13': {'text': '\\\\bibitem[{Kalchbrenner and Blunsom(2013)}]{kalchbrenner13} Nal Kalchbrenner and Phil Blunsom. 2013. \\\\newblock Recurrent continuous translation models. \\\\newblock {\\\\em EMNLP\\\\/} .',\n",
       "   'arxivids': []},\n",
       "  'kiperwasser2016simple': {'text': '\\\\bibitem[{Kiperwasser and Goldberg(2016)}]{kiperwasser2016simple} Eliyahu Kiperwasser and Yoav Goldberg. 2016. \\\\newblock Simple and accurate dependency parsing using bidirectional lstm feature representations. \\\\newblock {\\\\em ACL\\\\/} .',\n",
       "   'arxivids': [],\n",
       "   'seq_id': 111844},\n",
       "  'lample2016neural': {'text': '\\\\bibitem[{Lample et~al.(2016)Lample, Ballesteros, Subramanian, Kawakami, and Dyer}]{lample2016neural} Guillaume Lample, Miguel Ballesteros, Sandeep Subramanian, Kazuya Kawakami, and Chris Dyer. 2016. \\\\newblock Neural architectures for named entity recognition. \\\\newblock {\\\\em NAACL-HTL\\\\/} .',\n",
       "   'arxivids': [],\n",
       "   'seq_id': 267591},\n",
       "  'li2015tree': {'text': '\\\\bibitem[{Li et~al.(2015)Li, Luong, Jurafsky, and Hovy}]{li2015tree} Jiwei Li, Minh-Thang Luong, Dan Jurafsky, and Eudard Hovy. 2015. \\\\newblock When are tree structures necessary for deep learning of representations? \\\\newblock {\\\\em EMNLP\\\\/} .',\n",
       "   'arxivids': [],\n",
       "   'seq_id': 977138},\n",
       "  'ling2015finding': {'text': \"\\\\bibitem[{Ling et~al.(2015)Ling, Lu{\\\\'\\\\i}s, Marujo, Astudillo, Amir, Dyer, Black, and Trancoso}]{ling2015finding} Wang Ling, Tiago Lu{\\\\'\\\\i}s, Lu{\\\\'\\\\i}s Marujo, Ram{\\\\'o}n~Fernandez Astudillo, Silvio Amir, Chris Dyer, Alan~W Black, and Isabel Trancoso. 2015. \\\\newblock Finding function in form: Compositional character models for open vocabulary word representation. \\\\newblock {\\\\em EMNLP\\\\/} .\",\n",
       "   'arxivids': [],\n",
       "   'seq_id': 273121},\n",
       "  'DBLP:journals/corr/LuongLSVK15': {'text': '\\\\bibitem[{Luong et~al.(2016)Luong, Le, Sutskever, Vinyals, and Kaiser}]{DBLP:journals/corr/LuongLSVK15} Minh{-}Thang Luong, Quoc~V. Le, Ilya Sutskever, Oriol Vinyals, and Lukasz Kaiser. 2016. \\\\newblock Multi-task sequence to sequence learning. \\\\newblock {\\\\em ICLR\\\\/} .',\n",
       "   'arxivids': [],\n",
       "   'seq_id': 1120706},\n",
       "  'nivre2006inductive': {'text': '\\\\bibitem[{Nivre(2006)}]{nivre2006inductive} Joakim Nivre. 2006. \\\\newblock {\\\\em Inductive dependency parsing\\\\/}. \\\\newblock Springer.',\n",
       "   'arxivids': []},\n",
       "  'parikh2016decomposable': {'text': '\\\\bibitem[{Parikh et~al.(2016)Parikh, T{\\\\\"a}ckstr{\\\\\"o}m, Das, and Uszkoreit}]{parikh2016decomposable} Ankur~P Parikh, Oscar T{\\\\\"a}ckstr{\\\\\"o}m, Dipanjan Das, and Jakob Uszkoreit. 2016. \\\\newblock A decomposable attention model for natural language inferencfne. \\\\newblock {\\\\em EMNLP\\\\/} .',\n",
       "   'arxivids': []},\n",
       "  'socher2011dynamic': {'text': '\\\\bibitem[{Socher et~al.(2011)Socher, Huang, Pennin, Manning, and Ng}]{socher2011dynamic} Richard Socher, Eric~H Huang, Jeffrey Pennin, Christopher~D Manning, and Andrew~Y Ng. 2011. \\\\newblock Dynamic pooling and unfolding recursive autoencoders for paraphrase detection. \\\\newblock In {\\\\em Advances in Neural Information Processing Systems\\\\/}. pages 801--809.',\n",
       "   'arxivids': []},\n",
       "  'socher2010learning': {'text': '\\\\bibitem[{Socher et~al.(2010)Socher, Manning, and Ng}]{socher2010learning} Richard Socher, Christopher~D. Manning, and Andrew~Y. Ng. 2010. \\\\newblock Learning continuous phrase representations and syntactic parsing with recursive neural networks. \\\\newblock In {\\\\em NIPS-2010 Deep Learning and Unsupervised Feature Learning Workshop\\\\/}.',\n",
       "   'arxivids': [],\n",
       "   'seq_id': 545116},\n",
       "  'sutskever2014sequence': {'text': '\\\\bibitem[{Sutskever et~al.(2014)Sutskever, Vinyals, and Le}]{sutskever2014sequence} Ilya Sutskever, Oriol Vinyals, and Quoc~V Le. 2014. \\\\newblock Sequence to sequence learning with neural networks. \\\\newblock In {\\\\em Advances in neural information processing systems\\\\/}. pages 3104--3112.',\n",
       "   'arxivids': [],\n",
       "   'seq_id': 542420},\n",
       "  'tai2015improved': {'text': '\\\\bibitem[{Tai et~al.(2015)Tai, Socher, and Manning}]{tai2015improved} Kai~Sheng Tai, Richard Socher, and Christopher~D Manning. 2015. \\\\newblock Improved semantic representations from tree-structured long short-term memory networks. \\\\newblock {\\\\em ACL\\\\/} .',\n",
       "   'arxivids': [],\n",
       "   'seq_id': 930686},\n",
       "  'vinyals2015grammar': {'text': '\\\\bibitem[{Vinyals et~al.(2015)Vinyals, Kaiser, Koo, Petrov, Sutskever, and Hinton}]{vinyals2015grammar} Oriol Vinyals, {\\\\L}ukasz Kaiser, Terry Koo, Slav Petrov, Ilya Sutskever, and Geoffrey Hinton. 2015. \\\\newblock Grammar as a foreign language. \\\\newblock In {\\\\em Advances in Neural Information Processing Systems\\\\/}. pages 2773--2781.',\n",
       "   'arxivids': [],\n",
       "   'seq_id': 760932},\n",
       "  'weiss2015structured': {'text': '\\\\bibitem[{Weiss et~al.(2015)Weiss, Alberti, Collins, and Petrov}]{weiss2015structured} David Weiss, Chris Alberti, Michael Collins, and Slav Petrov. 2015. \\\\newblock Structured training for neural network transition-based parsing. \\\\newblock {\\\\em ACL\\\\/} .',\n",
       "   'arxivids': [],\n",
       "   'seq_id': 608094},\n",
       "  'wu2016google': {'text': \"\\\\bibitem[{Wu et~al.(2016)Wu, Schuster, Chen, Le, Norouzi, Macherey, Krikun, Cao, Gao, Macherey et~al.}]{wu2016google} Yonghui Wu, Mike Schuster, Zhifeng Chen, Quoc~V Le, Mohammad Norouzi, Wolfgang Macherey, Maxim Krikun, Yuan Cao, Qin Gao, Klaus Macherey, et~al. 2016. \\\\newblock Google's neural machine translation system: Bridging the gap between human and machine translation. \\\\newblock {\\\\em arXiv preprint arXiv:1609.08144\\\\/} .\",\n",
       "   'arxivids': [],\n",
       "   'seq_id': 1107219},\n",
       "  'zhang2016transition': {'text': '\\\\bibitem[{Zhang et~al.(2016)Zhang, Zhang, and Fu}]{zhang2016transition} Meishan Zhang, Yue Zhang, and Guohong Fu. 2016. \\\\newblock Transition-based neural word segmentation. \\\\newblock In {\\\\em Proceedings of the 54nd Annual Meeting of the Association for Computational Linguistics\\\\/}.',\n",
       "   'arxivids': []},\n",
       "  'zhang2016stack': {'text': '\\\\bibitem[{Zhang and Weiss(2016)}]{zhang2016stack} Yuan Zhang and David Weiss. 2016. \\\\newblock Stack-propagation: Improved representation learning for syntax. \\\\newblock In {\\\\em Proc. ACL\\\\/}.',\n",
       "   'arxivids': [],\n",
       "   'seq_id': 122765}})"
      ]
     },
     "execution_count": 449,
     "metadata": {},
     "output_type": "execute_result"
    }
   ],
   "source": [
    "iclr_arxiv_map[\"2017_BycCx8qex\"][\"arxivId\"], leaderboard_refs[\"2017_BycCx8qex\"], paper_bbl_dict[\"2017_BycCx8qex\"]"
   ]
  },
  {
   "cell_type": "code",
   "execution_count": 500,
   "metadata": {},
   "outputs": [
    {
     "name": "stdout",
     "output_type": "stream",
     "text": [
      "347\n"
     ]
    }
   ],
   "source": [
    "print(len(graph_edges))"
   ]
  },
  {
   "cell_type": "code",
   "execution_count": 407,
   "metadata": {},
   "outputs": [
    {
     "name": "stdout",
     "output_type": "stream",
     "text": [
      "2053\n"
     ]
    }
   ],
   "source": [
    "ec = 0\n",
    "\n",
    "for x in graph_edges:\n",
    "    ec += len(graph_edges[x])\n",
    "print(ec)"
   ]
  },
  {
   "cell_type": "code",
   "execution_count": 408,
   "metadata": {},
   "outputs": [],
   "source": [
    "uniq_nodes = set()\n",
    "for k, v in graph_edges.items():\n",
    "#     print(k, v)\n",
    "#     break\n",
    "    uniq_nodes.add(k)\n",
    "    for i in v:\n",
    "        uniq_nodes.add(i)\n",
    "uniq_nodes = set(uniq_nodes)"
   ]
  },
  {
   "cell_type": "code",
   "execution_count": 409,
   "metadata": {},
   "outputs": [
    {
     "data": {
      "text/plain": [
       "1271"
      ]
     },
     "execution_count": 409,
     "metadata": {},
     "output_type": "execute_result"
    }
   ],
   "source": [
    "len(uniq_nodes)"
   ]
  },
  {
   "cell_type": "code",
   "execution_count": null,
   "metadata": {},
   "outputs": [],
   "source": []
  },
  {
   "cell_type": "code",
   "execution_count": 410,
   "metadata": {},
   "outputs": [
    {
     "data": {
      "text/plain": [
       "1205268"
      ]
     },
     "execution_count": 410,
     "metadata": {},
     "output_type": "execute_result"
    }
   ],
   "source": [
    "len(paper_global_id_dict)"
   ]
  },
  {
   "cell_type": "code",
   "execution_count": 377,
   "metadata": {},
   "outputs": [
    {
     "data": {
      "text/plain": [
       "'onepositiveandtwonegativeresultsforderivedcategoriesofalgebraicstacks'"
      ]
     },
     "execution_count": 377,
     "metadata": {},
     "output_type": "execute_result"
    }
   ],
   "source": [
    "list(paper_global_id_dict.keys())[0]"
   ]
  },
  {
   "cell_type": "code",
   "execution_count": null,
   "metadata": {},
   "outputs": [],
   "source": []
  },
  {
   "cell_type": "code",
   "execution_count": null,
   "metadata": {},
   "outputs": [],
   "source": []
  },
  {
   "cell_type": "code",
   "execution_count": null,
   "metadata": {},
   "outputs": [],
   "source": []
  },
  {
   "cell_type": "markdown",
   "metadata": {},
   "source": [
    "# Segment 2"
   ]
  },
  {
   "cell_type": "code",
   "execution_count": 501,
   "metadata": {},
   "outputs": [
    {
     "name": "stdout",
     "output_type": "stream",
     "text": [
      "2017_B1YfAfcgl\n",
      "2017_BJYwwY9ll\n",
      "2017_BJh6Ztuxl\n",
      "2017_By5e2L9gl\n",
      "2017_HJSCGD9ex\n",
      "2017_HJpfMIFll\n",
      "2017_HkNRsU5ge\n",
      "2017_Hkg4TI9xl\n",
      "2017_HkwoSDPgg\n",
      "2017_S13wCE9xx\n",
      "2017_r1BJLw9ex\n",
      "2017_r1G4z8cge\n",
      "2017_r1y1aawlg\n",
      "2017_rkFBJv9gg\n",
      "2017_rky3QW9le\n",
      "2017_ryuxYmvel\n",
      "2018_B1ZZTfZAW\n",
      "2018_B1jscMbAW\n",
      "2018_B1l8BtlCb\n",
      "2018_B1spAqUp-\n",
      "2018_B1ydPgTpW\n",
      "2018_BJvWjcgAZ\n",
      "2018_BkUp6GZRW\n",
      "2018_ByOnmlWC-\n",
      "2018_H113pWZRb\n",
      "2018_HkXWCMbRW\n",
      "2018_Hksj2WWAW\n",
      "2018_HyRVBzap-\n",
      "2018_HyUNwulC-\n",
      "2018_HytSvlWRZ\n",
      "2018_S1GUgxgCW\n",
      "2018_S1XolQbRW\n",
      "2018_S1m6h21Cb\n",
      "2018_SJCq_fZ0Z\n",
      "2018_SJyEH91A-\n",
      "2018_SyqShMZRb\n",
      "2018_rJFOptp6Z\n",
      "2018_rJTutzbA-\n",
      "2018_rJg4YGWRb\n",
      "2018_rk6cfpRjZ\n",
      "2018_rkA1f3NpZ\n",
      "2018_rkYTTf-AZ\n",
      "2018_rkYgAJWCZ\n",
      "2018_rkZvSe-RZ\n",
      "2018_ry6-G_66b\n",
      "2018_ryTp3f-0-\n",
      "2018_ryazCMbR-\n",
      "2019_B1G5ViAqFm\n",
      "2019_BJe-Sn0ctm\n",
      "2019_BkG5SjR5YQ\n",
      "2019_BkG8sjR5Km\n",
      "2019_BkfbpsAcF7\n",
      "2019_Bkg2viA5FQ\n",
      "2019_BklAEsR5t7\n",
      "2019_BklKFo09YX\n",
      "2019_ByMHvs0cFQ\n",
      "2019_H1e572A5tQ\n",
      "2019_H1gTEj09FX\n",
      "2019_H1ldNoC9tX\n",
      "2019_HJxfm2CqKm\n",
      "2019_Hk4dFjR5K7\n",
      "2019_HkgHk3RctX\n",
      "2019_HylKJhCcKm\n",
      "2019_Hyx4knR9Ym\n",
      "2019_Hyxsl2AqKm\n",
      "2019_SkgEaj05t7\n",
      "2019_SklgHoRqt7\n",
      "2019_SkloDjAqYm\n",
      "2019_SyehMhC9Y7\n",
      "2019_SylLYsCcFm\n",
      "2019_r1e13s05YX\n",
      "2019_r1eEG20qKQ\n",
      "2019_r1lq1hRqYQ\n",
      "2019_rJMcdsA5FX\n",
      "2019_rJed6j0cKX\n",
      "2019_rJg_NjCqtX\n",
      "2019_rkeUrjCcYQ\n",
      "2019_rklaWn0qK7\n",
      "2019_ryE98iR5tm\n",
      "2019_ryggIs0cYQ\n",
      "2019_ryxSrhC9KX\n",
      "2020_B1elCp4KwH\n",
      "2020_B1xybgSKwB\n",
      "2020_BJl4g0NYvB\n",
      "2020_BJlLvnEtDB\n",
      "2020_BJlZ5ySKPH\n",
      "2020_BJx8Fh4KPB\n",
      "2020_BJx8YnEFPH\n",
      "2020_BJxSI1SKDH\n",
      "2020_Bke-6pVKvB\n",
      "2020_BkeyOxrYwH\n",
      "2020_BklHF6VtPB\n",
      "2020_ByeNra4FDB\n",
      "2020_BylVcTNtDS\n",
      "2020_Byx9p2EtDH\n",
      "2020_H1l_0JBYwS\n",
      "2020_HkgxW0EYDS\n",
      "2020_Hkls_yBKDB\n",
      "2020_HkxDheHFDr\n",
      "2020_S1e4jkSKvB\n",
      "2020_S1eZYeHFDS\n",
      "2020_S1lNWertDr\n",
      "2020_SJgzLkBKPB\n",
      "2020_SJlRF04YwB\n",
      "2020_SJx4Ogrtvr\n",
      "2020_SkglVlSFPS\n",
      "2020_Skl4mRNYDr\n",
      "2020_Skx6WaEYPH\n",
      "2020_SyeyF0VtDr\n",
      "2020_Syg7VaNYPB\n",
      "2020_SylOlp4FvH\n",
      "2020_r1gc3lBFPH\n",
      "2020_r1glygHtDB\n",
      "2020_r1lUl6NFDH\n",
      "2020_r1xfECEKvr\n",
      "2020_rJlUhhVYvS\n",
      "2020_ryxnY3NYPS\n"
     ]
    }
   ],
   "source": [
    "found_in_paper_not_arxiv_p2 = []\n",
    "\n",
    "for k,v in full_text_refs_dict.items():\n",
    "    \n",
    "    title = iclr_arxiv_map[k][\"title\"].lower()\n",
    "    unaccented_title = unidecode.unidecode(title)\n",
    "    clean_title = re.sub('[\\W_]', '', unaccented_title)\n",
    "    \n",
    "    if clean_title in paper_global_id_dict:\n",
    "        self_global_id = paper_global_id_dict[clean_title]\n",
    "    else:\n",
    "        paper_global_id_dict[clean_title] = len(paper_global_id_dict)\n",
    "        self_global_id = paper_global_id_dict[clean_title]\n",
    "    \n",
    "    iclr_yearwise_graph_info[k] = self_global_id\n",
    "    reverse_iclr_yearwise_graph_info[self_global_id] = k\n",
    "    \n",
    "    for i in v:\n",
    "        m = re.search(\"\\\\\\cite[ptyear\\[\\]\\*]*?\\{([^\\{]*)\\}\", i)\n",
    "        cits = []\n",
    "        if m:\n",
    "            p = m.group(1)\n",
    "            cits = p.split(\",\")\n",
    "        if k in paper_bbl_dict:\n",
    "            for cit_key in cits:\n",
    "                if cit_key in paper_bbl_dict[k]:\n",
    "                    if \"seq_id\" in paper_bbl_dict[k][cit_key]:\n",
    "                        graph_edges[self_global_id].add(paper_bbl_dict[k][cit_key][\"seq_id\"])\n",
    "                    else:\n",
    "                        found_in_paper_not_arxiv_p2.append(paper_bbl_dict[k][cit_key][\"text\"])\n",
    "    if not self_global_id in graph_edges:\n",
    "        print(k)"
   ]
  },
  {
   "cell_type": "code",
   "execution_count": 464,
   "metadata": {},
   "outputs": [
    {
     "data": {
      "text/plain": [
       "['\\n   local patterns of tokens.\\n \\\\item\\n   2-layer 1D CNN with LSTM \\\\citep{lstm} sequence reduction. This mo',\n",
       " ' of\\n   local patterns of tokens.\\n \\\\item\\n   2-layer 1D CNN with LSTM \\\\citep{lstm} sequence reduction. Thi',\n",
       " 'of\\n   local patterns of tokens.\\n \\\\item\\n   2-layer 1D CNN with LSTM \\\\citep{lstm} sequence reduction. This m']"
      ]
     },
     "execution_count": 464,
     "metadata": {},
     "output_type": "execute_result"
    }
   ],
   "source": [
    "full_text_refs_dict[\"2017_ryuxYmvel\"]"
   ]
  },
  {
   "cell_type": "code",
   "execution_count": 465,
   "metadata": {},
   "outputs": [
    {
     "data": {
      "text/plain": [
       "(<re.Match object; span=(65, 77), match='\\\\citep{lstm}'>, 'lstm')"
      ]
     },
     "execution_count": 465,
     "metadata": {},
     "output_type": "execute_result"
    }
   ],
   "source": [
    "m = re.search(\"\\\\\\cite[ptyear\\[\\]\\*]*?\\{([^\\{]*)\\}\", full_text_refs_dict[\"2017_ryuxYmvel\"][0])\n",
    "m, m.group(1)\n"
   ]
  },
  {
   "cell_type": "code",
   "execution_count": 466,
   "metadata": {},
   "outputs": [
    {
     "data": {
      "text/plain": [
       "True"
      ]
     },
     "execution_count": 466,
     "metadata": {},
     "output_type": "execute_result"
    }
   ],
   "source": [
    "\"lstm\" in paper_bbl_dict[\"2017_ryuxYmvel\"]"
   ]
  },
  {
   "cell_type": "code",
   "execution_count": 468,
   "metadata": {},
   "outputs": [
    {
     "data": {
      "text/plain": [
       "(436123, False)"
      ]
     },
     "execution_count": 468,
     "metadata": {},
     "output_type": "execute_result"
    }
   ],
   "source": [
    "iclr_yearwise_graph_info[\"2017_ryuxYmvel\"], 436123 in graph_edges"
   ]
  },
  {
   "cell_type": "code",
   "execution_count": 463,
   "metadata": {},
   "outputs": [
    {
     "data": {
      "text/plain": [
       "{'tensorflow': {'text': '\\\\bibitem[Abadi et~al.(2016)Abadi, Agarwal, Barham, Brevdo, Chen, Citro, Corrado, Davis, Dean, Devin, et~al.]{tensorflow} Mart{\\\\i}n Abadi, Ashish Agarwal, Paul Barham, Eugene Brevdo, Zhifeng Chen, Craig Citro, Greg~S Corrado, Andy Davis, Jeffrey Dean, Matthieu Devin, et~al. \\\\newblock Tensorflow: Large-scale machine learning on heterogeneous distributed systems. \\\\newblock \\\\emph{arXiv preprint arXiv:1603.04467}, 2016.',\n",
       "  'arxivids': [],\n",
       "  'bib-seq': 1,\n",
       "  'seq_id': 842029},\n",
       " 'strnn': {'text': '\\\\bibitem[Balduzzi and Ghifary(2016)]{strnn} David Balduzzi and Muhammad Ghifary. \\\\newblock Strongly-typed recurrent neural networks. \\\\newblock In \\\\emph{ICML}, 2016.',\n",
       "  'arxivids': [],\n",
       "  'bib-seq': 2,\n",
       "  'seq_id': 1008429},\n",
       " 'bordes2016learning': {'text': '\\\\bibitem[Bordes and Weston(2016)]{bordes2016learning} Antoine Bordes and Jason Weston. \\\\newblock Learning end-to-end goal-oriented dialog. \\\\newblock \\\\emph{arXiv preprint arXiv:1605.07683}, 2016.',\n",
       "  'arxivids': [],\n",
       "  'bib-seq': 3,\n",
       "  'seq_id': 397092},\n",
       " 'GRU': {'text': '\\\\bibitem[Cho et~al.(2014)Cho, Van~Merri{\\\\\"e}nboer, Gulcehre, Bahdanau, Bougares, Schwenk, and Bengio]{GRU} Kyunghyun Cho, Bart Van~Merri{\\\\\"e}nboer, Caglar Gulcehre, Dzmitry Bahdanau, Fethi Bougares, Holger Schwenk, and Yoshua Bengio. \\\\newblock Learning phrase representations using rnn encoder-decoder for statistical machine translation. \\\\newblock In \\\\emph{EMNLP}, 2014.',\n",
       "  'arxivids': [],\n",
       "  'bib-seq': 4,\n",
       "  'seq_id': 1073979},\n",
       " 'duchi2011adaptive': {'text': '\\\\bibitem[Duchi et~al.(2011)Duchi, Hazan, and Singer]{duchi2011adaptive} John Duchi, Elad Hazan, and Yoram Singer. \\\\newblock Adaptive subgradient methods for online learning and stochastic optimization. \\\\newblock \\\\emph{JMLR}, 12, 2011.',\n",
       "  'arxivids': [],\n",
       "  'bib-seq': 5},\n",
       " 'glorot2010understanding': {'text': '\\\\bibitem[Glorot and Bengio(2010)]{glorot2010understanding} Xavier Glorot and Yoshua Bengio. \\\\newblock Understanding the difficulty of training deep feedforward neural networks. \\\\newblock In \\\\emph{JMLR}, 2010.',\n",
       "  'arxivids': [],\n",
       "  'bib-seq': 6,\n",
       "  'seq_id': 545116},\n",
       " 'graves2016hybrid': {'text': \"\\\\bibitem[Graves et~al.(2016)Graves, Wayne, Reynolds, Harley, Danihelka, Grabska-Barwi{\\\\'n}ska, Colmenarejo, Grefenstette, Ramalho, Agapiou, et~al.]{graves2016hybrid} Alex Graves, Greg Wayne, Malcolm Reynolds, Tim Harley, Ivo Danihelka, Agnieszka Grabska-Barwi{\\\\'n}ska, Sergio~G{\\\\'o}mez Colmenarejo, Edward Grefenstette, Tiago Ramalho, John Agapiou, et~al. \\\\newblock Hybrid computing using a neural network with dynamic external memory. \\\\newblock \\\\emph{Nature}, 2016.\",\n",
       "  'arxivids': [],\n",
       "  'bib-seq': 7},\n",
       " 'henderson2014second': {'text': '\\\\bibitem[Henderson et~al.(2014)Henderson, Thomson, and Williams]{henderson2014second} Matthew Henderson, Blaise Thomson, and Jason Williams. \\\\newblock The second dialog state tracking challenge. \\\\newblock In \\\\emph{SIGdial}, 2014.',\n",
       "  'arxivids': [],\n",
       "  'bib-seq': 8},\n",
       " 'hermann2015teaching': {'text': '\\\\bibitem[Hermann et~al.(2015)Hermann, Kocisky, Grefenstette, Espeholt, Kay, Suleyman, and Blunsom]{hermann2015teaching} Karl~Moritz Hermann, Tomas Kocisky, Edward Grefenstette, Lasse Espeholt, Will Kay, Mustafa Suleyman, and Phil Blunsom. \\\\newblock Teaching machines to read and comprehend. \\\\newblock In \\\\emph{NIPS}, 2015.',\n",
       "  'arxivids': [],\n",
       "  'bib-seq': 9,\n",
       "  'seq_id': 88735},\n",
       " 'hill2015goldilocks': {'text': \"\\\\bibitem[Hill et~al.(2016)Hill, Bordes, Chopra, and Weston]{hill2015goldilocks} Felix Hill, Antoine Bordes, Sumit Chopra, and Jason Weston. \\\\newblock The goldilocks principle: Reading children's books with explicit memory representations. \\\\newblock In \\\\emph{ICLR}, 2016.\",\n",
       "  'arxivids': [],\n",
       "  'bib-seq': 10,\n",
       "  'seq_id': 766849},\n",
       " 'lstm': {'text': '\\\\bibitem[Hochreiter and Schmidhuber(1997)]{lstm} Sepp Hochreiter and J{\\\\\"u}rgen Schmidhuber. \\\\newblock Long short-term memory. \\\\newblock \\\\emph{Neural computation}, 9\\\\penalty0 (8):\\\\penalty0 1735--1780, 1997.',\n",
       "  'arxivids': [],\n",
       "  'bib-seq': 11},\n",
       " 'DMN': {'text': '\\\\bibitem[Kumar et~al.(2016)Kumar, Irsoy, Su, Bradbury, English, Pierce, Ondruska, Gulrajani, and Socher]{DMN} Ankit Kumar, Ozan Irsoy, Jonathan Su, James Bradbury, Robert English, Brian Pierce, Peter Ondruska, Ishaan Gulrajani, and Richard Socher. \\\\newblock Ask me anything: Dynamic memory networks for natural language processing. \\\\newblock In \\\\emph{ICML}, 2016.',\n",
       "  'arxivids': [],\n",
       "  'bib-seq': 12,\n",
       "  'seq_id': 746563},\n",
       " 'scrn': {'text': \"\\\\bibitem[Mikolov et~al.(2015)Mikolov, Joulin, Chopra, Mathieu, and Ranzato]{scrn} Tomas Mikolov, Armand Joulin, Sumit Chopra, Michael Mathieu, and Marc'Aurelio Ranzato. \\\\newblock Learning longer memory in recurrent neural networks. \\\\newblock In \\\\emph{ICLR 2015 Workshop}, 2015.\",\n",
       "  'arxivids': [],\n",
       "  'bib-seq': 13,\n",
       "  'seq_id': 861194},\n",
       " 'NR': {'text': '\\\\bibitem[Peng et~al.(2015)Peng, Lu, Li, and Wong]{NR} Baolin Peng, Zhengdong Lu, Hang Li, and Kam-Fai Wong. \\\\newblock Towards neural network-based reasoning. \\\\newblock \\\\emph{arXiv preprint arXiv:1508.05508}, 2015.',\n",
       "  'arxivids': [],\n",
       "  'bib-seq': 14,\n",
       "  'seq_id': 46498},\n",
       " 'perez2016gated': {'text': '\\\\bibitem[Perez and Liu(2016)]{perez2016gated} Julien Perez and Fei Liu. \\\\newblock Gated end-to-end memory networks. \\\\newblock \\\\emph{arXiv preprint arXiv:1610.04211}, 2016.',\n",
       "  'arxivids': [],\n",
       "  'bib-seq': 15,\n",
       "  'seq_id': 169683},\n",
       " 'squad': {'text': '\\\\bibitem[Rajpurkar et~al.(2016)Rajpurkar, Zhang, Lopyrev, and Liang]{squad} Pranav Rajpurkar, Jian Zhang, Konstantin Lopyrev, and Percy Liang. \\\\newblock Squad: 100,000+ questions for machine comprehension of text. \\\\newblock In \\\\emph{EMNLP}, 2016.',\n",
       "  'arxivids': [],\n",
       "  'bib-seq': 16,\n",
       "  'seq_id': 986872},\n",
       " 'reiter': {'text': '\\\\bibitem[Reiter(2001)]{reiter} Raymond Reiter. \\\\newblock \\\\emph{Knowledge in Action}. \\\\newblock MIT Press, 1st edition, 2001.',\n",
       "  'arxivids': [],\n",
       "  'bib-seq': 17},\n",
       " 'MCTest': {'text': '\\\\bibitem[Richardson et~al.(2013)Richardson, Burges, and Renshaw]{MCTest} Matthew Richardson, Christopher~JC Burges, and Erin Renshaw. \\\\newblock Mctest: A challenge dataset for the open-domain machine comprehension of text. \\\\newblock In \\\\emph{EMNLP}, 2013.',\n",
       "  'arxivids': [],\n",
       "  'bib-seq': 18,\n",
       "  'seq_id': 415153},\n",
       " 'memN2N': {'text': '\\\\bibitem[Sukhbaatar et~al.(2015)Sukhbaatar, Szlam, Weston, and Fergus]{memN2N} Sainbayar Sukhbaatar, Arthur Szlam, Jason Weston, and Rob Fergus. \\\\newblock End-to-end memory networks. \\\\newblock In \\\\emph{NIPS}, 2015.',\n",
       "  'arxivids': [],\n",
       "  'bib-seq': 19,\n",
       "  'seq_id': 1082720},\n",
       " 'memNet': {'text': '\\\\bibitem[Weston et~al.(2015)Weston, Chopra, and Bordes]{memNet} Jason Weston, Sumit Chopra, and Antoine Bordes. \\\\newblock Memory networks. \\\\newblock In \\\\emph{ICLR}, 2015.',\n",
       "  'arxivids': [],\n",
       "  'bib-seq': 20,\n",
       "  'seq_id': 455790},\n",
       " 'babi': {'text': '\\\\bibitem[Weston et~al.(2016)Weston, Bordes, Chopra, and Mikolov]{babi} Jason Weston, Antoine Bordes, Sumit Chopra, and Tomas Mikolov. \\\\newblock Towards ai-complete question answering: A set of prerequisite toy tasks. \\\\newblock In \\\\emph{ICLR}, 2016.',\n",
       "  'arxivids': [],\n",
       "  'bib-seq': 21,\n",
       "  'seq_id': 800093},\n",
       " 'DMN+': {'text': '\\\\bibitem[Xiong et~al.(2016)Xiong, Merity, and Socher]{DMN+} Caiming Xiong, Stephen Merity, and Richard Socher. \\\\newblock Dynamic memory networks for visual and textual question answering. \\\\newblock In \\\\emph{ICML}, 2016.',\n",
       "  'arxivids': [],\n",
       "  'bib-seq': 22,\n",
       "  'seq_id': 793490}}"
      ]
     },
     "execution_count": 463,
     "metadata": {},
     "output_type": "execute_result"
    }
   ],
   "source": [
    "paper_bbl_dict[\"2017_B1MRcPclx\"]"
   ]
  },
  {
   "cell_type": "code",
   "execution_count": 432,
   "metadata": {},
   "outputs": [
    {
     "data": {
      "text/plain": [
       "(988, 3761)"
      ]
     },
     "execution_count": 432,
     "metadata": {},
     "output_type": "execute_result"
    }
   ],
   "source": [
    "len(set(found_in_paper_not_arxiv_p2)), len(found_in_paper_not_arxiv_p2)"
   ]
  },
  {
   "cell_type": "code",
   "execution_count": 502,
   "metadata": {},
   "outputs": [
    {
     "name": "stdout",
     "output_type": "stream",
     "text": [
      "1313\n"
     ]
    }
   ],
   "source": [
    "print(len(graph_edges))"
   ]
  },
  {
   "cell_type": "code",
   "execution_count": 503,
   "metadata": {},
   "outputs": [
    {
     "name": "stdout",
     "output_type": "stream",
     "text": [
      "6631\n"
     ]
    }
   ],
   "source": [
    "ec = 0\n",
    "\n",
    "for x in graph_edges:\n",
    "    ec += len(graph_edges[x])\n",
    "print(ec)"
   ]
  },
  {
   "cell_type": "code",
   "execution_count": 505,
   "metadata": {},
   "outputs": [],
   "source": [
    "uniq_nodes = set()\n",
    "for k, v in graph_edges.items():\n",
    "#     print(k, v)\n",
    "#     break\n",
    "    uniq_nodes.add(k)\n",
    "    for i in v:\n",
    "        uniq_nodes.add(i)\n",
    "uniq_nodes = set(uniq_nodes)"
   ]
  },
  {
   "cell_type": "code",
   "execution_count": 506,
   "metadata": {},
   "outputs": [
    {
     "data": {
      "text/plain": [
       "3641"
      ]
     },
     "execution_count": 506,
     "metadata": {},
     "output_type": "execute_result"
    }
   ],
   "source": [
    "len(uniq_nodes)"
   ]
  },
  {
   "cell_type": "code",
   "execution_count": null,
   "metadata": {},
   "outputs": [],
   "source": []
  },
  {
   "cell_type": "code",
   "execution_count": null,
   "metadata": {},
   "outputs": [],
   "source": []
  },
  {
   "cell_type": "markdown",
   "metadata": {},
   "source": [
    "# P1"
   ]
  },
  {
   "cell_type": "code",
   "execution_count": 473,
   "metadata": {},
   "outputs": [
    {
     "name": "stdout",
     "output_type": "stream",
     "text": [
      "[('2017', 695, 376), ('2018', 1171, 603), ('2019', 1949, 1044), ('2020', 2816, 1503)]\n",
      "{'2017': 162, '2018': 239, '2019': 389, '2020': 523}\n"
     ]
    }
   ],
   "source": [
    "yw_ec = {str(y): [] for y in range(2017, 2021)}\n",
    "paper_nodes = {str(y): 0 for y in range(2017, 2021)}\n",
    "\n",
    "for x in graph_edges:\n",
    "    year = reverse_iclr_yearwise_graph_info[x][0:4]\n",
    "    yw_ec[year] += graph_edges[x]\n",
    "    paper_nodes[year] += 1\n",
    "    \n",
    "print([(y, len(yw_ec[y]), len(set(yw_ec[y]))) for y in yw_ec])\n",
    "print(paper_nodes)"
   ]
  },
  {
   "cell_type": "markdown",
   "metadata": {},
   "source": [
    "### {'2017': 695, '2018': 1171, '2019': 1949, '2020': 2816}"
   ]
  },
  {
   "cell_type": "code",
   "execution_count": null,
   "metadata": {},
   "outputs": [],
   "source": []
  },
  {
   "cell_type": "markdown",
   "metadata": {},
   "source": [
    "# P2 "
   ]
  },
  {
   "cell_type": "code",
   "execution_count": 425,
   "metadata": {},
   "outputs": [
    {
     "name": "stdout",
     "output_type": "stream",
     "text": [
      "2546\n"
     ]
    }
   ],
   "source": [
    "unique_references_set = set()\n",
    "\n",
    "for y in yw_ec:\n",
    "    for rrr in yw_ec[y]:\n",
    "        unique_references_set.add(rrr)\n",
    "print(len(unique_references_set))"
   ]
  },
  {
   "cell_type": "code",
   "execution_count": null,
   "metadata": {},
   "outputs": [],
   "source": []
  },
  {
   "cell_type": "code",
   "execution_count": 469,
   "metadata": {},
   "outputs": [
    {
     "data": {
      "text/plain": [
       "1313"
      ]
     },
     "execution_count": 469,
     "metadata": {},
     "output_type": "execute_result"
    }
   ],
   "source": [
    "len(graph_edges)"
   ]
  },
  {
   "cell_type": "code",
   "execution_count": null,
   "metadata": {},
   "outputs": [],
   "source": []
  },
  {
   "cell_type": "code",
   "execution_count": 496,
   "metadata": {},
   "outputs": [
    {
     "data": {
      "text/plain": [
       "242"
      ]
     },
     "execution_count": 496,
     "metadata": {},
     "output_type": "execute_result"
    }
   ],
   "source": [
    "len(set(graph_edges.keys()).intersection(unique_references_set))"
   ]
  },
  {
   "cell_type": "code",
   "execution_count": null,
   "metadata": {},
   "outputs": [],
   "source": []
  },
  {
   "cell_type": "code",
   "execution_count": 492,
   "metadata": {},
   "outputs": [
    {
     "data": {
      "text/plain": [
       "1337"
      ]
     },
     "execution_count": 492,
     "metadata": {},
     "output_type": "execute_result"
    }
   ],
   "source": [
    "len(graph_edges)"
   ]
  },
  {
   "cell_type": "code",
   "execution_count": null,
   "metadata": {},
   "outputs": [],
   "source": []
  },
  {
   "cell_type": "markdown",
   "metadata": {},
   "source": [
    "## New papers to download"
   ]
  },
  {
   "cell_type": "code",
   "execution_count": 509,
   "metadata": {},
   "outputs": [],
   "source": [
    "new_papers_to_download = unique_references_set.difference(set(graph_edges.keys()))"
   ]
  },
  {
   "cell_type": "code",
   "execution_count": 510,
   "metadata": {},
   "outputs": [
    {
     "data": {
      "text/plain": [
       "(2328, 2546)"
      ]
     },
     "execution_count": 510,
     "metadata": {},
     "output_type": "execute_result"
    }
   ],
   "source": [
    "len(new_papers_to_download), len(new_papers_to_download)+218"
   ]
  },
  {
   "cell_type": "code",
   "execution_count": 519,
   "metadata": {},
   "outputs": [],
   "source": [
    "map_new_papers_to_download_to_arxivId = {}\n",
    "hacky_list_of_dict = list(paper_global_id_dict.items())\n",
    "\n",
    "for mid in new_papers_to_download:\n",
    "    potential_paper = hacky_list_of_dict[mid]\n",
    "    if mid == potential_paper[1]:\n",
    "        map_new_papers_to_download_to_arxivId[mid] = [potential_paper[0], paper_id_titles[potential_paper[0]]]\n",
    "    else:\n",
    "        print(\"Not found: \", mid)"
   ]
  },
  {
   "cell_type": "code",
   "execution_count": 521,
   "metadata": {},
   "outputs": [
    {
     "data": {
      "text/plain": [
       "[(1179651, ['searchingformobilenetv3', ['a_1905.02244v5']]),\n",
       " (1179653,\n",
       "  ['mixmatchaholisticapproachtosemisupervisedlearning', ['a_1905.02249v2']])]"
      ]
     },
     "execution_count": 521,
     "metadata": {},
     "output_type": "execute_result"
    }
   ],
   "source": [
    "list(map_new_papers_to_download_to_arxivId.items())[0:2]"
   ]
  },
  {
   "cell_type": "code",
   "execution_count": 522,
   "metadata": {},
   "outputs": [],
   "source": [
    "with open(\"map_new_papers_to_download_to_arxiv.pkl\", \"wb\") as f:\n",
    "    pickle.dump(map_new_papers_to_download_to_arxivId, f)"
   ]
  },
  {
   "cell_type": "code",
   "execution_count": null,
   "metadata": {},
   "outputs": [],
   "source": []
  },
  {
   "cell_type": "code",
   "execution_count": null,
   "metadata": {},
   "outputs": [],
   "source": []
  },
  {
   "cell_type": "code",
   "execution_count": null,
   "metadata": {},
   "outputs": [],
   "source": []
  },
  {
   "cell_type": "code",
   "execution_count": null,
   "metadata": {},
   "outputs": [],
   "source": []
  },
  {
   "cell_type": "code",
   "execution_count": null,
   "metadata": {},
   "outputs": [],
   "source": [
    "global_graph_nodes = list(graph_edges.keys())\n",
    "global_graph_nodes_itercopy = list(graph_edges.keys())\n",
    "cc = 1\n",
    "cc_list = defaultdict(set)\n",
    "idx = 0\n",
    "\n",
    "\n",
    "for k in global_graph_nodes_itercopy:\n",
    "    cc_list[idx].add(k)\n",
    "    for neighs in graph_edges[k]:\n",
    "        cc_list.add(neighs)"
   ]
  },
  {
   "cell_type": "code",
   "execution_count": null,
   "metadata": {},
   "outputs": [],
   "source": []
  },
  {
   "cell_type": "code",
   "execution_count": 476,
   "metadata": {},
   "outputs": [],
   "source": [
    "def DFSUtil(temp, v, visited):   \n",
    "    # Mark the current vertex as visited \n",
    "    visited[v] = True\n",
    "\n",
    "    # Store the vertex to list \n",
    "    temp.append(v) \n",
    "\n",
    "    # Repeat for all vertices adjacent \n",
    "    # to this vertex v \n",
    "    for i in graph_edges[v]: \n",
    "        if visited[i] == False: \n",
    "            temp = DFSUtil(temp, i, visited) \n",
    "    return temp "
   ]
  },
  {
   "cell_type": "code",
   "execution_count": 484,
   "metadata": {},
   "outputs": [],
   "source": [
    "def connectedComponents(): \n",
    "    visited = {}\n",
    "    cc = [] \n",
    "    for i in graph_edges: \n",
    "        visited[i] = False\n",
    "        for j in graph_edges[i]:\n",
    "            visited[j] = False\n",
    "    \n",
    "    for v in graph_edges:\n",
    "        if visited[v] == False: \n",
    "            cc.append(DFSUtil([], v, visited)) \n",
    "    print(cc)"
   ]
  },
  {
   "cell_type": "code",
   "execution_count": 485,
   "metadata": {},
   "outputs": [
    {
     "ename": "RuntimeError",
     "evalue": "dictionary changed size during iteration",
     "output_type": "error",
     "traceback": [
      "\u001b[0;31m---------------------------------------------------------------------------\u001b[0m",
      "\u001b[0;31mRuntimeError\u001b[0m                              Traceback (most recent call last)",
      "\u001b[0;32m<ipython-input-485-8cc252fa598f>\u001b[0m in \u001b[0;36m<module>\u001b[0;34m\u001b[0m\n\u001b[0;32m----> 1\u001b[0;31m \u001b[0mconnectedComponents\u001b[0m\u001b[0;34m(\u001b[0m\u001b[0;34m)\u001b[0m\u001b[0;34m\u001b[0m\u001b[0;34m\u001b[0m\u001b[0m\n\u001b[0m",
      "\u001b[0;32m<ipython-input-484-0f4035658426>\u001b[0m in \u001b[0;36mconnectedComponents\u001b[0;34m()\u001b[0m\n\u001b[1;32m      7\u001b[0m             \u001b[0mvisited\u001b[0m\u001b[0;34m[\u001b[0m\u001b[0mj\u001b[0m\u001b[0;34m]\u001b[0m \u001b[0;34m=\u001b[0m \u001b[0;32mFalse\u001b[0m\u001b[0;34m\u001b[0m\u001b[0;34m\u001b[0m\u001b[0m\n\u001b[1;32m      8\u001b[0m \u001b[0;34m\u001b[0m\u001b[0m\n\u001b[0;32m----> 9\u001b[0;31m     \u001b[0;32mfor\u001b[0m \u001b[0mv\u001b[0m \u001b[0;32min\u001b[0m \u001b[0mgraph_edges\u001b[0m\u001b[0;34m:\u001b[0m\u001b[0;34m\u001b[0m\u001b[0;34m\u001b[0m\u001b[0m\n\u001b[0m\u001b[1;32m     10\u001b[0m         \u001b[0;32mif\u001b[0m \u001b[0mvisited\u001b[0m\u001b[0;34m[\u001b[0m\u001b[0mv\u001b[0m\u001b[0;34m]\u001b[0m \u001b[0;34m==\u001b[0m \u001b[0;32mFalse\u001b[0m\u001b[0;34m:\u001b[0m\u001b[0;34m\u001b[0m\u001b[0;34m\u001b[0m\u001b[0m\n\u001b[1;32m     11\u001b[0m             \u001b[0mcc\u001b[0m\u001b[0;34m.\u001b[0m\u001b[0mappend\u001b[0m\u001b[0;34m(\u001b[0m\u001b[0mDFSUtil\u001b[0m\u001b[0;34m(\u001b[0m\u001b[0;34m[\u001b[0m\u001b[0;34m]\u001b[0m\u001b[0;34m,\u001b[0m \u001b[0mv\u001b[0m\u001b[0;34m,\u001b[0m \u001b[0mvisited\u001b[0m\u001b[0;34m)\u001b[0m\u001b[0;34m)\u001b[0m\u001b[0;34m\u001b[0m\u001b[0;34m\u001b[0m\u001b[0m\n",
      "\u001b[0;31mRuntimeError\u001b[0m: dictionary changed size during iteration"
     ]
    }
   ],
   "source": [
    "connectedComponents()"
   ]
  },
  {
   "cell_type": "code",
   "execution_count": null,
   "metadata": {},
   "outputs": [],
   "source": []
  },
  {
   "cell_type": "code",
   "execution_count": 263,
   "metadata": {},
   "outputs": [
    {
     "name": "stdout",
     "output_type": "stream",
     "text": [
      "2017_B1-q5Pqxl\n"
     ]
    }
   ],
   "source": [
    "for k,v in full_text_refs_dict.items():\n",
    "    print(k)\n",
    "    break"
   ]
  },
  {
   "cell_type": "code",
   "execution_count": null,
   "metadata": {},
   "outputs": [],
   "source": []
  },
  {
   "cell_type": "code",
   "execution_count": null,
   "metadata": {},
   "outputs": [],
   "source": []
  },
  {
   "cell_type": "code",
   "execution_count": null,
   "metadata": {},
   "outputs": [],
   "source": []
  },
  {
   "cell_type": "code",
   "execution_count": null,
   "metadata": {},
   "outputs": [],
   "source": []
  },
  {
   "cell_type": "code",
   "execution_count": null,
   "metadata": {},
   "outputs": [],
   "source": []
  },
  {
   "cell_type": "code",
   "execution_count": 147,
   "metadata": {},
   "outputs": [
    {
     "data": {
      "text/plain": [
       "'Prototypical Networks for Few-shot Learning'"
      ]
     },
     "execution_count": 147,
     "metadata": {},
     "output_type": "execute_result"
    }
   ],
   "source": [
    "iclr_arxiv_map[\"2017_B1-Hhnslg\"][\"title\"]"
   ]
  },
  {
   "cell_type": "code",
   "execution_count": null,
   "metadata": {},
   "outputs": [],
   "source": []
  },
  {
   "cell_type": "code",
   "execution_count": 142,
   "metadata": {},
   "outputs": [],
   "source": [
    "m = re.search(\"bib-bib([0-9][0-9]?)\", leaderboard_refs[\"2017_B1-Hhnslg\"]['refs']['ldb'][0])"
   ]
  },
  {
   "cell_type": "code",
   "execution_count": 144,
   "metadata": {},
   "outputs": [
    {
     "data": {
      "text/plain": [
       "'17'"
      ]
     },
     "execution_count": 144,
     "metadata": {},
     "output_type": "execute_result"
    }
   ],
   "source": [
    "m.group(1)"
   ]
  },
  {
   "cell_type": "code",
   "execution_count": null,
   "metadata": {},
   "outputs": [],
   "source": []
  },
  {
   "cell_type": "code",
   "execution_count": null,
   "metadata": {},
   "outputs": [],
   "source": []
  },
  {
   "cell_type": "code",
   "execution_count": 118,
   "metadata": {},
   "outputs": [
    {
     "data": {
      "text/plain": [
       "{'refs': {'ldb': [\"<ref id='bib-bib17'>2016</ref>\",\n",
       "   \"<ref id='bib-bib1'>2013</ref>\",\n",
       "   \"<ref id='bib-bib23'>2016</ref>\",\n",
       "   \"<ref id='bib-bib29'>2016</ref>\",\n",
       "   \"<ref id='bib-bib2'>2015</ref>\",\n",
       "   \"<ref id='bib-bib22'>2017</ref>\",\n",
       "   \"<ref id='bib-bib6'>2017</ref>\"],\n",
       "  'abl': []},\n",
       " 'count': 12}"
      ]
     },
     "execution_count": 118,
     "metadata": {},
     "output_type": "execute_result"
    }
   ],
   "source": [
    "leaderboard_refs[\"2017_B1-Hhnslg\"]"
   ]
  },
  {
   "cell_type": "code",
   "execution_count": 119,
   "metadata": {},
   "outputs": [
    {
     "data": {
      "text/plain": [
       "dict_keys(['akata2013label', 'akata2015evaluation', 'lei2015predicting', 'banerjee2005clustering', 'bellet2013survey', 'edwards2017towards', 'elhoseiny2013write', 'goldberger2004neighbourhood', 'hochreiter1997long', 'ioffe2015batch', 'kingma2014adam', 'kingma2013auto', 'koch2015siamese', 'krizhevsky2012imagenet', 'kulis2012metric', 'lake2011one', 'liao2016', 'maaten2008visualizing', 'mensink2013distance', 'miller2000learning', 'min2009deep', 'ravi2017meta', 'reed2016learning', 'rezende2014stochastic', 'rippel2015metric', 'russakovsky2015imagenet', 'salakhutdinov2007learning', 'szegedy2015going', 'vinyals2016matching', 'weinberger2005distance', 'welinder2010caltech'])"
      ]
     },
     "execution_count": 119,
     "metadata": {},
     "output_type": "execute_result"
    }
   ],
   "source": [
    "paper_bbl_dict[\"2017_B1-Hhnslg\"].keys()"
   ]
  },
  {
   "cell_type": "code",
   "execution_count": 121,
   "metadata": {},
   "outputs": [
    {
     "data": {
      "text/plain": [
       "{'text': '\\\\bibitem[Welinder et~al.(2010)Welinder, Branson, Mita, Wah, Schroff, Belongie, and Perona]{welinder2010caltech} P.~Welinder, S.~Branson, T.~Mita, C.~Wah, F.~Schroff, S.~Belongie, and P.~Perona. \\\\newblock {Caltech-UCSD Birds 200}. \\\\newblock Technical Report CNS-TR-2010-001, California Institute of Technology, 2010.',\n",
       " 'arxivids': [],\n",
       " 'bib-seq': 31}"
      ]
     },
     "execution_count": 121,
     "metadata": {},
     "output_type": "execute_result"
    }
   ],
   "source": [
    "paper_bbl_dict[\"2017_B1-Hhnslg\"][\"welinder2010caltech\"]"
   ]
  },
  {
   "cell_type": "code",
   "execution_count": 123,
   "metadata": {},
   "outputs": [
    {
     "ename": "SyntaxError",
     "evalue": "invalid syntax (<ipython-input-123-b462aee1c6c4>, line 1)",
     "output_type": "error",
     "traceback": [
      "\u001b[0;36m  File \u001b[0;32m\"<ipython-input-123-b462aee1c6c4>\"\u001b[0;36m, line \u001b[0;32m1\u001b[0m\n\u001b[0;31m    *\u001b[0m\n\u001b[0m     ^\u001b[0m\n\u001b[0;31mSyntaxError\u001b[0m\u001b[0;31m:\u001b[0m invalid syntax\n"
     ]
    }
   ],
   "source": [
    "*"
   ]
  },
  {
   "cell_type": "code",
   "execution_count": null,
   "metadata": {},
   "outputs": [],
   "source": []
  },
  {
   "cell_type": "code",
   "execution_count": null,
   "metadata": {},
   "outputs": [],
   "source": [
    "graph_edges = defaultdict(set)"
   ]
  },
  {
   "cell_type": "code",
   "execution_count": null,
   "metadata": {},
   "outputs": [],
   "source": [
    "for k in leaderboard_refs:"
   ]
  },
  {
   "cell_type": "code",
   "execution_count": null,
   "metadata": {},
   "outputs": [],
   "source": []
  },
  {
   "cell_type": "code",
   "execution_count": null,
   "metadata": {},
   "outputs": [],
   "source": []
  },
  {
   "cell_type": "code",
   "execution_count": null,
   "metadata": {},
   "outputs": [],
   "source": []
  },
  {
   "cell_type": "code",
   "execution_count": null,
   "metadata": {},
   "outputs": [],
   "source": []
  },
  {
   "cell_type": "code",
   "execution_count": 230,
   "metadata": {},
   "outputs": [
    {
     "name": "stdout",
     "output_type": "stream",
     "text": [
      "Onepositiveandtwonegativeresultsforderivedcategoriesofalgebraicstacks ['e_1405.1888']\n"
     ]
    }
   ],
   "source": [
    "for k,v in paper_id_titles.items():\n",
    "    print(k, v)\n",
    "    break"
   ]
  },
  {
   "cell_type": "code",
   "execution_count": null,
   "metadata": {},
   "outputs": [],
   "source": []
  }
 ],
 "metadata": {
  "kernelspec": {
   "display_name": "Python [conda env:axcell] *",
   "language": "python",
   "name": "conda-env-axcell-py"
  },
  "language_info": {
   "codemirror_mode": {
    "name": "ipython",
    "version": 3
   },
   "file_extension": ".py",
   "mimetype": "text/x-python",
   "name": "python",
   "nbconvert_exporter": "python",
   "pygments_lexer": "ipython3",
   "version": "3.7.1"
  }
 },
 "nbformat": 4,
 "nbformat_minor": 4
}
