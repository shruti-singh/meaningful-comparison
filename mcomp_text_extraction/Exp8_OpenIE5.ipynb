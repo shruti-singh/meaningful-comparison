{
 "cells": [
  {
   "cell_type": "code",
   "execution_count": 5,
   "metadata": {},
   "outputs": [
    {
     "name": "stdout",
     "output_type": "stream",
     "text": [
      "Defaulting to user installation because normal site-packages is not writeable\n",
      "Requirement already satisfied: pyopenie in /home/shruti/.local/lib/python3.7/site-packages (0.2.0)\n",
      "Requirement already satisfied: requests in /home/shruti/.local/lib/python3.7/site-packages (from pyopenie) (2.24.0)\n",
      "Requirement already satisfied: chardet<4,>=3.0.2 in /home/shruti/.local/lib/python3.7/site-packages (from requests->pyopenie) (3.0.4)\n",
      "Requirement already satisfied: urllib3!=1.25.0,!=1.25.1,<1.26,>=1.21.1 in /home/shruti/.local/lib/python3.7/site-packages (from requests->pyopenie) (1.25.9)\n",
      "Requirement already satisfied: idna<3,>=2.5 in /home/shruti/.local/lib/python3.7/site-packages (from requests->pyopenie) (2.10)\n",
      "Requirement already satisfied: certifi>=2017.4.17 in /home/shruti/.local/lib/python3.7/site-packages (from requests->pyopenie) (2020.6.20)\n",
      "\u001b[33mWARNING: You are using pip version 20.3.1; however, version 20.3.3 is available.\n",
      "You should consider upgrading via the '/usr/bin/python3.7 -m pip install --upgrade pip' command.\u001b[0m\n"
     ]
    }
   ],
   "source": [
    "!pip3 install pyopenie"
   ]
  },
  {
   "cell_type": "code",
   "execution_count": 2,
   "metadata": {},
   "outputs": [],
   "source": [
    "import pandas as pd\n",
    "from pyopenie import OpenIE5"
   ]
  },
  {
   "cell_type": "code",
   "execution_count": 3,
   "metadata": {},
   "outputs": [],
   "source": [
    "df_test = pd.read_excel(\"InputTestSet-Reviews48_Ann_NEW.xlsx\")\n",
    "df_train = pd.read_excel(\"InputTrainSet-Reviews7_Ann.xlsx\")"
   ]
  },
  {
   "cell_type": "code",
   "execution_count": null,
   "metadata": {},
   "outputs": [],
   "source": []
  },
  {
   "cell_type": "code",
   "execution_count": null,
   "metadata": {},
   "outputs": [],
   "source": [
    "extractor = OpenIE5('http://localhost:9000')"
   ]
  },
  {
   "cell_type": "code",
   "execution_count": null,
   "metadata": {},
   "outputs": [],
   "source": [
    "import pandas as pd\n",
    "from pyopenie import OpenIE5\n",
    "\n",
    "extractor = OpenIE5('http://localhost:9000')\n",
    "\n",
    "df_test = pd.read_excel(\"InputTestSet-Reviews48_Ann_NEW.xlsx\")\n",
    "df_train = pd.read_excel(\"InputTrainSet-Reviews7_Ann.xlsx\")\n",
    "\n",
    "\n",
    "test_triples = {}\n",
    "train_triples = {}\n",
    "\n",
    "for i in range(0, df_test.shape[0]):\n",
    "    uid = df_test.loc[i][\"UID\"]\n",
    "    test_triples[uid] = extractor.extract(str(df_test.loc[i][\"Sent\"]))\n",
    "\n",
    "for i in range(0, df_train.shape[0]):\n",
    "    uid = df_train.loc[i][\"UID\"]\n",
    "    train_triples[uid] = extractor.extract(str(df_train.loc[i][\"Sent\"]))\n"
   ]
  },
  {
   "cell_type": "code",
   "execution_count": null,
   "metadata": {},
   "outputs": [],
   "source": []
  }
 ],
 "metadata": {
  "kernelspec": {
   "display_name": "python35",
   "language": "python",
   "name": "python35"
  },
  "language_info": {
   "codemirror_mode": {
    "name": "ipython",
    "version": 3
   },
   "file_extension": ".py",
   "mimetype": "text/x-python",
   "name": "python",
   "nbconvert_exporter": "python",
   "pygments_lexer": "ipython3",
   "version": "3.5.2"
  }
 },
 "nbformat": 4,
 "nbformat_minor": 4
}
