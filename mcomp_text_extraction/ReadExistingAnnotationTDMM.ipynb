{
 "cells": [
  {
   "cell_type": "code",
   "execution_count": 22,
   "metadata": {},
   "outputs": [],
   "source": [
    "import glob\n",
    "import json\n",
    "from collections import defaultdict"
   ]
  },
  {
   "cell_type": "code",
   "execution_count": null,
   "metadata": {},
   "outputs": [],
   "source": []
  },
  {
   "cell_type": "code",
   "execution_count": 23,
   "metadata": {},
   "outputs": [
    {
     "name": "stdout",
     "output_type": "stream",
     "text": [
      "dev.jsonl  test.jsonl  train.jsonl  undformat\r\n"
     ]
    }
   ],
   "source": [
    "!ls ../../SciREX_updated/SciREX/scirex_dataset/release_data/"
   ]
  },
  {
   "cell_type": "code",
   "execution_count": 24,
   "metadata": {},
   "outputs": [],
   "source": [
    "data_dir = \"../../SciREX_updated/SciREX/scirex_dataset/release_data/*.jsonl\""
   ]
  },
  {
   "cell_type": "code",
   "execution_count": 25,
   "metadata": {},
   "outputs": [],
   "source": [
    "files = glob.glob(data_dir)"
   ]
  },
  {
   "cell_type": "code",
   "execution_count": 26,
   "metadata": {},
   "outputs": [
    {
     "data": {
      "text/plain": [
       "['../../SciREX_updated/SciREX/scirex_dataset/release_data/test.jsonl',\n",
       " '../../SciREX_updated/SciREX/scirex_dataset/release_data/train.jsonl',\n",
       " '../../SciREX_updated/SciREX/scirex_dataset/release_data/dev.jsonl']"
      ]
     },
     "execution_count": 26,
     "metadata": {},
     "output_type": "execute_result"
    }
   ],
   "source": [
    "files"
   ]
  },
  {
   "cell_type": "code",
   "execution_count": 37,
   "metadata": {},
   "outputs": [],
   "source": [
    "entities_dict = {}\n",
    "\n",
    "for f in files:\n",
    "    with open(f, 'r') as rf:\n",
    "        lines = rf.readlines()\n",
    "    for l in lines:\n",
    "        t = json.loads(l)\n",
    "        if \"ner\" in t and t[\"ner\"]:\n",
    "            for tup in t[\"ner\"]:\n",
    "                entity_mention = \" \".join(t[\"words\"][tup[0]: tup[1]])\n",
    "                entity_mention = entity_mention.lower().strip()\n",
    "                entity_type = tup[2]\n",
    "                if entity_mention in entities_dict:\n",
    "                    entities_dict[entity_mention][entity_type] += 1\n",
    "                else:\n",
    "                    entities_dict[entity_mention] = defaultdict(int)\n",
    "                    entities_dict[entity_mention][entity_type] = 1"
   ]
  },
  {
   "cell_type": "code",
   "execution_count": 38,
   "metadata": {},
   "outputs": [
    {
     "data": {
      "text/plain": [
       "(defaultdict(int, {'Task': 1}),\n",
       " defaultdict(int, {'Method': 1, 'Metric': 38}),\n",
       " defaultdict(int, {'Method': 1, 'Metric': 9}),\n",
       " defaultdict(int, {'Method': 9}),\n",
       " defaultdict(int, {'Method': 3}),\n",
       " defaultdict(int, {'Method': 71}),\n",
       " defaultdict(int, {'Task': 17}))"
      ]
     },
     "execution_count": 38,
     "metadata": {},
     "output_type": "execute_result"
    }
   ],
   "source": [
    "entities_dict.pop(\"η\"), entities_dict.pop(\"is\"), entities_dict.pop(\"cs\"), entities_dict.pop(\"ls\"), entities_dict.pop(\"ld\"), entities_dict.pop(\"gpus\"), entities_dict.pop(\"go\")"
   ]
  },
  {
   "cell_type": "code",
   "execution_count": 39,
   "metadata": {},
   "outputs": [
    {
     "name": "stdout",
     "output_type": "stream",
     "text": [
      "nan\n",
      "2012\n",
      "12\n",
      "3\n",
      "10\n",
      "100\n",
      "4\n",
      "5\n",
      "2\n",
      "0.0032\n",
      "0.952\n",
      "2016\n",
      "300\n",
      "450\n"
     ]
    }
   ],
   "source": [
    "ent_keys = list(entities_dict.keys())\n",
    "\n",
    "for ent in ent_keys:\n",
    "    if ent.strip().isnumeric() or ent.strip().isdigit():\n",
    "        print(ent)\n",
    "        entities_dict.pop(ent)\n",
    "    else:\n",
    "        try:\n",
    "            fent = float(ent)\n",
    "            print(ent)\n",
    "            entities_dict.pop(ent)\n",
    "        except Exception as ex:\n",
    "            continue"
   ]
  },
  {
   "cell_type": "code",
   "execution_count": 40,
   "metadata": {},
   "outputs": [
    {
     "data": {
      "text/plain": [
       "48001"
      ]
     },
     "execution_count": 40,
     "metadata": {},
     "output_type": "execute_result"
    }
   ],
   "source": [
    "len(entities_dict)"
   ]
  },
  {
   "cell_type": "code",
   "execution_count": 41,
   "metadata": {},
   "outputs": [
    {
     "data": {
      "text/plain": [
       "[('deep label distribution learning', defaultdict(int, {'Method': 5})),\n",
       " ('label ambiguity', defaultdict(int, {'Task': 4})),\n",
       " ('convolutional neural networks', defaultdict(int, {'Method': 202})),\n",
       " ('convnets', defaultdict(int, {'Method': 109, 'Task': 5})),\n",
       " ('recognition', defaultdict(int, {'Task': 94})),\n",
       " ('visual recognition tasks', defaultdict(int, {'Task': 17})),\n",
       " ('age estimation', defaultdict(int, {'Task': 38})),\n",
       " ('head pose estimation', defaultdict(int, {'Task': 28})),\n",
       " ('multi - label classification', defaultdict(int, {'Task': 30})),\n",
       " ('semantic segmentation', defaultdict(int, {'Task': 298, 'Method': 6}))]"
      ]
     },
     "execution_count": 41,
     "metadata": {},
     "output_type": "execute_result"
    }
   ],
   "source": [
    "list(entities_dict.items())[0:10]"
   ]
  },
  {
   "cell_type": "code",
   "execution_count": 42,
   "metadata": {},
   "outputs": [],
   "source": [
    "entities_based_on_max_count = {}\n",
    "for k,v in entities_dict.items():\n",
    "    max_ent = sorted(v.items(), key=lambda kv: kv[1], reverse=True)[0]\n",
    "    entities_based_on_max_count[k] = max_ent[0]"
   ]
  },
  {
   "cell_type": "code",
   "execution_count": 43,
   "metadata": {},
   "outputs": [
    {
     "data": {
      "text/plain": [
       "(48001,\n",
       " [('deep label distribution learning', 'Method'),\n",
       "  ('label ambiguity', 'Task'),\n",
       "  ('convolutional neural networks', 'Method'),\n",
       "  ('convnets', 'Method'),\n",
       "  ('recognition', 'Task'),\n",
       "  ('visual recognition tasks', 'Task'),\n",
       "  ('age estimation', 'Task'),\n",
       "  ('head pose estimation', 'Task'),\n",
       "  ('multi - label classification', 'Task'),\n",
       "  ('semantic segmentation', 'Task')])"
      ]
     },
     "execution_count": 43,
     "metadata": {},
     "output_type": "execute_result"
    }
   ],
   "source": [
    "len(entities_based_on_max_count), list(entities_based_on_max_count.items())[0:10]"
   ]
  },
  {
   "cell_type": "code",
   "execution_count": 44,
   "metadata": {},
   "outputs": [],
   "source": [
    "with open(\"entities_dict\", \"w\") as f:\n",
    "    json.dump(entities_based_on_max_count, f)"
   ]
  },
  {
   "cell_type": "code",
   "execution_count": null,
   "metadata": {},
   "outputs": [],
   "source": []
  }
 ],
 "metadata": {
  "kernelspec": {
   "display_name": "Python 3.7",
   "language": "python",
   "name": "python37"
  },
  "language_info": {
   "codemirror_mode": {
    "name": "ipython",
    "version": 3
   },
   "file_extension": ".py",
   "mimetype": "text/x-python",
   "name": "python",
   "nbconvert_exporter": "python",
   "pygments_lexer": "ipython3",
   "version": "3.7.9"
  }
 },
 "nbformat": 4,
 "nbformat_minor": 4
}
