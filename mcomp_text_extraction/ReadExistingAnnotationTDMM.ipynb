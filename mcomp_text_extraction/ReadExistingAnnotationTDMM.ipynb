{
 "cells": [
  {
   "cell_type": "code",
   "execution_count": 14,
   "metadata": {},
   "outputs": [],
   "source": [
    "import glob\n",
    "import json\n",
    "from collections import defaultdict"
   ]
  },
  {
   "cell_type": "code",
   "execution_count": null,
   "metadata": {},
   "outputs": [],
   "source": []
  },
  {
   "cell_type": "code",
   "execution_count": 7,
   "metadata": {},
   "outputs": [
    {
     "name": "stdout",
     "output_type": "stream",
     "text": [
      "dev.jsonl  test.jsonl  train.jsonl  undformat\r\n"
     ]
    }
   ],
   "source": [
    "!ls ../../SciREX_updated/SciREX/scirex_dataset/release_data/"
   ]
  },
  {
   "cell_type": "code",
   "execution_count": 11,
   "metadata": {},
   "outputs": [],
   "source": [
    "data_dir = \"../../SciREX_updated/SciREX/scirex_dataset/release_data/*.jsonl\""
   ]
  },
  {
   "cell_type": "code",
   "execution_count": 12,
   "metadata": {},
   "outputs": [],
   "source": [
    "files = glob.glob(data_dir)"
   ]
  },
  {
   "cell_type": "code",
   "execution_count": 13,
   "metadata": {},
   "outputs": [
    {
     "data": {
      "text/plain": [
       "['../../SciREX_updated/SciREX/scirex_dataset/release_data/test.jsonl',\n",
       " '../../SciREX_updated/SciREX/scirex_dataset/release_data/train.jsonl',\n",
       " '../../SciREX_updated/SciREX/scirex_dataset/release_data/dev.jsonl']"
      ]
     },
     "execution_count": 13,
     "metadata": {},
     "output_type": "execute_result"
    }
   ],
   "source": [
    "files"
   ]
  },
  {
   "cell_type": "code",
   "execution_count": 21,
   "metadata": {},
   "outputs": [],
   "source": [
    "entities_dict = {}\n",
    "\n",
    "for f in files:\n",
    "    with open(f, 'r') as rf:\n",
    "        lines = rf.readlines()\n",
    "    for l in lines:\n",
    "        t = json.loads(l)\n",
    "        if \"ner\" in t and t[\"ner\"]:\n",
    "            for tup in t[\"ner\"]:\n",
    "                entity_mention = \" \".join(t[\"words\"][tup[0]: tup[1]])\n",
    "                entity_mention = entity_mention.lower().strip()\n",
    "                entity_type = tup[2]\n",
    "                if entity_mention in entities_dict:\n",
    "                    entities_dict[entity_mention][entity_type] += 1\n",
    "                else:\n",
    "                    entities_dict[entity_mention] = defaultdict(int)\n",
    "                    entities_dict[entity_mention][entity_type] = 1"
   ]
  },
  {
   "cell_type": "code",
   "execution_count": 22,
   "metadata": {},
   "outputs": [
    {
     "data": {
      "text/plain": [
       "48022"
      ]
     },
     "execution_count": 22,
     "metadata": {},
     "output_type": "execute_result"
    }
   ],
   "source": [
    "len(entities_dict)"
   ]
  },
  {
   "cell_type": "code",
   "execution_count": 24,
   "metadata": {},
   "outputs": [
    {
     "data": {
      "text/plain": [
       "[('deep label distribution learning', defaultdict(int, {'Method': 5})),\n",
       " ('label ambiguity', defaultdict(int, {'Task': 4})),\n",
       " ('convolutional neural networks', defaultdict(int, {'Method': 202})),\n",
       " ('convnets', defaultdict(int, {'Method': 109, 'Task': 5})),\n",
       " ('recognition', defaultdict(int, {'Task': 94})),\n",
       " ('visual recognition tasks', defaultdict(int, {'Task': 17})),\n",
       " ('age estimation', defaultdict(int, {'Task': 38})),\n",
       " ('head pose estimation', defaultdict(int, {'Task': 28})),\n",
       " ('multi - label classification', defaultdict(int, {'Task': 30})),\n",
       " ('semantic segmentation', defaultdict(int, {'Task': 298, 'Method': 6}))]"
      ]
     },
     "execution_count": 24,
     "metadata": {},
     "output_type": "execute_result"
    }
   ],
   "source": [
    "list(entities_dict.items())[0:10]"
   ]
  },
  {
   "cell_type": "code",
   "execution_count": null,
   "metadata": {},
   "outputs": [],
   "source": []
  }
 ],
 "metadata": {
  "kernelspec": {
   "display_name": "Python 3.7",
   "language": "python",
   "name": "python37"
  },
  "language_info": {
   "codemirror_mode": {
    "name": "ipython",
    "version": 3
   },
   "file_extension": ".py",
   "mimetype": "text/x-python",
   "name": "python",
   "nbconvert_exporter": "python",
   "pygments_lexer": "ipython3",
   "version": "3.7.9"
  }
 },
 "nbformat": 4,
 "nbformat_minor": 4
}
