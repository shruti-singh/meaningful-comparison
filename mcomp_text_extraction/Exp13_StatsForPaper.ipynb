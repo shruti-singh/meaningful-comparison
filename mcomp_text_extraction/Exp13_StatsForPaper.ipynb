{
 "cells": [
  {
   "cell_type": "code",
   "execution_count": 15,
   "metadata": {},
   "outputs": [],
   "source": [
    "import pandas as pd\n",
    "from collections import Counter"
   ]
  },
  {
   "cell_type": "code",
   "execution_count": 7,
   "metadata": {},
   "outputs": [],
   "source": [
    "train_ids = [\"2020_ryen_CEFwr\", \"2018_H1LAqMbRW\", \"2017_HyTqHL5xg\", \"2017_HyTqHL5xg\", \"2017_ByToKu9ll\", \"2019_r1eO_oCqtQ\", \"2018_H1LAqMbRW\", \"2018_H1LAqMbRW\", \"2017_ByToKu9ll\", \"2019_HJfwJ2A5KX\", \"2017_ByToKu9ll\", \"2017_HyTqHL5xg\", \"2020_ryen_CEFwr\", \"2018_H1LAqMbRW\", \"2020_ryxC6kSYPr\", \"2020_ryen_CEFwr\", \"2020_ryen_CEFwr\", \"2017_HyTqHL5xg\", \"2018_H1LAqMbRW\", \"2018_H1LAqMbRW\", \"2019_r1eO_oCqtQ\", \"2017_ByToKu9ll\", \"2020_ryen_CEFwr\", \"2019_HJfwJ2A5KX\", \"2017_HyTqHL5xg\", \"2018_H1LAqMbRW\", \"2017_ByToKu9ll\", \"2020_ryen_CEFwr\", \"2018_H1LAqMbRW\", \"2019_r1eO_oCqtQ\", \"2018_H1LAqMbRW\", \"2017_ByToKu9ll\", \"2018_H1LAqMbRW\", \"2017_HyTqHL5xg\", \"2020_ryxC6kSYPr\", \"2019_r1eO_oCqtQ\", \"2019_r1eO_oCqtQ\", \"2018_H1LAqMbRW\", \"2019_r1eO_oCqtQ\", \"2017_ByToKu9ll\", \"2020_ryen_CEFwr\", \"2020_ryen_CEFwr\", \"2017_ByToKu9ll\", \"2017_ByToKu9ll\", \"2018_H1LAqMbRW\", \"2020_ryen_CEFwr\", \"2017_ByToKu9ll\", \"2018_H1LAqMbRW\", \"2019_r1eO_oCqtQ\", \"2017_ByToKu9ll\", \"2020_ryxC6kSYPr\", \"2020_ryen_CEFwr\", \"2018_H1LAqMbRW\", \"2018_H1LAqMbRW\", \"2019_r1eO_oCqtQ\", \"2017_HyTqHL5xg\", \"2020_ryxC6kSYPr\", \"2020_ryxC6kSYPr\", \"2018_H1LAqMbRW\", \"2019_r1eO_oCqtQ\", \"2017_ByToKu9ll\", \"2018_H1LAqMbRW\", \"2017_ByToKu9ll\", \"2020_ryxC6kSYPr\", \"2020_ryxC6kSYPr\", \"2019_r1eO_oCqtQ\", \"2018_H1LAqMbRW\", \"2018_H1LAqMbRW\", \"2020_ryen_CEFwr\", \"2019_HJfwJ2A5KX\", \"2020_ryen_CEFwr\", \"2019_HJfwJ2A5KX\", \"2019_r1eO_oCqtQ\", \"2018_H1LAqMbRW\", \"2019_HJfwJ2A5KX\", \"2019_HJfwJ2A5KX\", \"2017_HyTqHL5xg\", \"2020_ryen_CEFwr\", \"2018_H1LAqMbRW\", \"2019_r1eO_oCqtQ\", \"2018_H1LAqMbRW\", \"2020_ryen_CEFwr\", \"2020_ryen_CEFwr\", \"2019_r1eO_oCqtQ\", \"2018_H1LAqMbRW\", \"2020_ryen_CEFwr\", \"2019_r1eO_oCqtQ\", \"2018_H1LAqMbRW\", \"2017_HyTqHL5xg\", \"2020_ryxC6kSYPr\", \"2018_H1LAqMbRW\", \"2018_H1LAqMbRW\", \"2018_H1LAqMbRW\", \"2018_H1LAqMbRW\", \"2017_HyTqHL5xg\", \"2018_H1LAqMbRW\", \"2020_ryen_CEFwr\", \"2020_ryxC6kSYPr\", \"2020_ryen_CEFwr\", \"2020_ryxC6kSYPr\", \"2019_r1eO_oCqtQ\", \"2017_ByToKu9ll\", \"2020_ryxC6kSYPr\", \"2017_ByToKu9ll\", \"2017_HyTqHL5xg\", \"2019_r1eO_oCqtQ\", \"2017_HyTqHL5xg\", \"2017_ByToKu9ll\", \"2019_r1eO_oCqtQ\", \"2020_ryxC6kSYPr\", \"2020_ryxC6kSYPr\", \"2018_H1LAqMbRW\", \"2019_r1eO_oCqtQ\", \"2019_HJfwJ2A5KX\", \"2019_HJfwJ2A5KX\", \"2018_H1LAqMbRW\", \"2019_r1eO_oCqtQ\", \"2018_H1LAqMbRW\", \"2018_H1LAqMbRW\", \"2020_ryxC6kSYPr\", \"2020_ryen_CEFwr\", \"2017_ByToKu9ll\", \"2019_HJfwJ2A5KX\", \"2017_ByToKu9ll\", \"2017_ByToKu9ll\", \"2020_ryen_CEFwr\", \"2018_H1LAqMbRW\", \"2017_ByToKu9ll\", \"2019_r1eO_oCqtQ\", \"2020_ryxC6kSYPr\", \"2017_HyTqHL5xg\", \"2017_ByToKu9ll\", \"2018_H1LAqMbRW\", \"2018_H1LAqMbRW\", \"2020_ryxC6kSYPr\", \"2017_ByToKu9ll\", \"2017_HyTqHL5xg\", \"2020_ryen_CEFwr\", \"2019_HJfwJ2A5KX\", \"2020_ryxC6kSYPr\", \"2020_ryen_CEFwr\", \"2017_ByToKu9ll\", \"2018_H1LAqMbRW\", \"2019_HJfwJ2A5KX\", \"2018_H1LAqMbRW\", \"2020_ryen_CEFwr\", \"2020_ryxC6kSYPr\", \"2019_r1eO_oCqtQ\", \"2019_HJfwJ2A5KX\", \"2017_HyTqHL5xg\", \"2018_H1LAqMbRW\", \"2017_ByToKu9ll\", \"2019_HJfwJ2A5KX\", \"2017_ByToKu9ll\", \"2018_H1LAqMbRW\", \"2017_HyTqHL5xg\", \"2020_ryxC6kSYPr\", \"2018_H1LAqMbRW\", \"2019_HJfwJ2A5KX\", \"2017_HyTqHL5xg\", \"2017_ByToKu9ll\", \"2017_ByToKu9ll\", \"2019_HJfwJ2A5KX\", \"2017_HyTqHL5xg\", \"2017_ByToKu9ll\", \"2019_r1eO_oCqtQ\", \"2017_HyTqHL5xg\", \"2019_HJfwJ2A5KX\", \"2019_HJfwJ2A5KX\", \"2017_ByToKu9ll\", \"2017_HyTqHL5xg\", \"2017_HyTqHL5xg\", \"2017_HyTqHL5xg\", \"2019_r1eO_oCqtQ\", \"2019_HJfwJ2A5KX\", \"2020_ryen_CEFwr\", \"2018_H1LAqMbRW\", \"2020_ryen_CEFwr\", \"2017_ByToKu9ll\", \"2017_HyTqHL5xg\", \"2020_ryxC6kSYPr\", \"2019_r1eO_oCqtQ\", \"2020_ryen_CEFwr\", \"2018_H1LAqMbRW\", \"2019_r1eO_oCqtQ\", \"2019_r1eO_oCqtQ\", \"2020_ryxC6kSYPr\", \"2020_ryen_CEFwr\", \"2018_H1LAqMbRW\", \"2018_H1LAqMbRW\", \"2018_H1LAqMbRW\", \"2017_ByToKu9ll\", \"2019_HJfwJ2A5KX\", \"2018_H1LAqMbRW\", \"2020_ryxC6kSYPr\", \"2018_H1LAqMbRW\", \"2018_H1LAqMbRW\", \"2017_HyTqHL5xg\", \"2020_ryen_CEFwr\", \"2020_ryen_CEFwr\", \"2017_ByToKu9ll\", \"2017_HyTqHL5xg\", \"2020_ryxC6kSYPr\", \"2020_ryen_CEFwr\", \"2018_H1LAqMbRW\", \"2018_H1LAqMbRW\", \"2017_HyTqHL5xg\", \"2017_HyTqHL5xg\", \"2019_r1eO_oCqtQ\", \"2017_ByToKu9ll\", \"2018_H1LAqMbRW\", \"2019_HJfwJ2A5KX\", \"2019_r1eO_oCqtQ\", \"2017_ByToKu9ll\", \"2019_HJfwJ2A5KX\", \"2017_ByToKu9ll\", \"2018_H1LAqMbRW\", \"2018_H1LAqMbRW\", \"2018_H1LAqMbRW\", \"2018_H1LAqMbRW\", \"2017_HyTqHL5xg\", \"2019_r1eO_oCqtQ\", \"2018_H1LAqMbRW\", \"2019_r1eO_oCqtQ\", \"2019_HJfwJ2A5KX\", \"2019_HJfwJ2A5KX\", \"2019_r1eO_oCqtQ\", \"2018_H1LAqMbRW\", \"2017_ByToKu9ll\", \"2019_r1eO_oCqtQ\", \"2019_HJfwJ2A5KX\", \"2020_ryen_CEFwr\", \"2018_H1LAqMbRW\", \"2017_HyTqHL5xg\", \"2019_HJfwJ2A5KX\", \"2020_ryen_CEFwr\", \"2017_HyTqHL5xg\", \"2018_H1LAqMbRW\", \"2018_H1LAqMbRW\", \"2019_HJfwJ2A5KX\", \"2017_ByToKu9ll\", \"2017_HyTqHL5xg\", \"2018_H1LAqMbRW\", \"2019_r1eO_oCqtQ\", \"2017_HyTqHL5xg\", \"2018_H1LAqMbRW\", \"2020_ryxC6kSYPr\", \"2017_ByToKu9ll\", \"2018_H1LAqMbRW\", \"2019_r1eO_oCqtQ\", \"2020_ryen_CEFwr\", \"2019_HJfwJ2A5KX\", \"2020_ryxC6kSYPr\", \"2017_HyTqHL5xg\", \"2020_ryxC6kSYPr\", \"2018_H1LAqMbRW\", \"2017_ByToKu9ll\", \"2019_HJfwJ2A5KX\", \"2018_H1LAqMbRW\", \"2017_ByToKu9ll\", \"2020_ryxC6kSYPr\", \"2018_H1LAqMbRW\", \"2019_r1eO_oCqtQ\", \"2018_H1LAqMbRW\", \"2018_H1LAqMbRW\", \"2017_ByToKu9ll\", \"2017_HyTqHL5xg\", \"2020_ryxC6kSYPr\", \"2019_HJfwJ2A5KX\", \"2017_HyTqHL5xg\", \"2018_SJx9GQb0-\", \"2018_H1LAqMbRW\", \"2019_HJfwJ2A5KX\", \"2018_SJx9GQb0-\", \"2017_S1Bb3D5gg\", \"2019_HJfwJ2A5KX\", \"2018_H1LAqMbRW\", \"2019_HJfwJ2A5KX\", \"2017_ByToKu9ll\", \"2019_HJfwJ2A5KX\", \"2017_S1Bb3D5gg\", \"2020_ryxC6kSYPr\", \"2019_HJfwJ2A5KX\", \"2017_ByToKu9ll\", \"2017_ByToKu9ll\", \"2019_HJfwJ2A5KX\", \"2018_SJx9GQb0-\", \"2017_S1Bb3D5gg\", \"2018_H1LAqMbRW\", \"2017_S1Bb3D5gg\", \"2019_HJfwJ2A5KX\", \"2020_ryxC6kSYPr\", \"2019_r1eO_oCqtQ\", \"2017_HyTqHL5xg\", \"2017_HyTqHL5xg\", \"2018_SJx9GQb0-\"]"
   ]
  },
  {
   "cell_type": "code",
   "execution_count": 21,
   "metadata": {},
   "outputs": [
    {
     "data": {
      "text/plain": [
       "(296,\n",
       " 9,\n",
       " Counter({'2020_ryen_CEFwr': 33,\n",
       "          '2018_H1LAqMbRW': 72,\n",
       "          '2017_HyTqHL5xg': 37,\n",
       "          '2017_ByToKu9ll': 44,\n",
       "          '2019_r1eO_oCqtQ': 36,\n",
       "          '2019_HJfwJ2A5KX': 36,\n",
       "          '2020_ryxC6kSYPr': 30,\n",
       "          '2018_SJx9GQb0-': 4,\n",
       "          '2017_S1Bb3D5gg': 4}))"
      ]
     },
     "execution_count": 21,
     "metadata": {},
     "output_type": "execute_result"
    }
   ],
   "source": [
    "len(train_ids), len(set(train_ids)), Counter(train_ids)"
   ]
  },
  {
   "cell_type": "code",
   "execution_count": 12,
   "metadata": {},
   "outputs": [],
   "source": [
    "test_ids = [\"2019_SJf_XhCqKm\", \"2019_SJf_XhCqKm\", \"2019_SJf_XhCqKm\", \"2019_SJf_XhCqKm\", \"2019_SJf_XhCqKm\", \"2019_SJf_XhCqKm\", \"2019_SJf_XhCqKm\", \"2019_SJf_XhCqKm\", \"2019_SJf_XhCqKm\", \"2019_SJf_XhCqKm\", \"2019_SJf_XhCqKm\", \"2019_SJf_XhCqKm\", \"2019_SJf_XhCqKm\", \"2019_SJf_XhCqKm\", \"2019_SJf_XhCqKm\", \"2019_SJf_XhCqKm\", \"2019_SJf_XhCqKm\", \"2019_SJf_XhCqKm\", \"2019_SJf_XhCqKm\", \"2019_SJf_XhCqKm\", \"2019_SJf_XhCqKm\", \"2019_SJf_XhCqKm\", \"2019_SJf_XhCqKm\", \"2019_SJf_XhCqKm\", \"2019_SJf_XhCqKm\", \"2019_SJf_XhCqKm\", \"2019_SJf_XhCqKm\", \"2019_SJf_XhCqKm\", \"2019_SJf_XhCqKm\", \"2019_SJf_XhCqKm\", \"2019_SJf_XhCqKm\", \"2019_SJf_XhCqKm\", \"2019_SJf_XhCqKm\", \"2019_SJf_XhCqKm\", \"2019_SJf_XhCqKm\", \"2019_SJf_XhCqKm\", \"2019_SJf_XhCqKm\", \"2019_SJf_XhCqKm\", \"2019_SJf_XhCqKm\", \"2019_SJf_XhCqKm\", \"2017_Bk0MRI5lg\", \"2017_Bk0MRI5lg\", \"2017_Bk0MRI5lg\", \"2017_Bk0MRI5lg\", \"2017_Bk0MRI5lg\", \"2017_Bk0MRI5lg\", \"2017_Bk0MRI5lg\", \"2017_Bk0MRI5lg\", \"2017_Bk0MRI5lg\", \"2017_Bk0MRI5lg\", \"2017_Bk0MRI5lg\", \"2017_Bk0MRI5lg\", \"2017_Bk0MRI5lg\", \"2017_Bk0MRI5lg\", \"2017_Bk0MRI5lg\", \"2017_Bk0MRI5lg\", \"2017_Bk0MRI5lg\", \"2017_Bk0MRI5lg\", \"2020_SyevYxHtDB\", \"2020_SyevYxHtDB\", \"2020_SyevYxHtDB\", \"2020_SyevYxHtDB\", \"2020_SyevYxHtDB\", \"2020_SyevYxHtDB\", \"2020_SyevYxHtDB\", \"2020_SyevYxHtDB\", \"2020_SyevYxHtDB\", \"2020_SyevYxHtDB\", \"2020_SyevYxHtDB\", \"2020_SyevYxHtDB\", \"2020_SyevYxHtDB\", \"2020_SyevYxHtDB\", \"2020_SyevYxHtDB\", \"2020_SyevYxHtDB\", \"2020_SyevYxHtDB\", \"2020_SyevYxHtDB\", \"2020_SyevYxHtDB\", \"2020_SyevYxHtDB\", \"2020_SyevYxHtDB\", \"2020_SyevYxHtDB\", \"2020_SyevYxHtDB\", \"2020_SyevYxHtDB\", \"2020_SyevYxHtDB\", \"2020_SyevYxHtDB\", \"2020_SyevYxHtDB\", \"2020_SyevYxHtDB\", \"2020_SyevYxHtDB\", \"2020_SyevYxHtDB\", \"2020_SyevYxHtDB\", \"2020_SyevYxHtDB\", \"2020_SyevYxHtDB\", \"2020_SyevYxHtDB\", \"2020_SyevYxHtDB\", \"2020_SyevYxHtDB\", \"2020_SyevYxHtDB\", \"2020_SyevYxHtDB\", \"2020_SyevYxHtDB\", \"2020_SyevYxHtDB\", \"2020_SyevYxHtDB\", \"2020_SyevYxHtDB\", \"2020_SyevYxHtDB\", \"2018_rJBiunlAW\", \"2018_rJBiunlAW\", \"2018_rJBiunlAW\", \"2018_rJBiunlAW\", \"2018_rJBiunlAW\", \"2018_rJBiunlAW\", \"2018_rJBiunlAW\", \"2018_rJBiunlAW\", \"2018_rJBiunlAW\", \"2018_rJBiunlAW\", \"2018_rJBiunlAW\", \"2018_rJBiunlAW\", \"2018_rJBiunlAW\", \"2018_rJBiunlAW\", \"2018_rJBiunlAW\", \"2018_rJBiunlAW\", \"2018_rJBiunlAW\", \"2018_rJBiunlAW\", \"2018_rJBiunlAW\", \"2018_rJBiunlAW\", \"2018_rJBiunlAW\", \"2018_rJBiunlAW\", \"2018_rJBiunlAW\", \"2018_rJBiunlAW\", \"2018_rJBiunlAW\", \"2018_rJBiunlAW\", \"2018_rJBiunlAW\", \"2018_rJBiunlAW\", \"2018_rJBiunlAW\", \"2020_rkltE0VKwH\", \"2020_rkltE0VKwH\", \"2020_rkltE0VKwH\", \"2020_rkltE0VKwH\", \"2020_rkltE0VKwH\", \"2020_rkltE0VKwH\", \"2020_rkltE0VKwH\", \"2020_rkltE0VKwH\", \"2020_rkltE0VKwH\", \"2020_rkltE0VKwH\", \"2020_rkltE0VKwH\", \"2020_rkltE0VKwH\", \"2020_rkltE0VKwH\", \"2020_rkltE0VKwH\", \"2020_rkltE0VKwH\", \"2020_rkltE0VKwH\", \"2020_rkltE0VKwH\", \"2020_rkltE0VKwH\", \"2020_rkltE0VKwH\", \"2020_rkltE0VKwH\", \"2020_rkltE0VKwH\", \"2020_rkltE0VKwH\", \"2020_rkltE0VKwH\", \"2020_rkltE0VKwH\", \"2020_rkltE0VKwH\", \"2020_rkltE0VKwH\", \"2020_rkltE0VKwH\", \"2020_rkltE0VKwH\", \"2020_rkltE0VKwH\", \"2020_rkltE0VKwH\", \"2020_rkltE0VKwH\", \"2020_rkltE0VKwH\", \"2020_rkltE0VKwH\", \"2020_rkltE0VKwH\", \"2020_rkltE0VKwH\", \"2020_rkltE0VKwH\", \"2020_rkltE0VKwH\", \"2020_rkltE0VKwH\", \"2020_rkltE0VKwH\", \"2020_rkltE0VKwH\", \"2020_rkltE0VKwH\", \"2020_rkltE0VKwH\", \"2020_rkltE0VKwH\", \"2020_rkltE0VKwH\", \"2020_rkltE0VKwH\", \"2020_rkltE0VKwH\", \"2020_rkltE0VKwH\", \"2020_rkltE0VKwH\", \"2020_rkltE0VKwH\", \"2020_rkltE0VKwH\", \"2020_rkltE0VKwH\", \"2020_rkltE0VKwH\", \"2020_rkltE0VKwH\", \"2020_rkltE0VKwH\", \"2020_rkltE0VKwH\", \"2020_rkltE0VKwH\", \"2020_rkltE0VKwH\", \"2020_rkltE0VKwH\", \"2020_rkltE0VKwH\", \"2020_rkltE0VKwH\", \"2020_rkltE0VKwH\", \"2020_rkltE0VKwH\", \"2020_rkltE0VKwH\", \"2020_rkltE0VKwH\", \"2020_rkltE0VKwH\", \"2020_rkltE0VKwH\", \"2020_rkltE0VKwH\", \"2020_rkltE0VKwH\", \"2020_rkltE0VKwH\", \"2020_rkltE0VKwH\", \"2020_rkltE0VKwH\", \"2020_rkltE0VKwH\", \"2020_rkltE0VKwH\", \"2020_rkltE0VKwH\", \"2020_rkltE0VKwH\", \"2020_rkltE0VKwH\", \"2020_rkltE0VKwH\", \"2020_rkltE0VKwH\", \"2020_rkltE0VKwH\", \"2020_rkltE0VKwH\", \"2020_rkltE0VKwH\", \"2020_rkltE0VKwH\", \"2020_rkltE0VKwH\", \"2020_rkltE0VKwH\", \"2020_rkltE0VKwH\", \"2020_rkltE0VKwH\", \"2020_rkltE0VKwH\", \"2020_rkltE0VKwH\", \"2020_rkltE0VKwH\", \"2020_rkltE0VKwH\", \"2020_rkltE0VKwH\", \"2020_rkltE0VKwH\", \"2018_Hki-ZlbA-\", \"2018_Hki-ZlbA-\", \"2018_Hki-ZlbA-\", \"2018_Hki-ZlbA-\", \"2018_Hki-ZlbA-\", \"2018_Hki-ZlbA-\", \"2018_Hki-ZlbA-\", \"2018_Hki-ZlbA-\", \"2018_Hki-ZlbA-\", \"2018_Hki-ZlbA-\", \"2018_Hki-ZlbA-\", \"2018_Hki-ZlbA-\", \"2018_Hki-ZlbA-\", \"2018_Hki-ZlbA-\", \"2018_Hki-ZlbA-\", \"2018_Hki-ZlbA-\", \"2018_Hki-ZlbA-\", \"2018_Hki-ZlbA-\", \"2018_Hki-ZlbA-\", \"2018_Hki-ZlbA-\", \"2018_Hki-ZlbA-\", \"2018_Hki-ZlbA-\", \"2018_Hki-ZlbA-\", \"2018_Hki-ZlbA-\", \"2018_Hki-ZlbA-\", \"2018_Hki-ZlbA-\", \"2018_Hki-ZlbA-\", \"2018_Hki-ZlbA-\", \"2018_Hki-ZlbA-\", \"2018_Hki-ZlbA-\", \"2018_Hki-ZlbA-\", \"2018_Hki-ZlbA-\", \"2018_Hki-ZlbA-\", \"2018_Hki-ZlbA-\", \"2018_Hki-ZlbA-\", \"2018_Hki-ZlbA-\", \"2018_Hki-ZlbA-\", \"2018_Hki-ZlbA-\", \"2018_Hki-ZlbA-\", \"2018_Hki-ZlbA-\", \"2018_Hki-ZlbA-\", \"2018_Hki-ZlbA-\", \"2018_Hki-ZlbA-\", \"2018_Hki-ZlbA-\", \"2018_Hki-ZlbA-\", \"2018_Hki-ZlbA-\", \"2018_Hki-ZlbA-\", \"2018_Hki-ZlbA-\", \"2018_Hki-ZlbA-\", \"2018_Hki-ZlbA-\", \"2019_BJx0sjC5FX\", \"2019_BJx0sjC5FX\", \"2019_BJx0sjC5FX\", \"2019_BJx0sjC5FX\", \"2019_BJx0sjC5FX\", \"2019_BJx0sjC5FX\", \"2019_BJx0sjC5FX\", \"2019_BJx0sjC5FX\", \"2019_BJx0sjC5FX\", \"2019_BJx0sjC5FX\", \"2019_BJx0sjC5FX\", \"2019_BJx0sjC5FX\", \"2019_BJx0sjC5FX\", \"2019_BJx0sjC5FX\", \"2019_BJx0sjC5FX\", \"2019_BJx0sjC5FX\", \"2019_BJx0sjC5FX\", \"2019_BJx0sjC5FX\", \"2019_BJx0sjC5FX\", \"2019_BJx0sjC5FX\", \"2019_BJx0sjC5FX\", \"2019_BJx0sjC5FX\", \"2019_BJx0sjC5FX\", \"2019_BJx0sjC5FX\", \"2019_BJx0sjC5FX\", \"2019_BJx0sjC5FX\", \"2019_BJx0sjC5FX\", \"2019_BJx0sjC5FX\", \"2019_BJx0sjC5FX\", \"2019_BJx0sjC5FX\", \"2019_BJx0sjC5FX\", \"2019_BJx0sjC5FX\", \"2020_r1e_FpNFDr\", \"2020_r1e_FpNFDr\", \"2020_r1e_FpNFDr\", \"2020_r1e_FpNFDr\", \"2020_r1e_FpNFDr\", \"2020_r1e_FpNFDr\", \"2020_r1e_FpNFDr\", \"2020_r1e_FpNFDr\", \"2020_r1e_FpNFDr\", \"2020_r1e_FpNFDr\", \"2020_r1e_FpNFDr\", \"2020_r1e_FpNFDr\", \"2020_r1e_FpNFDr\", \"2020_r1e_FpNFDr\", \"2020_r1e_FpNFDr\", \"2020_r1e_FpNFDr\", \"2020_r1e_FpNFDr\", \"2020_r1e_FpNFDr\", \"2020_r1e_FpNFDr\", \"2020_r1e_FpNFDr\", \"2020_r1e_FpNFDr\", \"2020_r1e_FpNFDr\", \"2020_r1e_FpNFDr\", \"2020_r1e_FpNFDr\", \"2020_r1e_FpNFDr\", \"2020_r1e_FpNFDr\", \"2020_r1e_FpNFDr\", \"2020_r1e_FpNFDr\", \"2020_r1e_FpNFDr\", \"2020_r1e_FpNFDr\", \"2020_r1e_FpNFDr\", \"2020_r1e_FpNFDr\", \"2020_r1e_FpNFDr\", \"2020_r1e_FpNFDr\", \"2020_r1e_FpNFDr\", \"2020_r1e_FpNFDr\", \"2020_r1e_FpNFDr\", \"2020_r1e_FpNFDr\", \"2020_r1e_FpNFDr\", \"2020_r1e_FpNFDr\", \"2020_r1e_FpNFDr\", \"2020_r1e_FpNFDr\", \"2020_r1e_FpNFDr\", \"2020_r1e_FpNFDr\", \"2020_r1e_FpNFDr\", \"2020_r1e_FpNFDr\", \"2020_r1e_FpNFDr\", \"2020_r1e_FpNFDr\", \"2020_r1e_FpNFDr\", \"2020_r1e_FpNFDr\", \"2020_r1e_FpNFDr\", \"2020_r1e_FpNFDr\", \"2020_r1e_FpNFDr\", \"2020_r1e_FpNFDr\", \"2020_r1e_FpNFDr\", \"2020_r1e_FpNFDr\", \"2020_r1e_FpNFDr\", \"2020_r1e_FpNFDr\", \"2020_r1e_FpNFDr\", \"2020_r1e_FpNFDr\", \"2020_r1e_FpNFDr\", \"2020_r1e_FpNFDr\", \"2020_r1e_FpNFDr\", \"2020_r1e_FpNFDr\", \"2020_B1lsXREYvr\", \"2020_B1lsXREYvr\", \"2020_B1lsXREYvr\", \"2020_B1lsXREYvr\", \"2020_B1lsXREYvr\", \"2020_B1lsXREYvr\", \"2020_B1lsXREYvr\", \"2020_B1lsXREYvr\", \"2020_B1lsXREYvr\", \"2020_B1lsXREYvr\", \"2020_B1lsXREYvr\", \"2020_B1lsXREYvr\", \"2020_B1lsXREYvr\", \"2020_B1lsXREYvr\", \"2020_B1lsXREYvr\", \"2020_B1lsXREYvr\", \"2020_B1lsXREYvr\", \"2020_B1lsXREYvr\", \"2020_B1lsXREYvr\", \"2020_B1lsXREYvr\", \"2020_B1lsXREYvr\", \"2020_B1lsXREYvr\", \"2020_B1lsXREYvr\", \"2020_B1lsXREYvr\", \"2020_B1lsXREYvr\", \"2020_B1lsXREYvr\", \"2020_B1lsXREYvr\", \"2020_B1lsXREYvr\", \"2020_B1lsXREYvr\", \"2020_B1lsXREYvr\", \"2020_B1lsXREYvr\", \"2020_B1lsXREYvr\", \"2020_B1lsXREYvr\", \"2020_B1lsXREYvr\", \"2020_B1lsXREYvr\", \"2020_B1lsXREYvr\", \"2020_B1lsXREYvr\", \"2020_B1lsXREYvr\", \"2020_B1lsXREYvr\", \"2020_B1lsXREYvr\", \"2020_B1lsXREYvr\", \"2020_B1lsXREYvr\", \"2020_B1lsXREYvr\", \"2020_B1lsXREYvr\", \"2020_B1lsXREYvr\", \"2020_B1lsXREYvr\", \"2020_B1lsXREYvr\", \"2020_B1lsXREYvr\", \"2020_B1lsXREYvr\", \"2020_B1lsXREYvr\", \"2020_B1lsXREYvr\", \"2020_B1lsXREYvr\", \"2020_B1lsXREYvr\", \"2020_B1lsXREYvr\", \"2020_B1lsXREYvr\", \"2020_B1lsXREYvr\", \"2020_B1lsXREYvr\", \"2020_B1lsXREYvr\", \"2020_B1lsXREYvr\", \"2020_B1lsXREYvr\", \"2020_B1lsXREYvr\", \"2020_B1lsXREYvr\", \"2020_B1lsXREYvr\", \"2020_B1lsXREYvr\", \"2020_B1lsXREYvr\", \"2020_B1lsXREYvr\", \"2020_B1lsXREYvr\", \"2020_B1lsXREYvr\", \"2020_B1lsXREYvr\", \"2020_B1lsXREYvr\", \"2020_B1lsXREYvr\", \"2018_SkZxCk-0Z\", \"2018_SkZxCk-0Z\", \"2018_SkZxCk-0Z\", \"2018_SkZxCk-0Z\", \"2018_SkZxCk-0Z\", \"2018_SkZxCk-0Z\", \"2018_SkZxCk-0Z\", \"2018_SkZxCk-0Z\", \"2018_SkZxCk-0Z\", \"2018_SkZxCk-0Z\", \"2018_SkZxCk-0Z\", \"2018_SkZxCk-0Z\", \"2018_SkZxCk-0Z\", \"2018_SkZxCk-0Z\", \"2018_SkZxCk-0Z\", \"2018_SkZxCk-0Z\", \"2018_SkZxCk-0Z\", \"2018_SkZxCk-0Z\", \"2018_SkZxCk-0Z\", \"2018_SkZxCk-0Z\", \"2018_SkZxCk-0Z\", \"2018_SkZxCk-0Z\", \"2018_SkZxCk-0Z\", \"2018_SkZxCk-0Z\", \"2018_SkZxCk-0Z\", \"2018_SkZxCk-0Z\", \"2018_SkZxCk-0Z\", \"2018_SkZxCk-0Z\", \"2018_SkZxCk-0Z\", \"2018_SkZxCk-0Z\", \"2018_SkZxCk-0Z\", \"2018_SkZxCk-0Z\", \"2018_SkZxCk-0Z\", \"2018_SkZxCk-0Z\", \"2018_SkZxCk-0Z\", \"2018_SkZxCk-0Z\", \"2018_SkZxCk-0Z\", \"2018_SkZxCk-0Z\", \"2018_SkZxCk-0Z\", \"2018_SkZxCk-0Z\", \"2018_SkZxCk-0Z\", \"2018_SkZxCk-0Z\", \"2018_SkZxCk-0Z\", \"2018_SkZxCk-0Z\", \"2018_SkZxCk-0Z\", \"2018_SkZxCk-0Z\", \"2018_SkZxCk-0Z\", \"2018_SkZxCk-0Z\", \"2018_SkZxCk-0Z\", \"2018_SkZxCk-0Z\", \"2018_SkZxCk-0Z\", \"2018_SkZxCk-0Z\", \"2018_SkZxCk-0Z\", \"2018_SkZxCk-0Z\", \"2018_SkZxCk-0Z\", \"2018_SkZxCk-0Z\", \"2018_SkZxCk-0Z\", \"2018_SkZxCk-0Z\", \"2018_SkZxCk-0Z\", \"2018_SkZxCk-0Z\", \"2018_SkZxCk-0Z\", \"2018_SkZxCk-0Z\", \"2018_SkZxCk-0Z\", \"2018_SkZxCk-0Z\", \"2018_SkZxCk-0Z\", \"2018_SkZxCk-0Z\", \"2018_SkZxCk-0Z\", \"2019_rJzoujRct7\", \"2019_rJzoujRct7\", \"2019_rJzoujRct7\", \"2019_rJzoujRct7\", \"2019_rJzoujRct7\", \"2019_rJzoujRct7\", \"2019_rJzoujRct7\", \"2019_rJzoujRct7\", \"2019_rJzoujRct7\", \"2019_rJzoujRct7\", \"2019_rJzoujRct7\", \"2019_rJzoujRct7\", \"2019_rJzoujRct7\", \"2019_rJzoujRct7\", \"2019_rJzoujRct7\", \"2019_rJzoujRct7\", \"2019_rJzoujRct7\", \"2019_rJzoujRct7\", \"2019_rJzoujRct7\", \"2019_rJzoujRct7\", \"2019_rJzoujRct7\", \"2019_rJzoujRct7\", \"2019_rJzoujRct7\", \"2019_rJzoujRct7\", \"2019_rJzoujRct7\", \"2019_rJzoujRct7\", \"2019_rJzoujRct7\", \"2019_rJzoujRct7\", \"2019_rJzoujRct7\", \"2019_rJzoujRct7\", \"2019_rJzoujRct7\", \"2019_rJzoujRct7\", \"2019_rJzoujRct7\", \"2019_rJzoujRct7\", \"2019_rJzoujRct7\", \"2019_rJzoujRct7\", \"2019_rJzoujRct7\", \"2019_rJzoujRct7\", \"2018_HkfXMz-Ab\", \"2018_HkfXMz-Ab\", \"2018_HkfXMz-Ab\", \"2018_HkfXMz-Ab\", \"2018_HkfXMz-Ab\", \"2018_HkfXMz-Ab\", \"2018_HkfXMz-Ab\", \"2018_HkfXMz-Ab\", \"2018_HkfXMz-Ab\", \"2018_HkfXMz-Ab\", \"2018_HkfXMz-Ab\", \"2018_HkfXMz-Ab\", \"2018_HkfXMz-Ab\", \"2018_HkfXMz-Ab\", \"2018_HkfXMz-Ab\", \"2018_HkfXMz-Ab\", \"2018_HkfXMz-Ab\", \"2018_HkfXMz-Ab\", \"2018_HkfXMz-Ab\", \"2018_HkfXMz-Ab\", \"2018_HkfXMz-Ab\", \"2018_HkfXMz-Ab\", \"2018_HkfXMz-Ab\", \"2018_HkfXMz-Ab\", \"2018_HkfXMz-Ab\", \"2018_HkfXMz-Ab\", \"2018_HkfXMz-Ab\", \"2018_HkfXMz-Ab\", \"2018_HkfXMz-Ab\", \"2018_HkfXMz-Ab\", \"2018_HkfXMz-Ab\", \"2018_HkfXMz-Ab\", \"2018_HkfXMz-Ab\", \"2018_HkfXMz-Ab\", \"2018_HkfXMz-Ab\", \"2018_HkfXMz-Ab\", \"2018_HkfXMz-Ab\", \"2017_BJ9fZNqle\", \"2017_BJ9fZNqle\", \"2017_BJ9fZNqle\", \"2017_BJ9fZNqle\", \"2017_BJ9fZNqle\", \"2017_BJ9fZNqle\", \"2017_BJ9fZNqle\", \"2017_BJ9fZNqle\", \"2017_BJ9fZNqle\", \"2017_BJ9fZNqle\", \"2017_BJ9fZNqle\", \"2017_BJ9fZNqle\", \"2017_BJ9fZNqle\", \"2017_BJ9fZNqle\", \"2017_BJ9fZNqle\", \"2017_BJ9fZNqle\", \"2017_BJ9fZNqle\", \"2017_BJ9fZNqle\", \"2017_BJ9fZNqle\", \"2017_BJ9fZNqle\", \"2017_BJ9fZNqle\", \"2017_BJ9fZNqle\", \"2017_BJ9fZNqle\", \"2017_BJ9fZNqle\", \"2017_BJ9fZNqle\", \"2017_BJ9fZNqle\", \"2017_BJ9fZNqle\", \"2017_BJ9fZNqle\", \"2017_BJ9fZNqle\", \"2017_BJ9fZNqle\", \"2017_BJ9fZNqle\", \"2017_BJ9fZNqle\", \"2017_BJ9fZNqle\", \"2017_BJ9fZNqle\", \"2017_BJ9fZNqle\", \"2017_BJ9fZNqle\", \"2017_BJ9fZNqle\", \"2017_BJ9fZNqle\", \"2017_BJ9fZNqle\", \"2017_BJ9fZNqle\", \"2017_BJ9fZNqle\", \"2017_BJ9fZNqle\", \"2017_BJ9fZNqle\", \"2017_BJ9fZNqle\", \"2017_BJ9fZNqle\", \"2017_BJ9fZNqle\", \"2017_BJ9fZNqle\", \"2017_BJ9fZNqle\", \"2017_BJ9fZNqle\", \"2017_BJ9fZNqle\", \"2017_BJ9fZNqle\", \"2017_BJ9fZNqle\", \"2017_BJ9fZNqle\", \"2017_BJ9fZNqle\", \"2017_BJ9fZNqle\", \"2017_BJ9fZNqle\", \"2017_BJ9fZNqle\", \"2017_BJ9fZNqle\", \"2017_BJ9fZNqle\", \"2017_BJ9fZNqle\", \"2017_BJ9fZNqle\", \"2017_BJ9fZNqle\", \"2017_BJ9fZNqle\", \"2017_BJ9fZNqle\", \"2017_BJ9fZNqle\", \"2017_BJ9fZNqle\", \"2019_SyxZJn05YX\", \"2019_SyxZJn05YX\", \"2019_SyxZJn05YX\", \"2019_SyxZJn05YX\", \"2019_SyxZJn05YX\", \"2019_SyxZJn05YX\", \"2019_SyxZJn05YX\", \"2019_SyxZJn05YX\", \"2019_SyxZJn05YX\", \"2019_SyxZJn05YX\", \"2019_SyxZJn05YX\", \"2019_SyxZJn05YX\", \"2019_SyxZJn05YX\", \"2019_SyxZJn05YX\", \"2019_SyxZJn05YX\", \"2019_SyxZJn05YX\", \"2019_SyxZJn05YX\", \"2019_SyxZJn05YX\", \"2019_SyxZJn05YX\", \"2019_SyxZJn05YX\", \"2019_SyxZJn05YX\", \"2019_SyxZJn05YX\", \"2019_SyxZJn05YX\", \"2019_SyxZJn05YX\", \"2019_SyxZJn05YX\", \"2019_SyxZJn05YX\", \"2019_SyxZJn05YX\", \"2019_SyxZJn05YX\", \"2019_SyxZJn05YX\", \"2019_SyxZJn05YX\", \"2019_SyxZJn05YX\", \"2019_SyxZJn05YX\", \"2019_SyxZJn05YX\", \"2019_SyxZJn05YX\", \"2019_SyxZJn05YX\", \"2019_SyxZJn05YX\", \"2019_SyxZJn05YX\", \"2019_SyxZJn05YX\", \"2019_SyxZJn05YX\", \"2019_SyxZJn05YX\", \"2019_SyxZJn05YX\", \"2019_SyxZJn05YX\", \"2019_SyxZJn05YX\", \"2019_SyxZJn05YX\", \"2019_SyxZJn05YX\", \"2019_SyxZJn05YX\", \"2019_SyxZJn05YX\", \"2019_SyxZJn05YX\", \"2019_SyxZJn05YX\", \"2017_B1ckMDqlg\", \"2017_B1ckMDqlg\", \"2017_B1ckMDqlg\", \"2017_B1ckMDqlg\", \"2017_B1ckMDqlg\", \"2017_B1ckMDqlg\", \"2017_B1ckMDqlg\", \"2017_B1ckMDqlg\", \"2017_B1ckMDqlg\", \"2017_B1ckMDqlg\", \"2017_B1ckMDqlg\", \"2017_B1ckMDqlg\", \"2017_B1ckMDqlg\", \"2017_B1ckMDqlg\", \"2017_B1ckMDqlg\", \"2017_B1ckMDqlg\", \"2017_B1ckMDqlg\", \"2017_B1ckMDqlg\", \"2017_B1ckMDqlg\", \"2017_B1ckMDqlg\", \"2017_B1ckMDqlg\", \"2017_B1ckMDqlg\", \"2017_B1ckMDqlg\", \"2017_B1ckMDqlg\", \"2017_B1ckMDqlg\", \"2017_B1ckMDqlg\", \"2017_B1ckMDqlg\", \"2017_B1ckMDqlg\", \"2017_B1ckMDqlg\", \"2017_B1ckMDqlg\", \"2017_B1ckMDqlg\", \"2017_HJ0NvFzxl\", \"2017_HJ0NvFzxl\", \"2017_HJ0NvFzxl\", \"2017_HJ0NvFzxl\", \"2017_HJ0NvFzxl\", \"2017_HJ0NvFzxl\", \"2017_HJ0NvFzxl\", \"2017_HJ0NvFzxl\", \"2017_HJ0NvFzxl\", \"2017_HJ0NvFzxl\", \"2017_HJ0NvFzxl\", \"2017_HJ0NvFzxl\", \"2017_HJ0NvFzxl\", \"2017_HJ0NvFzxl\", \"2017_HJ0NvFzxl\", \"2017_HJ0NvFzxl\", \"2017_HJ0NvFzxl\", \"2017_HJ0NvFzxl\", \"2017_HJ0NvFzxl\", \"2017_HJ0NvFzxl\", \"2017_HJ0NvFzxl\", \"2017_HJ0NvFzxl\", \"2017_HJ0NvFzxl\", \"2017_HJ0NvFzxl\", \"2017_HJ0NvFzxl\", \"2017_HJ0NvFzxl\", \"2017_HJ0NvFzxl\", \"2017_HJ0NvFzxl\", \"2017_HJ0NvFzxl\", \"2017_HJ0NvFzxl\", \"2017_HJ0NvFzxl\", \"2017_HJ0NvFzxl\", \"2017_HJ0NvFzxl\", \"2017_HJ0NvFzxl\", \"2017_HJ0NvFzxl\", \"2017_HJ0NvFzxl\", \"2017_S1_pAu9xl\", \"2017_S1_pAu9xl\", \"2017_S1_pAu9xl\", \"2017_S1_pAu9xl\", \"2017_S1_pAu9xl\", \"2017_S1_pAu9xl\", \"2017_S1_pAu9xl\", \"2017_S1_pAu9xl\", \"2017_S1_pAu9xl\", \"2017_S1_pAu9xl\", \"2017_S1_pAu9xl\", \"2017_S1_pAu9xl\", \"2017_S1_pAu9xl\", \"2017_S1_pAu9xl\", \"2017_S1_pAu9xl\", \"2017_S1_pAu9xl\", \"2017_S1_pAu9xl\", \"2017_S1_pAu9xl\", \"2017_S1_pAu9xl\", \"2017_S1_pAu9xl\", \"2017_S1_pAu9xl\", \"2017_S1_pAu9xl\", \"2017_S1_pAu9xl\", \"2017_S1_pAu9xl\", \"2017_S1_pAu9xl\", \"2017_S1_pAu9xl\", \"2017_S1_pAu9xl\", \"2017_S1_pAu9xl\", \"2017_S1_pAu9xl\", \"2017_S1_pAu9xl\", \"2017_S1_pAu9xl\", \"2017_S1_pAu9xl\", \"2017_S1_pAu9xl\", \"2017_S1_pAu9xl\", \"2017_S1_pAu9xl\", \"2017_S1_pAu9xl\", \"2017_S1_pAu9xl\", \"2017_S1_pAu9xl\", \"2017_S1_pAu9xl\", \"2017_S1_pAu9xl\", \"2017_S1_pAu9xl\", \"2017_S1_pAu9xl\", \"2017_S1_pAu9xl\", \"2017_S1_pAu9xl\", \"2017_S1_pAu9xl\", \"2017_S1_pAu9xl\", \"2017_S1_pAu9xl\", \"2017_S1_pAu9xl\", \"2017_S1_pAu9xl\", \"2018_SyYYPdg0-\", \"2018_SyYYPdg0-\", \"2018_SyYYPdg0-\", \"2018_SyYYPdg0-\", \"2018_SyYYPdg0-\", \"2018_SyYYPdg0-\", \"2018_SyYYPdg0-\", \"2018_SyYYPdg0-\", \"2018_SyYYPdg0-\", \"2018_SyYYPdg0-\", \"2018_SyYYPdg0-\", \"2018_SyYYPdg0-\", \"2018_SyYYPdg0-\", \"2018_SyYYPdg0-\", \"2018_SyYYPdg0-\", \"2018_SyYYPdg0-\", \"2018_SyYYPdg0-\", \"2018_SyYYPdg0-\", \"2018_SyYYPdg0-\", \"2018_SyYYPdg0-\", \"2018_SyYYPdg0-\", \"2018_SyYYPdg0-\", \"2018_SyYYPdg0-\", \"2018_SyYYPdg0-\", \"2018_SyYYPdg0-\", \"2018_SyYYPdg0-\", \"2018_SyYYPdg0-\", \"2018_SyYYPdg0-\", \"2018_SyYYPdg0-\", \"2018_SyYYPdg0-\", \"2018_SyYYPdg0-\", \"2018_SyYYPdg0-\", \"2018_SyYYPdg0-\", \"2018_SyYYPdg0-\", \"2018_SyYYPdg0-\", \"2018_SyYYPdg0-\", \"2018_SyYYPdg0-\", \"2018_SyYYPdg0-\", \"2018_SyYYPdg0-\", \"2018_SyYYPdg0-\", \"2018_SyYYPdg0-\", \"2018_SyYYPdg0-\", \"2018_SyYYPdg0-\", \"2018_SyYYPdg0-\", \"2018_SyYYPdg0-\", \"2018_SyYYPdg0-\", \"2018_SyYYPdg0-\", \"2018_SyYYPdg0-\", \"2018_SyYYPdg0-\", \"2018_SyYYPdg0-\", \"2018_SyYYPdg0-\", \"2018_SyYYPdg0-\", \"2018_SyYYPdg0-\", \"2018_SyYYPdg0-\", \"2018_SyYYPdg0-\", \"2018_SyYYPdg0-\", \"2018_SyYYPdg0-\", \"2018_SyYYPdg0-\", \"2018_SyYYPdg0-\", \"2018_SyYYPdg0-\", \"2018_SyYYPdg0-\", \"2018_SyYYPdg0-\", \"2018_SyYYPdg0-\", \"2017_BJAA4wKxg\", \"2017_BJAA4wKxg\", \"2017_BJAA4wKxg\", \"2017_BJAA4wKxg\", \"2017_BJAA4wKxg\", \"2017_BJAA4wKxg\", \"2017_BJAA4wKxg\", \"2017_BJAA4wKxg\", \"2017_BJAA4wKxg\", \"2017_BJAA4wKxg\", \"2017_BJAA4wKxg\", \"2017_BJAA4wKxg\", \"2017_BJAA4wKxg\", \"2017_BJAA4wKxg\", \"2017_BJAA4wKxg\", \"2017_BJAA4wKxg\", \"2017_BJAA4wKxg\", \"2017_BJAA4wKxg\", \"2017_BJAA4wKxg\", \"2017_BJAA4wKxg\", \"2017_BJAA4wKxg\", \"2017_BJAA4wKxg\", \"2019_HyVxPsC9tm\", \"2019_HyVxPsC9tm\", \"2019_HyVxPsC9tm\", \"2019_HyVxPsC9tm\", \"2019_HyVxPsC9tm\", \"2019_HyVxPsC9tm\", \"2019_HyVxPsC9tm\", \"2019_HyVxPsC9tm\", \"2019_HyVxPsC9tm\", \"2019_HyVxPsC9tm\", \"2019_HyVxPsC9tm\", \"2019_HyVxPsC9tm\", \"2019_HyVxPsC9tm\", \"2019_HyVxPsC9tm\", \"2019_HyVxPsC9tm\", \"2019_HyVxPsC9tm\", \"2019_HyVxPsC9tm\", \"2019_HyVxPsC9tm\", \"2019_HyVxPsC9tm\", \"2019_HyVxPsC9tm\", \"2019_HyVxPsC9tm\", \"2019_HyVxPsC9tm\", \"2019_HyVxPsC9tm\", \"2019_HyVxPsC9tm\", \"2019_HyVxPsC9tm\", \"2019_HyVxPsC9tm\", \"2019_HyVxPsC9tm\", \"2019_HyVxPsC9tm\", \"2019_HyVxPsC9tm\", \"2019_HyVxPsC9tm\", \"2019_HyVxPsC9tm\", \"2019_HyVxPsC9tm\", \"2019_HyVxPsC9tm\", \"2019_HyVxPsC9tm\", \"2019_HyVxPsC9tm\", \"2019_HyVxPsC9tm\", \"2019_HyVxPsC9tm\", \"2019_HyVxPsC9tm\", \"2019_HyVxPsC9tm\", \"2019_HyVxPsC9tm\", \"2019_HyVxPsC9tm\", \"2019_HyVxPsC9tm\", \"2019_HyVxPsC9tm\", \"2019_HyVxPsC9tm\", \"2019_HyVxPsC9tm\", \"2019_HylTBhA5tQ\", \"2019_HylTBhA5tQ\", \"2019_HylTBhA5tQ\", \"2019_HylTBhA5tQ\", \"2019_HylTBhA5tQ\", \"2019_HylTBhA5tQ\", \"2019_HylTBhA5tQ\", \"2019_HylTBhA5tQ\", \"2019_HylTBhA5tQ\", \"2019_HylTBhA5tQ\", \"2019_HylTBhA5tQ\", \"2019_HylTBhA5tQ\", \"2019_HylTBhA5tQ\", \"2019_HylTBhA5tQ\", \"2019_HylTBhA5tQ\", \"2019_HylTBhA5tQ\", \"2019_HylTBhA5tQ\", \"2019_HylTBhA5tQ\", \"2019_HylTBhA5tQ\", \"2019_HylTBhA5tQ\", \"2019_HylTBhA5tQ\", \"2019_HylTBhA5tQ\", \"2019_HylTBhA5tQ\", \"2019_HylTBhA5tQ\", \"2019_HylTBhA5tQ\", \"2019_HylTBhA5tQ\", \"2019_HylTBhA5tQ\", \"2019_HylTBhA5tQ\", \"2019_HylTBhA5tQ\", \"2019_HylTBhA5tQ\", \"2019_HylTBhA5tQ\", \"2019_HylTBhA5tQ\", \"2019_HylTBhA5tQ\", \"2019_HylTBhA5tQ\", \"2019_HylTBhA5tQ\", \"2019_HylTBhA5tQ\", \"2019_HylTBhA5tQ\", \"2019_HylTBhA5tQ\", \"2019_HylTBhA5tQ\", \"2019_HylTBhA5tQ\", \"2019_HylTBhA5tQ\", \"2019_HylTBhA5tQ\", \"2019_HylTBhA5tQ\", \"2019_HylTBhA5tQ\", \"2019_HylTBhA5tQ\", \"2019_B1l08oAct7\", \"2019_B1l08oAct7\", \"2019_B1l08oAct7\", \"2019_B1l08oAct7\", \"2019_B1l08oAct7\", \"2019_B1l08oAct7\", \"2019_B1l08oAct7\", \"2019_B1l08oAct7\", \"2019_B1l08oAct7\", \"2019_B1l08oAct7\", \"2019_B1l08oAct7\", \"2019_B1l08oAct7\", \"2019_B1l08oAct7\", \"2019_B1l08oAct7\", \"2019_B1l08oAct7\", \"2019_B1l08oAct7\", \"2019_B1l08oAct7\", \"2019_B1l08oAct7\", \"2019_B1l08oAct7\", \"2019_B1l08oAct7\", \"2019_B1l08oAct7\", \"2019_B1l08oAct7\", \"2019_B1l08oAct7\", \"2019_B1l08oAct7\", \"2019_B1l08oAct7\", \"2019_B1l08oAct7\", \"2019_B1l08oAct7\", \"2019_B1l08oAct7\", \"2019_B1l08oAct7\", \"2019_B1l08oAct7\", \"2019_B1l08oAct7\", \"2019_B1l08oAct7\", \"2019_B1l08oAct7\", \"2019_B1l08oAct7\", \"2019_B1l08oAct7\", \"2019_B1l08oAct7\", \"2019_B1l08oAct7\", \"2019_B1l08oAct7\", \"2019_B1l08oAct7\", \"2019_B1l08oAct7\", \"2019_B1l08oAct7\", \"2019_B1l08oAct7\", \"2019_B1l08oAct7\", \"2019_B1l08oAct7\", \"2019_B1l08oAct7\", \"2019_B1l08oAct7\", \"2019_B1l08oAct7\", \"2019_B1l08oAct7\", \"2019_B1l08oAct7\", \"2019_B1l08oAct7\", \"2019_B1l08oAct7\", \"2019_B1l08oAct7\", \"2019_B1l08oAct7\", \"2019_B1l08oAct7\", \"2019_B1l08oAct7\", \"2019_B1l08oAct7\", \"2019_B1l08oAct7\", \"2019_B1l08oAct7\", \"2019_B1l08oAct7\", \"2019_B1l08oAct7\", \"2019_B1l08oAct7\", \"2019_B1l08oAct7\", \"2019_B1l08oAct7\", \"2019_B1l08oAct7\", \"2019_B1l08oAct7\", \"2019_B1l08oAct7\", \"2019_B1l08oAct7\", \"2019_B1l08oAct7\", \"2019_B1l08oAct7\", \"2019_B1l08oAct7\", \"2019_B1l08oAct7\", \"2019_B1l08oAct7\", \"2019_B1l08oAct7\", \"2019_B1l08oAct7\", \"2019_B1l08oAct7\", \"2019_B1l08oAct7\", \"2019_B1l08oAct7\", \"2019_B1l08oAct7\", \"2018_H135uzZ0-\", \"2018_H135uzZ0-\", \"2018_H135uzZ0-\", \"2018_H135uzZ0-\", \"2018_H135uzZ0-\", \"2018_H135uzZ0-\", \"2018_H135uzZ0-\", \"2018_H135uzZ0-\", \"2018_H135uzZ0-\", \"2018_H135uzZ0-\", \"2018_H135uzZ0-\", \"2018_H135uzZ0-\", \"2018_H135uzZ0-\", \"2018_H135uzZ0-\", \"2018_H135uzZ0-\", \"2018_H135uzZ0-\", \"2018_H135uzZ0-\", \"2018_H135uzZ0-\", \"2018_H135uzZ0-\", \"2017_H1oyRlYgg\", \"2017_H1oyRlYgg\", \"2017_H1oyRlYgg\", \"2017_H1oyRlYgg\", \"2017_H1oyRlYgg\", \"2017_H1oyRlYgg\", \"2017_H1oyRlYgg\", \"2017_H1oyRlYgg\", \"2017_H1oyRlYgg\", \"2017_r1y1aawlg\", \"2017_r1y1aawlg\", \"2017_r1y1aawlg\", \"2017_r1y1aawlg\", \"2017_r1y1aawlg\", \"2017_r1y1aawlg\", \"2017_r1y1aawlg\", \"2017_r1y1aawlg\", \"2017_r1y1aawlg\", \"2017_r1y1aawlg\", \"2017_r1y1aawlg\", \"2017_r1y1aawlg\", \"2017_r1y1aawlg\", \"2017_r1y1aawlg\", \"2017_r1y1aawlg\", \"2017_r1y1aawlg\", \"2017_r1y1aawlg\", \"2017_r1y1aawlg\", \"2017_r1y1aawlg\", \"2017_r1y1aawlg\", \"2017_r1y1aawlg\", \"2017_r1y1aawlg\", \"2017_r1y1aawlg\", \"2017_r1y1aawlg\", \"2017_r1y1aawlg\", \"2017_r1y1aawlg\", \"2017_r1y1aawlg\", \"2017_r1y1aawlg\", \"2017_r1y1aawlg\", \"2017_r1y1aawlg\", \"2017_r1y1aawlg\", \"2017_r1y1aawlg\", \"2017_r1y1aawlg\", \"2017_r1y1aawlg\", \"2017_r1y1aawlg\", \"2017_r1y1aawlg\", \"2017_r1y1aawlg\", \"2017_r1y1aawlg\", \"2017_r1y1aawlg\", \"2017_r1y1aawlg\", \"2017_r1y1aawlg\", \"2017_r1y1aawlg\", \"2017_r1y1aawlg\", \"2017_r1y1aawlg\", \"2017_r1y1aawlg\", \"2017_r1y1aawlg\", \"2017_r1y1aawlg\", \"2017_r1y1aawlg\", \"2017_r1y1aawlg\", \"2017_r1y1aawlg\", \"2017_r1y1aawlg\", \"2017_r1y1aawlg\", \"2017_r1y1aawlg\", \"2017_r1y1aawlg\", \"2017_r1y1aawlg\", \"2017_r1y1aawlg\", \"2017_r1y1aawlg\", \"2017_r1y1aawlg\", \"2017_r1y1aawlg\", \"2017_r1y1aawlg\", \"2017_r1y1aawlg\", \"2017_r1y1aawlg\", \"2017_r1y1aawlg\", \"2017_r1y1aawlg\", \"2017_r1y1aawlg\", \"2017_r1y1aawlg\", \"2017_r1y1aawlg\", \"2017_r1y1aawlg\", \"2017_r1y1aawlg\", \"2017_r1y1aawlg\", \"2017_r1y1aawlg\", \"2017_r1y1aawlg\", \"2017_r1y1aawlg\", \"2017_r1y1aawlg\", \"2017_r1y1aawlg\", \"2017_r1y1aawlg\", \"2017_r1y1aawlg\", \"2017_r1y1aawlg\", \"2017_r1y1aawlg\", \"2017_r1y1aawlg\", \"2020_r1eX1yrKwB\", \"2020_r1eX1yrKwB\", \"2020_r1eX1yrKwB\", \"2020_r1eX1yrKwB\", \"2020_r1eX1yrKwB\", \"2020_r1eX1yrKwB\", \"2020_r1eX1yrKwB\", \"2020_r1eX1yrKwB\", \"2020_r1eX1yrKwB\", \"2020_r1eX1yrKwB\", \"2020_r1eX1yrKwB\", \"2020_r1eX1yrKwB\", \"2020_r1eX1yrKwB\", \"2020_r1eX1yrKwB\", \"2020_r1eX1yrKwB\", \"2020_r1eX1yrKwB\", \"2020_r1eX1yrKwB\", \"2020_r1eX1yrKwB\", \"2020_r1eX1yrKwB\", \"2020_r1eX1yrKwB\", \"2020_r1eX1yrKwB\", \"2020_r1eX1yrKwB\", \"2020_r1eX1yrKwB\", \"2020_r1eX1yrKwB\", \"2020_r1eX1yrKwB\", \"2020_r1eX1yrKwB\", \"2020_r1eX1yrKwB\", \"2020_r1eX1yrKwB\", \"2020_r1eX1yrKwB\", \"2020_r1eX1yrKwB\", \"2020_r1eX1yrKwB\", \"2020_r1eX1yrKwB\", \"2020_r1eX1yrKwB\", \"2020_r1eX1yrKwB\", \"2020_r1eX1yrKwB\", \"2020_r1eX1yrKwB\", \"2020_r1eX1yrKwB\", \"2020_r1eX1yrKwB\", \"2020_r1eX1yrKwB\", \"2020_r1eX1yrKwB\", \"2020_r1eX1yrKwB\", \"2020_r1eX1yrKwB\", \"2020_r1eX1yrKwB\", \"2020_r1eX1yrKwB\", \"2020_r1eX1yrKwB\", \"2020_r1eX1yrKwB\", \"2020_r1eX1yrKwB\", \"2020_r1eX1yrKwB\", \"2020_r1eX1yrKwB\", \"2020_r1eX1yrKwB\", \"2020_r1eX1yrKwB\", \"2020_r1eX1yrKwB\", \"2020_r1eX1yrKwB\", \"2020_r1eX1yrKwB\", \"2020_r1eX1yrKwB\", \"2020_r1eX1yrKwB\", \"2020_r1eX1yrKwB\", \"2020_r1eX1yrKwB\", \"2020_r1eX1yrKwB\", \"2020_r1eX1yrKwB\", \"2020_r1eX1yrKwB\", \"2020_r1eX1yrKwB\", \"2020_r1eX1yrKwB\", \"2020_r1eX1yrKwB\", \"2020_r1eX1yrKwB\", \"2020_Byg79h4tvB\", \"2020_Byg79h4tvB\", \"2020_Byg79h4tvB\", \"2020_Byg79h4tvB\", \"2020_Byg79h4tvB\", \"2020_Byg79h4tvB\", \"2020_Byg79h4tvB\", \"2020_Byg79h4tvB\", \"2020_Byg79h4tvB\", \"2020_Byg79h4tvB\", \"2020_Byg79h4tvB\", \"2020_Byg79h4tvB\", \"2020_Byg79h4tvB\", \"2020_Byg79h4tvB\", \"2020_Byg79h4tvB\", \"2020_Byg79h4tvB\", \"2020_Byg79h4tvB\", \"2020_Byg79h4tvB\", \"2020_Byg79h4tvB\", \"2020_Byg79h4tvB\", \"2020_Byg79h4tvB\", \"2020_Byg79h4tvB\", \"2020_Byg79h4tvB\", \"2020_Byg79h4tvB\", \"2020_Byg79h4tvB\", \"2020_Byg79h4tvB\", \"2020_Byg79h4tvB\", \"2020_Byg79h4tvB\", \"2020_Byg79h4tvB\", \"2020_Byg79h4tvB\", \"2020_Byg79h4tvB\", \"2020_Byg79h4tvB\", \"2020_Byg79h4tvB\", \"2020_Byg79h4tvB\", \"2020_Byg79h4tvB\", \"2019_H1lFZnR5YX\", \"2019_H1lFZnR5YX\", \"2019_H1lFZnR5YX\", \"2019_H1lFZnR5YX\", \"2019_H1lFZnR5YX\", \"2019_H1lFZnR5YX\", \"2019_H1lFZnR5YX\", \"2019_H1lFZnR5YX\", \"2019_H1lFZnR5YX\", \"2019_H1lFZnR5YX\", \"2019_H1lFZnR5YX\", \"2019_H1lFZnR5YX\", \"2019_H1lFZnR5YX\", \"2019_H1lFZnR5YX\", \"2019_H1lFZnR5YX\", \"2019_H1lFZnR5YX\", \"2019_H1lFZnR5YX\", \"2019_H1lFZnR5YX\", \"2019_H1lFZnR5YX\", \"2019_H1lFZnR5YX\", \"2019_H1lFZnR5YX\", \"2019_H1lFZnR5YX\", \"2019_H1lFZnR5YX\", \"2019_H1lFZnR5YX\", \"2019_H1lFZnR5YX\", \"2019_H1lFZnR5YX\", \"2019_H1lFZnR5YX\", \"2019_H1lFZnR5YX\", \"2019_H1lFZnR5YX\", \"2019_H1lFZnR5YX\", \"2019_H1lFZnR5YX\", \"2019_H1lFZnR5YX\", \"2019_H1lFZnR5YX\", \"2019_H1lFZnR5YX\", \"2019_H1lFZnR5YX\", \"2019_H1lFZnR5YX\", \"2019_H1lFZnR5YX\", \"2019_H1lFZnR5YX\", \"2019_H1lFZnR5YX\", \"2019_H1lFZnR5YX\", \"2019_H1lFZnR5YX\", \"2019_H1lFZnR5YX\", \"2019_H1lFZnR5YX\", \"2019_H1lFZnR5YX\", \"2019_H1lFZnR5YX\", \"2019_H1lFZnR5YX\", \"2019_H1lFZnR5YX\", \"2019_H1lFZnR5YX\", \"2019_H1lFZnR5YX\", \"2019_H1lFZnR5YX\", \"2019_H1lFZnR5YX\", \"2019_H1lFZnR5YX\", \"2019_H1lFZnR5YX\", \"2019_H1lFZnR5YX\", \"2019_H1lFZnR5YX\", \"2019_H1lFZnR5YX\", \"2019_H1lFZnR5YX\", \"2019_H1lFZnR5YX\", \"2019_H1lFZnR5YX\", \"2019_H1lFZnR5YX\", \"2019_H1lFZnR5YX\", \"2020_BkeWw6VFwr\", \"2020_BkeWw6VFwr\", \"2020_BkeWw6VFwr\", \"2020_BkeWw6VFwr\", \"2020_BkeWw6VFwr\", \"2020_BkeWw6VFwr\", \"2020_BkeWw6VFwr\", \"2020_BkeWw6VFwr\", \"2020_BkeWw6VFwr\", \"2020_BkeWw6VFwr\", \"2020_BkeWw6VFwr\", \"2020_BkeWw6VFwr\", \"2020_BkeWw6VFwr\", \"2020_BkeWw6VFwr\", \"2020_BkeWw6VFwr\", \"2020_BkeWw6VFwr\", \"2020_BkeWw6VFwr\", \"2020_BkeWw6VFwr\", \"2020_BkeWw6VFwr\", \"2020_BkeWw6VFwr\", \"2020_BkeWw6VFwr\", \"2020_BkeWw6VFwr\", \"2020_BkeWw6VFwr\", \"2020_BkeWw6VFwr\", \"2020_BkeWw6VFwr\", \"2020_BkeWw6VFwr\", \"2020_BkeWw6VFwr\", \"2020_BkeWw6VFwr\", \"2020_BkeWw6VFwr\", \"2020_BkeWw6VFwr\", \"2020_BkeWw6VFwr\", \"2020_BkeWw6VFwr\", \"2020_BkeWw6VFwr\", \"2020_BkeWw6VFwr\", \"2020_BkeWw6VFwr\", \"2020_BkeWw6VFwr\", \"2020_BkeWw6VFwr\", \"2020_BkeWw6VFwr\", \"2020_BkeWw6VFwr\", \"2020_BkeWw6VFwr\", \"2020_BkeWw6VFwr\", \"2020_BkeWw6VFwr\", \"2020_BkeWw6VFwr\", \"2020_BkeWw6VFwr\", \"2020_BkeWw6VFwr\", \"2020_BkeWw6VFwr\", \"2020_BkeWw6VFwr\", \"2020_BkeWw6VFwr\", \"2020_BkeWw6VFwr\", \"2020_BkeWw6VFwr\", \"2020_BkeWw6VFwr\", \"2020_BkeWw6VFwr\", \"2020_BkeWw6VFwr\", \"2020_BkeWw6VFwr\", \"2020_BkeWw6VFwr\", \"2018_HyHmGyZCZ\", \"2018_HyHmGyZCZ\", \"2018_HyHmGyZCZ\", \"2018_HyHmGyZCZ\", \"2018_HyHmGyZCZ\", \"2018_HyHmGyZCZ\", \"2018_HyHmGyZCZ\", \"2018_HyHmGyZCZ\", \"2018_HyHmGyZCZ\", \"2018_HyHmGyZCZ\", \"2018_HyHmGyZCZ\", \"2018_HyHmGyZCZ\", \"2018_HyHmGyZCZ\", \"2018_HyHmGyZCZ\", \"2018_HyHmGyZCZ\", \"2018_HyHmGyZCZ\", \"2018_HyHmGyZCZ\", \"2018_HyHmGyZCZ\", \"2018_HyHmGyZCZ\", \"2018_HyHmGyZCZ\", \"2018_HyHmGyZCZ\", \"2018_HyHmGyZCZ\", \"2018_HyHmGyZCZ\", \"2018_HyHmGyZCZ\", \"2018_HyHmGyZCZ\", \"2018_HyHmGyZCZ\", \"2018_HyHmGyZCZ\", \"2018_HyHmGyZCZ\", \"2018_HyHmGyZCZ\", \"2018_HyHmGyZCZ\", \"2018_HyHmGyZCZ\", \"2018_HyHmGyZCZ\", \"2018_HyHmGyZCZ\", \"2018_HyHmGyZCZ\", \"2018_HyHmGyZCZ\", \"2018_HyHmGyZCZ\", \"2018_HyHmGyZCZ\", \"2018_HyHmGyZCZ\", \"2018_HyUNwulC-\", \"2018_HyUNwulC-\", \"2018_HyUNwulC-\", \"2018_HyUNwulC-\", \"2018_HyUNwulC-\", \"2018_HyUNwulC-\", \"2018_HyUNwulC-\", \"2018_HyUNwulC-\", \"2018_HyUNwulC-\", \"2018_HyUNwulC-\", \"2018_HyUNwulC-\", \"2018_HyUNwulC-\", \"2018_HyUNwulC-\", \"2018_HyUNwulC-\", \"2018_HyUNwulC-\", \"2018_HyUNwulC-\", \"2018_HyUNwulC-\", \"2018_HyUNwulC-\", \"2018_HyUNwulC-\", \"2018_HyUNwulC-\", \"2018_HyUNwulC-\", \"2018_HyUNwulC-\", \"2018_HyUNwulC-\", \"2018_HyUNwulC-\", \"2018_HyUNwulC-\", \"2018_HyUNwulC-\", \"2020_HkgsPhNYPS\", \"2020_HkgsPhNYPS\", \"2020_HkgsPhNYPS\", \"2020_HkgsPhNYPS\", \"2020_HkgsPhNYPS\", \"2020_HkgsPhNYPS\", \"2020_HkgsPhNYPS\", \"2020_HkgsPhNYPS\", \"2020_HkgsPhNYPS\", \"2020_HkgsPhNYPS\", \"2020_HkgsPhNYPS\", \"2020_HkgsPhNYPS\", \"2020_HkgsPhNYPS\", \"2020_HkgsPhNYPS\", \"2020_HkgsPhNYPS\", \"2020_HkgsPhNYPS\", \"2020_HkgsPhNYPS\", \"2020_HkgsPhNYPS\", \"2020_HkgsPhNYPS\", \"2020_HkgsPhNYPS\", \"2020_HkgsPhNYPS\", \"2020_HkgsPhNYPS\", \"2020_HkgsPhNYPS\", \"2020_HkgsPhNYPS\", \"2020_HkgsPhNYPS\", \"2020_HkgsPhNYPS\", \"2020_HkgsPhNYPS\", \"2020_HkgsPhNYPS\", \"2020_HkgsPhNYPS\", \"2020_HkgsPhNYPS\", \"2020_HkgsPhNYPS\", \"2020_HkgsPhNYPS\", \"2020_HkgsPhNYPS\", \"2020_HkgsPhNYPS\", \"2020_HkgsPhNYPS\", \"2020_HkgsPhNYPS\", \"2020_HkgsPhNYPS\", \"2020_HkgsPhNYPS\", \"2020_HkgsPhNYPS\", \"2020_HkgsPhNYPS\", \"2020_HkgsPhNYPS\", \"2020_HkgsPhNYPS\", \"2020_HkgsPhNYPS\", \"2020_HkgsPhNYPS\", \"2020_HkgsPhNYPS\", \"2020_HkgsPhNYPS\", \"2020_HkgsPhNYPS\", \"2020_HkgsPhNYPS\", \"2020_HkgsPhNYPS\", \"2020_HkgsPhNYPS\", \"2020_HkgsPhNYPS\", \"2020_HkgsPhNYPS\"]"
   ]
  },
  {
   "cell_type": "code",
   "execution_count": 17,
   "metadata": {},
   "outputs": [
    {
     "data": {
      "text/plain": [
       "(1505,\n",
       " 32,\n",
       " Counter({'2019_SJf_XhCqKm': 40,\n",
       "          '2017_Bk0MRI5lg': 18,\n",
       "          '2020_SyevYxHtDB': 43,\n",
       "          '2018_rJBiunlAW': 29,\n",
       "          '2020_rkltE0VKwH': 92,\n",
       "          '2018_Hki-ZlbA-': 50,\n",
       "          '2019_BJx0sjC5FX': 32,\n",
       "          '2020_r1e_FpNFDr': 64,\n",
       "          '2020_B1lsXREYvr': 71,\n",
       "          '2018_SkZxCk-0Z': 67,\n",
       "          '2019_rJzoujRct7': 38,\n",
       "          '2018_HkfXMz-Ab': 37,\n",
       "          '2017_BJ9fZNqle': 66,\n",
       "          '2019_SyxZJn05YX': 49,\n",
       "          '2017_B1ckMDqlg': 31,\n",
       "          '2017_HJ0NvFzxl': 36,\n",
       "          '2017_S1_pAu9xl': 49,\n",
       "          '2018_SyYYPdg0-': 63,\n",
       "          '2017_BJAA4wKxg': 22,\n",
       "          '2019_HyVxPsC9tm': 45,\n",
       "          '2019_HylTBhA5tQ': 45,\n",
       "          '2019_B1l08oAct7': 78,\n",
       "          '2018_H135uzZ0-': 19,\n",
       "          '2017_H1oyRlYgg': 9,\n",
       "          '2017_r1y1aawlg': 80,\n",
       "          '2020_r1eX1yrKwB': 65,\n",
       "          '2020_Byg79h4tvB': 35,\n",
       "          '2019_H1lFZnR5YX': 61,\n",
       "          '2020_BkeWw6VFwr': 55,\n",
       "          '2018_HyHmGyZCZ': 38,\n",
       "          '2018_HyUNwulC-': 26,\n",
       "          '2020_HkgsPhNYPS': 52}))"
      ]
     },
     "execution_count": 17,
     "metadata": {},
     "output_type": "execute_result"
    }
   ],
   "source": [
    "len(test_ids), len(set(test_ids)), Counter(test_ids)"
   ]
  },
  {
   "cell_type": "code",
   "execution_count": null,
   "metadata": {},
   "outputs": [],
   "source": []
  },
  {
   "cell_type": "code",
   "execution_count": null,
   "metadata": {},
   "outputs": [],
   "source": []
  },
  {
   "cell_type": "code",
   "execution_count": 18,
   "metadata": {},
   "outputs": [],
   "source": [
    "data_path = \"/home/shruti/Desktop/iitgn/courses/SEM2/ML/Project/code/PaperAcceptancePrediction/ICLR data/masterdata_unbalanced/\"\n",
    "\n",
    "years = [2017, 2018, 2019, 2020]\n",
    "rev_dict = {}\n",
    "paper_dict = {}\n",
    "dec_dict = {}\n",
    "iclr_arxiv_map = {}\n",
    "\n",
    "for y in years:\n",
    "    rev_dict[y] = pd.read_pickle(data_path + \"off_rev_dict_{}.pkl\".format(y))\n",
    "    paper_dict[y] = pd.read_pickle(data_path + \"papers_{}.pkl\".format(y))\n",
    "    dec_dict[y] = pd.read_pickle(data_path + \"paper_decision_dict_{}.pkl\".format(y))\n"
   ]
  },
  {
   "cell_type": "markdown",
   "metadata": {},
   "source": [
    "## Counting reviews in train set excluding the last two (only 4 sents) reviews"
   ]
  },
  {
   "cell_type": "code",
   "execution_count": 24,
   "metadata": {},
   "outputs": [],
   "source": [
    "tids = ['2020_ryen_CEFwr', '2018_H1LAqMbRW', '2017_HyTqHL5xg', '2017_ByToKu9ll', '2019_r1eO_oCqtQ', '2019_HJfwJ2A5KX', '2020_ryxC6kSYPr']"
   ]
  },
  {
   "cell_type": "code",
   "execution_count": 40,
   "metadata": {},
   "outputs": [
    {
     "name": "stdout",
     "output_type": "stream",
     "text": [
      "3 Reject\n",
      "3 Reject\n",
      "3 Accept (Poster)\n",
      "3 Reject\n",
      "3 Reject\n",
      "3 Accept (Poster)\n",
      "3 Accept (Poster)\n",
      "Total reviews:  21\n"
     ]
    }
   ],
   "source": [
    "sum_train_review_count = 0\n",
    "\n",
    "for i in tids:\n",
    "    split_year_forumid = i.split(\"_\", 1)\n",
    "    if split_year_forumid[1] in rev_dict[int(split_year_forumid[0])]:\n",
    "        sum_train_review_count += len(rev_dict[int(split_year_forumid[0])][split_year_forumid[1]])\n",
    "        try:\n",
    "            print(len(rev_dict[int(split_year_forumid[0])][split_year_forumid[1]]), dec_dict[int(split_year_forumid[0])][split_year_forumid[1]]['decision']['content']['decision'])\n",
    "        except Exception:\n",
    "            try:\n",
    "                print(len(rev_dict[int(split_year_forumid[0])][split_year_forumid[1]]), dec_dict[int(split_year_forumid[0])][split_year_forumid[1]]['content']['decision'])\n",
    "            except Exception:\n",
    "                print(len(rev_dict[int(split_year_forumid[0])][split_year_forumid[1]]), dec_dict[int(split_year_forumid[0])][split_year_forumid[1]]['decision']['content']['recommendation'])\n",
    "    else:\n",
    "        print(\"Not found\")\n",
    "\n",
    "print(\"Total reviews: \", sum_train_review_count)"
   ]
  },
  {
   "cell_type": "code",
   "execution_count": 32,
   "metadata": {},
   "outputs": [
    {
     "name": "stdout",
     "output_type": "stream",
     "text": [
      "3\n",
      "3\n",
      "3\n",
      "3\n",
      "4\n",
      "3\n",
      "3\n",
      "3\n",
      "3\n",
      "3\n",
      "3\n",
      "3\n",
      "3\n",
      "3\n",
      "3\n",
      "3\n",
      "4\n",
      "3\n",
      "3\n",
      "3\n",
      "3\n",
      "3\n",
      "2\n",
      "3\n",
      "3\n",
      "3\n",
      "3\n",
      "3\n",
      "2\n",
      "3\n",
      "3\n",
      "3\n",
      "Total reviews in test set:  96\n"
     ]
    }
   ],
   "source": [
    "sum_test_review_count = 0\n",
    "\n",
    "for i in set(test_ids):\n",
    "    split_year_forumid = i.split(\"_\", 1)\n",
    "    if split_year_forumid[1] in rev_dict[int(split_year_forumid[0])]:\n",
    "        sum_test_review_count += len(rev_dict[int(split_year_forumid[0])][split_year_forumid[1]])\n",
    "        print(len(rev_dict[int(split_year_forumid[0])][split_year_forumid[1]]))\n",
    "    else:\n",
    "        print(\"Not found\")\n",
    "print(\"Total reviews in test set: \", sum_test_review_count)"
   ]
  },
  {
   "cell_type": "code",
   "execution_count": 31,
   "metadata": {},
   "outputs": [
    {
     "data": {
      "text/plain": [
       "117"
      ]
     },
     "execution_count": 31,
     "metadata": {},
     "output_type": "execute_result"
    }
   ],
   "source": [
    "21+96"
   ]
  },
  {
   "cell_type": "code",
   "execution_count": null,
   "metadata": {},
   "outputs": [],
   "source": []
  }
 ],
 "metadata": {
  "kernelspec": {
   "display_name": "python37",
   "language": "python",
   "name": "python37"
  },
  "language_info": {
   "codemirror_mode": {
    "name": "ipython",
    "version": 3
   },
   "file_extension": ".py",
   "mimetype": "text/x-python",
   "name": "python",
   "nbconvert_exporter": "python",
   "pygments_lexer": "ipython3",
   "version": "3.7.9"
  }
 },
 "nbformat": 4,
 "nbformat_minor": 4
}
