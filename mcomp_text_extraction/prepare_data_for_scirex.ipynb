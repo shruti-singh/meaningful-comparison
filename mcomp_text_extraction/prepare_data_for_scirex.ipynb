{
 "cells": [
  {
   "cell_type": "code",
   "execution_count": 2,
   "metadata": {},
   "outputs": [],
   "source": [
    "import json\n",
    "import nltk"
   ]
  },
  {
   "cell_type": "code",
   "execution_count": null,
   "metadata": {},
   "outputs": [],
   "source": []
  },
  {
   "cell_type": "code",
   "execution_count": 5,
   "metadata": {},
   "outputs": [],
   "source": [
    "with open(\"data/neurips_fulltexts\", \"r\") as f:\n",
    "    txt = f.readlines()"
   ]
  },
  {
   "cell_type": "code",
   "execution_count": 6,
   "metadata": {},
   "outputs": [],
   "source": [
    "full_text_sentences_list = []"
   ]
  },
  {
   "cell_type": "code",
   "execution_count": null,
   "metadata": {},
   "outputs": [],
   "source": [
    "id_counter = 0\n",
    "id_string = \"nipsid_{}\".format(id_counter)\n",
    "\n",
    "missing_title = []\n",
    "\n",
    "scirex_format_json = {}\n",
    "\n",
    "for l in txt:\n",
    "    paper_dict = json.loads(l)\n",
    "    local_json = {\"words\": [], \"sentences\": [], \"sections\": []}\n",
    "    \n",
    "    if \"title\" in paper_dict[\"metadata\"] and paper_dict[\"metadata\"][\"title\"]:\n",
    "        full_text_sentences_list.append(paper_dict[\"metadata\"][\"title\"])\n",
    "        words = nltk.word_tokenize(paper_dict[\"metadata\"][\"title\"])\n",
    "        \n",
    "    \n",
    "    if \"metadata\" in paper_dict and \"abstractText\" in paper_dict[\"metadata\"] and paper_dict[\"metadata\"][\"abstractText\"]:\n",
    "        try:\n",
    "            abs_sents = nltk.sent_tokenize(paper_dict[\"metadata\"][\"abstractText\"])\n",
    "        except Exception as ex:\n",
    "            print(ex)\n",
    "            print(\"On abs: \", paper_dict[\"metadata\"][\"abstractText\"])\n",
    "            abs_sents = []\n",
    "        for i in abs_sents:\n",
    "            full_text_sentences_list.append(i)\n",
    "    \n",
    "    if \"metadata\" in paper_dict and \"sections\" in paper_dict[\"metadata\"] and  paper_dict[\"metadata\"][\"sections\"]:\n",
    "        for sec in paper_dict[\"metadata\"][\"sections\"]:\n",
    "            if \"text\" in sec and sec[\"text\"]:\n",
    "                try:\n",
    "                    section_text = nltk.sent_tokenize(sec[\"text\"])\n",
    "                except Exception as ex:\n",
    "                    print(ex)\n",
    "                    print(\"On section: \", sec[\"text\"])\n",
    "                    section_text = []\n",
    "                for i in section_text:\n",
    "                    full_text_sentences_list.append(i)"
   ]
  },
  {
   "cell_type": "code",
   "execution_count": null,
   "metadata": {},
   "outputs": [],
   "source": []
  },
  {
   "cell_type": "code",
   "execution_count": null,
   "metadata": {},
   "outputs": [],
   "source": [
    "sents_list = defaultdict(dict)\n",
    "\n",
    "for k in test_set_augmentation_2ndphase:\n",
    "    if k in iclr_arxiv_map:\n",
    "        y = int(k.split(\"_\")[0])\n",
    "        k_wo_y = k.split(\"_\", 1)[1]\n",
    "        \n",
    "        sents_list[k][\"pid\"] = k\n",
    "        sents_list[k][\"sents\"] = []\n",
    "        sents_list[k][\"dec\"] = iclr_arxiv_map[k][\"label\"]\n",
    "        \n",
    "        for rev_num in rev_dict[y][k_wo_y]:\n",
    "            rev_text = rev_num[\"content\"][\"review\"]\n",
    "\n",
    "            rev_text = rev_text.strip()\n",
    "            \n",
    "            \n",
    "            rev_text = re.sub(\"(?<=[ \\(])e[\\.]?g[\\.]?:? \", \"eg: \", rev_text)\n",
    "            rev_text = re.sub(\" et[\\.]? al[\\.]\", \" et al\", rev_text)\n",
    "            rev_text = re.sub(\"(?<=[ \\(])i[\\.]?e[\\.] \", \"ie \", rev_text)\n",
    "            rev_text = re.sub(\"(?<=[ \\(])Fig[\\.]? \", \"Figure \", rev_text)\n",
    "            rev_text = re.sub(\"(?<=[ \\(])fig[\\.]? \", \"figure \", rev_text)\n",
    "            rev_text = re.sub(\"(?<=[ \\(])Eq[\\.]? \", \"Equation \", rev_text)\n",
    "            rev_text = re.sub(\"(?<=[ \\(])Alg\\. \", \"Algorithm \", rev_text)\n",
    "            rev_text = re.sub(\"Eq[\\.]? \", \"Equation \", rev_text)\n",
    "            rev_text = re.sub(\"(?<=[ \\(])eq\\. \", \"equation \", rev_text)\n",
    "            rev_text = re.sub(\"(?<=[ \\(])Sec[\\.]? \", \"Section \", rev_text)\n",
    "            rev_text = re.sub(\"(?<=[ \\(])sec\\. \", \"section \", rev_text)\n",
    "            rev_text = re.sub(\"(?<=: [0-9])(\\.) \", \")\", rev_text)\n",
    "            rev_text = re.sub(\"(?<=; [0-9])(\\.) \", \")\", rev_text)\n",
    "            rev_text = re.sub(\"(?<=\\n[0-9])(\\.) \", \")\", rev_text)\n",
    "            ####rev_text = re.sub(\"(?<=[0-9])(\\.) \", \") \", rev_text)\n",
    "            rev_text = re.sub(\"\\n\\\\n\", \"\\n\", rev_text)\n",
    "\n",
    "            sent_text = nltk.sent_tokenize(rev_text)\n",
    "            for s in sent_text:\n",
    "                sents_list[k][\"sents\"].append(s)\n",
    "    else:\n",
    "        print(\"Not found: %s, use another key\"%k)"
   ]
  }
 ],
 "metadata": {
  "kernelspec": {
   "display_name": "Python 3.7",
   "language": "python",
   "name": "python37"
  },
  "language_info": {
   "codemirror_mode": {
    "name": "ipython",
    "version": 3
   },
   "file_extension": ".py",
   "mimetype": "text/x-python",
   "name": "python",
   "nbconvert_exporter": "python",
   "pygments_lexer": "ipython3",
   "version": "3.7.9"
  }
 },
 "nbformat": 4,
 "nbformat_minor": 4
}
